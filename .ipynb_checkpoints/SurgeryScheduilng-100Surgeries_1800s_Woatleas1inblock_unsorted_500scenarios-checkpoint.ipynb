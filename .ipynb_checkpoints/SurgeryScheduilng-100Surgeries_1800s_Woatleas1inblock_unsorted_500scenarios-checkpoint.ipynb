{
 "cells": [
  {
   "cell_type": "code",
   "execution_count": 30,
   "metadata": {},
   "outputs": [],
   "source": [
    "import numpy as np\n",
    "import matplotlib.pyplot as plt\n",
    "from pyomo.environ import *\n",
    "import pandas as pd\n",
    "from scipy.stats import truncnorm"
   ]
  },
  {
   "cell_type": "code",
   "execution_count": 31,
   "metadata": {},
   "outputs": [],
   "source": [
    "np.random.seed(0)\n",
    "def get_surgery_time(mean,std):\n",
    "    #sh,sc = (mean/std)**2,std**2/mean\n",
    "    #return np.random.gamma(shape=sh,scale=sc)\n",
    "    return truncnorm.rvs(-1,1,loc=mean,scale=std)"
   ]
  },
  {
   "cell_type": "code",
   "execution_count": 32,
   "metadata": {},
   "outputs": [
    {
     "name": "stdout",
     "output_type": "stream",
     "text": [
      "{'CARD': 14, 'GASTRO': 18, 'GYN': 28, 'MED': 5, 'ORTHO': 17, 'URO': 18}\n",
      "{'CARD': [0, 13], 'GASTRO': [14, 31], 'GYN': [32, 59], 'MED': [60, 64], 'ORTHO': [65, 81], 'URO': [82, 99]}\n"
     ]
    }
   ],
   "source": [
    "#problem parameters\n",
    "specs = ['CARD','GASTRO','GYN','MED','ORTHO','URO']\n",
    "\n",
    "surgery_data = {'CARD':[99.0,53.0],'GASTRO':[132.0,76.0],'GYN':[78.0,52.0],'MED':[75.0,32.0],'ORTHO':[142.0,58.0],'URO':[72.0,38.0]}\n",
    "\n",
    "blocks = {'CARD':[2,6,16,28,32,33],'GASTRO':[1,8,14,15,22,27,34],'GYN':[4,11,12,18,19,24,25,30,35],'MED':[17,36],'ORTHO':[3,9,10,21,23,29,37],'URO':[5,7,13,20,26,31,38]}\n",
    "block_len = [8*60.0 for i in range(32)]+[100*60.0 for i in range(len(specs))]\n",
    "n_blocks = len(block_len)\n",
    "\n",
    "n_surgeries = 100\n",
    "percent_surg = {'CARD':14,'GASTRO':18,'GYN':28,'MED':5,'ORTHO':17,'URO':18}\n",
    "surgeries = {}\n",
    "tot = 0\n",
    "for i in specs[:len(specs)-1]:\n",
    "    surgeries[i] = round(n_surgeries*percent_surg[i]/100.0)\n",
    "    tot += surgeries[i]\n",
    "surgeries[specs[-1]] = n_surgeries-tot\n",
    "\n",
    "surgery_nums = {}\n",
    "t = 0\n",
    "for s in specs:\n",
    "    surgery_nums[s] = [t,t+surgeries[s]-1]\n",
    "    t = t+surgeries[s]\n",
    "    \n",
    "print(surgeries)\n",
    "print(surgery_nums)"
   ]
  },
  {
   "cell_type": "code",
   "execution_count": 33,
   "metadata": {},
   "outputs": [],
   "source": [
    "np.random.seed(0)\n",
    "cib = np.array([[0.0 for _ in range(n_blocks)] for _ in range(n_surgeries)]) # block costs\n",
    "for s in specs:\n",
    "    for i in range(surgery_nums[s][0],surgery_nums[s][1]+1):\n",
    "        #costs = sorted([np.random.randint(low=1,high=5)*100 for _ in range(len(blocks[s])-1)])\n",
    "        costs = [np.random.randint(low=1,high=5)*100 for _ in range(len(blocks[s])-1)]\n",
    "        f = 0\n",
    "        for b in blocks[s][:len(blocks[s])-1]:\n",
    "            cib[i,b-1] = costs[f]\n",
    "            f += 1\n",
    "            \n",
    "        \n",
    "dummy_cost = 1000\n",
    "for s in specs:\n",
    "    for i in range(surgery_nums[s][0],surgery_nums[s][1]+1):\n",
    "        b = blocks[s][-1]\n",
    "        cib[i,b-1] = dummy_cost\n",
    "\n",
    "cob = np.array([5.0 for _ in range(n_blocks)])\n",
    "cgb = np.array([5.0/1.5 for _ in range(n_blocks-len(specs))]+[0.0 for _ in range(len(specs))])"
   ]
  },
  {
   "cell_type": "code",
   "execution_count": 34,
   "metadata": {},
   "outputs": [],
   "source": [
    "#block and surgery of a speciality fesibility\n",
    "p = [[0.0 for _ in range(n_blocks)] for _ in range(n_surgeries)]\n",
    "p = np.array(p)\n",
    "t = 0\n",
    "for s in specs:\n",
    "    for i in range(surgeries[s]):\n",
    "        for b in blocks[s]:\n",
    "            p[t,b-1] = 1.0\n",
    "        t += 1"
   ]
  },
  {
   "cell_type": "code",
   "execution_count": 35,
   "metadata": {},
   "outputs": [
    {
     "name": "stdout",
     "output_type": "stream",
     "text": [
      "[0. 1. 0. 0. 0. 1. 0. 0. 0. 0. 0. 0. 0. 0. 0. 1. 0. 0. 0. 0. 0. 0. 0. 0.\n",
      " 0. 0. 0. 1. 0. 0. 0. 1. 1. 0. 0. 0. 0. 0.]\n"
     ]
    }
   ],
   "source": [
    "print(p[9,:])"
   ]
  },
  {
   "cell_type": "code",
   "execution_count": 36,
   "metadata": {},
   "outputs": [],
   "source": [
    "n_scenarios = 1000\n",
    "avg_model = ConcreteModel()\n",
    "avg_model.y = Var(RangeSet(n_surgeries),RangeSet(n_blocks),domain=Binary)\n",
    "avg_model.o = Var(RangeSet(n_blocks),RangeSet(n_scenarios),domain=NonNegativeReals,bounds=(0,120))\n",
    "avg_model.g = Var(RangeSet(n_blocks),RangeSet(n_scenarios),domain=NonNegativeReals)\n",
    "\n",
    "avg_model.atmost1 = ConstraintList()\n",
    "for i in range(n_surgeries):\n",
    "    avg_model.atmost1.add(expr=sum(avg_model.y[i+1,b] for b in range(1,n_blocks+1))==1)\n",
    "\n",
    "avg_model.specfeas = ConstraintList()\n",
    "for i in range(n_surgeries):\n",
    "    for b in range(n_blocks):\n",
    "        avg_model.specfeas.add(expr=avg_model.y[i+1,b+1] <= p[i,b])\n",
    "\n",
    "avg_model.ogcons = ConstraintList()\n",
    "for n in range(n_scenarios):\n",
    "    t = 0\n",
    "    for s in specs:\n",
    "        for b in blocks[s]:\n",
    "            avg_model.ogcons.add(expr=avg_model.o[b,n+1]-avg_model.g[b,n+1] == sum(get_surgery_time(surgery_data[s][0],surgery_data[s][1])*avg_model.y[i+1,b] for i in range(surgery_nums[s][0],surgery_nums[s][1]+1))-block_len[b-1])\n",
    "'''\n",
    "avg_model.atleast1inblock = ConstraintList()\n",
    "for b in range(n_blocks-len(specs)):\n",
    "    avg_model.atleast1inblock.add(expr=sum(avg_model.y[i+1,b+1] for i in range(n_surgeries))>=1.0)\n",
    "'''\n",
    "avg_model.cost = Objective(expr=sum(sum(avg_model.y[i+1,b+1]*cib[i,b] for i in range(n_surgeries)) for b in range(n_blocks))+(sum(cob[b]*avg_model.o[b+1,n+1]+cgb[b]*avg_model.g[b+1,n+1] for b in range(n_blocks) for n in range(n_scenarios)))/n_scenarios,sense=minimize)"
   ]
  },
  {
   "cell_type": "code",
   "execution_count": 37,
   "metadata": {},
   "outputs": [
    {
     "name": "stdout",
     "output_type": "stream",
     "text": [
      "\n",
      "Welcome to IBM(R) ILOG(R) CPLEX(R) Interactive Optimizer 20.1.0.0\n",
      "  with Simplex, Mixed Integer & Barrier Optimizers\n",
      "5725-A06 5725-A29 5724-Y48 5724-Y49 5724-Y54 5724-Y55 5655-Y21\n",
      "Copyright IBM Corp. 1988, 2020.  All Rights Reserved.\n",
      "\n",
      "Type 'help' for a list of available commands.\n",
      "Type 'help' followed by a command name for more\n",
      "information on commands.\n",
      "\n",
      "CPLEX> Logfile 'cplex.log' closed.\n",
      "Logfile 'C:\\Users\\91824\\AppData\\Local\\Temp\\tmpee50_0vr.cplex.log' open.\n",
      "CPLEX> New value for time limit in seconds: 1800\n",
      "CPLEX> Problem 'C:\\Users\\91824\\AppData\\Local\\Temp\\tmpb9cv8n2f.pyomo.lp' read.\n",
      "Read time = 0.52 sec. (14.78 ticks)\n",
      "CPLEX> Problem name         : C:\\Users\\91824\\AppData\\Local\\Temp\\tmpb9cv8n2f.pyomo.lp\n",
      "Objective sense      : Minimize\n",
      "Variables            :   79801  [Nneg: 38001,  Box: 38000,  Binary: 3800]\n",
      "Objective nonzeros   :   70685\n",
      "Linear constraints   :   41901  [Less: 3800,  Equal: 38101]\n",
      "  Nonzeros           :  800601\n",
      "  RHS nonzeros       :   38818\n",
      "\n",
      "Variables            : Min LB: 0.000000         Max UB: 120.0000       \n",
      "Objective nonzeros   : Min   : 0.003333333      Max   : 1000.000       \n",
      "Linear constraints   :\n",
      "  Nonzeros           : Min   : 1.000000         Max   : 207.9979       \n",
      "  RHS nonzeros       : Min   : 1.000000         Max   : 6000.000       \n",
      "CPLEX> Version identifier: 20.1.0.0 | 2020-11-10 | 9bedb6d68\n",
      "CPXPARAM_TimeLimit                               1800\n",
      "Tried aggregator 2 times.\n",
      "MIP Presolve eliminated 10799 rows and 17080 columns.\n",
      "Aggregator did 5 substitutions.\n",
      "Reduced MIP has 31097 rows, 62716 columns, and 674721 nonzeros.\n",
      "Reduced MIP has 712 binaries, 0 generals, 0 SOSs, and 0 indicators.\n",
      "Presolve time = 0.70 sec. (318.86 ticks)\n",
      "Found incumbent of value 151200.000000 after 1.19 sec. (450.98 ticks)\n",
      "Probing time = 0.25 sec. (31.88 ticks)\n",
      "Tried aggregator 1 time.\n",
      "Detecting symmetries...\n",
      "MIP Presolve eliminated 2 rows and 9 columns.\n",
      "Reduced MIP has 31095 rows, 62707 columns, and 674707 nonzeros.\n",
      "Reduced MIP has 707 binaries, 0 generals, 0 SOSs, and 0 indicators.\n",
      "Presolve time = 1.17 sec. (362.47 ticks)\n",
      "Probing time = 0.20 sec. (30.19 ticks)\n",
      "Clique table members: 95.\n",
      "MIP emphasis: balance optimality and feasibility.\n",
      "MIP search method: dynamic search.\n",
      "Parallel mode: deterministic, using up to 8 threads.\n",
      "Root relaxation solution time = 25.53 sec. (5721.26 ticks)\n",
      "\n",
      "        Nodes                                         Cuts/\n",
      "   Node  Left     Objective  IInf  Best Integer    Best Bound    ItCnt     Gap\n",
      "\n",
      "*     0+    0                        55335.9859     1149.4984            97.92%\n",
      "      0     0    29347.4919    77    55335.9859    29347.4919     9228   46.96%\n",
      "*     0+    0                        40503.0357    29347.4919            27.54%\n",
      "*     0+    0                        30133.2814    29347.4919             2.61%\n",
      "      0     0    29413.9741    60    30133.2814    Cuts: 2227    11167    2.39%\n",
      "*     0+    0                        29748.7280    29413.9741             1.13%\n",
      "      0     0    29433.2774    59    29748.7280    Cuts: 1161    12172    1.06%\n",
      "      0     0    29442.1358    63    29748.7280     Cuts: 701    13192    1.03%\n",
      "      0     0    29445.5743    64    29748.7280     Cuts: 605    13796    1.02%\n",
      "      0     0    29448.0019    63    29748.7280     Cuts: 519    14258    1.01%\n",
      "Detecting symmetries...\n",
      "      0     0    29449.3741    62    29748.7280     Cuts: 271    14616    1.01%\n",
      "      0     0    29450.0582    63    29748.7280     Cuts: 249    14872    1.00%\n",
      "*     0+    0                        29635.0785    29450.0582             0.62%\n",
      "*     0+    0                        29620.9628    29450.0582             0.58%\n",
      "Detecting symmetries...\n",
      "      0     2    29450.0582    63    29620.9628    29450.0582    14872    0.58%\n",
      "Elapsed time = 57.00 sec. (22480.50 ticks, tree = 0.02 MB, solutions = 8)\n",
      "      4     6    29463.2135    53    29620.9628    29450.0687    15599    0.58%\n",
      "      8    10    29497.2314    58    29620.9628    29452.8421    16760    0.57%\n",
      "     15    14    29485.8186    47    29620.9628    29453.1829    18152    0.57%\n",
      "     25    16    29511.3549    38    29620.9628    29453.1829    19102    0.57%\n",
      "     35    24    29497.2591    47    29620.9628    29457.2582    22841    0.55%\n",
      "     46    40    29529.4018    33    29620.9628    29457.2582    32523    0.55%\n",
      "     55    41    29535.3842    30    29620.9628    29457.2582    32854    0.55%\n",
      "     61    51    29516.7255    49    29620.9628    29457.2582    38805    0.55%\n",
      "     68    60    29503.4628    50    29620.9628    29457.2582    43264    0.55%\n",
      "     94    87    29601.1760     8    29620.9628    29457.2582    63339    0.55%\n",
      "Elapsed time = 73.53 sec. (25914.91 ticks, tree = 3.12 MB, solutions = 8)\n",
      "    127   110    29568.9167    35    29620.9628    29457.2582    78362    0.55%\n",
      "    160   122    29491.6191    42    29620.9628    29457.2582    92656    0.55%\n",
      "    194   149    29514.6927    48    29620.9628    29457.2582   111434    0.55%\n",
      "    224   173    29525.4683    44    29620.9628    29457.2582   128138    0.55%\n",
      "    249   195    29499.5083    45    29620.9628    29457.2582   142119    0.55%\n",
      "    289   205    29617.7066    25    29620.9628    29457.2582   146944    0.55%\n",
      "    317   239    29582.6842    33    29620.9628    29471.6053   166872    0.50%\n",
      "    366   260    29572.0279    35    29620.9628    29471.6053   181183    0.50%\n",
      "    412   288    29538.3099    47    29620.9628    29480.0235   197711    0.48%\n",
      "    452   344    29577.8113    24    29620.9628    29480.0235   224771    0.48%\n",
      "Elapsed time = 120.77 sec. (35731.18 ticks, tree = 18.08 MB, solutions = 8)\n",
      "    491   368    29613.7583    26    29620.9628    29480.4899   237172    0.47%\n",
      "    534   393    29514.4257    52    29620.9628    29480.4899   251409    0.47%\n",
      "    576   426    29513.4881    56    29620.9628    29487.1349   270740    0.45%\n",
      "    617   442    29507.1137    52    29620.9628    29487.1349   280446    0.45%\n",
      "    670   485    29576.2111    32    29620.9628    29488.3747   300495    0.45%\n",
      "    722   477    29551.9047    31    29620.9628    29488.3747   295523    0.45%\n",
      "    753   556    29614.2532    22    29620.9628    29492.0190   337393    0.44%\n",
      "    774   540    29603.8675    30    29620.9628    29492.0190   329236    0.44%\n",
      "    797   588    29596.2994    31    29620.9628    29492.0190   353627    0.44%\n",
      "*   800+  507                        29618.9801    29492.0190             0.43%\n",
      "*   800+  507                        29617.3871    29492.0190             0.42%\n",
      "    800   509    29523.1924    45    29617.3871    29492.0190   312669    0.42%\n",
      "Elapsed time = 174.25 sec. (48781.50 ticks, tree = 23.04 MB, solutions = 10)\n",
      "    816   607    29578.3017    28    29617.3871    29495.2567   363751    0.41%\n",
      "    852   620    29517.6311    46    29617.3871    29495.8171   370992    0.41%\n",
      "    885   656    29571.8532    37    29617.3871    29495.8171   387859    0.41%\n",
      "    922   646    29585.5726    28    29617.3871    29495.8171   384672    0.41%\n",
      "    952   662    29559.4307    29    29617.3871    29495.9338   393067    0.41%\n",
      "    985   710    29576.8876    24    29617.3871    29495.9338   417506    0.41%\n",
      "   1034   698    29585.0387    14    29617.3871    29496.5131   407960    0.41%\n",
      "   1082   728    29585.7364    32    29617.3871    29499.2775   427543    0.40%\n",
      "   1132   795    29576.7245    34    29617.3871    29499.2775   463454    0.40%\n",
      "   1173   800    29518.9247    52    29617.3871    29500.3611   466075    0.40%\n",
      "Elapsed time = 218.70 sec. (58772.12 ticks, tree = 27.49 MB, solutions = 10)\n",
      "   1215   824    29579.5804    26    29617.3871    29500.3611   480839    0.40%\n",
      "   1246   878    29545.8261    42    29617.3871    29500.3611   509723    0.40%\n",
      "   1278   939    29546.1360    49    29617.3871    29501.4690   544173    0.39%\n",
      "   1316   944    29591.3582    37    29617.3871    29501.4690   546798    0.39%\n",
      "   1364   947    29516.7703    48    29617.3871    29503.0584   548917    0.39%\n",
      "   1410  1003    29572.2703    33    29617.3871    29503.8447   578896    0.38%\n",
      "   1471  1050    29555.8450    35    29617.3871    29503.8447   606323    0.38%\n",
      "   1518  1014    29582.0422    32    29617.3871    29503.8447   584338    0.38%\n",
      "   1565  1070    29606.3283    20    29617.3871    29506.0854   616601    0.38%\n",
      "   1613  1156    29546.0737    41    29617.3871    29506.1648   662676    0.38%\n",
      "Elapsed time = 266.00 sec. (68679.05 ticks, tree = 35.11 MB, solutions = 10)\n"
     ]
    },
    {
     "name": "stdout",
     "output_type": "stream",
     "text": [
      "   1661  1113    29542.5989    34    29617.3871    29506.1648   636361    0.38%\n",
      "   1705  1186    29517.8095    52    29617.3871    29506.7760   679605    0.37%\n",
      "   1753  1191    29550.0982    42    29617.3871    29507.1205   682105    0.37%\n",
      "   1807  1281        cutoff          29617.3871    29507.1327   731534    0.37%\n",
      "   1847  1328    29562.4886    46    29617.3871    29507.2366   757527    0.37%\n",
      "   1889  1319    29593.4189    32    29617.3871    29508.1090   751299    0.37%\n",
      "   1940  1378    29542.0223    36    29617.3871    29508.3052   782264    0.37%\n",
      "   1995  1326    29560.8671    30    29617.3871    29508.4689   753688    0.37%\n",
      "   2049  1406    29524.3277    45    29617.3871    29509.1014   801496    0.37%\n",
      "   2105  1479    29547.1570    42    29617.3871    29509.3877   835154    0.36%\n",
      "Elapsed time = 310.75 sec. (78331.32 ticks, tree = 58.76 MB, solutions = 10)\n",
      "   2165  1563    29559.8459    32    29617.3871    29509.4896   866316    0.36%\n",
      "   2214  1508    29552.9238    48    29617.3871    29509.9800   843826    0.36%\n",
      "   2276  1588    29596.5336    19    29617.3871    29509.9800   877458    0.36%\n",
      "   2306  1613    29548.5245    51    29617.3871    29509.9800   890570    0.36%\n",
      "   2353  1638    29601.0586    18    29617.3871    29510.7627   906651    0.36%\n",
      "   2404  1693    29533.5792    34    29617.3871    29510.7627   935824    0.36%\n",
      "   2453  1715    29546.0394    36    29617.3871    29511.3056   945548    0.36%\n",
      "   2507  1737    29581.4733    29    29617.3871    29511.9362   953614    0.36%\n",
      "   2575  1800    29543.5051    45    29617.3871    29512.0768   986716    0.36%\n",
      "   2628  1837    29555.1787    41    29617.3871    29512.3752  1005574    0.35%\n",
      "Elapsed time = 360.78 sec. (88044.75 ticks, tree = 120.60 MB, solutions = 10)\n",
      "   2685  1824    29613.8540    12    29617.3871    29512.9826   995194    0.35%\n",
      "   2737  1835    29543.8754    43    29617.3871    29513.1926  1005129    0.35%\n",
      "*  2742+ 1827                        29616.8151    29513.1926             0.35%\n",
      "   2774  1934    29533.3877    47    29616.8151    29513.7519  1045165    0.35%\n",
      "   2806  1953    29569.2845    34    29616.8151    29514.1655  1052408    0.35%\n",
      "   2849  1972    29541.0904    44    29616.8151    29514.2424  1060436    0.35%\n",
      "   2890  2002    29553.8154    35    29616.8151    29514.2424  1065642    0.35%\n",
      "   2943  2027        cutoff          29616.8151    29514.2424  1080929    0.35%\n",
      "   2996  2087    29577.6430    31    29616.8151    29514.8094  1115713    0.34%\n",
      "   3054  2066    29534.6012    44    29616.8151    29514.9868  1104466    0.34%\n",
      "   3091  2137    29590.1346    30    29616.8151    29514.9868  1137373    0.34%\n",
      "Elapsed time = 411.16 sec. (97691.62 ticks, tree = 175.49 MB, solutions = 11)\n",
      "   3135  2148    29583.6900    30    29616.8151    29515.5897  1142288    0.34%\n",
      "   3196  2233    29587.0541    34    29616.8151    29515.9199  1181387    0.34%\n",
      "   3246  2181    29567.0123    38    29616.8151    29515.9199  1158328    0.34%\n",
      "   3282  2259    29554.4130    42    29616.8151    29515.9199  1191000    0.34%\n",
      "\n",
      "Performing restart 1\n",
      "\n",
      "Repeating presolve.\n",
      "Tried aggregator 2 times.\n",
      "MIP Presolve eliminated 948 rows and 2227 columns.\n",
      "Aggregator did 8 substitutions.\n",
      "Reduced MIP has 30139 rows, 60472 columns, and 422846 nonzeros.\n",
      "Reduced MIP has 360 binaries, 0 generals, 0 SOSs, and 0 indicators.\n",
      "Presolve time = 13.39 sec. (3641.92 ticks)\n",
      "Tried aggregator 1 time.\n",
      "Reduced MIP has 30139 rows, 60472 columns, and 422846 nonzeros.\n",
      "Reduced MIP has 360 binaries, 0 generals, 0 SOSs, and 0 indicators.\n",
      "Presolve time = 6.98 sec. (1772.03 ticks)\n",
      "Represolve time = 21.58 sec. (5689.39 ticks)\n",
      "*  3287+    0                        29615.0913    29516.5849             0.33%\n",
      "\n",
      "Repeating presolve.\n",
      "Tried aggregator 1 time.\n",
      "MIP Presolve eliminated 10080 rows and 20213 columns.\n",
      "Reduced MIP has 20059 rows, 40259 columns, and 301257 nonzeros.\n",
      "Reduced MIP has 259 binaries, 0 generals, 0 SOSs, and 0 indicators.\n",
      "Presolve time = 4.59 sec. (1198.78 ticks)\n",
      "Tried aggregator 1 time.\n",
      "Reduced MIP has 20059 rows, 40259 columns, and 301257 nonzeros.\n",
      "Reduced MIP has 259 binaries, 0 generals, 0 SOSs, and 0 indicators.\n",
      "Presolve time = 4.17 sec. (1236.88 ticks)\n",
      "Represolve time = 9.41 sec. (2698.79 ticks)\n",
      "   3287     0    29456.9320    62    29615.0913     Cuts: 135  1362442    0.33%\n",
      "   3287     0    29459.4572    61    29615.0913     Cuts: 104  1362838    0.33%\n",
      "   3287     0    29461.1311    59    29615.0913     Cuts: 209  1363296    0.33%\n",
      "   3287     0    29462.5270    60    29615.0913     Cuts: 193  1363796    0.33%\n",
      "   3287     0    29463.7349    62    29615.0913     Cuts: 168  1364245    0.33%\n",
      "   3287     2    29463.7349    62    29615.0913    29516.5849  1364245    0.33%\n",
      "   3291     5    29478.9948    53    29615.0913    29516.5849  1365723    0.33%\n",
      "   3298     9    29493.1767    46    29615.0913    29516.5849  1368044    0.33%\n",
      "   3313    21    29507.7982    44    29615.0913    29516.5849  1378590    0.33%\n",
      "   3355    54    29504.8694    34    29615.0913    29516.5849  1396913    0.33%\n",
      "   3385    75    29521.7033    36    29615.0913    29516.5849  1405048    0.33%\n",
      "Elapsed time = 643.06 sec. (229455.49 ticks, tree = 1.44 MB, solutions = 12)\n",
      "   3419    85    29486.8928    53    29615.0913    29516.5849  1410668    0.33%\n",
      "   3454   134    29541.4495    37    29615.0913    29516.5849  1430271    0.33%\n",
      "   3514   146        cutoff          29615.0913    29516.5849  1435147    0.33%\n",
      "   3575   211    29610.1454    21    29615.0913    29516.5849  1459458    0.33%\n",
      "   3628   238        cutoff          29615.0913    29516.5849  1470726    0.33%\n",
      "   3688   283    29514.2062    45    29615.0913    29516.5849  1488817    0.33%\n",
      "   3755   325    29496.4356    47    29615.0913    29516.5849  1506624    0.33%\n",
      "   3815   349    29610.1301    48    29615.0913    29516.5849  1519623    0.33%\n",
      "   3866   350        cutoff          29615.0913    29516.5849  1521790    0.33%\n",
      "   4076   478    29525.9850    44    29615.0913    29516.5849  1572960    0.33%\n",
      "Elapsed time = 686.75 sec. (242019.23 ticks, tree = 8.34 MB, solutions = 12)\n",
      "   4431   697    29590.1269    26    29615.0913    29516.5849  1653265    0.33%\n",
      "   4680   936    29614.0410    11    29615.0913    29516.5849  1730526    0.33%\n",
      "   5020  1136        cutoff          29615.0913    29516.5849  1806017    0.33%\n",
      "   5333  1375    29608.0277    14    29615.0913    29516.5849  1882149    0.33%\n",
      "   5579  1473    29598.9463    28    29615.0913    29516.5849  1930505    0.33%\n",
      "   5853  1635    29544.6142    46    29615.0913    29516.5849  2003639    0.33%\n",
      "   6057  1805    29605.5401    15    29615.0913    29517.4193  2093641    0.33%\n",
      "   6336  1965    29543.5303    41    29615.0913    29518.7091  2168831    0.33%\n",
      "   6559  2115    29569.5741    24    29615.0913    29520.0686  2235591    0.32%\n",
      "   6860  2186    29560.3829    34    29615.0913    29520.8646  2274727    0.32%\n",
      "Elapsed time = 828.41 sec. (280291.44 ticks, tree = 27.56 MB, solutions = 12)\n",
      "   7091  2356    29605.3462    10    29615.0913    29523.3484  2361018    0.31%\n",
      "   7351  2462        cutoff          29615.0913    29524.5605  2428432    0.31%\n",
      "   7587  2619        cutoff          29615.0913    29526.5324  2514136    0.30%\n",
      "   7793  2744    29584.8077    32    29615.0913    29527.5499  2584497    0.30%\n",
      "   8097  2842    29593.2262    29    29615.0913    29529.2018  2641230    0.29%\n",
      "   8337  3040    29582.2200    25    29615.0913    29531.1986  2726558    0.28%\n",
      "   8562  3120    29597.6772    46    29615.0913    29532.3309  2779029    0.28%\n",
      "   8856  3266    29605.5550    21    29615.0913    29533.1265  2860563    0.28%\n",
      "   9170  3431    29595.0387    25    29615.0913    29535.0650  2953213    0.27%\n",
      "   9370  3598    29589.7828    40    29615.0913    29536.0456  3031915    0.27%\n",
      "Elapsed time = 976.92 sec. (318625.23 ticks, tree = 44.37 MB, solutions = 12)\n",
      "   9601  3663        cutoff          29615.0913    29537.1578  3079670    0.26%\n",
      "   9897  3800    29596.3388    26    29615.0913    29538.8707  3164870    0.26%\n",
      "  10115  3937    29572.8997    26    29615.0913    29540.2135  3239866    0.25%\n",
      "  10308  4039    29571.3069    34    29615.0913    29541.4499  3310217    0.25%\n",
      "  10584  4164    29576.2073    34    29615.0913    29542.6402  3412426    0.24%\n",
      "  10859  4245    29600.4838    33    29615.0913    29543.6591  3461897    0.24%\n"
     ]
    },
    {
     "name": "stdout",
     "output_type": "stream",
     "text": [
      "  11083  4397    29607.7280    37    29615.0913    29545.1021  3551219    0.24%\n",
      "  11365  4481    29578.2426    30    29615.0913    29545.9685  3607794    0.23%\n",
      "  11699  4714    29608.1584    14    29615.0913    29546.8594  3736457    0.23%\n",
      "  11967  4854    29600.7381    44    29615.0913    29547.8912  3821440    0.23%\n",
      "Elapsed time = 1125.91 sec. (356900.09 ticks, tree = 60.93 MB, solutions = 12)\n",
      "  12169  4920    29602.0593    12    29615.0913    29548.9365  3864960    0.22%\n",
      "  12452  5044    29613.8794    47    29615.0913    29550.2051  3950720    0.22%\n",
      "  12787  5139    29614.7657    15    29615.0913    29550.9200  4004974    0.22%\n",
      "  13025  5260    29611.8286    21    29615.0913    29551.7513  4071746    0.21%\n",
      "  13223  5423    29610.3230    16    29615.0913    29552.4562  4187729    0.21%\n",
      "  13478  5503    29594.0600    31    29615.0913    29553.2640  4250205    0.21%\n",
      "  13769  5607    29581.2175    24    29615.0913    29554.0741  4345111    0.21%\n",
      "  13985  5743    29584.3595    36    29615.0913    29554.9733  4445704    0.20%\n",
      "  14169  5818    29596.0392    20    29615.0913    29555.9247  4514624    0.20%\n",
      "  14402  5913    29611.9872    35    29615.0913    29556.9055  4592724    0.20%\n",
      "Elapsed time = 1286.28 sec. (395194.53 ticks, tree = 73.52 MB, solutions = 12)\n",
      "  14705  6029    29607.3995    14    29615.0913    29557.6500  4668667    0.19%\n",
      "  14984  6044    29612.2187    10    29615.0913    29557.9517  4680440    0.19%\n",
      "  15193  6176    29581.6318    32    29615.0913    29558.6442  4803841    0.19%\n",
      "  15432  6212    29610.9351    14    29615.0913    29559.0996  4826195    0.19%\n",
      "  15726  6360    29591.2948    39    29615.0913    29559.9270  4957707    0.19%\n",
      "  16027  6478        cutoff          29615.0913    29560.9278  5031183    0.18%\n",
      "  16300  6508    29593.1660    23    29615.0913    29561.8412  5067324    0.18%\n",
      "  16543  6584    29598.3392    15    29615.0913    29562.6610  5122051    0.18%\n",
      "  16826  6768    29609.2420    21    29615.0913    29563.7978  5246419    0.17%\n",
      "  17155  6822    29605.3912    31    29615.0913    29564.4007  5287878    0.17%\n",
      "Elapsed time = 1439.45 sec. (433486.24 ticks, tree = 83.89 MB, solutions = 12)\n",
      "  17490  6910        cutoff          29615.0913    29564.8041  5353659    0.17%\n",
      "  17798  7056    29609.1965     6    29615.0913    29565.5046  5458166    0.17%\n",
      "  18057  7195        cutoff          29615.0913    29565.9801  5589762    0.17%\n",
      "  18301  7229        cutoff          29615.0913    29566.6887  5626607    0.16%\n",
      "  18574  7342        cutoff          29615.0913    29567.6499  5743917    0.16%\n",
      "  18894  7396        cutoff          29615.0913    29568.8856  5796702    0.16%\n",
      "  19216  7456    29604.8342    20    29615.0913    29569.4378  5838944    0.15%\n",
      "  19464  7628    29586.8182    30    29615.0913    29570.2528  6010183    0.15%\n",
      "  19697  7692        cutoff          29615.0913    29570.9965  6086459    0.15%\n",
      "  19949  7723        cutoff          29615.0913    29571.4636  6128412    0.15%\n",
      "Elapsed time = 1595.36 sec. (471733.47 ticks, tree = 93.77 MB, solutions = 12)\n",
      "  20267  7747        cutoff          29615.0913    29572.5028  6171982    0.14%\n",
      "  20641  7782    29605.7958    22    29615.0913    29573.0993  6234236    0.14%\n",
      "Starting limited solution polishing.\n",
      "  20954  7866    29607.2755    32    29615.0913    29573.6227  6323615    0.14%\n",
      "  21214  8000    29606.8831    30    29615.0913    29574.3053  6488408    0.14%\n",
      "  21450  8019    29601.7294    25    29615.0913    29574.7378  6530737    0.14%\n",
      "  21721  8045    29607.6897    23    29615.0913    29575.7794  6562146    0.13%\n",
      "  22036  8070    29614.6818    12    29615.0913    29576.5980  6600308    0.13%\n",
      "  22384  8183        cutoff          29615.0913    29577.1636  6775331    0.13%\n",
      "  22733  8226    29612.1232    14    29615.0913    29577.5466  6833070    0.13%\n",
      "  23052  8202    29606.2355    22    29615.0913    29578.3439  6811280    0.12%\n",
      "Elapsed time = 1747.91 sec. (510052.54 ticks, tree = 98.98 MB, solutions = 12)\n",
      "  23294  8342    29612.5728     8    29615.0913    29579.0054  7024992    0.12%\n",
      "  23530  8326    29608.7577    23    29615.0913    29579.2931  6991729    0.12%\n",
      "  23775  8357        cutoff          29615.0913    29580.0964  7066942    0.12%\n",
      "\n",
      "Cover cuts applied:  46\n",
      "Flow cuts applied:  256\n",
      "Mixed integer rounding cuts applied:  3075\n",
      "Lift and project cuts applied:  82\n",
      "Gomory fractional cuts applied:  10\n",
      "\n",
      "Root node processing (before b&c):\n",
      "  Real time             =   56.52 sec. (22355.95 ticks)\n",
      "Parallel b&c, 8 threads:\n",
      "  Real time             = 1743.70 sec. (501321.87 ticks)\n",
      "  Sync time (average)   =  186.71 sec.\n",
      "  Wait time (average)   =    0.03 sec.\n",
      "                          ------------\n",
      "Total (root+branch&cut) = 1800.22 sec. (523677.82 ticks)\n",
      "\n",
      "Solution pool: 12 solutions saved.\n",
      "\n",
      "MIP - Time limit exceeded, integer feasible:  Objective =  2.9615091345e+04\n",
      "Current MIP best bound =  2.9581600389e+04 (gap = 33.491, 0.11%)\n",
      "Solution time = 1800.23 sec.  Iterations = 7235188  Nodes = 23884 (8414)\n",
      "Deterministic time = 523678.05 ticks  (290.89 ticks/sec)\n",
      "\n",
      "CPLEX> Incumbent solution written to file 'C:\\Users\\91824\\AppData\\Local\\Temp\\tmp9ewr1uz4.cplex.sol'.\n",
      "CPLEX> Solver status : ok\n",
      "Solver Termination condition : maxTimeLimit\n"
     ]
    }
   ],
   "source": [
    "opt = SolverFactory('cplex')\n",
    "opt.options['timelimit'] = 1800\n",
    "result = opt.solve(avg_model,tee=True)\n",
    "print(\"Solver status :\",result.solver.status)\n",
    "print(\"Solver Termination condition :\", result.solver.termination_condition)"
   ]
  },
  {
   "cell_type": "code",
   "execution_count": 38,
   "metadata": {},
   "outputs": [],
   "source": [
    "#pd.DataFrame(cib).to_csv(\"cost_data_random_seed0.csv\")"
   ]
  },
  {
   "cell_type": "code",
   "execution_count": 39,
   "metadata": {},
   "outputs": [
    {
     "name": "stdout",
     "output_type": "stream",
     "text": [
      "Block : 1 Surgeries [18, 22, 26]\n",
      "Block : 2 Surgeries [9, 10, 11]\n",
      "Block : 3 Surgeries [65, 66, 73]\n",
      "Block : 4 Surgeries [36, 42, 44, 49]\n",
      "Block : 5 Surgeries [94, 95, 96]\n",
      "Block : 6 Surgeries [3, 6]\n",
      "Block : 7 Surgeries [85, 87, 91, 98]\n",
      "Block : 8 Surgeries [20, 28, 31]\n",
      "Block : 9 Surgeries [68, 72, 76]\n",
      "Block : 10 Surgeries [74, 75, 81]\n",
      "Block : 11 Surgeries [41, 50, 54, 59]\n",
      "Block : 12 Surgeries [32, 33, 37]\n",
      "Block : 13 Surgeries [90]\n",
      "Block : 14 Surgeries [14, 21, 27]\n",
      "Block : 15 Surgeries [15, 17, 25]\n",
      "Block : 16 Surgeries [2, 8, 13]\n",
      "Block : 17 Surgeries [60, 61, 62, 63, 64]\n",
      "Block : 18 Surgeries [35, 38, 39, 40]\n",
      "Block : 19 Surgeries [43, 46, 57]\n",
      "Block : 20 Surgeries [82, 83, 84, 88, 89]\n",
      "Block : 21 Surgeries [69, 77]\n",
      "Block : 22 Surgeries [19, 23, 29]\n",
      "Block : 23 Surgeries [67, 71, 79]\n",
      "Block : 24 Surgeries [34, 52, 55]\n",
      "Block : 25 Surgeries [45, 48, 53, 58]\n",
      "Block : 26 Surgeries [86, 92, 93, 99]\n",
      "Block : 27 Surgeries [16, 24, 30]\n",
      "Block : 28 Surgeries [0, 1, 12]\n",
      "Block : 29 Surgeries [70, 78, 80]\n",
      "Block : 30 Surgeries [47, 51, 56]\n",
      "Block : 31 Surgeries [97]\n",
      "Block : 32 Surgeries [4, 5, 7]\n",
      "Block : 33 Surgeries []\n",
      "Block : 34 Surgeries []\n",
      "Block : 35 Surgeries []\n",
      "Block : 36 Surgeries []\n",
      "Block : 37 Surgeries []\n",
      "Block : 38 Surgeries []\n"
     ]
    }
   ],
   "source": [
    "l = [[] for _ in range(n_blocks)]\n",
    "for b in range(n_blocks):\n",
    "    for i in range(n_surgeries):\n",
    "        if avg_model.y[i+1,b+1].value > 0.0:\n",
    "            l[b].append(i)\n",
    "\n",
    "for i in range(len(l)):\n",
    "    print(\"Block :\",i+1, 'Surgeries',l[i])\n",
    "    "
   ]
  },
  {
   "cell_type": "code",
   "execution_count": 40,
   "metadata": {},
   "outputs": [
    {
     "data": {
      "text/plain": [
       "{'CARD': [0, 13],\n",
       " 'GASTRO': [14, 31],\n",
       " 'GYN': [32, 59],\n",
       " 'MED': [60, 64],\n",
       " 'ORTHO': [65, 81],\n",
       " 'URO': [82, 99]}"
      ]
     },
     "execution_count": 40,
     "metadata": {},
     "output_type": "execute_result"
    }
   ],
   "source": [
    "surgery_nums"
   ]
  },
  {
   "cell_type": "code",
   "execution_count": 41,
   "metadata": {},
   "outputs": [
    {
     "name": "stdout",
     "output_type": "stream",
     "text": [
      "CARD [2, 6, 16, 28, 32, 33]\n",
      "GASTRO [1, 8, 14, 15, 22, 27, 34]\n",
      "GYN [4, 11, 12, 18, 19, 24, 25, 30, 35]\n",
      "MED [17, 36]\n",
      "ORTHO [3, 9, 10, 21, 23, 29, 37]\n",
      "URO [5, 7, 13, 20, 26, 31, 38]\n"
     ]
    }
   ],
   "source": [
    "for i in specs:\n",
    "    print(i, blocks[i])"
   ]
  },
  {
   "cell_type": "code",
   "execution_count": 42,
   "metadata": {},
   "outputs": [],
   "source": [
    "assignments = np.array([[0.0 for _ in range(n_blocks)] for _ in range(n_surgeries)])\n",
    "for i in range(n_surgeries):\n",
    "    for b in range(n_blocks):\n",
    "        assignments[i,b] = avg_model.y[i+1,b+1].value"
   ]
  },
  {
   "cell_type": "code",
   "execution_count": 43,
   "metadata": {},
   "outputs": [
    {
     "data": {
      "image/png": "[encoded data removed]",
      "text/plain": [
       "<Figure size 1440x1440 with 2 Axes>"
      ]
     },
     "metadata": {
      "needs_background": "light"
     },
     "output_type": "display_data"
    }
   ],
   "source": [
    "fig,(ax1,ax2) = plt.subplots(2,1,sharex=True,figsize=(20,20))\n",
    "ax1.imshow(cib[:,:32].T,interpolation='nearest')\n",
    "ax2.imshow(assignments[:,:32].T,interpolation='nearest')\n",
    "plt.savefig(\"Random block costs weekly schedule\",dpi=500)"
   ]
  },
  {
   "cell_type": "code",
   "execution_count": 44,
   "metadata": {},
   "outputs": [],
   "source": [
    "os = [[] for _ in range(n_blocks)]\n",
    "gs = [[] for _ in range(n_blocks)]\n",
    "\n",
    "for b in range(n_blocks):\n",
    "    for n in range(n_scenarios):\n",
    "        os[b].append(avg_model.o[b+1,n+1].value)\n",
    "        gs[b].append(avg_model.g[b+1,n+1].value)\n",
    "\n",
    "os = np.array(os)\n",
    "gs = np.array(gs)"
   ]
  },
  {
   "cell_type": "code",
   "execution_count": 45,
   "metadata": {},
   "outputs": [
    {
     "data": {
      "image/png": "[encoded data removed]",
      "text/plain": [
       "<Figure size 432x288 with 1 Axes>"
      ]
     },
     "metadata": {
      "needs_background": "light"
     },
     "output_type": "display_data"
    },
    {
     "data": {
      "image/png": "[encoded data removed]",
      "text/plain": [
       "<Figure size 432x288 with 1 Axes>"
      ]
     },
     "metadata": {
      "needs_background": "light"
     },
     "output_type": "display_data"
    },
    {
     "data": {
      "image/png": "[encoded data removed]",
      "text/plain": [
       "<Figure size 432x288 with 1 Axes>"
      ]
     },
     "metadata": {
      "needs_background": "light"
     },
     "output_type": "display_data"
    },
    {
     "data": {
      "image/png": "[encoded data removed]",
      "text/plain": [
       "<Figure size 432x288 with 1 Axes>"
      ]
     },
     "metadata": {
      "needs_background": "light"
     },
     "output_type": "display_data"
    },
    {
     "data": {
      "image/png": "[encoded data removed]",
      "text/plain": [
       "<Figure size 432x288 with 1 Axes>"
      ]
     },
     "metadata": {
      "needs_background": "light"
     },
     "output_type": "display_data"
    },
    {
     "data": {
      "image/png": "[encoded data removed]",
      "text/plain": [
       "<Figure size 432x288 with 1 Axes>"
      ]
     },
     "metadata": {
      "needs_background": "light"
     },
     "output_type": "display_data"
    },
    {
     "data": {
      "image/png": "[encoded data removed]",
      "text/plain": [
       "<Figure size 432x288 with 1 Axes>"
      ]
     },
     "metadata": {
      "needs_background": "light"
     },
     "output_type": "display_data"
    },
    {
     "data": {
      "image/png": "[encoded data removed]",
      "text/plain": [
       "<Figure size 432x288 with 1 Axes>"
      ]
     },
     "metadata": {
      "needs_background": "light"
     },
     "output_type": "display_data"
    },
    {
     "data": {
      "image/png": "[encoded data removed]",
      "text/plain": [
       "<Figure size 432x288 with 1 Axes>"
      ]
     },
     "metadata": {
      "needs_background": "light"
     },
     "output_type": "display_data"
    },
    {
     "data": {
      "image/png": "[encoded data removed]",
      "text/plain": [
       "<Figure size 432x288 with 1 Axes>"
      ]
     },
     "metadata": {
      "needs_background": "light"
     },
     "output_type": "display_data"
    },
    {
     "data": {
      "image/png": "[encoded data removed]",
      "text/plain": [
       "<Figure size 432x288 with 1 Axes>"
      ]
     },
     "metadata": {
      "needs_background": "light"
     },
     "output_type": "display_data"
    },
    {
     "data": {
      "image/png": "[encoded data removed]",
      "text/plain": [
       "<Figure size 432x288 with 1 Axes>"
      ]
     },
     "metadata": {
      "needs_background": "light"
     },
     "output_type": "display_data"
    },
    {
     "data": {
      "image/png": "[encoded data removed]",
      "text/plain": [
       "<Figure size 432x288 with 1 Axes>"
      ]
     },
     "metadata": {
      "needs_background": "light"
     },
     "output_type": "display_data"
    },
    {
     "data": {
      "image/png": "[encoded data removed]",
      "text/plain": [
       "<Figure size 432x288 with 1 Axes>"
      ]
     },
     "metadata": {
      "needs_background": "light"
     },
     "output_type": "display_data"
    },
    {
     "data": {
      "image/png": "[encoded data removed]",
      "text/plain": [
       "<Figure size 432x288 with 1 Axes>"
      ]
     },
     "metadata": {
      "needs_background": "light"
     },
     "output_type": "display_data"
    },
    {
     "data": {
      "image/png": "[encoded data removed]",
      "text/plain": [
       "<Figure size 432x288 with 1 Axes>"
      ]
     },
     "metadata": {
      "needs_background": "light"
     },
     "output_type": "display_data"
    },
    {
     "data": {
      "image/png": "[encoded data removed]",
      "text/plain": [
       "<Figure size 432x288 with 1 Axes>"
      ]
     },
     "metadata": {
      "needs_background": "light"
     },
     "output_type": "display_data"
    },
    {
     "data": {
      "image/png": "[encoded data removed]",
      "text/plain": [
       "<Figure size 432x288 with 1 Axes>"
      ]
     },
     "metadata": {
      "needs_background": "light"
     },
     "output_type": "display_data"
    },
    {
     "data": {
      "image/png": "[encoded data removed]",
      "text/plain": [
       "<Figure size 432x288 with 1 Axes>"
      ]
     },
     "metadata": {
      "needs_background": "light"
     },
     "output_type": "display_data"
    },
    {
     "data": {
      "image/png": "[encoded data removed]",
      "text/plain": [
       "<Figure size 432x288 with 1 Axes>"
      ]
     },
     "metadata": {
      "needs_background": "light"
     },
     "output_type": "display_data"
    },
    {
     "data": {
      "image/png": "[encoded data removed]",
      "text/plain": [
       "<Figure size 432x288 with 1 Axes>"
      ]
     },
     "metadata": {
      "needs_background": "light"
     },
     "output_type": "display_data"
    },
    {
     "data": {
      "image/png": "[encoded data removed]",
      "text/plain": [
       "<Figure size 432x288 with 1 Axes>"
      ]
     },
     "metadata": {
      "needs_background": "light"
     },
     "output_type": "display_data"
    },
    {
     "data": {
      "image/png": "[encoded data removed]",
      "text/plain": [
       "<Figure size 432x288 with 1 Axes>"
      ]
     },
     "metadata": {
      "needs_background": "light"
     },
     "output_type": "display_data"
    },
    {
     "data": {
      "image/png": "[encoded data removed]",
      "text/plain": [
       "<Figure size 432x288 with 1 Axes>"
      ]
     },
     "metadata": {
      "needs_background": "light"
     },
     "output_type": "display_data"
    },
    {
     "data": {
      "image/png": "[encoded data removed]",
      "text/plain": [
       "<Figure size 432x288 with 1 Axes>"
      ]
     },
     "metadata": {
      "needs_background": "light"
     },
     "output_type": "display_data"
    },
    {
     "data": {
      "image/png": "[encoded data removed]",
      "text/plain": [
       "<Figure size 432x288 with 1 Axes>"
      ]
     },
     "metadata": {
      "needs_background": "light"
     },
     "output_type": "display_data"
    },
    {
     "data": {
      "image/png": "[encoded data removed]",
      "text/plain": [
       "<Figure size 432x288 with 1 Axes>"
      ]
     },
     "metadata": {
      "needs_background": "light"
     },
     "output_type": "display_data"
    },
    {
     "data": {
      "image/png": "[encoded data removed]",
      "text/plain": [
       "<Figure size 432x288 with 1 Axes>"
      ]
     },
     "metadata": {
      "needs_background": "light"
     },
     "output_type": "display_data"
    },
    {
     "data": {
      "image/png": "[encoded data removed]",
      "text/plain": [
       "<Figure size 432x288 with 1 Axes>"
      ]
     },
     "metadata": {
      "needs_background": "light"
     },
     "output_type": "display_data"
    },
    {
     "data": {
      "image/png": "[encoded data removed]",
      "text/plain": [
       "<Figure size 432x288 with 1 Axes>"
      ]
     },
     "metadata": {
      "needs_background": "light"
     },
     "output_type": "display_data"
    },
    {
     "data": {
      "image/png": "[encoded data removed]",
      "text/plain": [
       "<Figure size 432x288 with 1 Axes>"
      ]
     },
     "metadata": {
      "needs_background": "light"
     },
     "output_type": "display_data"
    },
    {
     "data": {
      "image/png": "[encoded data removed]",
      "text/plain": [
       "<Figure size 432x288 with 1 Axes>"
      ]
     },
     "metadata": {
      "needs_background": "light"
     },
     "output_type": "display_data"
    },
    {
     "data": {
      "image/png": "[encoded data removed]",
      "text/plain": [
       "<Figure size 432x288 with 1 Axes>"
      ]
     },
     "metadata": {
      "needs_background": "light"
     },
     "output_type": "display_data"
    },
    {
     "data": {
      "image/png": "[encoded data removed]",
      "text/plain": [
       "<Figure size 432x288 with 1 Axes>"
      ]
     },
     "metadata": {
      "needs_background": "light"
     },
     "output_type": "display_data"
    },
    {
     "data": {
      "image/png": "[encoded data removed]",
      "text/plain": [
       "<Figure size 432x288 with 1 Axes>"
      ]
     },
     "metadata": {
      "needs_background": "light"
     },
     "output_type": "display_data"
    },
    {
     "data": {
      "image/png": "[encoded data removed]",
      "text/plain": [
       "<Figure size 432x288 with 1 Axes>"
      ]
     },
     "metadata": {
      "needs_background": "light"
     },
     "output_type": "display_data"
    },
    {
     "data": {
      "image/png": "[encoded data removed]",
      "text/plain": [
       "<Figure size 432x288 with 1 Axes>"
      ]
     },
     "metadata": {
      "needs_background": "light"
     },
     "output_type": "display_data"
    },
    {
     "data": {
      "image/png": "[encoded data removed]",
      "text/plain": [
       "<Figure size 432x288 with 1 Axes>"
      ]
     },
     "metadata": {
      "needs_background": "light"
     },
     "output_type": "display_data"
    }
   ],
   "source": [
    "overtime = os-gs\n",
    "\n",
    "for b in range(n_blocks):\n",
    "    plt.figure()\n",
    "    plt.title(\"Hist for block \"+str(b+1))\n",
    "    plt.hist(overtime[b],bins=20)\n",
    "    plt.xlim(-600,400)\n",
    "    plt.show()"
   ]
  },
  {
   "cell_type": "code",
   "execution_count": 46,
   "metadata": {},
   "outputs": [
    {
     "data": {
      "text/plain": [
       "array([[   0.,  100.,    0., ...,    0.,    0.,    0.],\n",
       "       [   0.,  400.,    0., ...,    0.,    0.,    0.],\n",
       "       [   0.,  200.,    0., ...,    0.,    0.,    0.],\n",
       "       ...,\n",
       "       [   0.,    0.,    0., ...,    0.,    0., 1000.],\n",
       "       [   0.,    0.,    0., ...,    0.,    0., 1000.],\n",
       "       [   0.,    0.,    0., ...,    0.,    0., 1000.]])"
      ]
     },
     "execution_count": 46,
     "metadata": {},
     "output_type": "execute_result"
    }
   ],
   "source": [
    "cib"
   ]
  },
  {
   "cell_type": "code",
   "execution_count": 47,
   "metadata": {},
   "outputs": [
    {
     "data": {
      "text/plain": [
       "array([   0.,    0.,    0.,    0.,    0.,    0.,    0.,    0.,    0.,\n",
       "          0.,    0.,    0.,    0.,    0., 1000., 1000., 1000., 1000.,\n",
       "       1000., 1000., 1000., 1000., 1000., 1000., 1000., 1000., 1000.,\n",
       "       1000., 1000., 1000., 1000., 1000.,    0.,    0.,    0.,    0.,\n",
       "          0.,    0.,    0.,    0.,    0.,    0.,    0.,    0.,    0.,\n",
       "          0.,    0.,    0.,    0.,    0.,    0.,    0.,    0.,    0.,\n",
       "          0.,    0.,    0.,    0.,    0.,    0.,    0.,    0.,    0.,\n",
       "          0.,    0.,    0.,    0.,    0.,    0.,    0.,    0.,    0.,\n",
       "          0.,    0.,    0.,    0.,    0.,    0.,    0.,    0.,    0.,\n",
       "          0.,    0.,    0.,    0.,    0.,    0.,    0.,    0.,    0.,\n",
       "          0.,    0.,    0.,    0.,    0.,    0.,    0.,    0.,    0.,\n",
       "          0.])"
      ]
     },
     "execution_count": 47,
     "metadata": {},
     "output_type": "execute_result"
    }
   ],
   "source": [
    "cib[:,33]"
   ]
  },
  {
   "cell_type": "code",
   "execution_count": 48,
   "metadata": {},
   "outputs": [
    {
     "data": {
      "text/plain": [
       "array([   0.,  200.,    0.,    0.,    0.,  400.,    0.,    0.,    0.,\n",
       "          0.,    0.,    0.,    0.,    0.,    0.,  400.,    0.,    0.,\n",
       "          0.,    0.,    0.,    0.,    0.,    0.,    0.,    0.,    0.,\n",
       "        300.,    0.,    0.,    0.,  400., 1000.,    0.,    0.,    0.,\n",
       "          0.,    0.])"
      ]
     },
     "execution_count": 48,
     "metadata": {},
     "output_type": "execute_result"
    }
   ],
   "source": [
    "cib[9,:]"
   ]
  },
  {
   "cell_type": "code",
   "execution_count": 49,
   "metadata": {},
   "outputs": [
    {
     "data": {
      "text/plain": [
       "array([[  0., 100.,   0.,   0.,   0., 400.,   0.,   0.,   0.,   0.,   0.,\n",
       "          0.,   0.,   0.,   0., 200.,   0.,   0.,   0.,   0.,   0.,   0.,\n",
       "          0.,   0.,   0.,   0.,   0., 100.,   0.,   0.,   0., 400.],\n",
       "       [  0., 400.,   0.,   0.,   0., 400.,   0.,   0.,   0.,   0.,   0.,\n",
       "          0.,   0.,   0.,   0., 400.,   0.,   0.,   0.,   0.,   0.,   0.,\n",
       "          0.,   0.,   0.,   0.,   0., 200.,   0.,   0.,   0., 400.]])"
      ]
     },
     "execution_count": 49,
     "metadata": {},
     "output_type": "execute_result"
    }
   ],
   "source": [
    "cib[:2,:32]"
   ]
  },
  {
   "cell_type": "code",
   "execution_count": 50,
   "metadata": {},
   "outputs": [
    {
     "data": {
      "text/plain": [
       "(100, 38)"
      ]
     },
     "execution_count": 50,
     "metadata": {},
     "output_type": "execute_result"
    }
   ],
   "source": [
    "cib.shape"
   ]
  },
  {
   "cell_type": "code",
   "execution_count": 51,
   "metadata": {},
   "outputs": [
    {
     "data": {
      "text/plain": [
       "array([-6000., -6000., -6000., -6000., -6000., -6000., -6000., -6000.,\n",
       "       -6000., -6000., -6000., -6000., -6000., -6000., -6000., -6000.,\n",
       "       -6000., -6000., -6000., -6000., -6000., -6000., -6000., -6000.,\n",
       "       -6000., -6000., -6000., -6000., -6000., -6000., -6000., -6000.,\n",
       "       -6000., -6000., -6000., -6000., -6000., -6000., -6000., -6000.,\n",
       "       -6000., -6000., -6000., -6000., -6000., -6000., -6000., -6000.,\n",
       "       -6000., -6000., -6000., -6000., -6000., -6000., -6000., -6000.,\n",
       "       -6000., -6000., -6000., -6000., -6000., -6000., -6000., -6000.,\n",
       "       -6000., -6000., -6000., -6000., -6000., -6000., -6000., -6000.,\n",
       "       -6000., -6000., -6000., -6000., -6000., -6000., -6000., -6000.,\n",
       "       -6000., -6000., -6000., -6000., -6000., -6000., -6000., -6000.,\n",
       "       -6000., -6000., -6000., -6000., -6000., -6000., -6000., -6000.,\n",
       "       -6000., -6000., -6000., -6000., -6000., -6000., -6000., -6000.,\n",
       "       -6000., -6000., -6000., -6000., -6000., -6000., -6000., -6000.,\n",
       "       -6000., -6000., -6000., -6000., -6000., -6000., -6000., -6000.,\n",
       "       -6000., -6000., -6000., -6000., -6000., -6000., -6000., -6000.,\n",
       "       -6000., -6000., -6000., -6000., -6000., -6000., -6000., -6000.,\n",
       "       -6000., -6000., -6000., -6000., -6000., -6000., -6000., -6000.,\n",
       "       -6000., -6000., -6000., -6000., -6000., -6000., -6000., -6000.,\n",
       "       -6000., -6000., -6000., -6000., -6000., -6000., -6000., -6000.,\n",
       "       -6000., -6000., -6000., -6000., -6000., -6000., -6000., -6000.,\n",
       "       -6000., -6000., -6000., -6000., -6000., -6000., -6000., -6000.,\n",
       "       -6000., -6000., -6000., -6000., -6000., -6000., -6000., -6000.,\n",
       "       -6000., -6000., -6000., -6000., -6000., -6000., -6000., -6000.,\n",
       "       -6000., -6000., -6000., -6000., -6000., -6000., -6000., -6000.,\n",
       "       -6000., -6000., -6000., -6000., -6000., -6000., -6000., -6000.,\n",
       "       -6000., -6000., -6000., -6000., -6000., -6000., -6000., -6000.,\n",
       "       -6000., -6000., -6000., -6000., -6000., -6000., -6000., -6000.,\n",
       "       -6000., -6000., -6000., -6000., -6000., -6000., -6000., -6000.,\n",
       "       -6000., -6000., -6000., -6000., -6000., -6000., -6000., -6000.,\n",
       "       -6000., -6000., -6000., -6000., -6000., -6000., -6000., -6000.,\n",
       "       -6000., -6000., -6000., -6000., -6000., -6000., -6000., -6000.,\n",
       "       -6000., -6000., -6000., -6000., -6000., -6000., -6000., -6000.,\n",
       "       -6000., -6000., -6000., -6000., -6000., -6000., -6000., -6000.,\n",
       "       -6000., -6000., -6000., -6000., -6000., -6000., -6000., -6000.,\n",
       "       -6000., -6000., -6000., -6000., -6000., -6000., -6000., -6000.,\n",
       "       -6000., -6000., -6000., -6000., -6000., -6000., -6000., -6000.,\n",
       "       -6000., -6000., -6000., -6000., -6000., -6000., -6000., -6000.,\n",
       "       -6000., -6000., -6000., -6000., -6000., -6000., -6000., -6000.,\n",
       "       -6000., -6000., -6000., -6000., -6000., -6000., -6000., -6000.,\n",
       "       -6000., -6000., -6000., -6000., -6000., -6000., -6000., -6000.,\n",
       "       -6000., -6000., -6000., -6000., -6000., -6000., -6000., -6000.,\n",
       "       -6000., -6000., -6000., -6000., -6000., -6000., -6000., -6000.,\n",
       "       -6000., -6000., -6000., -6000., -6000., -6000., -6000., -6000.,\n",
       "       -6000., -6000., -6000., -6000., -6000., -6000., -6000., -6000.,\n",
       "       -6000., -6000., -6000., -6000., -6000., -6000., -6000., -6000.,\n",
       "       -6000., -6000., -6000., -6000., -6000., -6000., -6000., -6000.,\n",
       "       -6000., -6000., -6000., -6000., -6000., -6000., -6000., -6000.,\n",
       "       -6000., -6000., -6000., -6000., -6000., -6000., -6000., -6000.,\n",
       "       -6000., -6000., -6000., -6000., -6000., -6000., -6000., -6000.,\n",
       "       -6000., -6000., -6000., -6000., -6000., -6000., -6000., -6000.,\n",
       "       -6000., -6000., -6000., -6000., -6000., -6000., -6000., -6000.,\n",
       "       -6000., -6000., -6000., -6000., -6000., -6000., -6000., -6000.,\n",
       "       -6000., -6000., -6000., -6000., -6000., -6000., -6000., -6000.,\n",
       "       -6000., -6000., -6000., -6000., -6000., -6000., -6000., -6000.,\n",
       "       -6000., -6000., -6000., -6000., -6000., -6000., -6000., -6000.,\n",
       "       -6000., -6000., -6000., -6000., -6000., -6000., -6000., -6000.,\n",
       "       -6000., -6000., -6000., -6000., -6000., -6000., -6000., -6000.,\n",
       "       -6000., -6000., -6000., -6000., -6000., -6000., -6000., -6000.,\n",
       "       -6000., -6000., -6000., -6000., -6000., -6000., -6000., -6000.,\n",
       "       -6000., -6000., -6000., -6000., -6000., -6000., -6000., -6000.,\n",
       "       -6000., -6000., -6000., -6000., -6000., -6000., -6000., -6000.,\n",
       "       -6000., -6000., -6000., -6000., -6000., -6000., -6000., -6000.,\n",
       "       -6000., -6000., -6000., -6000., -6000., -6000., -6000., -6000.,\n",
       "       -6000., -6000., -6000., -6000., -6000., -6000., -6000., -6000.,\n",
       "       -6000., -6000., -6000., -6000., -6000., -6000., -6000., -6000.,\n",
       "       -6000., -6000., -6000., -6000., -6000., -6000., -6000., -6000.,\n",
       "       -6000., -6000., -6000., -6000., -6000., -6000., -6000., -6000.,\n",
       "       -6000., -6000., -6000., -6000., -6000., -6000., -6000., -6000.,\n",
       "       -6000., -6000., -6000., -6000., -6000., -6000., -6000., -6000.,\n",
       "       -6000., -6000., -6000., -6000., -6000., -6000., -6000., -6000.,\n",
       "       -6000., -6000., -6000., -6000., -6000., -6000., -6000., -6000.,\n",
       "       -6000., -6000., -6000., -6000., -6000., -6000., -6000., -6000.,\n",
       "       -6000., -6000., -6000., -6000., -6000., -6000., -6000., -6000.,\n",
       "       -6000., -6000., -6000., -6000., -6000., -6000., -6000., -6000.,\n",
       "       -6000., -6000., -6000., -6000., -6000., -6000., -6000., -6000.,\n",
       "       -6000., -6000., -6000., -6000., -6000., -6000., -6000., -6000.,\n",
       "       -6000., -6000., -6000., -6000., -6000., -6000., -6000., -6000.,\n",
       "       -6000., -6000., -6000., -6000., -6000., -6000., -6000., -6000.,\n",
       "       -6000., -6000., -6000., -6000., -6000., -6000., -6000., -6000.,\n",
       "       -6000., -6000., -6000., -6000., -6000., -6000., -6000., -6000.,\n",
       "       -6000., -6000., -6000., -6000., -6000., -6000., -6000., -6000.,\n",
       "       -6000., -6000., -6000., -6000., -6000., -6000., -6000., -6000.,\n",
       "       -6000., -6000., -6000., -6000., -6000., -6000., -6000., -6000.,\n",
       "       -6000., -6000., -6000., -6000., -6000., -6000., -6000., -6000.,\n",
       "       -6000., -6000., -6000., -6000., -6000., -6000., -6000., -6000.,\n",
       "       -6000., -6000., -6000., -6000., -6000., -6000., -6000., -6000.,\n",
       "       -6000., -6000., -6000., -6000., -6000., -6000., -6000., -6000.,\n",
       "       -6000., -6000., -6000., -6000., -6000., -6000., -6000., -6000.,\n",
       "       -6000., -6000., -6000., -6000., -6000., -6000., -6000., -6000.,\n",
       "       -6000., -6000., -6000., -6000., -6000., -6000., -6000., -6000.,\n",
       "       -6000., -6000., -6000., -6000., -6000., -6000., -6000., -6000.,\n",
       "       -6000., -6000., -6000., -6000., -6000., -6000., -6000., -6000.,\n",
       "       -6000., -6000., -6000., -6000., -6000., -6000., -6000., -6000.,\n",
       "       -6000., -6000., -6000., -6000., -6000., -6000., -6000., -6000.,\n",
       "       -6000., -6000., -6000., -6000., -6000., -6000., -6000., -6000.,\n",
       "       -6000., -6000., -6000., -6000., -6000., -6000., -6000., -6000.,\n",
       "       -6000., -6000., -6000., -6000., -6000., -6000., -6000., -6000.,\n",
       "       -6000., -6000., -6000., -6000., -6000., -6000., -6000., -6000.,\n",
       "       -6000., -6000., -6000., -6000., -6000., -6000., -6000., -6000.,\n",
       "       -6000., -6000., -6000., -6000., -6000., -6000., -6000., -6000.,\n",
       "       -6000., -6000., -6000., -6000., -6000., -6000., -6000., -6000.,\n",
       "       -6000., -6000., -6000., -6000., -6000., -6000., -6000., -6000.,\n",
       "       -6000., -6000., -6000., -6000., -6000., -6000., -6000., -6000.,\n",
       "       -6000., -6000., -6000., -6000., -6000., -6000., -6000., -6000.,\n",
       "       -6000., -6000., -6000., -6000., -6000., -6000., -6000., -6000.,\n",
       "       -6000., -6000., -6000., -6000., -6000., -6000., -6000., -6000.,\n",
       "       -6000., -6000., -6000., -6000., -6000., -6000., -6000., -6000.,\n",
       "       -6000., -6000., -6000., -6000., -6000., -6000., -6000., -6000.,\n",
       "       -6000., -6000., -6000., -6000., -6000., -6000., -6000., -6000.,\n",
       "       -6000., -6000., -6000., -6000., -6000., -6000., -6000., -6000.,\n",
       "       -6000., -6000., -6000., -6000., -6000., -6000., -6000., -6000.,\n",
       "       -6000., -6000., -6000., -6000., -6000., -6000., -6000., -6000.,\n",
       "       -6000., -6000., -6000., -6000., -6000., -6000., -6000., -6000.,\n",
       "       -6000., -6000., -6000., -6000., -6000., -6000., -6000., -6000.,\n",
       "       -6000., -6000., -6000., -6000., -6000., -6000., -6000., -6000.,\n",
       "       -6000., -6000., -6000., -6000., -6000., -6000., -6000., -6000.,\n",
       "       -6000., -6000., -6000., -6000., -6000., -6000., -6000., -6000.,\n",
       "       -6000., -6000., -6000., -6000., -6000., -6000., -6000., -6000.,\n",
       "       -6000., -6000., -6000., -6000., -6000., -6000., -6000., -6000.,\n",
       "       -6000., -6000., -6000., -6000., -6000., -6000., -6000., -6000.,\n",
       "       -6000., -6000., -6000., -6000., -6000., -6000., -6000., -6000.,\n",
       "       -6000., -6000., -6000., -6000., -6000., -6000., -6000., -6000.,\n",
       "       -6000., -6000., -6000., -6000., -6000., -6000., -6000., -6000.,\n",
       "       -6000., -6000., -6000., -6000., -6000., -6000., -6000., -6000.])"
      ]
     },
     "execution_count": 51,
     "metadata": {},
     "output_type": "execute_result"
    }
   ],
   "source": [
    "overtime[33]"
   ]
  },
  {
   "cell_type": "code",
   "execution_count": 52,
   "metadata": {},
   "outputs": [
    {
     "data": {
      "text/plain": [
       "array([ 100.,    0.,    0.,    0.,    0.,    0.,    0.,  300.,    0.,\n",
       "          0.,    0.,    0.,    0.,  100.,  100.,    0.,    0.,    0.,\n",
       "          0.,    0.,    0.,  100.,    0.,    0.,    0.,    0.,  200.,\n",
       "          0.,    0.,    0.,    0.,    0.,    0., 1000.,    0.,    0.,\n",
       "          0.,    0.])"
      ]
     },
     "execution_count": 52,
     "metadata": {},
     "output_type": "execute_result"
    }
   ],
   "source": [
    "cib[14,:]"
   ]
  },
  {
   "cell_type": "code",
   "execution_count": 53,
   "metadata": {},
   "outputs": [
    {
     "data": {
      "text/plain": [
       "array([-6000., -6000., -6000., -6000., -6000., -6000., -6000., -6000.,\n",
       "       -6000., -6000., -6000., -6000., -6000., -6000., -6000., -6000.,\n",
       "       -6000., -6000., -6000., -6000., -6000., -6000., -6000., -6000.,\n",
       "       -6000., -6000., -6000., -6000., -6000., -6000., -6000., -6000.,\n",
       "       -6000., -6000., -6000., -6000., -6000., -6000., -6000., -6000.,\n",
       "       -6000., -6000., -6000., -6000., -6000., -6000., -6000., -6000.,\n",
       "       -6000., -6000., -6000., -6000., -6000., -6000., -6000., -6000.,\n",
       "       -6000., -6000., -6000., -6000., -6000., -6000., -6000., -6000.,\n",
       "       -6000., -6000., -6000., -6000., -6000., -6000., -6000., -6000.,\n",
       "       -6000., -6000., -6000., -6000., -6000., -6000., -6000., -6000.,\n",
       "       -6000., -6000., -6000., -6000., -6000., -6000., -6000., -6000.,\n",
       "       -6000., -6000., -6000., -6000., -6000., -6000., -6000., -6000.,\n",
       "       -6000., -6000., -6000., -6000., -6000., -6000., -6000., -6000.,\n",
       "       -6000., -6000., -6000., -6000., -6000., -6000., -6000., -6000.,\n",
       "       -6000., -6000., -6000., -6000., -6000., -6000., -6000., -6000.,\n",
       "       -6000., -6000., -6000., -6000., -6000., -6000., -6000., -6000.,\n",
       "       -6000., -6000., -6000., -6000., -6000., -6000., -6000., -6000.,\n",
       "       -6000., -6000., -6000., -6000., -6000., -6000., -6000., -6000.,\n",
       "       -6000., -6000., -6000., -6000., -6000., -6000., -6000., -6000.,\n",
       "       -6000., -6000., -6000., -6000., -6000., -6000., -6000., -6000.,\n",
       "       -6000., -6000., -6000., -6000., -6000., -6000., -6000., -6000.,\n",
       "       -6000., -6000., -6000., -6000., -6000., -6000., -6000., -6000.,\n",
       "       -6000., -6000., -6000., -6000., -6000., -6000., -6000., -6000.,\n",
       "       -6000., -6000., -6000., -6000., -6000., -6000., -6000., -6000.,\n",
       "       -6000., -6000., -6000., -6000., -6000., -6000., -6000., -6000.,\n",
       "       -6000., -6000., -6000., -6000., -6000., -6000., -6000., -6000.,\n",
       "       -6000., -6000., -6000., -6000., -6000., -6000., -6000., -6000.,\n",
       "       -6000., -6000., -6000., -6000., -6000., -6000., -6000., -6000.,\n",
       "       -6000., -6000., -6000., -6000., -6000., -6000., -6000., -6000.,\n",
       "       -6000., -6000., -6000., -6000., -6000., -6000., -6000., -6000.,\n",
       "       -6000., -6000., -6000., -6000., -6000., -6000., -6000., -6000.,\n",
       "       -6000., -6000., -6000., -6000., -6000., -6000., -6000., -6000.,\n",
       "       -6000., -6000., -6000., -6000., -6000., -6000., -6000., -6000.,\n",
       "       -6000., -6000., -6000., -6000., -6000., -6000., -6000., -6000.,\n",
       "       -6000., -6000., -6000., -6000., -6000., -6000., -6000., -6000.,\n",
       "       -6000., -6000., -6000., -6000., -6000., -6000., -6000., -6000.,\n",
       "       -6000., -6000., -6000., -6000., -6000., -6000., -6000., -6000.,\n",
       "       -6000., -6000., -6000., -6000., -6000., -6000., -6000., -6000.,\n",
       "       -6000., -6000., -6000., -6000., -6000., -6000., -6000., -6000.,\n",
       "       -6000., -6000., -6000., -6000., -6000., -6000., -6000., -6000.,\n",
       "       -6000., -6000., -6000., -6000., -6000., -6000., -6000., -6000.,\n",
       "       -6000., -6000., -6000., -6000., -6000., -6000., -6000., -6000.,\n",
       "       -6000., -6000., -6000., -6000., -6000., -6000., -6000., -6000.,\n",
       "       -6000., -6000., -6000., -6000., -6000., -6000., -6000., -6000.,\n",
       "       -6000., -6000., -6000., -6000., -6000., -6000., -6000., -6000.,\n",
       "       -6000., -6000., -6000., -6000., -6000., -6000., -6000., -6000.,\n",
       "       -6000., -6000., -6000., -6000., -6000., -6000., -6000., -6000.,\n",
       "       -6000., -6000., -6000., -6000., -6000., -6000., -6000., -6000.,\n",
       "       -6000., -6000., -6000., -6000., -6000., -6000., -6000., -6000.,\n",
       "       -6000., -6000., -6000., -6000., -6000., -6000., -6000., -6000.,\n",
       "       -6000., -6000., -6000., -6000., -6000., -6000., -6000., -6000.,\n",
       "       -6000., -6000., -6000., -6000., -6000., -6000., -6000., -6000.,\n",
       "       -6000., -6000., -6000., -6000., -6000., -6000., -6000., -6000.,\n",
       "       -6000., -6000., -6000., -6000., -6000., -6000., -6000., -6000.,\n",
       "       -6000., -6000., -6000., -6000., -6000., -6000., -6000., -6000.,\n",
       "       -6000., -6000., -6000., -6000., -6000., -6000., -6000., -6000.,\n",
       "       -6000., -6000., -6000., -6000., -6000., -6000., -6000., -6000.,\n",
       "       -6000., -6000., -6000., -6000., -6000., -6000., -6000., -6000.,\n",
       "       -6000., -6000., -6000., -6000., -6000., -6000., -6000., -6000.,\n",
       "       -6000., -6000., -6000., -6000., -6000., -6000., -6000., -6000.,\n",
       "       -6000., -6000., -6000., -6000., -6000., -6000., -6000., -6000.,\n",
       "       -6000., -6000., -6000., -6000., -6000., -6000., -6000., -6000.,\n",
       "       -6000., -6000., -6000., -6000., -6000., -6000., -6000., -6000.,\n",
       "       -6000., -6000., -6000., -6000., -6000., -6000., -6000., -6000.,\n",
       "       -6000., -6000., -6000., -6000., -6000., -6000., -6000., -6000.,\n",
       "       -6000., -6000., -6000., -6000., -6000., -6000., -6000., -6000.,\n",
       "       -6000., -6000., -6000., -6000., -6000., -6000., -6000., -6000.,\n",
       "       -6000., -6000., -6000., -6000., -6000., -6000., -6000., -6000.,\n",
       "       -6000., -6000., -6000., -6000., -6000., -6000., -6000., -6000.,\n",
       "       -6000., -6000., -6000., -6000., -6000., -6000., -6000., -6000.,\n",
       "       -6000., -6000., -6000., -6000., -6000., -6000., -6000., -6000.,\n",
       "       -6000., -6000., -6000., -6000., -6000., -6000., -6000., -6000.,\n",
       "       -6000., -6000., -6000., -6000., -6000., -6000., -6000., -6000.,\n",
       "       -6000., -6000., -6000., -6000., -6000., -6000., -6000., -6000.,\n",
       "       -6000., -6000., -6000., -6000., -6000., -6000., -6000., -6000.,\n",
       "       -6000., -6000., -6000., -6000., -6000., -6000., -6000., -6000.,\n",
       "       -6000., -6000., -6000., -6000., -6000., -6000., -6000., -6000.,\n",
       "       -6000., -6000., -6000., -6000., -6000., -6000., -6000., -6000.,\n",
       "       -6000., -6000., -6000., -6000., -6000., -6000., -6000., -6000.,\n",
       "       -6000., -6000., -6000., -6000., -6000., -6000., -6000., -6000.,\n",
       "       -6000., -6000., -6000., -6000., -6000., -6000., -6000., -6000.,\n",
       "       -6000., -6000., -6000., -6000., -6000., -6000., -6000., -6000.,\n",
       "       -6000., -6000., -6000., -6000., -6000., -6000., -6000., -6000.,\n",
       "       -6000., -6000., -6000., -6000., -6000., -6000., -6000., -6000.,\n",
       "       -6000., -6000., -6000., -6000., -6000., -6000., -6000., -6000.,\n",
       "       -6000., -6000., -6000., -6000., -6000., -6000., -6000., -6000.,\n",
       "       -6000., -6000., -6000., -6000., -6000., -6000., -6000., -6000.,\n",
       "       -6000., -6000., -6000., -6000., -6000., -6000., -6000., -6000.,\n",
       "       -6000., -6000., -6000., -6000., -6000., -6000., -6000., -6000.,\n",
       "       -6000., -6000., -6000., -6000., -6000., -6000., -6000., -6000.,\n",
       "       -6000., -6000., -6000., -6000., -6000., -6000., -6000., -6000.,\n",
       "       -6000., -6000., -6000., -6000., -6000., -6000., -6000., -6000.,\n",
       "       -6000., -6000., -6000., -6000., -6000., -6000., -6000., -6000.,\n",
       "       -6000., -6000., -6000., -6000., -6000., -6000., -6000., -6000.,\n",
       "       -6000., -6000., -6000., -6000., -6000., -6000., -6000., -6000.,\n",
       "       -6000., -6000., -6000., -6000., -6000., -6000., -6000., -6000.,\n",
       "       -6000., -6000., -6000., -6000., -6000., -6000., -6000., -6000.,\n",
       "       -6000., -6000., -6000., -6000., -6000., -6000., -6000., -6000.,\n",
       "       -6000., -6000., -6000., -6000., -6000., -6000., -6000., -6000.,\n",
       "       -6000., -6000., -6000., -6000., -6000., -6000., -6000., -6000.,\n",
       "       -6000., -6000., -6000., -6000., -6000., -6000., -6000., -6000.,\n",
       "       -6000., -6000., -6000., -6000., -6000., -6000., -6000., -6000.,\n",
       "       -6000., -6000., -6000., -6000., -6000., -6000., -6000., -6000.,\n",
       "       -6000., -6000., -6000., -6000., -6000., -6000., -6000., -6000.,\n",
       "       -6000., -6000., -6000., -6000., -6000., -6000., -6000., -6000.,\n",
       "       -6000., -6000., -6000., -6000., -6000., -6000., -6000., -6000.,\n",
       "       -6000., -6000., -6000., -6000., -6000., -6000., -6000., -6000.,\n",
       "       -6000., -6000., -6000., -6000., -6000., -6000., -6000., -6000.,\n",
       "       -6000., -6000., -6000., -6000., -6000., -6000., -6000., -6000.,\n",
       "       -6000., -6000., -6000., -6000., -6000., -6000., -6000., -6000.,\n",
       "       -6000., -6000., -6000., -6000., -6000., -6000., -6000., -6000.,\n",
       "       -6000., -6000., -6000., -6000., -6000., -6000., -6000., -6000.,\n",
       "       -6000., -6000., -6000., -6000., -6000., -6000., -6000., -6000.,\n",
       "       -6000., -6000., -6000., -6000., -6000., -6000., -6000., -6000.,\n",
       "       -6000., -6000., -6000., -6000., -6000., -6000., -6000., -6000.,\n",
       "       -6000., -6000., -6000., -6000., -6000., -6000., -6000., -6000.,\n",
       "       -6000., -6000., -6000., -6000., -6000., -6000., -6000., -6000.,\n",
       "       -6000., -6000., -6000., -6000., -6000., -6000., -6000., -6000.,\n",
       "       -6000., -6000., -6000., -6000., -6000., -6000., -6000., -6000.,\n",
       "       -6000., -6000., -6000., -6000., -6000., -6000., -6000., -6000.,\n",
       "       -6000., -6000., -6000., -6000., -6000., -6000., -6000., -6000.,\n",
       "       -6000., -6000., -6000., -6000., -6000., -6000., -6000., -6000.,\n",
       "       -6000., -6000., -6000., -6000., -6000., -6000., -6000., -6000.,\n",
       "       -6000., -6000., -6000., -6000., -6000., -6000., -6000., -6000.,\n",
       "       -6000., -6000., -6000., -6000., -6000., -6000., -6000., -6000.])"
      ]
     },
     "execution_count": 53,
     "metadata": {},
     "output_type": "execute_result"
    }
   ],
   "source": [
    "overtime[33]"
   ]
  },
  {
   "cell_type": "code",
   "execution_count": 54,
   "metadata": {},
   "outputs": [
    {
     "data": {
      "text/plain": [
       "<Figure size 720x432 with 0 Axes>"
      ]
     },
     "metadata": {},
     "output_type": "display_data"
    },
    {
     "data": {
      "image/png": "[encoded data removed]",
      "text/plain": [
       "<Figure size 1080x864 with 1 Axes>"
      ]
     },
     "metadata": {
      "needs_background": "light"
     },
     "output_type": "display_data"
    }
   ],
   "source": [
    "colors = ['orange','pink','cyan','lightgreen','peachpuff','gold']\n",
    "plt.figure(figsize=(10,6))\n",
    "j = 0\n",
    "gastro_y = [1,1,1,2,2,2,2]\n",
    "gastro_x = [1,2,3,3,4,5,6]\n",
    "card_y = [3,9,3,3,9,1]\n",
    "card_x = [1,1,3,5,5,6]\n",
    "gyn_y = [6,6,7,6,7,6,7,7,3]\n",
    "gyn_x = [1,2,2,3,3,4,4,5,6]\n",
    "med_y = [5,4]\n",
    "med_x = [3,6]\n",
    "ortho_y = [4,4,5,10,4,4,5]\n",
    "ortho_x = [1,2,2,3,4,5,6]\n",
    "uro_y = [8,10,8,9,8,8,6]\n",
    "uro_x = [1,1,2,3,4,5,6]\n",
    "\n",
    "barh_blocks = {'GASTRO':[gastro_y,gastro_x],'CARD':[card_y,card_x],'GYN':[gyn_y,gyn_x],'MED':[med_y,med_x],'ORTHO':[ortho_y,ortho_x],'URO':[uro_y,uro_x]}\n",
    "barh_colors = {}\n",
    "for i in range(len(specs)):\n",
    "    barh_colors[specs[i]] = colors[i]\n",
    "\n",
    "fig,ax = plt.subplots(figsize=(15,12))\n",
    "j,k = 0,0\n",
    "for i in specs:\n",
    "    for m in range(len(blocks[i])):\n",
    "        text =int(np.round(sum(avg_model.y[idx+1,blocks[i][m]].value for idx in range(n_surgeries))))\n",
    "        ax.barh(y=11-barh_blocks[i][0][m],width=0.8,height=0.6,left=barh_blocks[i][1][m]-0.4,align='center',color=barh_colors[i],label=i)\n",
    "        ax.text(barh_blocks[i][1][m], 11-barh_blocks[i][0][m]-0.02, text, color = 'black', ha = 'left', va = 'center',size=16)\n",
    "    j += 1\n",
    "#ax.set_yticks([i for i in range(11)],[' ']+['OR '+str(10-i) for i in range(10)])\n",
    "ax.set_xticks([1,2,3,4,5,6]) # values\n",
    "ax.set_xticklabels(['Monday','Tuesday','Wednesday','Thursday','Friday','Dummy'],size=15)\n",
    "ax.set_yticks([i for i in range(1,11)])\n",
    "ax.set_yticklabels(['OR '+str(10-i) for i in range(10)],size=15)\n",
    "\n",
    "\n",
    "handles, labels = plt.gca().get_legend_handles_labels()\n",
    "by_label = dict(zip(labels, handles))\n",
    "plt.legend(by_label.values(), by_label.keys())\n",
    "plt.show()"
   ]
  },
  {
   "cell_type": "code",
   "execution_count": 55,
   "metadata": {},
   "outputs": [],
   "source": [
    "pd.DataFrame(os).to_csv(\"osdata_100Surgeries.csv\")\n",
    "pd.DataFrame(gs).to_csv(\"gsdata_100Surgeries.csv\")"
   ]
  },
  {
   "cell_type": "code",
   "execution_count": 3,
   "metadata": {},
   "outputs": [
    {
     "data": {
      "text/html": [
       "<div>\n",
       "<style scoped>\n",
       "    .dataframe tbody tr th:only-of-type {\n",
       "        vertical-align: middle;\n",
       "    }\n",
       "\n",
       "    .dataframe tbody tr th {\n",
       "        vertical-align: top;\n",
       "    }\n",
       "\n",
       "    .dataframe thead th {\n",
       "        text-align: right;\n",
       "    }\n",
       "</style>\n",
       "<table border=\"1\" class=\"dataframe\">\n",
       "  <thead>\n",
       "    <tr style=\"text-align: right;\">\n",
       "      <th></th>\n",
       "      <th>Unnamed: 0</th>\n",
       "      <th>0</th>\n",
       "      <th>1</th>\n",
       "      <th>2</th>\n",
       "      <th>3</th>\n",
       "      <th>4</th>\n",
       "      <th>5</th>\n",
       "      <th>6</th>\n",
       "      <th>7</th>\n",
       "      <th>8</th>\n",
       "      <th>...</th>\n",
       "      <th>990</th>\n",
       "      <th>991</th>\n",
       "      <th>992</th>\n",
       "      <th>993</th>\n",
       "      <th>994</th>\n",
       "      <th>995</th>\n",
       "      <th>996</th>\n",
       "      <th>997</th>\n",
       "      <th>998</th>\n",
       "      <th>999</th>\n",
       "    </tr>\n",
       "  </thead>\n",
       "  <tbody>\n",
       "    <tr>\n",
       "      <th>0</th>\n",
       "      <td>0</td>\n",
       "      <td>0.000000</td>\n",
       "      <td>79.205375</td>\n",
       "      <td>0.000000</td>\n",
       "      <td>0.0</td>\n",
       "      <td>0.0</td>\n",
       "      <td>0.0</td>\n",
       "      <td>0.000000</td>\n",
       "      <td>5.503124</td>\n",
       "      <td>0.0</td>\n",
       "      <td>...</td>\n",
       "      <td>0.0</td>\n",
       "      <td>0.0</td>\n",
       "      <td>0.0</td>\n",
       "      <td>0.000000</td>\n",
       "      <td>45.614533</td>\n",
       "      <td>0.000000</td>\n",
       "      <td>0.0</td>\n",
       "      <td>0.0</td>\n",
       "      <td>0.000000</td>\n",
       "      <td>31.63106</td>\n",
       "    </tr>\n",
       "    <tr>\n",
       "      <th>1</th>\n",
       "      <td>1</td>\n",
       "      <td>0.000000</td>\n",
       "      <td>0.000000</td>\n",
       "      <td>0.000000</td>\n",
       "      <td>0.0</td>\n",
       "      <td>0.0</td>\n",
       "      <td>0.0</td>\n",
       "      <td>0.000000</td>\n",
       "      <td>0.000000</td>\n",
       "      <td>0.0</td>\n",
       "      <td>...</td>\n",
       "      <td>0.0</td>\n",
       "      <td>0.0</td>\n",
       "      <td>0.0</td>\n",
       "      <td>0.000000</td>\n",
       "      <td>0.000000</td>\n",
       "      <td>0.000000</td>\n",
       "      <td>0.0</td>\n",
       "      <td>0.0</td>\n",
       "      <td>0.000000</td>\n",
       "      <td>0.00000</td>\n",
       "    </tr>\n",
       "    <tr>\n",
       "      <th>2</th>\n",
       "      <td>2</td>\n",
       "      <td>45.977798</td>\n",
       "      <td>0.000000</td>\n",
       "      <td>54.857899</td>\n",
       "      <td>0.0</td>\n",
       "      <td>0.0</td>\n",
       "      <td>0.0</td>\n",
       "      <td>48.064587</td>\n",
       "      <td>0.000000</td>\n",
       "      <td>0.0</td>\n",
       "      <td>...</td>\n",
       "      <td>0.0</td>\n",
       "      <td>0.0</td>\n",
       "      <td>0.0</td>\n",
       "      <td>12.421297</td>\n",
       "      <td>0.000000</td>\n",
       "      <td>20.792884</td>\n",
       "      <td>0.0</td>\n",
       "      <td>0.0</td>\n",
       "      <td>17.945444</td>\n",
       "      <td>0.00000</td>\n",
       "    </tr>\n",
       "    <tr>\n",
       "      <th>3</th>\n",
       "      <td>3</td>\n",
       "      <td>0.000000</td>\n",
       "      <td>0.000000</td>\n",
       "      <td>0.000000</td>\n",
       "      <td>0.0</td>\n",
       "      <td>0.0</td>\n",
       "      <td>0.0</td>\n",
       "      <td>0.000000</td>\n",
       "      <td>0.000000</td>\n",
       "      <td>0.0</td>\n",
       "      <td>...</td>\n",
       "      <td>0.0</td>\n",
       "      <td>0.0</td>\n",
       "      <td>0.0</td>\n",
       "      <td>0.000000</td>\n",
       "      <td>0.000000</td>\n",
       "      <td>0.000000</td>\n",
       "      <td>0.0</td>\n",
       "      <td>0.0</td>\n",
       "      <td>0.000000</td>\n",
       "      <td>0.00000</td>\n",
       "    </tr>\n",
       "    <tr>\n",
       "      <th>4</th>\n",
       "      <td>4</td>\n",
       "      <td>0.000000</td>\n",
       "      <td>0.000000</td>\n",
       "      <td>0.000000</td>\n",
       "      <td>0.0</td>\n",
       "      <td>0.0</td>\n",
       "      <td>0.0</td>\n",
       "      <td>0.000000</td>\n",
       "      <td>0.000000</td>\n",
       "      <td>0.0</td>\n",
       "      <td>...</td>\n",
       "      <td>0.0</td>\n",
       "      <td>0.0</td>\n",
       "      <td>0.0</td>\n",
       "      <td>0.000000</td>\n",
       "      <td>0.000000</td>\n",
       "      <td>0.000000</td>\n",
       "      <td>0.0</td>\n",
       "      <td>0.0</td>\n",
       "      <td>0.000000</td>\n",
       "      <td>0.00000</td>\n",
       "    </tr>\n",
       "  </tbody>\n",
       "</table>\n",
       "<p>5 rows × 1001 columns</p>\n",
       "</div>"
      ],
      "text/plain": [
       "   Unnamed: 0          0          1          2    3    4    5          6  \\\n",
       "0           0   0.000000  79.205375   0.000000  0.0  0.0  0.0   0.000000   \n",
       "1           1   0.000000   0.000000   0.000000  0.0  0.0  0.0   0.000000   \n",
       "2           2  45.977798   0.000000  54.857899  0.0  0.0  0.0  48.064587   \n",
       "3           3   0.000000   0.000000   0.000000  0.0  0.0  0.0   0.000000   \n",
       "4           4   0.000000   0.000000   0.000000  0.0  0.0  0.0   0.000000   \n",
       "\n",
       "          7    8  ...  990  991  992        993        994        995  996  \\\n",
       "0  5.503124  0.0  ...  0.0  0.0  0.0   0.000000  45.614533   0.000000  0.0   \n",
       "1  0.000000  0.0  ...  0.0  0.0  0.0   0.000000   0.000000   0.000000  0.0   \n",
       "2  0.000000  0.0  ...  0.0  0.0  0.0  12.421297   0.000000  20.792884  0.0   \n",
       "3  0.000000  0.0  ...  0.0  0.0  0.0   0.000000   0.000000   0.000000  0.0   \n",
       "4  0.000000  0.0  ...  0.0  0.0  0.0   0.000000   0.000000   0.000000  0.0   \n",
       "\n",
       "   997        998       999  \n",
       "0  0.0   0.000000  31.63106  \n",
       "1  0.0   0.000000   0.00000  \n",
       "2  0.0  17.945444   0.00000  \n",
       "3  0.0   0.000000   0.00000  \n",
       "4  0.0   0.000000   0.00000  \n",
       "\n",
       "[5 rows x 1001 columns]"
      ]
     },
     "execution_count": 3,
     "metadata": {},
     "output_type": "execute_result"
    }
   ],
   "source": [
    "\n",
    "\n"
   ]
  },
  {
   "cell_type": "code",
   "execution_count": 6,
   "metadata": {},
   "outputs": [
    {
     "name": "stdout",
     "output_type": "stream",
     "text": [
      "   Unnamed: 0          0          1          2    3    4    5          6  \\\n",
      "0           0   0.000000  79.205375   0.000000  0.0  0.0  0.0   0.000000   \n",
      "1           1   0.000000   0.000000   0.000000  0.0  0.0  0.0   0.000000   \n",
      "2           2  45.977798   0.000000  54.857899  0.0  0.0  0.0  48.064587   \n",
      "3           3   0.000000   0.000000   0.000000  0.0  0.0  0.0   0.000000   \n",
      "4           4   0.000000   0.000000   0.000000  0.0  0.0  0.0   0.000000   \n",
      "\n",
      "          7    8  ...  990  991  992        993        994        995  996  \\\n",
      "0  5.503124  0.0  ...  0.0  0.0  0.0   0.000000  45.614533   0.000000  0.0   \n",
      "1  0.000000  0.0  ...  0.0  0.0  0.0   0.000000   0.000000   0.000000  0.0   \n",
      "2  0.000000  0.0  ...  0.0  0.0  0.0  12.421297   0.000000  20.792884  0.0   \n",
      "3  0.000000  0.0  ...  0.0  0.0  0.0   0.000000   0.000000   0.000000  0.0   \n",
      "4  0.000000  0.0  ...  0.0  0.0  0.0   0.000000   0.000000   0.000000  0.0   \n",
      "\n",
      "   997        998       999  \n",
      "0  0.0   0.000000  31.63106  \n",
      "1  0.0   0.000000   0.00000  \n",
      "2  0.0  17.945444   0.00000  \n",
      "3  0.0   0.000000   0.00000  \n",
      "4  0.0   0.000000   0.00000  \n",
      "\n",
      "[5 rows x 1001 columns]\n",
      "(37, 1001)\n",
      "[[ 1.          0.          0.         ...  0.          0.\n",
      "   0.        ]\n",
      " [ 2.         45.97779789  0.         ...  0.         17.94544355\n",
      "   0.        ]\n",
      " [ 3.          0.          0.         ...  0.          0.\n",
      "   0.        ]\n",
      " ...\n",
      " [35.          0.          0.         ...  0.          0.\n",
      "   0.        ]\n",
      " [36.          0.          0.         ...  0.          0.\n",
      "   0.        ]\n",
      " [37.          0.          0.         ...  0.          0.\n",
      "   0.        ]]\n"
     ]
    }
   ],
   "source": [
    "import numpy as np\n",
    "import pandas as pd\n",
    "os = pd.read_csv(\"osdata_100Surgeries.csv\")\n",
    "print(os.head())\n",
    "os = np.array(os)\n",
    "os = os[:][1:]\n",
    "print(os.shape)\n",
    "print(os)"
   ]
  },
  {
   "cell_type": "code",
   "execution_count": null,
   "metadata": {},
   "outputs": [],
   "source": []
  }
 ],
 "metadata": {
  "kernelspec": {
   "display_name": "Python 3",
   "language": "python",
   "name": "python3"
  },
  "language_info": {
   "codemirror_mode": {
    "name": "ipython",
    "version": 3
   },
   "file_extension": ".py",
   "mimetype": "text/x-python",
   "name": "python",
   "nbconvert_exporter": "python",
   "pygments_lexer": "ipython3",
   "version": "3.8.5"
  }
 },
 "nbformat": 4,
 "nbformat_minor": 4
}
