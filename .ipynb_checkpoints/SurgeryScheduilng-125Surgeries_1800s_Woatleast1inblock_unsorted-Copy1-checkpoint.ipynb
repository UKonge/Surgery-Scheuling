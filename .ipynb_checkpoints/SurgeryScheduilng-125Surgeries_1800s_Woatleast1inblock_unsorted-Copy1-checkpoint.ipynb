{
 "cells": [
  {
   "cell_type": "code",
   "execution_count": 70,
   "metadata": {},
   "outputs": [],
   "source": [
    "import numpy as np\n",
    "import matplotlib.pyplot as plt\n",
    "from pyomo.environ import *\n",
    "import pandas as pd\n",
    "from scipy.stats import truncnorm"
   ]
  },
  {
   "cell_type": "code",
   "execution_count": 71,
   "metadata": {},
   "outputs": [],
   "source": [
    "np.random.seed(0)\n",
    "def get_surgery_time(mean,std):\n",
    "    #sh,sc = (mean/std)**2,std**2/mean\n",
    "    #return np.random.gamma(shape=sh,scale=sc)\n",
    "    return truncnorm.rvs(-1,1,loc=mean,scale=std)"
   ]
  },
  {
   "cell_type": "code",
   "execution_count": 72,
   "metadata": {},
   "outputs": [
    {
     "name": "stdout",
     "output_type": "stream",
     "text": [
      "{'CARD': 18, 'GASTRO': 22, 'GYN': 35, 'MED': 6, 'ORTHO': 21, 'URO': 23}\n",
      "{'CARD': [0, 17], 'GASTRO': [18, 39], 'GYN': [40, 74], 'MED': [75, 80], 'ORTHO': [81, 101], 'URO': [102, 124]}\n"
     ]
    }
   ],
   "source": [
    "#problem parameters\n",
    "specs = ['CARD','GASTRO','GYN','MED','ORTHO','URO']\n",
    "\n",
    "surgery_data = {'CARD':[99.0,53.0],'GASTRO':[132.0,76.0],'GYN':[78.0,52.0],'MED':[75.0,32.0],'ORTHO':[142.0,58.0],'URO':[72.0,38.0]}\n",
    "\n",
    "blocks = {'CARD':[2,6,16,28,32,33],'GASTRO':[1,8,14,15,22,27,34],'GYN':[4,11,12,18,19,24,25,30,35],'MED':[17,36],'ORTHO':[3,9,10,21,23,29,37],'URO':[5,7,13,20,26,31,38]}\n",
    "block_len = [8*60.0 for i in range(32)]+[100*60.0 for i in range(len(specs))]\n",
    "n_blocks = len(block_len)\n",
    "\n",
    "n_surgeries = 125\n",
    "percent_surg = {'CARD':14,'GASTRO':18,'GYN':28,'MED':5,'ORTHO':17,'URO':18}\n",
    "surgeries = {}\n",
    "tot = 0\n",
    "for i in specs[:len(specs)-1]:\n",
    "    surgeries[i] = round(n_surgeries*percent_surg[i]/100.0)\n",
    "    tot += surgeries[i]\n",
    "surgeries[specs[-1]] = n_surgeries-tot\n",
    "\n",
    "surgery_nums = {}\n",
    "t = 0\n",
    "for s in specs:\n",
    "    surgery_nums[s] = [t,t+surgeries[s]-1]\n",
    "    t = t+surgeries[s]\n",
    "    \n",
    "print(surgeries)\n",
    "print(surgery_nums)"
   ]
  },
  {
   "cell_type": "code",
   "execution_count": 73,
   "metadata": {},
   "outputs": [],
   "source": [
    "np.random.seed(0)\n",
    "cib = np.array([[0.0 for _ in range(n_blocks)] for _ in range(n_surgeries)]) # block costs\n",
    "for s in specs:\n",
    "    for i in range(surgery_nums[s][0],surgery_nums[s][1]+1):\n",
    "        #costs = sorted([np.random.randint(low=1,high=5)*100 for _ in range(len(blocks[s])-1)])\n",
    "        costs = [np.random.randint(low=1,high=5)*100 for _ in range(len(blocks[s])-1)]\n",
    "        f = 0\n",
    "        for b in blocks[s][:len(blocks[s])-1]:\n",
    "            cib[i,b-1] = costs[f]\n",
    "            f += 1\n",
    "            \n",
    "        \n",
    "dummy_cost = 1000\n",
    "for s in specs:\n",
    "    for i in range(surgery_nums[s][0],surgery_nums[s][1]+1):\n",
    "        b = blocks[s][-1]\n",
    "        cib[i,b-1] = dummy_cost\n",
    "\n",
    "cob = np.array([5.0 for _ in range(n_blocks)])\n",
    "cgb = np.array([5.0/1.5 for _ in range(n_blocks-len(specs))]+[0.0 for _ in range(len(specs))])"
   ]
  },
  {
   "cell_type": "code",
   "execution_count": 74,
   "metadata": {},
   "outputs": [
    {
     "data": {
      "text/plain": [
       "array([[ 300.,  400.,  300.,  200.,  100.,  100., 1000.],\n",
       "       [ 200.,  100.,  100.,  300.,  100.,  100., 1000.],\n",
       "       [ 200.,  400.,  200.,  200.,  200.,  200., 1000.],\n",
       "       [ 400.,  200.,  300.,  100.,  300.,  100., 1000.],\n",
       "       [ 400.,  400.,  200.,  400.,  100.,  400., 1000.],\n",
       "       [ 300.,  100.,  400.,  400.,  400.,  100., 1000.],\n",
       "       [ 200.,  400.,  400.,  300.,  200.,  400., 1000.],\n",
       "       [ 400.,  200.,  200.,  100.,  100.,  400., 1000.],\n",
       "       [ 300.,  100.,  100.,  400.,  300.,  200., 1000.],\n",
       "       [ 300.,  400.,  300.,  400.,  400.,  100., 1000.],\n",
       "       [ 400.,  300.,  300.,  100.,  400.,  300., 1000.],\n",
       "       [ 200.,  100.,  400.,  200.,  300.,  200., 1000.],\n",
       "       [ 200.,  100.,  200.,  200.,  400.,  200., 1000.],\n",
       "       [ 400.,  300.,  100.,  200.,  200.,  400., 1000.],\n",
       "       [ 400.,  100.,  200.,  300.,  100.,  200., 1000.],\n",
       "       [ 300.,  200.,  300.,  200.,  400.,  300., 1000.],\n",
       "       [ 400.,  200.,  300.,  400.,  300.,  300., 1000.],\n",
       "       [ 300.,  100.,  400.,  300.,  300.,  400., 1000.],\n",
       "       [ 300.,  300.,  100.,  200.,  100.,  400., 1000.],\n",
       "       [ 300.,  100.,  100.,  300.,  400.,  200., 1000.],\n",
       "       [ 400.,  300.,  300.,  200.,  200.,  300., 1000.],\n",
       "       [ 400.,  200.,  300.,  200.,  400.,  300., 1000.],\n",
       "       [ 400.,  100.,  200.,  200.,  300.,  300., 1000.]])"
      ]
     },
     "execution_count": 74,
     "metadata": {},
     "output_type": "execute_result"
    }
   ],
   "source": [
    "cib[surgery_nums['URO'][0]:surgery_nums['URO'][1]+1,[i-1 for i in blocks['URO']]]"
   ]
  },
  {
   "cell_type": "code",
   "execution_count": 78,
   "metadata": {},
   "outputs": [
    {
     "data": {
      "text/plain": [
       "array([ 200.,  400.,  200.,  200.,  200.,  200., 1000.])"
      ]
     },
     "execution_count": 78,
     "metadata": {},
     "output_type": "execute_result"
    }
   ],
   "source": [
    "cib[104,[i-1 for i in blocks['URO']]]"
   ]
  },
  {
   "cell_type": "code",
   "execution_count": 35,
   "metadata": {},
   "outputs": [],
   "source": [
    "#block and surgery of a speciality fesibility\n",
    "p = [[0.0 for _ in range(n_blocks)] for _ in range(n_surgeries)]\n",
    "p = np.array(p)\n",
    "t = 0\n",
    "for s in specs:\n",
    "    for i in range(surgeries[s]):\n",
    "        for b in blocks[s]:\n",
    "            p[t,b-1] = 1.0\n",
    "        t += 1"
   ]
  },
  {
   "cell_type": "code",
   "execution_count": 36,
   "metadata": {},
   "outputs": [
    {
     "name": "stdout",
     "output_type": "stream",
     "text": [
      "[0. 1. 0. 0. 0. 1. 0. 0. 0. 0. 0. 0. 0. 0. 0. 1. 0. 0. 0. 0. 0. 0. 0. 0.\n",
      " 0. 0. 0. 1. 0. 0. 0. 1. 1. 0. 0. 0. 0. 0.]\n"
     ]
    }
   ],
   "source": [
    "print(p[9,:])"
   ]
  },
  {
   "cell_type": "code",
   "execution_count": 37,
   "metadata": {},
   "outputs": [],
   "source": [
    "n_scenarios = 1000\n",
    "avg_model = ConcreteModel()\n",
    "avg_model.y = Var(RangeSet(n_surgeries),RangeSet(n_blocks),domain=Binary)\n",
    "avg_model.o = Var(RangeSet(n_blocks),RangeSet(n_scenarios),domain=NonNegativeReals,bounds=(0,120))\n",
    "avg_model.g = Var(RangeSet(n_blocks),RangeSet(n_scenarios),domain=NonNegativeReals)\n",
    "\n",
    "avg_model.atmost1 = ConstraintList()\n",
    "for i in range(n_surgeries):\n",
    "    avg_model.atmost1.add(expr=sum(avg_model.y[i+1,b] for b in range(1,n_blocks+1))==1)\n",
    "\n",
    "avg_model.specfeas = ConstraintList()\n",
    "for i in range(n_surgeries):\n",
    "    for b in range(n_blocks):\n",
    "        avg_model.specfeas.add(expr=avg_model.y[i+1,b+1] <= p[i,b])\n",
    "\n",
    "avg_model.ogcons = ConstraintList()\n",
    "for n in range(n_scenarios):\n",
    "    t = 0\n",
    "    for s in specs:\n",
    "        for b in blocks[s]:\n",
    "            avg_model.ogcons.add(expr=avg_model.o[b,n+1]-avg_model.g[b,n+1] == sum(get_surgery_time(surgery_data[s][0],surgery_data[s][1])*avg_model.y[i+1,b] for i in range(surgery_nums[s][0],surgery_nums[s][1]+1))-block_len[b-1])\n",
    "''''\n",
    "avg_model.atleast1inblock = ConstraintList()\n",
    "for b in range(n_blocks-len(specs)):\n",
    "    avg_model.atleast1inblock.add(expr=sum(avg_model.y[i+1,b+1] for i in range(n_surgeries))>=1.0)\n",
    "'''\n",
    "avg_model.cost = Objective(expr=sum(sum(avg_model.y[i+1,b+1]*cib[i,b] for i in range(n_surgeries)) for b in range(n_blocks))+(sum(cob[b]*avg_model.o[b+1,n+1]+cgb[b]*avg_model.g[b+1,n+1] for b in range(n_blocks) for n in range(n_scenarios)))/n_scenarios,sense=minimize)"
   ]
  },
  {
   "cell_type": "code",
   "execution_count": 38,
   "metadata": {},
   "outputs": [
    {
     "name": "stdout",
     "output_type": "stream",
     "text": [
      "\n",
      "Welcome to IBM(R) ILOG(R) CPLEX(R) Interactive Optimizer 20.1.0.0\n",
      "  with Simplex, Mixed Integer & Barrier Optimizers\n",
      "5725-A06 5725-A29 5724-Y48 5724-Y49 5724-Y54 5724-Y55 5655-Y21\n",
      "Copyright IBM Corp. 1988, 2020.  All Rights Reserved.\n",
      "\n",
      "Type 'help' for a list of available commands.\n",
      "Type 'help' followed by a command name for more\n",
      "information on commands.\n",
      "\n",
      "CPLEX> Logfile 'cplex.log' closed.\n",
      "Logfile 'C:\\Users\\91824\\AppData\\Local\\Temp\\tmpunvnvxo7.cplex.log' open.\n",
      "CPLEX> New value for time limit in seconds: 1800\n",
      "CPLEX> Problem 'C:\\Users\\91824\\AppData\\Local\\Temp\\tmpntpyhtcd.pyomo.lp' read.\n",
      "Read time = 0.72 sec. (17.30 ticks)\n",
      "CPLEX> Problem name         : C:\\Users\\91824\\AppData\\Local\\Temp\\tmpntpyhtcd.pyomo.lp\n",
      "Objective sense      : Minimize\n",
      "Variables            :   80751  [Nneg: 76001,  Binary: 4750]\n",
      "Objective nonzeros   :   70865\n",
      "Linear constraints   :   42876  [Less: 4750,  Equal: 38126]\n",
      "  Nonzeros           :  982501\n",
      "  RHS nonzeros       :   39023\n",
      "\n",
      "Variables            : Min LB: 0.000000         Max UB: 1.000000       \n",
      "Objective nonzeros   : Min   : 0.003333333      Max   : 1000.000       \n",
      "Linear constraints   :\n",
      "  Nonzeros           : Min   : 1.000000         Max   : 207.9988       \n",
      "  RHS nonzeros       : Min   : 1.000000         Max   : 6000.000       \n",
      "CPLEX> Version identifier: 20.1.0.0 | 2020-11-10 | 9bedb6d68\n",
      "CPXPARAM_TimeLimit                               1800\n",
      "Found incumbent of value 119809.866171 after 0.02 sec. (11.99 ticks)\n",
      "Tried aggregator 2 times.\n",
      "MIP Presolve eliminated 11751 rows and 17860 columns.\n",
      "Aggregator did 6 substitutions.\n",
      "Reduced MIP has 31119 rows, 62885 columns, and 828885 nonzeros.\n",
      "Reduced MIP has 885 binaries, 0 generals, 0 SOSs, and 0 indicators.\n",
      "Presolve time = 0.72 sec. (239.30 ticks)\n",
      "Probing time = 0.11 sec. (23.33 ticks)\n",
      "Tried aggregator 1 time.\n",
      "Detecting symmetries...\n",
      "Reduced MIP has 31119 rows, 62885 columns, and 828885 nonzeros.\n",
      "Reduced MIP has 885 binaries, 0 generals, 0 SOSs, and 0 indicators.\n",
      "Presolve time = 1.45 sec. (309.29 ticks)\n",
      "Probing time = 0.08 sec. (29.12 ticks)\n",
      "Clique table members: 119.\n",
      "MIP emphasis: balance optimality and feasibility.\n",
      "MIP search method: dynamic search.\n",
      "Parallel mode: deterministic, using up to 8 threads.\n",
      "Root relaxation solution time = 49.25 sec. (11766.87 ticks)\n",
      "\n",
      "        Nodes                                         Cuts/\n",
      "   Node  Left     Objective  IInf  Best Integer    Best Bound    ItCnt     Gap\n",
      "\n",
      "*     0+    0                       118596.7340     1349.5364            98.86%\n",
      "*     0+    0                       100825.2003     1349.5364            98.66%\n",
      "      0     0    27001.9596   126   100825.2003    27001.9596    40931   73.22%\n",
      "*     0+    0                        39039.9998    27001.9596            30.84%\n",
      "*     0+    0                        31185.3859    27001.9596            13.41%\n",
      "      0     0    27087.8455   145    31185.3859    Cuts: 3424    44247   13.14%\n",
      "*     0+    0                        28627.2793    27087.8455             5.38%\n",
      "      0     0    27115.7243   152    28627.2793    Cuts: 1510    46303    5.28%\n",
      "      0     0    27124.6363   150    28627.2793     Cuts: 701    47880    5.25%\n",
      "      0     0    27130.8195   147    28627.2793     Cuts: 448    48941    5.23%\n",
      "      0     0    27134.5028   159    28627.2793     Cuts: 220    49599    5.21%\n",
      "Detecting symmetries...\n",
      "      0     0    27136.8488   158    28627.2793     Cuts: 285    50203    5.21%\n",
      "*     0+    0                        28620.6062    27136.8488             5.18%\n",
      "      0     0    27139.0824   153    28620.6062     Cuts: 132    50676    5.18%\n",
      "      0     0    27141.4002   151    28620.6062     Cuts: 150    51158    5.17%\n",
      "      0     0    27143.4563   157    28620.6062     Cuts: 200    51802    5.16%\n",
      "      0     0    27145.1406   157    28620.6062     Cuts: 164    52338    5.16%\n",
      "Heuristic still looking.\n",
      "*     0+    0                        28612.0610    27145.1406             5.13%\n",
      "Detecting symmetries...\n",
      "      0     2    27145.1406   157    28612.0610    27145.1406    52338    5.13%\n",
      "Elapsed time = 169.02 sec. (50942.05 ticks, tree = 0.02 MB, solutions = 7)\n",
      "      1     3    27156.9622   151    28612.0610    27145.1894    52855    5.13%\n",
      "      2     4    27162.9352   150    28612.0610    27145.1894    53545    5.13%\n",
      "      3     5    27197.1524   148    28612.0610    27145.1894    54209    5.13%\n",
      "      4     6    27205.1940   146    28612.0610    27145.1894    54909    5.13%\n",
      "      5     7    27231.1336   138    28612.0610    27145.1894    55939    5.13%\n",
      "      7     9    27261.5434   135    28612.0610    27145.1894    57479    5.13%\n",
      "      8     3    27162.3994   153    28612.0610    27145.1894    53048    5.13%\n",
      "      9    10    27287.5066   135    28612.0610    27145.1894    59480    5.13%\n",
      "     10     5    27170.2343   150    28612.0610    27145.1894    53854    5.13%\n",
      "     14     6    27225.4045   142    28612.0610    27156.9833    55329    5.09%\n",
      "Elapsed time = 193.53 sec. (56030.17 ticks, tree = 0.02 MB, solutions = 7)\n",
      "     19     7    27219.8446   149    28612.0610    27162.5017    55791    5.07%\n",
      "     22    13    27271.9227   154    28612.0610    27162.5017    65458    5.07%\n",
      "     25    23    27283.1532   152    28612.0610    27162.5017    77894    5.07%\n",
      "     31    20    27400.7368   145    28612.0610    27162.5017    78676    5.07%\n",
      "     38    32    27340.8568   146    28612.0610    27162.5017   118486    5.07%\n",
      "     45    33    27354.3016   146    28612.0610    27162.5017   119344    5.07%\n",
      "     50    40    27567.1715   133    28612.0610    27162.5017   132631    5.07%\n",
      "     57    50    27372.9298   137    28612.0610    27162.5017   150551    5.07%\n",
      "     64    59    27363.1612   140    28612.0610    27162.5017   171261    5.07%\n",
      "     72    60    27386.9863   137    28612.0610    27162.5017   172504    5.07%\n",
      "Elapsed time = 254.88 sec. (67572.66 ticks, tree = 3.37 MB, solutions = 7)\n",
      "     79    64    27393.7986   143    28612.0610    27162.5017   183779    5.07%\n",
      "     85    76    27605.1473   119    28612.0610    27162.5017   198304    5.07%\n",
      "     91    88    27412.7472   142    28612.0610    27162.5017   215060    5.07%\n",
      "     99    85    27750.5000   118    28612.0610    27162.5017   210203    5.07%\n",
      "    106    91    27595.5254   132    28612.0610    27162.5017   216130    5.07%\n",
      "    110   106    27482.3179   127    28612.0610    27162.5017   234806    5.07%\n",
      "    119   109    27516.1865   131    28612.0610    27162.5017   236153    5.07%\n",
      "    130   111    27551.5030   123    28612.0610    27162.5017   240585    5.07%\n",
      "    136   113    27564.4168   117    28612.0610    27162.5017   241847    5.07%\n",
      "    145   118    27962.8922    99    28612.0610    27162.5017   246249    5.07%\n",
      "Elapsed time = 321.48 sec. (79842.24 ticks, tree = 8.00 MB, solutions = 7)\n",
      "    156   128    27641.6136   104    28612.0610    27162.5017   251357    5.07%\n",
      "    162   155    28060.6182    89    28612.0610    27162.5017   268006    5.07%\n",
      "    173   159    28148.8203    92    28612.0610    27162.5017   270557    5.07%\n",
      "    193   160    27792.2682   104    28612.0610    27162.5017   270170    5.07%\n",
      "    213   162    27497.5811   132    28612.0610    27162.5017   274215    5.07%\n",
      "    247   189    28177.0105    73    28612.0610    27162.5017   286993    5.07%\n",
      "    278   207    28027.3722    80    28612.0610    27162.5017   298560    5.07%\n",
      "    305   205    28590.4691    69    28612.0610    27162.5017   297164    5.07%\n",
      "    335   214    28123.4985    78    28612.0610    27162.5017   300960    5.07%\n",
      "    355   298    27713.2484   109    28612.0610    27162.5017   340844    5.07%\n",
      "Elapsed time = 372.42 sec. (90017.24 ticks, tree = 44.30 MB, solutions = 7)\n",
      "    386   289    28332.8391    74    28612.0610    27162.5017   336444    5.07%\n",
      "    410   296    28398.0597    72    28612.0610    27162.5017   339197    5.07%\n",
      "    427   300    28431.4819    72    28612.0610    27162.5017   341735    5.07%\n",
      "    442   297    27840.8924    98    28612.0610    27162.5017   342431    5.07%\n",
      "    463   405    27852.9791    94    28612.0610    27162.5017   394881    5.07%\n",
      "    480   389    27769.0060    99    28612.0610    27162.5017   386151    5.07%\n",
      "    489   417    27366.4196   148    28612.0610    27162.5017   413770    5.07%\n",
      "    506   419    27395.1686   141    28612.0610    27162.5017   414965    5.07%\n"
     ]
    },
    {
     "name": "stdout",
     "output_type": "stream",
     "text": [
      "    525   452    28006.0287    91    28612.0610    27162.5017   430537    5.07%\n",
      "    539   458    27866.9365    92    28612.0610    27162.5017   435451    5.07%\n",
      "Elapsed time = 427.13 sec. (99808.38 ticks, tree = 64.53 MB, solutions = 7)\n",
      "    561   463    28227.3725    76    28612.0610    27162.5017   434627    5.07%\n",
      "    577   496    28092.8704    81    28612.0610    27162.5017   467731    5.07%\n",
      "    597   482    28552.2336    58    28612.0610    27162.5017   450493    5.07%\n",
      "    620   499    27470.3695   135    28612.0610    27162.5017   476101    5.07%\n",
      "    641   500    28211.4535    86    28612.0610    27162.5017   469937    5.07%\n",
      "    655   550    28486.7161    52    28612.0610    27162.5017   496406    5.07%\n",
      "    671   555    27618.8791   120    28612.0610    27162.5017   500022    5.07%\n",
      "    690   558    27623.8272   120    28612.0610    27162.5017   501356    5.07%\n",
      "    695   570    27351.8746   143    28612.0610    27162.5017   513376    5.07%\n",
      "    702   576    27478.0041   134    28612.0610    27170.2364   517010    5.04%\n",
      "Elapsed time = 486.02 sec. (110727.99 ticks, tree = 90.41 MB, solutions = 7)\n",
      "    709   575    27451.6912   134    28612.0610    27190.9144   516254    4.97%\n",
      "    716   581    27527.5262   130    28612.0610    27190.9144   519988    4.97%\n",
      "    720   596    27279.7431   159    28612.0610    27190.9144   532401    4.97%\n",
      "    726   614    27397.6846   146    28612.0610    27190.9144   541973    4.97%\n",
      "    731   619    27484.9820   130    28612.0610    27190.9144   545832    4.97%\n",
      "*   734+  559                        28595.2355    27190.9144             4.91%\n",
      "    740   631    27569.8556   122    28595.2355    27190.9144   555871    4.91%\n",
      "    750   634    27556.2245   122    28595.2355    27190.9144   557447    4.91%\n",
      "    758   626    27557.7180   120    28595.2355    27190.9144   549674    4.91%\n",
      "    767   629    27593.1896   119    28595.2355    27190.9144   551049    4.91%\n",
      "    773   655    27628.9702   119    28595.2355    27190.9144   569853    4.91%\n",
      "Elapsed time = 545.63 sec. (122025.82 ticks, tree = 114.15 MB, solutions = 7)\n",
      "*   777+  559                        28586.2737    27190.9144             4.88%\n",
      "    779   651    27727.2419   109    28586.2737    27190.9144   568602    4.88%\n",
      "    781   670    27334.6926   153    28586.2737    27255.5901   581388    4.65%\n",
      "    783   672    27362.4369   148    28586.2737    27255.5901   582640    4.65%\n",
      "    785   674    27397.1832   142    28586.2737    27255.5901   583755    4.65%\n",
      "    788   677    27449.8179   136    28586.2737    27255.5901   585330    4.65%\n",
      "*   790+  559                        28584.5670    27255.5901             4.65%\n",
      "    790   679    27486.6379   134    28584.5670    27255.5901   586289    4.65%\n",
      "    793   682    27594.8680   123    28584.5670    27255.5901   588240    4.65%\n",
      "*   796+  501                        28575.0032    27255.5901             4.62%\n",
      "    796   685    27638.5327   119    28575.0032    27255.5901   589644    4.62%\n",
      "*   800+  559                        28571.6945    27255.5901             4.61%\n",
      "*   800+  582                        28571.6945    27255.5901             4.61%\n",
      "*   800+  501                        28570.8690    27255.5901             4.60%\n",
      "*   800+  501                        28568.7611    27255.5901             4.60%\n",
      "*   800+  559                        28568.0466    27255.5901             4.59%\n",
      "*   800+  627                        28567.9243    27255.5901             4.59%\n",
      "*   800+  582                        28567.5811    27255.5901             4.59%\n",
      "*   800+  637                        28563.8562    27255.5901             4.58%\n",
      "*   800+  501                        28562.0916    27255.5901             4.57%\n",
      "*   800+  501                        28560.9115    27255.5901             4.57%\n",
      "*   800+  637                        28560.9115    27255.5901             4.57%\n",
      "    800   503    27503.7549   134    28560.9115    27255.5901   478806    4.57%\n",
      "    803   678    27622.0480   132    28560.9115    27255.5901   596510    4.57%\n",
      "Elapsed time = 852.97 sec. (192186.38 ticks, tree = 119.28 MB, solutions = 15)\n",
      "    806   681    27667.2839   127    28560.9115    27255.5901   598134    4.57%\n",
      "    809   684    27700.8736   126    28560.9115    27255.5901   599792    4.57%\n",
      "    814   696    27692.1835   120    28560.9115    27255.5901   604737    4.57%\n",
      "    824   690    27765.4303   118    28560.9115    27255.5901   602847    4.57%\n",
      "    833   692    27845.5653   100    28560.9115    27255.5901   604313    4.57%\n",
      "    841   696    27881.3351   100    28560.9115    27255.5901   606144    4.57%\n",
      "    848   706    27828.4807    99    28560.9115    27255.5901   609408    4.57%\n",
      "    856   705    28002.4150    90    28560.9115    27255.5901   610163    4.57%\n",
      "    870   710    28063.3623    90    28560.9115    27255.5901   612617    4.57%\n",
      "    893   722    27935.9653   106    28560.9115    27260.3416   619701    4.55%\n",
      "Elapsed time = 889.09 sec. (202956.98 ticks, tree = 131.40 MB, solutions = 31)\n",
      "*   904+  687                        28560.9115    27260.3416             4.55%\n",
      "    913   720    28261.2517    84    28560.9115    27260.3416   617199    4.55%\n",
      "    932   727    28381.2861    85    28560.9115    27260.3416   621358    4.55%\n",
      "    951   726    28088.3753    96    28560.9115    27260.3416   621803    4.55%\n",
      "    969   689    27695.7457   116    28560.9115    27260.3416   591315    4.55%\n",
      "    988   836    27771.0388   104    28560.9115    27261.6402   681001    4.55%\n",
      "   1000   823    27359.3776   144    28560.9115    27261.6402   676704    4.55%\n",
      "   1020   840    27873.9961   104    28560.9115    27261.6402   683729    4.55%\n",
      "   1044   847    28110.3964    91    28560.9115    27261.6402   685539    4.55%\n",
      "   1070   830    27480.6645   127    28560.9115    27261.6402   680399    4.55%\n",
      "   1163   774    27790.1431    99    28560.9115    27261.6402   650958    4.55%\n",
      "Elapsed time = 952.31 sec. (215705.01 ticks, tree = 143.96 MB, solutions = 35)\n",
      "   1253   941    28483.7262    67    28560.9115    27261.6402   735646    4.55%\n",
      "   1311   874    27600.3432   125    28560.9115    27261.6402   705010    4.55%\n",
      "   1362  1122    27836.7683   117    28560.9115    27267.9371   845691    4.53%\n",
      "   1429  1116    27797.5750   117    28560.9115    27267.9371   837013    4.53%\n",
      "   1505  1200    27442.1445   133    28560.9115    27276.5489   899333    4.50%\n",
      "   1564  1158    27409.2679   142    28560.9115    27279.7559   862867    4.49%\n",
      "   1619  1266    28146.3177   100    28560.9115    27279.7559   931484    4.49%\n",
      "   1722  1273    28242.2624   101    28560.9115    27279.7706   937958    4.49%\n",
      "   1789  1418    28200.2807    76    28560.9115    27279.7706  1004568    4.49%\n",
      "   1831  1335    27725.9073   115    28560.9115    27279.7706   962769    4.49%\n",
      "Elapsed time = 1132.84 sec. (254504.05 ticks, tree = 295.88 MB, solutions = 35)\n",
      "\n",
      "Performing restart 1\n",
      "\n",
      "Repeating presolve.\n",
      "Tried aggregator 1 time.\n",
      "Reduced MIP has 31119 rows, 62885 columns, and 828885 nonzeros.\n",
      "Reduced MIP has 885 binaries, 0 generals, 0 SOSs, and 0 indicators.\n",
      "Presolve time = 12.53 sec. (3211.88 ticks)\n",
      "Tried aggregator 1 time.\n",
      "Reduced MIP has 31119 rows, 62885 columns, and 828885 nonzeros.\n",
      "Reduced MIP has 885 binaries, 0 generals, 0 SOSs, and 0 indicators.\n",
      "Presolve time = 13.73 sec. (3345.51 ticks)\n",
      "Represolve time = 28.05 sec. (6959.97 ticks)\n",
      "*  1849+    0                        28560.7875    27279.7706             4.49%\n",
      "   1849     0    27214.0314   147    28560.7875     Cuts: 257  1210605    4.49%\n",
      "   1849     0    27216.6498   136    28560.7875     Cuts: 142  1211202    4.49%\n",
      "   1849     0    27220.4351   142    28560.7875     Cuts: 187  1212294    4.49%\n",
      "   1849     0    27222.8709   145    28560.7875     Cuts: 178  1213210    4.49%\n",
      "   1849     0    27225.6129   141    28560.7875     Cuts: 196  1214090    4.49%\n",
      "   1849     2    27225.6129   141    28560.7875    27279.7706  1214090    4.49%\n",
      "   1854     4    27270.1810   138    28560.7875    27279.7706  1216650    4.49%\n",
      "   1875    16    27319.9530   135    28560.7875    27279.7706  1227409    4.49%\n",
      "   1903    45    27368.2459   126    28560.7875    27279.7706  1254335    4.49%\n",
      "   1958    94    27403.4723   118    28560.7875    27279.7706  1285208    4.49%\n",
      "   2027   149    27492.2718   108    28560.7875    27279.7706  1311831    4.49%\n"
     ]
    },
    {
     "name": "stdout",
     "output_type": "stream",
     "text": [
      "   2098   195    27538.9852   102    28560.7875    27279.7706  1329198    4.49%\n",
      "   2151   262        cutoff          28560.7875    27279.7706  1360804    4.49%\n",
      "   2252   339    27636.0527    89    28560.7875    27279.7706  1402711    4.49%\n",
      "   2324   428    27385.4401   128    28560.7875    27279.7706  1439618    4.49%\n",
      "Elapsed time = 1482.61 sec. (408234.99 ticks, tree = 80.94 MB, solutions = 36)\n",
      "   2408   495    27813.2804    86    28560.7875    27279.7706  1469809    4.49%\n",
      "   2540   595    27396.1720   123    28560.7875    27279.7706  1514394    4.49%\n",
      "   2644   692    28533.0164    65    28560.7875    27279.7706  1559823    4.49%\n",
      "   2766   762    27368.4351   123    28560.7875    27282.2606  1596214    4.48%\n",
      "   2870   812    28124.7647    89    28560.7875    27282.2606  1613806    4.48%\n",
      "   2943   925    27444.6343   125    28560.7875    27288.2337  1664855    4.46%\n",
      "   3035   980    28464.8661    56    28560.7875    27288.2337  1692399    4.46%\n",
      "   3097  1097    27701.5549   100    28560.7875    27288.2337  1735199    4.46%\n",
      "Starting limited solution polishing.\n",
      "   3196  1112    27861.5409    76    28560.7875    27300.0427  1740067    4.41%\n",
      "   3338  1260    27719.9114    97    28560.7875    27300.5447  1797986    4.41%\n",
      "Elapsed time = 1660.38 sec. (446850.17 ticks, tree = 283.66 MB, solutions = 36)\n",
      "   3443  1372    28051.7478    74    28560.7875    27300.5447  1839370    4.41%\n",
      "   3524  1461    27635.7995   100    28560.7875    27300.5447  1874028    4.41%\n",
      "   3640  1522    28337.1579    49    28560.7875    27300.5447  1894824    4.41%\n",
      "   3759  1639    27469.2614   118    28560.7875    27311.8245  1936123    4.37%\n",
      "   3856  1783    27649.9894   111    28560.7875    27311.8245  1993852    4.37%\n",
      "   3961  1855    27516.8889   110    28560.7875    27311.8245  2023858    4.37%\n",
      "   4040  1769    28213.5566    64    28560.7875    27311.8245  1991473    4.37%\n",
      "\n",
      "Flow cuts applied:  487\n",
      "Mixed integer rounding cuts applied:  3585\n",
      "Lift and project cuts applied:  71\n",
      "Gomory fractional cuts applied:  12\n",
      "\n",
      "Root node processing (before b&c):\n",
      "  Real time             =  163.34 sec. (50071.32 ticks)\n",
      "Parallel b&c, 8 threads:\n",
      "  Real time             = 1637.16 sec. (428520.45 ticks)\n",
      "  Sync time (average)   =  163.86 sec.\n",
      "  Wait time (average)   =    0.10 sec.\n",
      "                          ------------\n",
      "Total (root+branch&cut) = 1800.50 sec. (478591.77 ticks)\n",
      "\n",
      "Solution pool: 37 solutions saved.\n",
      "\n",
      "MIP - Time limit exceeded, integer feasible:  Objective =  2.8560787546e+04\n",
      "Current MIP best bound =  2.7311824488e+04 (gap = 1248.96, 4.37%)\n",
      "Solution time = 1800.50 sec.  Iterations = 2100209  Nodes = 4077 (2084)\n",
      "Deterministic time = 478592.00 ticks  (265.81 ticks/sec)\n",
      "\n",
      "CPLEX> Incumbent solution written to file 'C:\\Users\\91824\\AppData\\Local\\Temp\\tmpsqlkas8n.cplex.sol'.\n",
      "CPLEX> Solver status : ok\n",
      "Solver Termination condition : maxTimeLimit\n"
     ]
    }
   ],
   "source": [
    "opt = SolverFactory('cplex')\n",
    "opt.options['timelimit'] = 1800\n",
    "result = opt.solve(avg_model,tee=True)\n",
    "print(\"Solver status :\",result.solver.status)\n",
    "print(\"Solver Termination condition :\", result.solver.termination_condition)"
   ]
  },
  {
   "cell_type": "code",
   "execution_count": 39,
   "metadata": {},
   "outputs": [],
   "source": [
    "#pd.DataFrame(cib).to_csv(\"cost_data_random_seed0.csv\")"
   ]
  },
  {
   "cell_type": "code",
   "execution_count": 40,
   "metadata": {},
   "outputs": [
    {
     "name": "stdout",
     "output_type": "stream",
     "text": [
      "Block : 1 Surgeries [27, 32, 37, 39]\n",
      "Block : 2 Surgeries [0, 9, 10, 13]\n",
      "Block : 3 Surgeries [81, 82, 92, 99]\n",
      "Block : 4 Surgeries [49, 57, 60, 62, 64]\n",
      "Block : 5 Surgeries [103, 108, 111, 114, 121]\n",
      "Block : 6 Surgeries [3, 12, 17]\n",
      "Block : 7 Surgeries [102, 105, 110, 112, 115, 116]\n",
      "Block : 8 Surgeries [26, 29, 35, 36]\n",
      "Block : 9 Surgeries [90, 93, 94, 97]\n",
      "Block : 10 Surgeries [85, 89, 96]\n",
      "Block : 11 Surgeries [50, 58, 59, 70, 74]\n",
      "Block : 12 Surgeries [48, 51, 56, 67]\n",
      "Block : 13 Surgeries [104]\n",
      "Block : 14 Surgeries [18, 23, 30, 33]\n",
      "Block : 15 Surgeries [21, 25, 31]\n",
      "Block : 16 Surgeries [2, 8, 15, 16]\n",
      "Block : 17 Surgeries [75, 76, 77, 78, 79, 80]\n",
      "Block : 18 Surgeries [41, 54, 65, 66, 71]\n",
      "Block : 19 Surgeries [40, 43, 46, 53, 63]\n",
      "Block : 20 Surgeries [117, 118, 120, 122, 123]\n",
      "Block : 21 Surgeries [83, 88, 98]\n",
      "Block : 22 Surgeries [19, 24, 38]\n",
      "Block : 23 Surgeries [86, 87, 100, 101]\n",
      "Block : 24 Surgeries [40, 43, 44, 52, 58, 71, 73, 74]\n",
      "Block : 25 Surgeries [42, 44, 68, 69, 74]\n",
      "Block : 26 Surgeries [107, 119, 124]\n",
      "Block : 27 Surgeries [20, 22, 28, 34]\n",
      "Block : 28 Surgeries [1, 6, 11]\n",
      "Block : 29 Surgeries [84, 91, 95]\n",
      "Block : 30 Surgeries [45, 47, 55, 61, 72]\n",
      "Block : 31 Surgeries [105, 106, 109, 113]\n",
      "Block : 32 Surgeries [4, 5, 7, 14]\n",
      "Block : 33 Surgeries []\n",
      "Block : 34 Surgeries []\n",
      "Block : 35 Surgeries []\n",
      "Block : 36 Surgeries []\n",
      "Block : 37 Surgeries []\n",
      "Block : 38 Surgeries []\n"
     ]
    }
   ],
   "source": [
    "l = [[] for _ in range(n_blocks)]\n",
    "for b in range(n_blocks):\n",
    "    for i in range(n_surgeries):\n",
    "        if avg_model.y[i+1,b+1].value > 0.0:\n",
    "            l[b].append(i)\n",
    "\n",
    "for i in range(len(l)):\n",
    "    print(\"Block :\",i+1, 'Surgeries',l[i])"
   ]
  },
  {
   "cell_type": "code",
   "execution_count": 41,
   "metadata": {},
   "outputs": [
    {
     "data": {
      "text/plain": [
       "<Figure size 720x432 with 0 Axes>"
      ]
     },
     "metadata": {},
     "output_type": "display_data"
    },
    {
     "data": {
      "image/png": "[encoded data removed]",
      "text/plain": [
       "<Figure size 1080x864 with 1 Axes>"
      ]
     },
     "metadata": {
      "needs_background": "light"
     },
     "output_type": "display_data"
    }
   ],
   "source": [
    "colors = ['orange','pink','cyan','lightgreen','peachpuff','gold']\n",
    "plt.figure(figsize=(10,6))\n",
    "j = 0\n",
    "gastro_y = [1,1,1,2,2,2,2]\n",
    "gastro_x = [1,2,3,3,4,5,6]\n",
    "card_y = [3,9,3,3,9,1]\n",
    "card_x = [1,1,3,5,5,6]\n",
    "gyn_y = [6,6,7,6,7,6,7,7,3]\n",
    "gyn_x = [1,2,2,3,3,4,4,5,6]\n",
    "med_y = [5,4]\n",
    "med_x = [3,6]\n",
    "ortho_y = [4,4,5,10,4,4,5]\n",
    "ortho_x = [1,2,2,3,4,5,6]\n",
    "uro_y = [8,10,8,9,8,8,6]\n",
    "uro_x = [1,1,2,3,4,5,6]\n",
    "\n",
    "barh_blocks = {'GASTRO':[gastro_y,gastro_x],'CARD':[card_y,card_x],'GYN':[gyn_y,gyn_x],'MED':[med_y,med_x],'ORTHO':[ortho_y,ortho_x],'URO':[uro_y,uro_x]}\n",
    "barh_colors = {}\n",
    "for i in range(len(specs)):\n",
    "    barh_colors[specs[i]] = colors[i]\n",
    "\n",
    "fig,ax = plt.subplots(figsize=(15,12))\n",
    "j,k = 0,0\n",
    "for i in specs:\n",
    "    for m in range(len(blocks[i])):\n",
    "        text =int(np.round(sum(avg_model.y[idx+1,blocks[i][m]].value for idx in range(n_surgeries))))\n",
    "        ax.barh(y=11-barh_blocks[i][0][m],width=0.8,height=0.6,left=barh_blocks[i][1][m]-0.4,align='center',color=barh_colors[i],label=i)\n",
    "        ax.text(barh_blocks[i][1][m], 11-barh_blocks[i][0][m]-0.02, text, color = 'black', ha = 'left', va = 'center',size=16)\n",
    "    j += 1\n",
    "#ax.set_yticks([i for i in range(11)],[' ']+['OR '+str(10-i) for i in range(10)])\n",
    "ax.set_xticks([1,2,3,4,5,6]) # values\n",
    "ax.set_xticklabels(['Monday','Tuesday','Wednesday','Thursday','Friday','Dummy'],size=15)\n",
    "ax.set_yticks([i for i in range(1,11)])\n",
    "ax.set_yticklabels(['OR '+str(10-i) for i in range(10)],size=15)\n",
    "\n",
    "\n",
    "handles, labels = plt.gca().get_legend_handles_labels()\n",
    "by_label = dict(zip(labels, handles))\n",
    "plt.legend(by_label.values(), by_label.keys())\n",
    "plt.show()"
   ]
  },
  {
   "cell_type": "code",
   "execution_count": 42,
   "metadata": {},
   "outputs": [
    {
     "data": {
      "text/plain": [
       "{'CARD': [0, 17],\n",
       " 'GASTRO': [18, 39],\n",
       " 'GYN': [40, 74],\n",
       " 'MED': [75, 80],\n",
       " 'ORTHO': [81, 101],\n",
       " 'URO': [102, 124]}"
      ]
     },
     "execution_count": 42,
     "metadata": {},
     "output_type": "execute_result"
    }
   ],
   "source": [
    "surgery_nums"
   ]
  },
  {
   "cell_type": "code",
   "execution_count": 43,
   "metadata": {},
   "outputs": [
    {
     "name": "stdout",
     "output_type": "stream",
     "text": [
      "CARD [2, 6, 16, 28, 32, 33]\n",
      "GASTRO [1, 8, 14, 15, 22, 27, 34]\n",
      "GYN [4, 11, 12, 18, 19, 24, 25, 30, 35]\n",
      "MED [17, 36]\n",
      "ORTHO [3, 9, 10, 21, 23, 29, 37]\n",
      "URO [5, 7, 13, 20, 26, 31, 38]\n"
     ]
    }
   ],
   "source": [
    "for i in specs:\n",
    "    print(i, blocks[i])"
   ]
  },
  {
   "cell_type": "code",
   "execution_count": 44,
   "metadata": {},
   "outputs": [],
   "source": [
    "assignments = np.array([[0.0 for _ in range(n_blocks)] for _ in range(n_surgeries)])\n",
    "for i in range(n_surgeries):\n",
    "    for b in range(n_blocks):\n",
    "        assignments[i,b] = avg_model.y[i+1,b+1].value"
   ]
  },
  {
   "cell_type": "code",
   "execution_count": 45,
   "metadata": {},
   "outputs": [
    {
     "data": {
      "image/png": "[encoded data removed]",
      "text/plain": [
       "<Figure size 1440x1440 with 2 Axes>"
      ]
     },
     "metadata": {
      "needs_background": "light"
     },
     "output_type": "display_data"
    }
   ],
   "source": [
    "fig,(ax1,ax2) = plt.subplots(2,1,sharex=True,figsize=(20,20))\n",
    "ax1.imshow(cib[:,:32].T,interpolation='nearest')\n",
    "ax2.imshow(assignments[:,:32].T,interpolation='nearest')\n",
    "plt.savefig(\"Random block costs weekly schedule\",dpi=500)"
   ]
  },
  {
   "cell_type": "code",
   "execution_count": 46,
   "metadata": {},
   "outputs": [],
   "source": [
    "os = [[] for _ in range(n_blocks)]\n",
    "gs = [[] for _ in range(n_blocks)]\n",
    "\n",
    "for b in range(n_blocks):\n",
    "    for n in range(n_scenarios):\n",
    "        os[b].append(avg_model.o[b+1,n+1].value)\n",
    "        gs[b].append(avg_model.g[b+1,n+1].value)\n",
    "\n",
    "os = np.array(os)\n",
    "gs = np.array(gs)"
   ]
  },
  {
   "cell_type": "code",
   "execution_count": 47,
   "metadata": {},
   "outputs": [
    {
     "data": {
      "image/png": "[encoded data removed]",
      "text/plain": [
       "<Figure size 432x288 with 1 Axes>"
      ]
     },
     "metadata": {
      "needs_background": "light"
     },
     "output_type": "display_data"
    },
    {
     "data": {
      "image/png": "[encoded data removed]",
      "text/plain": [
       "<Figure size 432x288 with 1 Axes>"
      ]
     },
     "metadata": {
      "needs_background": "light"
     },
     "output_type": "display_data"
    },
    {
     "data": {
      "image/png": "[encoded data removed]",
      "text/plain": [
       "<Figure size 432x288 with 1 Axes>"
      ]
     },
     "metadata": {
      "needs_background": "light"
     },
     "output_type": "display_data"
    },
    {
     "data": {
      "image/png": "[encoded data removed]",
      "text/plain": [
       "<Figure size 432x288 with 1 Axes>"
      ]
     },
     "metadata": {
      "needs_background": "light"
     },
     "output_type": "display_data"
    },
    {
     "data": {
      "image/png": "[encoded data removed]",
      "text/plain": [
       "<Figure size 432x288 with 1 Axes>"
      ]
     },
     "metadata": {
      "needs_background": "light"
     },
     "output_type": "display_data"
    },
    {
     "data": {
      "image/png": "[encoded data removed]",
      "text/plain": [
       "<Figure size 432x288 with 1 Axes>"
      ]
     },
     "metadata": {
      "needs_background": "light"
     },
     "output_type": "display_data"
    },
    {
     "data": {
      "image/png": "[encoded data removed]",
      "text/plain": [
       "<Figure size 432x288 with 1 Axes>"
      ]
     },
     "metadata": {
      "needs_background": "light"
     },
     "output_type": "display_data"
    },
    {
     "data": {
      "image/png": "[encoded data removed]",
      "text/plain": [
       "<Figure size 432x288 with 1 Axes>"
      ]
     },
     "metadata": {
      "needs_background": "light"
     },
     "output_type": "display_data"
    },
    {
     "data": {
      "image/png": "[encoded data removed]",
      "text/plain": [
       "<Figure size 432x288 with 1 Axes>"
      ]
     },
     "metadata": {
      "needs_background": "light"
     },
     "output_type": "display_data"
    },
    {
     "data": {
      "image/png": "[encoded data removed]",
      "text/plain": [
       "<Figure size 432x288 with 1 Axes>"
      ]
     },
     "metadata": {
      "needs_background": "light"
     },
     "output_type": "display_data"
    },
    {
     "data": {
      "image/png": "[encoded data removed]",
      "text/plain": [
       "<Figure size 432x288 with 1 Axes>"
      ]
     },
     "metadata": {
      "needs_background": "light"
     },
     "output_type": "display_data"
    },
    {
     "data": {
      "image/png": "[encoded data removed]",
      "text/plain": [
       "<Figure size 432x288 with 1 Axes>"
      ]
     },
     "metadata": {
      "needs_background": "light"
     },
     "output_type": "display_data"
    },
    {
     "data": {
      "image/png": "[encoded data removed]",
      "text/plain": [
       "<Figure size 432x288 with 1 Axes>"
      ]
     },
     "metadata": {
      "needs_background": "light"
     },
     "output_type": "display_data"
    },
    {
     "data": {
      "image/png": "[encoded data removed]",
      "text/plain": [
       "<Figure size 432x288 with 1 Axes>"
      ]
     },
     "metadata": {
      "needs_background": "light"
     },
     "output_type": "display_data"
    },
    {
     "data": {
      "image/png": "[encoded data removed]",
      "text/plain": [
       "<Figure size 432x288 with 1 Axes>"
      ]
     },
     "metadata": {
      "needs_background": "light"
     },
     "output_type": "display_data"
    },
    {
     "data": {
      "image/png": "[encoded data removed]",
      "text/plain": [
       "<Figure size 432x288 with 1 Axes>"
      ]
     },
     "metadata": {
      "needs_background": "light"
     },
     "output_type": "display_data"
    },
    {
     "data": {
      "image/png": "[encoded data removed]",
      "text/plain": [
       "<Figure size 432x288 with 1 Axes>"
      ]
     },
     "metadata": {
      "needs_background": "light"
     },
     "output_type": "display_data"
    },
    {
     "data": {
      "image/png": "[encoded data removed]",
      "text/plain": [
       "<Figure size 432x288 with 1 Axes>"
      ]
     },
     "metadata": {
      "needs_background": "light"
     },
     "output_type": "display_data"
    },
    {
     "data": {
      "image/png": "[encoded data removed]",
      "text/plain": [
       "<Figure size 432x288 with 1 Axes>"
      ]
     },
     "metadata": {
      "needs_background": "light"
     },
     "output_type": "display_data"
    },
    {
     "data": {
      "image/png": "[encoded data removed]",
      "text/plain": [
       "<Figure size 432x288 with 1 Axes>"
      ]
     },
     "metadata": {
      "needs_background": "light"
     },
     "output_type": "display_data"
    },
    {
     "data": {
      "image/png": "[encoded data removed]",
      "text/plain": [
       "<Figure size 432x288 with 1 Axes>"
      ]
     },
     "metadata": {
      "needs_background": "light"
     },
     "output_type": "display_data"
    },
    {
     "data": {
      "image/png": "[encoded data removed]",
      "text/plain": [
       "<Figure size 432x288 with 1 Axes>"
      ]
     },
     "metadata": {
      "needs_background": "light"
     },
     "output_type": "display_data"
    },
    {
     "data": {
      "image/png": "[encoded data removed]",
      "text/plain": [
       "<Figure size 432x288 with 1 Axes>"
      ]
     },
     "metadata": {
      "needs_background": "light"
     },
     "output_type": "display_data"
    },
    {
     "data": {
      "image/png": "[encoded data removed]",
      "text/plain": [
       "<Figure size 432x288 with 1 Axes>"
      ]
     },
     "metadata": {
      "needs_background": "light"
     },
     "output_type": "display_data"
    },
    {
     "data": {
      "image/png": "[encoded data removed]",
      "text/plain": [
       "<Figure size 432x288 with 1 Axes>"
      ]
     },
     "metadata": {
      "needs_background": "light"
     },
     "output_type": "display_data"
    },
    {
     "data": {
      "image/png": "[encoded data removed]",
      "text/plain": [
       "<Figure size 432x288 with 1 Axes>"
      ]
     },
     "metadata": {
      "needs_background": "light"
     },
     "output_type": "display_data"
    },
    {
     "data": {
      "image/png": "[encoded data removed]",
      "text/plain": [
       "<Figure size 432x288 with 1 Axes>"
      ]
     },
     "metadata": {
      "needs_background": "light"
     },
     "output_type": "display_data"
    },
    {
     "data": {
      "image/png": "[encoded data removed]",
      "text/plain": [
       "<Figure size 432x288 with 1 Axes>"
      ]
     },
     "metadata": {
      "needs_background": "light"
     },
     "output_type": "display_data"
    },
    {
     "data": {
      "image/png": "[encoded data removed]",
      "text/plain": [
       "<Figure size 432x288 with 1 Axes>"
      ]
     },
     "metadata": {
      "needs_background": "light"
     },
     "output_type": "display_data"
    },
    {
     "data": {
      "image/png": "[encoded data removed]",
      "text/plain": [
       "<Figure size 432x288 with 1 Axes>"
      ]
     },
     "metadata": {
      "needs_background": "light"
     },
     "output_type": "display_data"
    },
    {
     "data": {
      "image/png": "[encoded data removed]",
      "text/plain": [
       "<Figure size 432x288 with 1 Axes>"
      ]
     },
     "metadata": {
      "needs_background": "light"
     },
     "output_type": "display_data"
    },
    {
     "data": {
      "image/png": "[encoded data removed]",
      "text/plain": [
       "<Figure size 432x288 with 1 Axes>"
      ]
     },
     "metadata": {
      "needs_background": "light"
     },
     "output_type": "display_data"
    },
    {
     "data": {
      "image/png": "[encoded data removed]",
      "text/plain": [
       "<Figure size 432x288 with 1 Axes>"
      ]
     },
     "metadata": {
      "needs_background": "light"
     },
     "output_type": "display_data"
    },
    {
     "data": {
      "image/png": "[encoded data removed]",
      "text/plain": [
       "<Figure size 432x288 with 1 Axes>"
      ]
     },
     "metadata": {
      "needs_background": "light"
     },
     "output_type": "display_data"
    },
    {
     "data": {
      "image/png": "[encoded data removed]",
      "text/plain": [
       "<Figure size 432x288 with 1 Axes>"
      ]
     },
     "metadata": {
      "needs_background": "light"
     },
     "output_type": "display_data"
    },
    {
     "data": {
      "image/png": "[encoded data removed]",
      "text/plain": [
       "<Figure size 432x288 with 1 Axes>"
      ]
     },
     "metadata": {
      "needs_background": "light"
     },
     "output_type": "display_data"
    },
    {
     "data": {
      "image/png": "[encoded data removed]",
      "text/plain": [
       "<Figure size 432x288 with 1 Axes>"
      ]
     },
     "metadata": {
      "needs_background": "light"
     },
     "output_type": "display_data"
    },
    {
     "data": {
      "image/png": "[encoded data removed]",
      "text/plain": [
       "<Figure size 432x288 with 1 Axes>"
      ]
     },
     "metadata": {
      "needs_background": "light"
     },
     "output_type": "display_data"
    }
   ],
   "source": [
    "overtime = os-gs\n",
    "\n",
    "for b in range(n_blocks):\n",
    "    plt.figure()\n",
    "    plt.title(\"Hist for block \"+str(b+1))\n",
    "    plt.hist(overtime[b],bins=20)\n",
    "    plt.xlim(-600,400)\n",
    "    plt.show()"
   ]
  },
  {
   "cell_type": "code",
   "execution_count": 48,
   "metadata": {},
   "outputs": [
    {
     "data": {
      "text/plain": [
       "array([[   0.,  100.,    0., ...,    0.,    0.,    0.],\n",
       "       [   0.,  400.,    0., ...,    0.,    0.,    0.],\n",
       "       [   0.,  200.,    0., ...,    0.,    0.,    0.],\n",
       "       ...,\n",
       "       [   0.,    0.,    0., ...,    0.,    0., 1000.],\n",
       "       [   0.,    0.,    0., ...,    0.,    0., 1000.],\n",
       "       [   0.,    0.,    0., ...,    0.,    0., 1000.]])"
      ]
     },
     "execution_count": 48,
     "metadata": {},
     "output_type": "execute_result"
    }
   ],
   "source": [
    "cib"
   ]
  },
  {
   "cell_type": "code",
   "execution_count": 49,
   "metadata": {},
   "outputs": [
    {
     "data": {
      "text/plain": [
       "array([   0.,    0.,    0.,    0.,    0.,    0.,    0.,    0.,    0.,\n",
       "          0.,    0.,    0.,    0.,    0.,    0.,    0.,    0.,    0.,\n",
       "       1000., 1000., 1000., 1000., 1000., 1000., 1000., 1000., 1000.,\n",
       "       1000., 1000., 1000., 1000., 1000., 1000., 1000., 1000., 1000.,\n",
       "       1000., 1000., 1000., 1000.,    0.,    0.,    0.,    0.,    0.,\n",
       "          0.,    0.,    0.,    0.,    0.,    0.,    0.,    0.,    0.,\n",
       "          0.,    0.,    0.,    0.,    0.,    0.,    0.,    0.,    0.,\n",
       "          0.,    0.,    0.,    0.,    0.,    0.,    0.,    0.,    0.,\n",
       "          0.,    0.,    0.,    0.,    0.,    0.,    0.,    0.,    0.,\n",
       "          0.,    0.,    0.,    0.,    0.,    0.,    0.,    0.,    0.,\n",
       "          0.,    0.,    0.,    0.,    0.,    0.,    0.,    0.,    0.,\n",
       "          0.,    0.,    0.,    0.,    0.,    0.,    0.,    0.,    0.,\n",
       "          0.,    0.,    0.,    0.,    0.,    0.,    0.,    0.,    0.,\n",
       "          0.,    0.,    0.,    0.,    0.,    0.,    0.,    0.])"
      ]
     },
     "execution_count": 49,
     "metadata": {},
     "output_type": "execute_result"
    }
   ],
   "source": [
    "cib[:,33]"
   ]
  },
  {
   "cell_type": "code",
   "execution_count": 50,
   "metadata": {},
   "outputs": [
    {
     "data": {
      "text/plain": [
       "array([   0.,  200.,    0.,    0.,    0.,  400.,    0.,    0.,    0.,\n",
       "          0.,    0.,    0.,    0.,    0.,    0.,  400.,    0.,    0.,\n",
       "          0.,    0.,    0.,    0.,    0.,    0.,    0.,    0.,    0.,\n",
       "        300.,    0.,    0.,    0.,  400., 1000.,    0.,    0.,    0.,\n",
       "          0.,    0.])"
      ]
     },
     "execution_count": 50,
     "metadata": {},
     "output_type": "execute_result"
    }
   ],
   "source": [
    "cib[9,:]"
   ]
  },
  {
   "cell_type": "code",
   "execution_count": 51,
   "metadata": {},
   "outputs": [
    {
     "data": {
      "text/plain": [
       "array([[  0., 100.,   0.,   0.,   0., 400.,   0.,   0.,   0.,   0.,   0.,\n",
       "          0.,   0.,   0.,   0., 200.,   0.,   0.,   0.,   0.,   0.,   0.,\n",
       "          0.,   0.,   0.,   0.,   0., 100.,   0.,   0.,   0., 400.],\n",
       "       [  0., 400.,   0.,   0.,   0., 400.,   0.,   0.,   0.,   0.,   0.,\n",
       "          0.,   0.,   0.,   0., 400.,   0.,   0.,   0.,   0.,   0.,   0.,\n",
       "          0.,   0.,   0.,   0.,   0., 200.,   0.,   0.,   0., 400.]])"
      ]
     },
     "execution_count": 51,
     "metadata": {},
     "output_type": "execute_result"
    }
   ],
   "source": [
    "cib[:2,:32]"
   ]
  },
  {
   "cell_type": "code",
   "execution_count": 52,
   "metadata": {},
   "outputs": [
    {
     "data": {
      "text/plain": [
       "(125, 38)"
      ]
     },
     "execution_count": 52,
     "metadata": {},
     "output_type": "execute_result"
    }
   ],
   "source": [
    "cib.shape"
   ]
  },
  {
   "cell_type": "code",
   "execution_count": 53,
   "metadata": {},
   "outputs": [
    {
     "data": {
      "text/plain": [
       "array([-6000., -6000., -6000., -6000., -6000., -6000., -6000., -6000.,\n",
       "       -6000., -6000., -6000., -6000., -6000., -6000., -6000., -6000.,\n",
       "       -6000., -6000., -6000., -6000., -6000., -6000., -6000., -6000.,\n",
       "       -6000., -6000., -6000., -6000., -6000., -6000., -6000., -6000.,\n",
       "       -6000., -6000., -6000., -6000., -6000., -6000., -6000., -6000.,\n",
       "       -6000., -6000., -6000., -6000., -6000., -6000., -6000., -6000.,\n",
       "       -6000., -6000., -6000., -6000., -6000., -6000., -6000., -6000.,\n",
       "       -6000., -6000., -6000., -6000., -6000., -6000., -6000., -6000.,\n",
       "       -6000., -6000., -6000., -6000., -6000., -6000., -6000., -6000.,\n",
       "       -6000., -6000., -6000., -6000., -6000., -6000., -6000., -6000.,\n",
       "       -6000., -6000., -6000., -6000., -6000., -6000., -6000., -6000.,\n",
       "       -6000., -6000., -6000., -6000., -6000., -6000., -6000., -6000.,\n",
       "       -6000., -6000., -6000., -6000., -6000., -6000., -6000., -6000.,\n",
       "       -6000., -6000., -6000., -6000., -6000., -6000., -6000., -6000.,\n",
       "       -6000., -6000., -6000., -6000., -6000., -6000., -6000., -6000.,\n",
       "       -6000., -6000., -6000., -6000., -6000., -6000., -6000., -6000.,\n",
       "       -6000., -6000., -6000., -6000., -6000., -6000., -6000., -6000.,\n",
       "       -6000., -6000., -6000., -6000., -6000., -6000., -6000., -6000.,\n",
       "       -6000., -6000., -6000., -6000., -6000., -6000., -6000., -6000.,\n",
       "       -6000., -6000., -6000., -6000., -6000., -6000., -6000., -6000.,\n",
       "       -6000., -6000., -6000., -6000., -6000., -6000., -6000., -6000.,\n",
       "       -6000., -6000., -6000., -6000., -6000., -6000., -6000., -6000.,\n",
       "       -6000., -6000., -6000., -6000., -6000., -6000., -6000., -6000.,\n",
       "       -6000., -6000., -6000., -6000., -6000., -6000., -6000., -6000.,\n",
       "       -6000., -6000., -6000., -6000., -6000., -6000., -6000., -6000.,\n",
       "       -6000., -6000., -6000., -6000., -6000., -6000., -6000., -6000.,\n",
       "       -6000., -6000., -6000., -6000., -6000., -6000., -6000., -6000.,\n",
       "       -6000., -6000., -6000., -6000., -6000., -6000., -6000., -6000.,\n",
       "       -6000., -6000., -6000., -6000., -6000., -6000., -6000., -6000.,\n",
       "       -6000., -6000., -6000., -6000., -6000., -6000., -6000., -6000.,\n",
       "       -6000., -6000., -6000., -6000., -6000., -6000., -6000., -6000.,\n",
       "       -6000., -6000., -6000., -6000., -6000., -6000., -6000., -6000.,\n",
       "       -6000., -6000., -6000., -6000., -6000., -6000., -6000., -6000.,\n",
       "       -6000., -6000., -6000., -6000., -6000., -6000., -6000., -6000.,\n",
       "       -6000., -6000., -6000., -6000., -6000., -6000., -6000., -6000.,\n",
       "       -6000., -6000., -6000., -6000., -6000., -6000., -6000., -6000.,\n",
       "       -6000., -6000., -6000., -6000., -6000., -6000., -6000., -6000.,\n",
       "       -6000., -6000., -6000., -6000., -6000., -6000., -6000., -6000.,\n",
       "       -6000., -6000., -6000., -6000., -6000., -6000., -6000., -6000.,\n",
       "       -6000., -6000., -6000., -6000., -6000., -6000., -6000., -6000.,\n",
       "       -6000., -6000., -6000., -6000., -6000., -6000., -6000., -6000.,\n",
       "       -6000., -6000., -6000., -6000., -6000., -6000., -6000., -6000.,\n",
       "       -6000., -6000., -6000., -6000., -6000., -6000., -6000., -6000.,\n",
       "       -6000., -6000., -6000., -6000., -6000., -6000., -6000., -6000.,\n",
       "       -6000., -6000., -6000., -6000., -6000., -6000., -6000., -6000.,\n",
       "       -6000., -6000., -6000., -6000., -6000., -6000., -6000., -6000.,\n",
       "       -6000., -6000., -6000., -6000., -6000., -6000., -6000., -6000.,\n",
       "       -6000., -6000., -6000., -6000., -6000., -6000., -6000., -6000.,\n",
       "       -6000., -6000., -6000., -6000., -6000., -6000., -6000., -6000.,\n",
       "       -6000., -6000., -6000., -6000., -6000., -6000., -6000., -6000.,\n",
       "       -6000., -6000., -6000., -6000., -6000., -6000., -6000., -6000.,\n",
       "       -6000., -6000., -6000., -6000., -6000., -6000., -6000., -6000.,\n",
       "       -6000., -6000., -6000., -6000., -6000., -6000., -6000., -6000.,\n",
       "       -6000., -6000., -6000., -6000., -6000., -6000., -6000., -6000.,\n",
       "       -6000., -6000., -6000., -6000., -6000., -6000., -6000., -6000.,\n",
       "       -6000., -6000., -6000., -6000., -6000., -6000., -6000., -6000.,\n",
       "       -6000., -6000., -6000., -6000., -6000., -6000., -6000., -6000.,\n",
       "       -6000., -6000., -6000., -6000., -6000., -6000., -6000., -6000.,\n",
       "       -6000., -6000., -6000., -6000., -6000., -6000., -6000., -6000.,\n",
       "       -6000., -6000., -6000., -6000., -6000., -6000., -6000., -6000.,\n",
       "       -6000., -6000., -6000., -6000., -6000., -6000., -6000., -6000.,\n",
       "       -6000., -6000., -6000., -6000., -6000., -6000., -6000., -6000.,\n",
       "       -6000., -6000., -6000., -6000., -6000., -6000., -6000., -6000.,\n",
       "       -6000., -6000., -6000., -6000., -6000., -6000., -6000., -6000.,\n",
       "       -6000., -6000., -6000., -6000., -6000., -6000., -6000., -6000.,\n",
       "       -6000., -6000., -6000., -6000., -6000., -6000., -6000., -6000.,\n",
       "       -6000., -6000., -6000., -6000., -6000., -6000., -6000., -6000.,\n",
       "       -6000., -6000., -6000., -6000., -6000., -6000., -6000., -6000.,\n",
       "       -6000., -6000., -6000., -6000., -6000., -6000., -6000., -6000.,\n",
       "       -6000., -6000., -6000., -6000., -6000., -6000., -6000., -6000.,\n",
       "       -6000., -6000., -6000., -6000., -6000., -6000., -6000., -6000.,\n",
       "       -6000., -6000., -6000., -6000., -6000., -6000., -6000., -6000.,\n",
       "       -6000., -6000., -6000., -6000., -6000., -6000., -6000., -6000.,\n",
       "       -6000., -6000., -6000., -6000., -6000., -6000., -6000., -6000.,\n",
       "       -6000., -6000., -6000., -6000., -6000., -6000., -6000., -6000.,\n",
       "       -6000., -6000., -6000., -6000., -6000., -6000., -6000., -6000.,\n",
       "       -6000., -6000., -6000., -6000., -6000., -6000., -6000., -6000.,\n",
       "       -6000., -6000., -6000., -6000., -6000., -6000., -6000., -6000.,\n",
       "       -6000., -6000., -6000., -6000., -6000., -6000., -6000., -6000.,\n",
       "       -6000., -6000., -6000., -6000., -6000., -6000., -6000., -6000.,\n",
       "       -6000., -6000., -6000., -6000., -6000., -6000., -6000., -6000.,\n",
       "       -6000., -6000., -6000., -6000., -6000., -6000., -6000., -6000.,\n",
       "       -6000., -6000., -6000., -6000., -6000., -6000., -6000., -6000.,\n",
       "       -6000., -6000., -6000., -6000., -6000., -6000., -6000., -6000.,\n",
       "       -6000., -6000., -6000., -6000., -6000., -6000., -6000., -6000.,\n",
       "       -6000., -6000., -6000., -6000., -6000., -6000., -6000., -6000.,\n",
       "       -6000., -6000., -6000., -6000., -6000., -6000., -6000., -6000.,\n",
       "       -6000., -6000., -6000., -6000., -6000., -6000., -6000., -6000.,\n",
       "       -6000., -6000., -6000., -6000., -6000., -6000., -6000., -6000.,\n",
       "       -6000., -6000., -6000., -6000., -6000., -6000., -6000., -6000.,\n",
       "       -6000., -6000., -6000., -6000., -6000., -6000., -6000., -6000.,\n",
       "       -6000., -6000., -6000., -6000., -6000., -6000., -6000., -6000.,\n",
       "       -6000., -6000., -6000., -6000., -6000., -6000., -6000., -6000.,\n",
       "       -6000., -6000., -6000., -6000., -6000., -6000., -6000., -6000.,\n",
       "       -6000., -6000., -6000., -6000., -6000., -6000., -6000., -6000.,\n",
       "       -6000., -6000., -6000., -6000., -6000., -6000., -6000., -6000.,\n",
       "       -6000., -6000., -6000., -6000., -6000., -6000., -6000., -6000.,\n",
       "       -6000., -6000., -6000., -6000., -6000., -6000., -6000., -6000.,\n",
       "       -6000., -6000., -6000., -6000., -6000., -6000., -6000., -6000.,\n",
       "       -6000., -6000., -6000., -6000., -6000., -6000., -6000., -6000.,\n",
       "       -6000., -6000., -6000., -6000., -6000., -6000., -6000., -6000.,\n",
       "       -6000., -6000., -6000., -6000., -6000., -6000., -6000., -6000.,\n",
       "       -6000., -6000., -6000., -6000., -6000., -6000., -6000., -6000.,\n",
       "       -6000., -6000., -6000., -6000., -6000., -6000., -6000., -6000.,\n",
       "       -6000., -6000., -6000., -6000., -6000., -6000., -6000., -6000.,\n",
       "       -6000., -6000., -6000., -6000., -6000., -6000., -6000., -6000.,\n",
       "       -6000., -6000., -6000., -6000., -6000., -6000., -6000., -6000.,\n",
       "       -6000., -6000., -6000., -6000., -6000., -6000., -6000., -6000.,\n",
       "       -6000., -6000., -6000., -6000., -6000., -6000., -6000., -6000.,\n",
       "       -6000., -6000., -6000., -6000., -6000., -6000., -6000., -6000.,\n",
       "       -6000., -6000., -6000., -6000., -6000., -6000., -6000., -6000.,\n",
       "       -6000., -6000., -6000., -6000., -6000., -6000., -6000., -6000.,\n",
       "       -6000., -6000., -6000., -6000., -6000., -6000., -6000., -6000.,\n",
       "       -6000., -6000., -6000., -6000., -6000., -6000., -6000., -6000.,\n",
       "       -6000., -6000., -6000., -6000., -6000., -6000., -6000., -6000.,\n",
       "       -6000., -6000., -6000., -6000., -6000., -6000., -6000., -6000.,\n",
       "       -6000., -6000., -6000., -6000., -6000., -6000., -6000., -6000.,\n",
       "       -6000., -6000., -6000., -6000., -6000., -6000., -6000., -6000.,\n",
       "       -6000., -6000., -6000., -6000., -6000., -6000., -6000., -6000.,\n",
       "       -6000., -6000., -6000., -6000., -6000., -6000., -6000., -6000.,\n",
       "       -6000., -6000., -6000., -6000., -6000., -6000., -6000., -6000.,\n",
       "       -6000., -6000., -6000., -6000., -6000., -6000., -6000., -6000.,\n",
       "       -6000., -6000., -6000., -6000., -6000., -6000., -6000., -6000.,\n",
       "       -6000., -6000., -6000., -6000., -6000., -6000., -6000., -6000.,\n",
       "       -6000., -6000., -6000., -6000., -6000., -6000., -6000., -6000.])"
      ]
     },
     "execution_count": 53,
     "metadata": {},
     "output_type": "execute_result"
    }
   ],
   "source": [
    "overtime[33]"
   ]
  },
  {
   "cell_type": "code",
   "execution_count": 54,
   "metadata": {},
   "outputs": [
    {
     "data": {
      "text/plain": [
       "array([   0.,  200.,    0.,    0.,    0.,  200.,    0.,    0.,    0.,\n",
       "          0.,    0.,    0.,    0.,    0.,    0.,  300.,    0.,    0.,\n",
       "          0.,    0.,    0.,    0.,    0.,    0.,    0.,    0.,    0.,\n",
       "        100.,    0.,    0.,    0.,  100., 1000.,    0.,    0.,    0.,\n",
       "          0.,    0.])"
      ]
     },
     "execution_count": 54,
     "metadata": {},
     "output_type": "execute_result"
    }
   ],
   "source": [
    "cib[14,:]"
   ]
  },
  {
   "cell_type": "code",
   "execution_count": 55,
   "metadata": {},
   "outputs": [
    {
     "data": {
      "text/plain": [
       "array([-6000., -6000., -6000., -6000., -6000., -6000., -6000., -6000.,\n",
       "       -6000., -6000., -6000., -6000., -6000., -6000., -6000., -6000.,\n",
       "       -6000., -6000., -6000., -6000., -6000., -6000., -6000., -6000.,\n",
       "       -6000., -6000., -6000., -6000., -6000., -6000., -6000., -6000.,\n",
       "       -6000., -6000., -6000., -6000., -6000., -6000., -6000., -6000.,\n",
       "       -6000., -6000., -6000., -6000., -6000., -6000., -6000., -6000.,\n",
       "       -6000., -6000., -6000., -6000., -6000., -6000., -6000., -6000.,\n",
       "       -6000., -6000., -6000., -6000., -6000., -6000., -6000., -6000.,\n",
       "       -6000., -6000., -6000., -6000., -6000., -6000., -6000., -6000.,\n",
       "       -6000., -6000., -6000., -6000., -6000., -6000., -6000., -6000.,\n",
       "       -6000., -6000., -6000., -6000., -6000., -6000., -6000., -6000.,\n",
       "       -6000., -6000., -6000., -6000., -6000., -6000., -6000., -6000.,\n",
       "       -6000., -6000., -6000., -6000., -6000., -6000., -6000., -6000.,\n",
       "       -6000., -6000., -6000., -6000., -6000., -6000., -6000., -6000.,\n",
       "       -6000., -6000., -6000., -6000., -6000., -6000., -6000., -6000.,\n",
       "       -6000., -6000., -6000., -6000., -6000., -6000., -6000., -6000.,\n",
       "       -6000., -6000., -6000., -6000., -6000., -6000., -6000., -6000.,\n",
       "       -6000., -6000., -6000., -6000., -6000., -6000., -6000., -6000.,\n",
       "       -6000., -6000., -6000., -6000., -6000., -6000., -6000., -6000.,\n",
       "       -6000., -6000., -6000., -6000., -6000., -6000., -6000., -6000.,\n",
       "       -6000., -6000., -6000., -6000., -6000., -6000., -6000., -6000.,\n",
       "       -6000., -6000., -6000., -6000., -6000., -6000., -6000., -6000.,\n",
       "       -6000., -6000., -6000., -6000., -6000., -6000., -6000., -6000.,\n",
       "       -6000., -6000., -6000., -6000., -6000., -6000., -6000., -6000.,\n",
       "       -6000., -6000., -6000., -6000., -6000., -6000., -6000., -6000.,\n",
       "       -6000., -6000., -6000., -6000., -6000., -6000., -6000., -6000.,\n",
       "       -6000., -6000., -6000., -6000., -6000., -6000., -6000., -6000.,\n",
       "       -6000., -6000., -6000., -6000., -6000., -6000., -6000., -6000.,\n",
       "       -6000., -6000., -6000., -6000., -6000., -6000., -6000., -6000.,\n",
       "       -6000., -6000., -6000., -6000., -6000., -6000., -6000., -6000.,\n",
       "       -6000., -6000., -6000., -6000., -6000., -6000., -6000., -6000.,\n",
       "       -6000., -6000., -6000., -6000., -6000., -6000., -6000., -6000.,\n",
       "       -6000., -6000., -6000., -6000., -6000., -6000., -6000., -6000.,\n",
       "       -6000., -6000., -6000., -6000., -6000., -6000., -6000., -6000.,\n",
       "       -6000., -6000., -6000., -6000., -6000., -6000., -6000., -6000.,\n",
       "       -6000., -6000., -6000., -6000., -6000., -6000., -6000., -6000.,\n",
       "       -6000., -6000., -6000., -6000., -6000., -6000., -6000., -6000.,\n",
       "       -6000., -6000., -6000., -6000., -6000., -6000., -6000., -6000.,\n",
       "       -6000., -6000., -6000., -6000., -6000., -6000., -6000., -6000.,\n",
       "       -6000., -6000., -6000., -6000., -6000., -6000., -6000., -6000.,\n",
       "       -6000., -6000., -6000., -6000., -6000., -6000., -6000., -6000.,\n",
       "       -6000., -6000., -6000., -6000., -6000., -6000., -6000., -6000.,\n",
       "       -6000., -6000., -6000., -6000., -6000., -6000., -6000., -6000.,\n",
       "       -6000., -6000., -6000., -6000., -6000., -6000., -6000., -6000.,\n",
       "       -6000., -6000., -6000., -6000., -6000., -6000., -6000., -6000.,\n",
       "       -6000., -6000., -6000., -6000., -6000., -6000., -6000., -6000.,\n",
       "       -6000., -6000., -6000., -6000., -6000., -6000., -6000., -6000.,\n",
       "       -6000., -6000., -6000., -6000., -6000., -6000., -6000., -6000.,\n",
       "       -6000., -6000., -6000., -6000., -6000., -6000., -6000., -6000.,\n",
       "       -6000., -6000., -6000., -6000., -6000., -6000., -6000., -6000.,\n",
       "       -6000., -6000., -6000., -6000., -6000., -6000., -6000., -6000.,\n",
       "       -6000., -6000., -6000., -6000., -6000., -6000., -6000., -6000.,\n",
       "       -6000., -6000., -6000., -6000., -6000., -6000., -6000., -6000.,\n",
       "       -6000., -6000., -6000., -6000., -6000., -6000., -6000., -6000.,\n",
       "       -6000., -6000., -6000., -6000., -6000., -6000., -6000., -6000.,\n",
       "       -6000., -6000., -6000., -6000., -6000., -6000., -6000., -6000.,\n",
       "       -6000., -6000., -6000., -6000., -6000., -6000., -6000., -6000.,\n",
       "       -6000., -6000., -6000., -6000., -6000., -6000., -6000., -6000.,\n",
       "       -6000., -6000., -6000., -6000., -6000., -6000., -6000., -6000.,\n",
       "       -6000., -6000., -6000., -6000., -6000., -6000., -6000., -6000.,\n",
       "       -6000., -6000., -6000., -6000., -6000., -6000., -6000., -6000.,\n",
       "       -6000., -6000., -6000., -6000., -6000., -6000., -6000., -6000.,\n",
       "       -6000., -6000., -6000., -6000., -6000., -6000., -6000., -6000.,\n",
       "       -6000., -6000., -6000., -6000., -6000., -6000., -6000., -6000.,\n",
       "       -6000., -6000., -6000., -6000., -6000., -6000., -6000., -6000.,\n",
       "       -6000., -6000., -6000., -6000., -6000., -6000., -6000., -6000.,\n",
       "       -6000., -6000., -6000., -6000., -6000., -6000., -6000., -6000.,\n",
       "       -6000., -6000., -6000., -6000., -6000., -6000., -6000., -6000.,\n",
       "       -6000., -6000., -6000., -6000., -6000., -6000., -6000., -6000.,\n",
       "       -6000., -6000., -6000., -6000., -6000., -6000., -6000., -6000.,\n",
       "       -6000., -6000., -6000., -6000., -6000., -6000., -6000., -6000.,\n",
       "       -6000., -6000., -6000., -6000., -6000., -6000., -6000., -6000.,\n",
       "       -6000., -6000., -6000., -6000., -6000., -6000., -6000., -6000.,\n",
       "       -6000., -6000., -6000., -6000., -6000., -6000., -6000., -6000.,\n",
       "       -6000., -6000., -6000., -6000., -6000., -6000., -6000., -6000.,\n",
       "       -6000., -6000., -6000., -6000., -6000., -6000., -6000., -6000.,\n",
       "       -6000., -6000., -6000., -6000., -6000., -6000., -6000., -6000.,\n",
       "       -6000., -6000., -6000., -6000., -6000., -6000., -6000., -6000.,\n",
       "       -6000., -6000., -6000., -6000., -6000., -6000., -6000., -6000.,\n",
       "       -6000., -6000., -6000., -6000., -6000., -6000., -6000., -6000.,\n",
       "       -6000., -6000., -6000., -6000., -6000., -6000., -6000., -6000.,\n",
       "       -6000., -6000., -6000., -6000., -6000., -6000., -6000., -6000.,\n",
       "       -6000., -6000., -6000., -6000., -6000., -6000., -6000., -6000.,\n",
       "       -6000., -6000., -6000., -6000., -6000., -6000., -6000., -6000.,\n",
       "       -6000., -6000., -6000., -6000., -6000., -6000., -6000., -6000.,\n",
       "       -6000., -6000., -6000., -6000., -6000., -6000., -6000., -6000.,\n",
       "       -6000., -6000., -6000., -6000., -6000., -6000., -6000., -6000.,\n",
       "       -6000., -6000., -6000., -6000., -6000., -6000., -6000., -6000.,\n",
       "       -6000., -6000., -6000., -6000., -6000., -6000., -6000., -6000.,\n",
       "       -6000., -6000., -6000., -6000., -6000., -6000., -6000., -6000.,\n",
       "       -6000., -6000., -6000., -6000., -6000., -6000., -6000., -6000.,\n",
       "       -6000., -6000., -6000., -6000., -6000., -6000., -6000., -6000.,\n",
       "       -6000., -6000., -6000., -6000., -6000., -6000., -6000., -6000.,\n",
       "       -6000., -6000., -6000., -6000., -6000., -6000., -6000., -6000.,\n",
       "       -6000., -6000., -6000., -6000., -6000., -6000., -6000., -6000.,\n",
       "       -6000., -6000., -6000., -6000., -6000., -6000., -6000., -6000.,\n",
       "       -6000., -6000., -6000., -6000., -6000., -6000., -6000., -6000.,\n",
       "       -6000., -6000., -6000., -6000., -6000., -6000., -6000., -6000.,\n",
       "       -6000., -6000., -6000., -6000., -6000., -6000., -6000., -6000.,\n",
       "       -6000., -6000., -6000., -6000., -6000., -6000., -6000., -6000.,\n",
       "       -6000., -6000., -6000., -6000., -6000., -6000., -6000., -6000.,\n",
       "       -6000., -6000., -6000., -6000., -6000., -6000., -6000., -6000.,\n",
       "       -6000., -6000., -6000., -6000., -6000., -6000., -6000., -6000.,\n",
       "       -6000., -6000., -6000., -6000., -6000., -6000., -6000., -6000.,\n",
       "       -6000., -6000., -6000., -6000., -6000., -6000., -6000., -6000.,\n",
       "       -6000., -6000., -6000., -6000., -6000., -6000., -6000., -6000.,\n",
       "       -6000., -6000., -6000., -6000., -6000., -6000., -6000., -6000.,\n",
       "       -6000., -6000., -6000., -6000., -6000., -6000., -6000., -6000.,\n",
       "       -6000., -6000., -6000., -6000., -6000., -6000., -6000., -6000.,\n",
       "       -6000., -6000., -6000., -6000., -6000., -6000., -6000., -6000.,\n",
       "       -6000., -6000., -6000., -6000., -6000., -6000., -6000., -6000.,\n",
       "       -6000., -6000., -6000., -6000., -6000., -6000., -6000., -6000.,\n",
       "       -6000., -6000., -6000., -6000., -6000., -6000., -6000., -6000.,\n",
       "       -6000., -6000., -6000., -6000., -6000., -6000., -6000., -6000.,\n",
       "       -6000., -6000., -6000., -6000., -6000., -6000., -6000., -6000.,\n",
       "       -6000., -6000., -6000., -6000., -6000., -6000., -6000., -6000.,\n",
       "       -6000., -6000., -6000., -6000., -6000., -6000., -6000., -6000.,\n",
       "       -6000., -6000., -6000., -6000., -6000., -6000., -6000., -6000.,\n",
       "       -6000., -6000., -6000., -6000., -6000., -6000., -6000., -6000.,\n",
       "       -6000., -6000., -6000., -6000., -6000., -6000., -6000., -6000.,\n",
       "       -6000., -6000., -6000., -6000., -6000., -6000., -6000., -6000.,\n",
       "       -6000., -6000., -6000., -6000., -6000., -6000., -6000., -6000.,\n",
       "       -6000., -6000., -6000., -6000., -6000., -6000., -6000., -6000.,\n",
       "       -6000., -6000., -6000., -6000., -6000., -6000., -6000., -6000.,\n",
       "       -6000., -6000., -6000., -6000., -6000., -6000., -6000., -6000.])"
      ]
     },
     "execution_count": 55,
     "metadata": {},
     "output_type": "execute_result"
    }
   ],
   "source": [
    "overtime[33]"
   ]
  },
  {
   "cell_type": "code",
   "execution_count": 56,
   "metadata": {},
   "outputs": [
    {
     "data": {
      "text/plain": [
       "array([[148.42225178, 108.65904597,  41.12937608, ...,  38.32034135,\n",
       "        102.79314031, 149.53868198],\n",
       "       [  0.        ,   0.        ,   0.        , ...,  28.50113118,\n",
       "          0.        ,   0.        ],\n",
       "       [103.81553056, 120.0586953 , 102.37394165, ...,  89.00152996,\n",
       "        100.78004506, 197.56247227],\n",
       "       ...,\n",
       "       [  0.        ,   0.        ,   0.        , ...,   0.        ,\n",
       "          0.        ,   0.        ],\n",
       "       [  0.        ,   0.        ,   0.        , ...,   0.        ,\n",
       "          0.        ,   0.        ],\n",
       "       [  0.        ,   0.        ,   0.        , ...,   0.        ,\n",
       "          0.        ,   0.        ]])"
      ]
     },
     "execution_count": 56,
     "metadata": {},
     "output_type": "execute_result"
    }
   ],
   "source": [
    "os"
   ]
  },
  {
   "cell_type": "code",
   "execution_count": 57,
   "metadata": {},
   "outputs": [
    {
     "data": {
      "text/plain": [
       "array([[   0.        ,    0.        ,    0.        , ...,    0.        ,\n",
       "           0.        ,    0.        ],\n",
       "       [  15.56384699,   89.91516068,   71.6762512 , ...,    0.        ,\n",
       "          28.36910685,   79.0012068 ],\n",
       "       [   0.        ,    0.        ,    0.        , ...,    0.        ,\n",
       "           0.        ,    0.        ],\n",
       "       ...,\n",
       "       [6000.        , 6000.        , 6000.        , ..., 6000.        ,\n",
       "        6000.        , 6000.        ],\n",
       "       [6000.        , 6000.        , 6000.        , ..., 6000.        ,\n",
       "        6000.        , 6000.        ],\n",
       "       [6000.        , 6000.        , 6000.        , ..., 6000.        ,\n",
       "        6000.        , 6000.        ]])"
      ]
     },
     "execution_count": 57,
     "metadata": {},
     "output_type": "execute_result"
    }
   ],
   "source": [
    "gs"
   ]
  },
  {
   "cell_type": "code",
   "execution_count": 58,
   "metadata": {},
   "outputs": [
    {
     "data": {
      "text/plain": [
       "array([   0.,    0.,    0.,    0.,  100.,    0.,  300.,    0.,    0.,\n",
       "          0.,    0.,    0.,  200.,    0.,    0.,    0.,    0.,    0.,\n",
       "          0.,  300.,    0.,    0.,    0.,    0.,    0.,  300.,    0.,\n",
       "          0.,    0.,    0.,  200.,    0.,    0.,    0.,    0.,    0.,\n",
       "          0., 1000.])"
      ]
     },
     "execution_count": 58,
     "metadata": {},
     "output_type": "execute_result"
    }
   ],
   "source": [
    "cib[103,:]"
   ]
  },
  {
   "cell_type": "code",
   "execution_count": 59,
   "metadata": {},
   "outputs": [
    {
     "data": {
      "text/plain": [
       "(125, 38)"
      ]
     },
     "execution_count": 59,
     "metadata": {},
     "output_type": "execute_result"
    }
   ],
   "source": [
    "cib.shape"
   ]
  },
  {
   "cell_type": "code",
   "execution_count": 60,
   "metadata": {},
   "outputs": [],
   "source": [
    "pd.DataFrame(os).to_csv(\"osdata_125Surgeries_nobounds.csv\")\n",
    "pd.DataFrame(gs).to_csv(\"gsdata_125Surgeries_nobounds.csv\")"
   ]
  },
  {
   "cell_type": "code",
   "execution_count": null,
   "metadata": {},
   "outputs": [],
   "source": []
  },
  {
   "cell_type": "code",
   "execution_count": null,
   "metadata": {},
   "outputs": [],
   "source": []
  },
  {
   "cell_type": "code",
   "execution_count": null,
   "metadata": {},
   "outputs": [],
   "source": []
  },
  {
   "cell_type": "code",
   "execution_count": null,
   "metadata": {},
   "outputs": [],
   "source": []
  },
  {
   "cell_type": "code",
   "execution_count": 62,
   "metadata": {},
   "outputs": [
    {
     "name": "stdout",
     "output_type": "stream",
     "text": [
      "(32, 1000) (32, 1000)\n",
      "(32, 1000) (32, 1000)\n"
     ]
    }
   ],
   "source": [
    "os_bnd_125 = np.array(pd.read_csv(\"osdata_125Surgeries.csv\"))[:32,1:]\n",
    "gs_bnd_125 = np.array(pd.read_csv(\"gsdata_125Surgeries.csv\"))[:32,1:]\n",
    "\n",
    "os_bnd_100 = np.array(pd.read_csv(\"osdata_100Surgeries.csv\"))[:32,1:]\n",
    "gs_bnd_100 = np.array(pd.read_csv(\"gsdata_100Surgeries.csv\"))[:32,1:]\n",
    "\n",
    "print(os_bnd_125.shape,os_bnd_100.shape)\n",
    "print(gs_bnd_125.shape,gs_bnd_100.shape)\n",
    "\n"
   ]
  },
  {
   "cell_type": "code",
   "execution_count": 66,
   "metadata": {},
   "outputs": [
    {
     "name": "stdout",
     "output_type": "stream",
     "text": [
      "CARD\n",
      "  Block: 2   Overtime: 0.0 1.3973610246238741\n",
      "  Block: 2   Idletime: 183.41698076977787 84.07182500222488\n",
      "  Block: 6   Overtime: 0.0 0.0\n",
      "  Block: 6   Idletime: 280.8605081177769 182.85948668657662\n",
      "  Block: 16   Overtime: 0.0 1.5581043343689434\n",
      "  Block: 16   Idletime: 181.99497885904722 86.9522907749641\n",
      "  Block: 28   Overtime: 0.0 0.0\n",
      "  Block: 28   Idletime: 181.3761570200252 181.48672044415056\n",
      "  Block: 32   Overtime: 0.0 1.5114926569574259\n",
      "  Block: 32   Idletime: 182.3406451487189 84.68561686884408\n",
      "\n",
      "GASTRO\n",
      "  Block: 1   Overtime: 4.886650404880752 4.156330375408991\n",
      "  Block: 1   Idletime: 80.92671722255372 88.41258085504984\n",
      "  Block: 8   Overtime: 3.815281665175108 3.4311541179361202\n",
      "  Block: 8   Idletime: 86.05587810758391 90.70449501987372\n",
      "  Block: 14   Overtime: 3.2485617894521672 4.235284715869302\n",
      "  Block: 14   Idletime: 87.79554161370129 90.03256552601766\n",
      "  Block: 15   Overtime: 3.969927582698121 4.754174478915259\n",
      "  Block: 15   Idletime: 87.00460741259317 85.31873212636717\n",
      "  Block: 22   Overtime: 4.549259847423197 5.130114427785428\n",
      "  Block: 22   Idletime: 86.01442094910584 87.99642064637813\n",
      "  Block: 27   Overtime: 4.172401471710631 4.052754711057236\n",
      "  Block: 27   Idletime: 88.97447403633696 88.97883491659195\n",
      "\n",
      "GYN\n",
      "  Block: 4   Overtime: 0.0 2.0501998465764126\n",
      "  Block: 4   Idletime: 167.19546227842105 92.34356473626829\n",
      "  Block: 11   Overtime: 0.0 0.0\n",
      "  Block: 11   Idletime: 165.9500637075217 168.0742902720355\n",
      "  Block: 12   Overtime: 0.0 0.0\n",
      "  Block: 12   Idletime: 244.77202587339218 163.61746292705334\n",
      "  Block: 18   Overtime: 0.0 1.9280231670000185\n",
      "  Block: 18   Idletime: 164.47116572414225 92.72162565369167\n",
      "  Block: 19   Overtime: 0.0 0.0\n",
      "  Block: 19   Idletime: 243.36159890939356 166.77396553820682\n",
      "  Block: 24   Overtime: 0.0 0.0\n",
      "  Block: 24   Idletime: 243.39581041057122 167.09129316927866\n",
      "  Block: 25   Overtime: 0.0 0.0\n",
      "  Block: 25   Idletime: 167.96487061039096 167.9117734584399\n",
      "  Block: 30   Overtime: 0.0 1.8591014522583855\n",
      "  Block: 30   Idletime: 243.84388432886422 87.96065697056189\n",
      "\n",
      "MED\n",
      "  Block: 17   Overtime: 0.005149162973176743 4.834821219138528\n",
      "  Block: 17   Idletime: 104.84180785883065 37.60869065586496\n",
      "\n",
      "ORTHO\n",
      "  Block: 3   Overtime: 4.712011506113378 4.2990976823952405\n",
      "  Block: 3   Idletime: 55.290512665696674 57.99857572099546\n",
      "  Block: 9   Overtime: 3.3107928211502706 4.800845545297004\n",
      "  Block: 9   Idletime: 60.993719558240045 56.73222423751304\n",
      "  Block: 10   Overtime: 4.482809878065712 5.483842860941215\n",
      "  Block: 10   Idletime: 55.514855364100676 56.18594251345508\n",
      "  Block: 21   Overtime: 0.0 4.116297338509459\n",
      "  Block: 21   Idletime: 191.23131778450775 57.58396070807632\n",
      "  Block: 23   Overtime: 4.847495301769171 4.827197241739625\n",
      "  Block: 23   Idletime: 58.57863254521482 58.59616153118387\n",
      "  Block: 29   Overtime: 4.577427354843335 4.287582475747067\n",
      "  Block: 29   Idletime: 59.28080693387895 57.23871333234228\n",
      "\n",
      "URO\n",
      "  Block: 5   Overtime: 0.0 0.0\n",
      "  Block: 5   Idletime: 264.04627876111385 121.56917068084405\n",
      "  Block: 7   Overtime: 0.0 0.02501216329860867\n",
      "  Block: 7   Idletime: 190.75053426968418 117.43063762188868\n",
      "  Block: 13   Overtime: 0.0 0.0\n",
      "  Block: 13   Idletime: 407.0595933181286 409.07461309476673\n",
      "  Block: 20   Overtime: 0.03878107433567416 0.04308264682479391\n",
      "  Block: 20   Idletime: 119.58762199556679 117.49507121223007\n",
      "  Block: 26   Overtime: 0.0 0.0\n",
      "  Block: 26   Idletime: 190.61999173120793 263.04162853910475\n",
      "  Block: 31   Overtime: 0.0 0.0\n",
      "  Block: 31   Idletime: 409.09111476117636 194.1844334345336\n",
      "\n"
     ]
    }
   ],
   "source": [
    "for s in specs:\n",
    "    print(s)\n",
    "    for b in blocks[s]:\n",
    "        if b <= 32:\n",
    "            print(\"  Block:\",b,\"  Overtime:\",np.mean(os_bnd_100[b-1,:]),np.mean(os_bnd_125[b-1,:]))\n",
    "            print(\"  Block:\",b,\"  Idletime:\",np.mean(gs_bnd_100[b-1,:]),np.mean(gs_bnd_125[b-1,:]))\n",
    "    print(\"\")"
   ]
  },
  {
   "cell_type": "code",
   "execution_count": 67,
   "metadata": {},
   "outputs": [
    {
     "name": "stdout",
     "output_type": "stream",
     "text": [
      "  Overtime: 1.4567671831434592 2.1494335775827795\n",
      "  Idletime: 166.70633058272705 120.71043827735544\n"
     ]
    }
   ],
   "source": [
    "print(\"  Overtime:\",np.mean(os_bnd_100[:,:]),np.mean(os_bnd_125[:,:]))\n",
    "print(\"  Idletime:\",np.mean(gs_bnd_100[:,:]),np.mean(gs_bnd_125[:,:]))"
   ]
  },
  {
   "cell_type": "code",
   "execution_count": 76,
   "metadata": {},
   "outputs": [
    {
     "name": "stdout",
     "output_type": "stream",
     "text": [
      "105\n"
     ]
    }
   ],
   "source": [
    "for i in range(n_surgeries):\n",
    "    val = avg_model.y[i+1,13].value\n",
    "    if val > 0:\n",
    "        print(i+1)"
   ]
  },
  {
   "cell_type": "code",
   "execution_count": null,
   "metadata": {},
   "outputs": [],
   "source": []
  }
 ],
 "metadata": {
  "kernelspec": {
   "display_name": "Python 3",
   "language": "python",
   "name": "python3"
  },
  "language_info": {
   "codemirror_mode": {
    "name": "ipython",
    "version": 3
   },
   "file_extension": ".py",
   "mimetype": "text/x-python",
   "name": "python",
   "nbconvert_exporter": "python",
   "pygments_lexer": "ipython3",
   "version": "3.8.5"
  }
 },
 "nbformat": 4,
 "nbformat_minor": 4
}
