{
 "cells": [
  {
   "cell_type": "code",
   "execution_count": 48,
   "metadata": {},
   "outputs": [],
   "source": [
    "import numpy as np\n",
    "import matplotlib.pyplot as plt\n",
    "from pyomo.environ import *\n",
    "import pandas as pd\n",
    "from scipy.stats import truncnorm"
   ]
  },
  {
   "cell_type": "code",
   "execution_count": 49,
   "metadata": {},
   "outputs": [],
   "source": [
    "np.random.seed(0)\n",
    "def get_surgery_time(mean,std):\n",
    "    #sh,sc = (mean/std)**2,std**2/mean\n",
    "    #return np.random.gamma(shape=sh,scale=sc)\n",
    "    return truncnorm.rvs(-1,1,loc=mean,scale=std)"
   ]
  },
  {
   "cell_type": "code",
   "execution_count": 50,
   "metadata": {},
   "outputs": [
    {
     "name": "stdout",
     "output_type": "stream",
     "text": [
      "{'CARD': 18, 'GASTRO': 22, 'GYN': 35, 'MED': 6, 'ORTHO': 21, 'URO': 23}\n",
      "{'CARD': [0, 17], 'GASTRO': [18, 39], 'GYN': [40, 74], 'MED': [75, 80], 'ORTHO': [81, 101], 'URO': [102, 124]}\n"
     ]
    }
   ],
   "source": [
    "#problem parameters\n",
    "specs = ['CARD','GASTRO','GYN','MED','ORTHO','URO']\n",
    "\n",
    "surgery_data = {'CARD':[99.0,53.0],'GASTRO':[132.0,76.0],'GYN':[78.0,52.0],'MED':[75.0,32.0],'ORTHO':[142.0,58.0],'URO':[72.0,38.0]}\n",
    "\n",
    "blocks = {'CARD':[2,6,16,28,32,33],'GASTRO':[1,8,14,15,22,27,34],'GYN':[4,11,12,18,19,24,25,30,35],'MED':[17,36],'ORTHO':[3,9,10,21,23,29,37],'URO':[5,7,13,20,26,31,38]}\n",
    "block_len = [8*60.0 for i in range(32)]+[100*60.0 for i in range(len(specs))]\n",
    "n_blocks = len(block_len)\n",
    "\n",
    "n_surgeries = 125\n",
    "percent_surg = {'CARD':14,'GASTRO':18,'GYN':28,'MED':5,'ORTHO':17,'URO':18}\n",
    "surgeries = {}\n",
    "tot = 0\n",
    "for i in specs[:len(specs)-1]:\n",
    "    surgeries[i] = round(n_surgeries*percent_surg[i]/100.0)\n",
    "    tot += surgeries[i]\n",
    "surgeries[specs[-1]] = n_surgeries-tot\n",
    "\n",
    "surgery_nums = {}\n",
    "t = 0\n",
    "for s in specs:\n",
    "    surgery_nums[s] = [t,t+surgeries[s]-1]\n",
    "    t = t+surgeries[s]\n",
    "    \n",
    "print(surgeries)\n",
    "print(surgery_nums)"
   ]
  },
  {
   "cell_type": "code",
   "execution_count": 51,
   "metadata": {},
   "outputs": [],
   "source": [
    "np.random.seed(0)\n",
    "cib = np.array([[0.0 for _ in range(n_blocks)] for _ in range(n_surgeries)]) # block costs\n",
    "for s in specs:\n",
    "    for i in range(surgery_nums[s][0],surgery_nums[s][1]):\n",
    "        #costs = sorted([np.random.randint(low=1,high=5)*100 for _ in range(len(blocks[s])-1)])\n",
    "        costs = [np.random.randint(low=1,high=5)*100 for _ in range(len(blocks[s])-1)]\n",
    "        f = 0\n",
    "        for b in blocks[s][:len(blocks[s])-1]:\n",
    "            cib[i,b-1] = costs[f]\n",
    "            f += 1\n",
    "            \n",
    "        \n",
    "dummy_cost = 1000\n",
    "for s in specs:\n",
    "    for i in range(surgery_nums[s][0],surgery_nums[s][1]+1):\n",
    "        b = blocks[s][-1]\n",
    "        cib[i,b-1] = dummy_cost\n",
    "\n",
    "cob = np.array([5.0 for _ in range(n_blocks)])\n",
    "cgb = np.array([5.0/1.5 for _ in range(n_blocks-len(specs))]+[0.0 for _ in range(len(specs))])"
   ]
  },
  {
   "cell_type": "code",
   "execution_count": 52,
   "metadata": {},
   "outputs": [],
   "source": [
    "#block and surgery of a speciality fesibility\n",
    "p = [[0.0 for _ in range(n_blocks)] for _ in range(n_surgeries)]\n",
    "p = np.array(p)\n",
    "t = 0\n",
    "for s in specs:\n",
    "    for i in range(surgeries[s]):\n",
    "        for b in blocks[s]:\n",
    "            p[t,b-1] = 1.0\n",
    "        t += 1"
   ]
  },
  {
   "cell_type": "code",
   "execution_count": 53,
   "metadata": {},
   "outputs": [
    {
     "name": "stdout",
     "output_type": "stream",
     "text": [
      "[0. 1. 0. 0. 0. 1. 0. 0. 0. 0. 0. 0. 0. 0. 0. 1. 0. 0. 0. 0. 0. 0. 0. 0.\n",
      " 0. 0. 0. 1. 0. 0. 0. 1. 1. 0. 0. 0. 0. 0.]\n"
     ]
    }
   ],
   "source": [
    "print(p[9,:])"
   ]
  },
  {
   "cell_type": "code",
   "execution_count": 54,
   "metadata": {},
   "outputs": [],
   "source": [
    "n_scenarios = 1000\n",
    "avg_model = ConcreteModel()\n",
    "avg_model.y = Var(RangeSet(n_surgeries),RangeSet(n_blocks),domain=Binary)\n",
    "avg_model.o = Var(RangeSet(n_blocks),RangeSet(n_scenarios),domain=NonNegativeReals,bounds=(0,120))\n",
    "avg_model.g = Var(RangeSet(n_blocks),RangeSet(n_scenarios),domain=NonNegativeReals)\n",
    "\n",
    "avg_model.atmost1 = ConstraintList()\n",
    "for i in range(n_surgeries):\n",
    "    avg_model.atmost1.add(expr=sum(avg_model.y[i+1,b] for b in range(1,n_blocks+1))==1)\n",
    "\n",
    "avg_model.specfeas = ConstraintList()\n",
    "for i in range(n_surgeries):\n",
    "    for b in range(n_blocks):\n",
    "        avg_model.specfeas.add(expr=avg_model.y[i+1,b+1] <= p[i,b])\n",
    "\n",
    "avg_model.ogcons = ConstraintList()\n",
    "for n in range(n_scenarios):\n",
    "    t = 0\n",
    "    for s in specs:\n",
    "        for b in blocks[s]:\n",
    "            avg_model.ogcons.add(expr=avg_model.o[b,n+1]-avg_model.g[b,n+1] == sum(get_surgery_time(surgery_data[s][0],surgery_data[s][1])*avg_model.y[i+1,b] for i in range(surgery_nums[s][0],surgery_nums[s][1]+1))-block_len[b-1])\n",
    "\n",
    "avg_model.atleast1inblock = ConstraintList()\n",
    "for b in range(n_blocks-len(specs)):\n",
    "    avg_model.atleast1inblock.add(expr=sum(avg_model.y[i+1,b+1] for i in range(n_surgeries))>=1.0)\n",
    "\n",
    "avg_model.cost = Objective(expr=sum(sum(avg_model.y[i+1,b+1]*cib[i,b] for i in range(n_surgeries)) for b in range(n_blocks))+(sum(cob[b]*avg_model.o[b+1,n+1]+cgb[b]*avg_model.g[b+1,n+1] for b in range(n_blocks) for n in range(n_scenarios)))/n_scenarios,sense=minimize)"
   ]
  },
  {
   "cell_type": "code",
   "execution_count": 55,
   "metadata": {},
   "outputs": [
    {
     "name": "stdout",
     "output_type": "stream",
     "text": [
      "\n",
      "Welcome to IBM(R) ILOG(R) CPLEX(R) Interactive Optimizer 20.1.0.0\n",
      "  with Simplex, Mixed Integer & Barrier Optimizers\n",
      "5725-A06 5725-A29 5724-Y48 5724-Y49 5724-Y54 5724-Y55 5655-Y21\n",
      "Copyright IBM Corp. 1988, 2020.  All Rights Reserved.\n",
      "\n",
      "Type 'help' for a list of available commands.\n",
      "Type 'help' followed by a command name for more\n",
      "information on commands.\n",
      "\n",
      "CPLEX> Logfile 'cplex.log' closed.\n",
      "Logfile 'C:\\Users\\91824\\AppData\\Local\\Temp\\tmpdt3ssl4k.cplex.log' open.\n",
      "CPLEX> New value for time limit in seconds: 1800\n",
      "CPLEX> Problem 'C:\\Users\\91824\\AppData\\Local\\Temp\\tmpav5h01s4.pyomo.lp' read.\n",
      "Read time = 0.36 sec. (17.37 ticks)\n",
      "CPLEX> Problem name         : C:\\Users\\91824\\AppData\\Local\\Temp\\tmpav5h01s4.pyomo.lp\n",
      "Objective sense      : Minimize\n",
      "Variables            :   80751  [Nneg: 38001,  Box: 38000,  Binary: 4750]\n",
      "Objective nonzeros   :   70865\n",
      "Linear constraints   :   42908  [Less: 4750,  Greater: 32,  Equal: 38126]\n",
      "  Nonzeros           :  986501\n",
      "  RHS nonzeros       :   39055\n",
      "\n",
      "Variables            : Min LB: 0.000000         Max UB: 120.0000       \n",
      "Objective nonzeros   : Min   : 0.003333333      Max   : 1000.000       \n",
      "Linear constraints   :\n",
      "  Nonzeros           : Min   : 1.000000         Max   : 207.9988       \n",
      "  RHS nonzeros       : Min   : 1.000000         Max   : 6000.000       \n",
      "CPLEX> Version identifier: 20.1.0.0 | 2020-11-10 | 9bedb6d68\n",
      "CPXPARAM_TimeLimit                               1800\n",
      "Tried aggregator 2 times.\n",
      "MIP Presolve eliminated 11536 rows and 17424 columns.\n",
      "Aggregator did 6 substitutions.\n",
      "Reduced MIP has 31366 rows, 63321 columns, and 831377 nonzeros.\n",
      "Reduced MIP has 891 binaries, 0 generals, 0 SOSs, and 0 indicators.\n",
      "Presolve time = 0.53 sec. (381.44 ticks)\n",
      "Probing time = 0.20 sec. (33.29 ticks)\n",
      "Cover probing fixed 0 vars, tightened 23104 bounds.\n",
      "Tried aggregator 1 time.\n",
      "Detecting symmetries...\n",
      "MIP Presolve eliminated 216 rows and 436 columns.\n",
      "Reduced MIP has 31150 rows, 62885 columns, and 829651 nonzeros.\n",
      "Reduced MIP has 885 binaries, 0 generals, 0 SOSs, and 0 indicators.\n",
      "Presolve time = 0.91 sec. (434.23 ticks)\n",
      "Probing time = 0.17 sec. (31.84 ticks)\n",
      "Clique table members: 119.\n",
      "MIP emphasis: balance optimality and feasibility.\n",
      "MIP search method: dynamic search.\n",
      "Parallel mode: deterministic, using up to 8 threads.\n",
      "Root relaxation solution time = 42.70 sec. (18571.62 ticks)\n",
      "\n",
      "        Nodes                                         Cuts/\n",
      "   Node  Left     Objective  IInf  Best Integer    Best Bound    ItCnt     Gap\n",
      "\n",
      "*     0+    0                        87853.4091     1349.5364            98.46%\n",
      "*     0+    0                        48731.9218     1349.5364            97.23%\n",
      "      0     0    27564.7671   192    48731.9218    27564.7671    64213   43.44%\n",
      "*     0+    0                        34492.5308    27564.7671            20.08%\n",
      "      0     0    28026.2206   226    34492.5308    Cuts: 2245    68812   18.75%\n",
      "      0     0    28115.2826   239    34492.5308     Cuts: 847    71199   18.49%\n",
      "      0     0    28150.4916   254    34492.5308     Cuts: 483    73395   18.39%\n",
      "      0     0    28174.2703   256    34492.5308     Cuts: 317    75806   18.32%\n",
      "      0     0    28192.7201   259    34492.5308     Cuts: 195    77707   18.26%\n",
      "Detecting symmetries...\n",
      "      0     0    28200.2477   255    34492.5308     Cuts: 239    78606   18.24%\n",
      "      0     0    28207.6151   250    34492.5308      Cuts: 93    79462   18.22%\n",
      "      0     0    28213.2330   250    34492.5308     Cuts: 124    80149   18.20%\n",
      "      0     0    28221.3307   259    34492.5308      Cuts: 78    80914   18.18%\n",
      "      0     0    28225.2199   259    34492.5308      Cuts: 79    81687   18.17%\n",
      "      0     0    28228.8657   251    34492.5308      Cuts: 57    82425   18.16%\n",
      "      0     0    28230.8297   261    34492.5308      Cuts: 60    82919   18.15%\n",
      "      0     0    28234.4267   260    34492.5308      Cuts: 40    83441   18.14%\n",
      "Heuristic still looking.\n",
      "*     0+    0                        34410.8550    28234.4267            17.95%\n",
      "Detecting symmetries...\n",
      "      0     2    28234.4267   260    34410.8550    28234.4267    83441   17.95%\n",
      "Elapsed time = 107.06 sec. (67479.26 ticks, tree = 0.02 MB, solutions = 4)\n",
      "      1     3    28265.4265   255    34410.8550    28234.4324    84497   17.95%\n",
      "      2     3    28259.7711   257    34410.8550    28234.4324    84347   17.95%\n",
      "      3     4    28306.0508   249    34410.8550    28234.4324    86049   17.95%\n",
      "      4     4    28275.3735   248    34410.8550    28234.4324    85296   17.95%\n",
      "      5     6    28346.9689   246    34410.8550    28259.7714    88465   17.88%\n",
      "      8     9    28352.3372   250    34410.8550    28259.7844    93019   17.88%\n",
      "     12     6    28342.8626   241    34410.8550    28275.3895    88431   17.83%\n",
      "     15     7    28341.1715   248    34410.8550    28275.3895    89577   17.83%\n",
      "     17     9    28356.0059   246    34410.8550    28275.3895    93138   17.83%\n",
      "     29    26    28473.2974   241    34410.8550    28284.3609   118587   17.80%\n",
      "Elapsed time = 129.61 sec. (72382.54 ticks, tree = 1.70 MB, solutions = 4)\n",
      "     43    34    28832.2170   227    34410.8550    28284.3609   130947   17.80%\n",
      "     57    41    28794.4165   228    34410.8550    28284.3609   139354   17.80%\n",
      "     71    49    28667.8428   241    34410.8550    28284.3609   152022   17.80%\n",
      "     82    61    28715.7533   232    34410.8550    28284.3609   165561   17.80%\n",
      "     91    86    29253.4774   198    34410.8550    28284.3609   198305   17.80%\n",
      "    101    92    28927.5658   225    34410.8550    28284.3609   206255   17.80%\n",
      "    112    93    28953.9837   214    34410.8550    28284.3609   208688   17.80%\n",
      "    134   123    29305.9007   193    34410.8550    28284.3609   252595   17.80%\n",
      "    168   130    30725.3338   166    34410.8550    28284.3609   252955   17.80%\n",
      "    194   174    29427.9431   202    34410.8550    28284.3609   293512   17.80%\n",
      "Elapsed time = 182.08 sec. (82470.89 ticks, tree = 19.60 MB, solutions = 4)\n",
      "    208   168    29157.9730   218    34410.8550    28284.3609   291650   17.80%\n",
      "    227   199    29930.1238   185    34410.8550    28284.3609   310402   17.80%\n",
      "*   249+  161                        34408.6640    28284.3609            17.80%\n",
      "    250   207    30182.2479   180    34408.6640    28284.3609   313582   17.80%\n",
      "    275   256    30893.0707   156    34408.6640    28284.3609   348944   17.80%\n",
      "    295   257    29883.4486   188    34408.6640    28284.3609   351300   17.80%\n",
      "    318   265    29784.6787   183    34408.6640    28284.3609   357852   17.80%\n",
      "    334   291    30196.9110   193    34408.6640    28284.3609   372800   17.80%\n",
      "    355   301    30549.7034   170    34408.6640    28284.3609   379220   17.80%\n",
      "    370   332    30712.4782   167    34408.6640    28284.3609   402774   17.80%\n",
      "    394   355    30649.9533   164    34408.6640    28284.3609   410182   17.80%\n",
      "Elapsed time = 238.86 sec. (92252.75 ticks, tree = 57.83 MB, solutions = 5)\n",
      "    411   346    31812.3819   143    34408.6640    28284.3609   409701   17.80%\n",
      "    439   381    30176.3229   193    34408.6640    28284.3609   432256   17.80%\n",
      "    467   373    32539.4687   129    34408.6640    28284.3609   425455   17.80%\n",
      "    493   436    31554.7542   123    34408.6640    28284.3609   462548   17.80%\n",
      "    506   388    30720.0785   177    34408.6640    28284.3609   436122   17.80%\n",
      "    534   490    31597.4257   161    34408.6640    28284.3609   492240   17.80%\n",
      "    582   494    31037.3054   157    34408.6640    28284.3609   496254   17.80%\n",
      "    603   519    32486.9819   108    34408.6640    28284.3609   510757   17.80%\n",
      "*   613+  520                        34123.1175    28284.3609            17.11%\n",
      "    625   542    34209.6883    77    34123.1175    28284.3609   520228   17.11%\n",
      "*   635+  520                        34117.2250    28284.3609            17.10%\n",
      "    638   584    33007.6319    83    34117.2250    28284.3609   545365   17.10%\n",
      "Elapsed time = 292.55 sec. (102170.98 ticks, tree = 114.17 MB, solutions = 7)\n",
      "    668   594    33651.5908    77    34117.2250    28284.3609   549402   17.10%\n",
      "    706   606    34055.2611    64    34117.2250    28284.3609   552849   17.10%\n",
      "    727   627    33050.3411   120    34117.2250    28284.3609   580202   17.10%\n",
      "    741   670    32402.7348   125    34117.2250    28284.3609   598312   17.10%\n"
     ]
    },
    {
     "name": "stdout",
     "output_type": "stream",
     "text": [
      "    762   676    32889.5371   112    34117.2250    28284.3609   601124   17.10%\n",
      "    785   663    28534.6244   250    34117.2250    28284.3609   597614   17.10%\n",
      "    810   717    32169.5108   103    34117.2250    28284.3609   626987   17.10%\n",
      "    828   715    32107.6050   113    34117.2250    28284.3609   624978   17.10%\n",
      "    848   742    33405.7652   123    34117.2250    28284.3609   646834   17.10%\n",
      "    861   734    33794.9564    98    34117.2250    28284.3609   641028   17.10%\n",
      "Elapsed time = 345.44 sec. (112119.41 ticks, tree = 147.30 MB, solutions = 7)\n",
      "    888   801    33328.9680    81    34117.2250    28284.3609   688456   17.10%\n",
      "    909   739    28853.0214   233    34117.2250    28284.3609   647738   17.10%\n",
      "    933   810    28570.7443   234    34117.2250    28338.5655   692549   16.94%\n",
      "    948   839    29104.5362   220    34117.2250    28352.3436   722103   16.90%\n",
      "    962   819    29084.2421   222    34117.2250    28352.3436   708528   16.90%\n",
      "    990   849    29778.6903   189    34117.2250    28352.3436   727992   16.90%\n",
      "   1025   857    30206.2033   178    34117.2250    28352.3436   731509   16.90%\n",
      "   1041   920    33745.7776    73    34117.2250    28352.3436   771752   16.90%\n",
      "   1067   938    30641.3443   165    34117.2250    28352.3436   790616   16.90%\n",
      "   1081   925    28881.3443   237    34117.2250    28368.0706   786136   16.85%\n",
      "Elapsed time = 402.58 sec. (122372.42 ticks, tree = 191.35 MB, solutions = 7)\n",
      "   1089   943    29011.9113   228    34117.2250    28381.9447   797803   16.81%\n",
      "   1097   980    28698.3972   245    34117.2250    28381.9447   822404   16.81%\n",
      "   1105   944    30824.7548   154    34117.2250    28381.9447   794294   16.81%\n",
      "   1120   984    28832.0140   245    34117.2250    28381.9447   826348   16.81%\n",
      "   1133   986    29115.7238   222    34117.2250    28381.9447   828136   16.81%\n",
      "   1146  1041    29200.2224   220    34117.2250    28381.9447   862419   16.81%\n",
      "   1161  1034    31682.9315   125    34117.2250    28381.9447   856640   16.81%\n",
      "   1178  1036    31450.7379   127    34117.2250    28381.9447   858967   16.81%\n",
      "   1197  1093    30788.6343   164    34117.2250    28381.9447   903005   16.81%\n",
      "   1211  1096    31073.0471   154    34117.2250    28381.9447   905276   16.81%\n",
      "Elapsed time = 460.59 sec. (132441.21 ticks, tree = 232.02 MB, solutions = 7)\n",
      "   1235  1130    29915.7159   194    34117.2250    28381.9447   940707   16.81%\n",
      "   1261  1100    31173.4114   146    34117.2250    28381.9447   909384   16.81%\n",
      "   1294  1110    32432.2261   105    34117.2250    28381.9447   921836   16.81%\n",
      "   1313  1174    30297.6724   179    34117.2250    28381.9447   972782   16.81%\n",
      "   1327  1151    31389.1902   143    34117.2250    28381.9447   956591   16.81%\n",
      "   1333  1157    31441.2752   127    34117.2250    28381.9447   963750   16.81%\n",
      "   1351  1223    32321.0418   113    34117.2250    28381.9447  1007682   16.81%\n",
      "   1366  1184    30792.6997   164    34117.2250    28381.9447   975144   16.81%\n",
      "*  1375+ 1183                        33900.4872    28381.9447            16.28%\n",
      "   1385  1252    32002.2803   115    33900.4872    28381.9447  1024631   16.28%\n",
      "   1396  1218    31554.3838   140    33900.4872    28381.9447  1005018   16.28%\n",
      "Elapsed time = 517.58 sec. (142395.99 ticks, tree = 259.01 MB, solutions = 7)\n",
      "*  1400+ 1183                        33800.1162    28381.9447            16.03%\n",
      "   1407  1278    31247.0940   147    33800.1162    28381.9447  1034868   16.03%\n",
      "   1423  1293    31783.5246   127    33800.1162    28381.9447  1052835   16.03%\n",
      "   1438  1296    31893.2982   129    33800.1162    28381.9447  1055114   16.03%\n",
      "   1459  1297        cutoff          33800.1162    28381.9447  1076457   16.03%\n",
      "   1474  1328    30575.0708   163    33800.1162    28381.9447  1077496   16.03%\n",
      "   1485  1302    32397.1572   119    33800.1162    28381.9447  1059553   16.03%\n",
      "   1493  1316    32516.1502   111    33800.1162    28381.9447  1092727   16.03%\n",
      "   1505  1309    31787.2385   136    33800.1162    28381.9447  1091238   16.03%\n",
      "   1521  1330    28842.9679   231    33800.1162    28381.9447  1105868   16.03%\n",
      "   1539  1352    33204.6575    97    33800.1162    28381.9447  1122230   16.03%\n",
      "Elapsed time = 559.77 sec. (152457.85 ticks, tree = 295.44 MB, solutions = 9)\n",
      "   1574  1405    31990.0535   125    33800.1162    28381.9447  1155623   16.03%\n",
      "   1594  1364    32307.2360   120    33800.1162    28381.9447  1135605   16.03%\n",
      "   1621  1366    33753.6414    86    33800.1162    28381.9447  1129079   16.03%\n",
      "   1638  1444    32808.4430   104    33800.1162    28381.9447  1184027   16.03%\n",
      "   1654  1415    32177.5034   116    33800.1162    28381.9447  1160344   16.03%\n",
      "   1667  1463    33169.1904    93    33800.1162    28381.9447  1197705   16.03%\n",
      "   1676  1468    33526.0135    90    33800.1162    28381.9447  1200477   16.03%\n",
      "   1689  1471        cutoff          33800.1162    28381.9447  1203811   16.03%\n",
      "   1695  1471    28598.9596   244    33800.1162    28381.9447  1205979   16.03%\n",
      "\n",
      "Performing restart 1\n",
      "\n",
      "Repeating presolve.\n",
      "Tried aggregator 1 time.\n",
      "Reduced MIP has 31150 rows, 62885 columns, and 829651 nonzeros.\n",
      "Reduced MIP has 885 binaries, 0 generals, 0 SOSs, and 0 indicators.\n",
      "Presolve time = 9.34 sec. (3294.96 ticks)\n",
      "Tried aggregator 1 time.\n",
      "Reduced MIP has 31150 rows, 62885 columns, and 829651 nonzeros.\n",
      "Reduced MIP has 885 binaries, 0 generals, 0 SOSs, and 0 indicators.\n",
      "Presolve time = 10.09 sec. (3428.76 ticks)\n",
      "Represolve time = 20.70 sec. (7045.30 ticks)\n",
      "   1698     0    28258.6385   245    33800.1162     Cuts: 110  1323257   16.03%\n",
      "   1698     0    28263.3336   247    33800.1162     Cuts: 209  1323764   16.03%\n",
      "   1698     0    28271.7269   247    33800.1162      Cuts: 89  1324650   16.03%\n",
      "   1698     0    28276.5931   244    33800.1162     Cuts: 127  1325863   16.03%\n",
      "   1698     0    28280.2074   245    33800.1162     Cuts: 122  1326833   16.03%\n",
      "   1698     2    28280.2074   245    33800.1162    28381.9447  1326833   16.03%\n",
      "Elapsed time = 775.77 sec. (276300.08 ticks, tree = 0.02 MB, solutions = 9)\n",
      "   1702     6    28394.5010   243    33800.1162    28381.9447  1331724   16.03%\n",
      "   1709    10    28438.8443   240    33800.1162    28381.9447  1343750   16.03%\n",
      "   1719     9    28618.6162   230    33800.1162    28381.9447  1341558   16.03%\n",
      "   1733    26    29005.7056   220    33800.1162    28381.9447  1392779   16.03%\n",
      "   1760    52    29015.6829   222    33800.1162    28381.9447  1460931   16.03%\n",
      "   1789    86    28635.7924   229    33800.1162    28381.9447  1505638   16.03%\n",
      "   1820   103    28783.2030   229    33800.1162    28381.9447  1525183   16.03%\n",
      "   1854   126    29081.3652   227    33800.1162    28381.9447  1542606   16.03%\n",
      "   1890   162    28877.2065   225    33800.1162    28381.9447  1589099   16.03%\n",
      "   1919   191    29904.7958   198    33800.1162    28381.9447  1608092   16.03%\n",
      "Elapsed time = 998.59 sec. (317500.10 ticks, tree = 16.58 MB, solutions = 9)\n",
      "   1983   211    30210.4360   192    33800.1162    28381.9447  1623312   16.03%\n",
      "   2028   253    30692.4531   182    33800.1162    28381.9447  1650096   16.03%\n",
      "   2089   286    30137.9722   185    33800.1162    28381.9447  1674527   16.03%\n",
      "   2139   371    31094.1680   160    33800.1162    28381.9447  1733377   16.03%\n",
      "   2218   402    32204.4203   132    33800.1162    28381.9447  1745442   16.03%\n",
      "   2306   546    30997.6120   161    33800.1162    28381.9447  1827350   16.03%\n",
      "   2388   547    31913.7792   138    33800.1162    28381.9447  1832322   16.03%\n",
      "   2474   701    31919.6282   135    33800.1162    28381.9447  1912431   16.03%\n",
      "   2576   698    31919.3989   115    33800.1162    28381.9447  1912751   16.03%\n",
      "   2667   870        cutoff          33800.1162    28381.9447  2010267   16.03%\n",
      "Elapsed time = 1221.25 sec. (355988.02 ticks, tree = 177.92 MB, solutions = 9)\n",
      "   2725   834    32666.8063    87    33800.1162    28381.9447  1986924   16.03%\n",
      "   2780   962    32742.7410    87    33800.1162    28438.8450  2071824   15.86%\n",
      "   2833   978    29834.4154   210    33800.1162    28461.9311  2089645   15.79%\n",
      "   2889  1030    33551.1891    98    33800.1162    28461.9311  2118682   15.79%\n",
      "   2931  1044    28725.4472   232    33800.1162    28461.9311  2142079   15.79%\n",
      "   2996  1136    30293.0155   194    33800.1162    28461.9311  2225305   15.79%\n"
     ]
    },
    {
     "name": "stdout",
     "output_type": "stream",
     "text": [
      "   3048  1166    30272.9294   191    33800.1162    28522.5401  2254877   15.61%\n",
      "   3091  1220    30592.2092   166    33800.1162    28522.5401  2298647   15.61%\n",
      "   3144  1270    31304.5401   159    33800.1162    28522.5401  2327386   15.61%\n",
      "   3224  1376    31300.6625   162    33800.1162    28522.5401  2402962   15.61%\n",
      "Elapsed time = 1450.88 sec. (394622.92 ticks, tree = 308.07 MB, solutions = 9)\n",
      "   3308  1346    29548.3678   196    33800.1162    28522.5401  2385059   15.61%\n",
      "   3381  1481    33201.8471   136    33800.1162    28522.5401  2473469   15.61%\n",
      "   3468  1556    29379.4534   221    33800.1162    28522.5401  2521095   15.61%\n",
      "   3531  1648        cutoff          33800.1162    28537.8316  2577176   15.57%\n",
      "   3607  1648    28862.4400   229    33800.1162    28545.2449  2580820   15.55%\n",
      "   3689  1783    29747.0224   208    33800.1162    28545.2449  2661650   15.55%\n",
      "   3774  1890    31043.2106   137    33800.1162    28545.2449  2726786   15.55%\n",
      "   3859  1963    30010.5229   196    33800.1162    28557.9298  2773141   15.51%\n",
      "Starting limited solution polishing.\n",
      "   3977  1932    31167.0695   132    33800.1162    28557.9298  2750438   15.51%\n",
      "   4073  2125    29763.3316   190    33800.1162    28593.5034  2851736   15.40%\n",
      "Elapsed time = 1671.30 sec. (433262.67 ticks, tree = 507.33 MB, solutions = 9)\n",
      "   4193  2219    28639.3507   232    33800.1162    28593.6540  2899270   15.40%\n",
      "   4296  2185    31042.0588   143    33800.1162    28593.6540  2881394   15.40%\n",
      "   4367  2394    31677.6988   113    33800.1162    28593.6540  2957442   15.40%\n",
      "   4484  2446    29318.3753   214    33800.1162    28593.6540  2975212   15.40%\n",
      "   4561  2558    29096.8909   219    33800.1162    28593.6540  3028270   15.40%\n",
      "*  4629+ 2591                        33797.8687    28618.7516            15.32%\n",
      "   4645  2546    29020.2464   219    33797.8687    28618.7516  3024915   15.32%\n",
      "\n",
      "Cover cuts applied:  280\n",
      "Flow cuts applied:  337\n",
      "Mixed integer rounding cuts applied:  1100\n",
      "Lift and project cuts applied:  98\n",
      "Gomory fractional cuts applied:  9\n",
      "\n",
      "Root node processing (before b&c):\n",
      "  Real time             =  106.67 sec. (67222.76 ticks)\n",
      "Parallel b&c, 8 threads:\n",
      "  Real time             = 1693.89 sec. (389984.99 ticks)\n",
      "  Sync time (average)   =  164.64 sec.\n",
      "  Wait time (average)   =    0.06 sec.\n",
      "                          ------------\n",
      "Total (root+branch&cut) = 1800.56 sec. (457207.75 ticks)\n",
      "\n",
      "Solution pool: 10 solutions saved.\n",
      "\n",
      "MIP - Time limit exceeded, integer feasible:  Objective =  3.3797868734e+04\n",
      "Current MIP best bound =  2.8636373261e+04 (gap = 5161.5, 15.27%)\n",
      "Solution time = 1800.58 sec.  Iterations = 3156393  Nodes = 4647 (2792)\n",
      "Deterministic time = 457207.98 ticks  (253.92 ticks/sec)\n",
      "\n",
      "CPLEX> Incumbent solution written to file 'C:\\Users\\91824\\AppData\\Local\\Temp\\tmp7j3rr37r.cplex.sol'.\n",
      "CPLEX> Solver status : ok\n",
      "Solver Termination condition : maxTimeLimit\n"
     ]
    }
   ],
   "source": [
    "opt = SolverFactory('cplex')\n",
    "opt.options['timelimit'] = 1800\n",
    "result = opt.solve(avg_model,tee=True)\n",
    "print(\"Solver status :\",result.solver.status)\n",
    "print(\"Solver Termination condition :\", result.solver.termination_condition)"
   ]
  },
  {
   "cell_type": "code",
   "execution_count": 56,
   "metadata": {},
   "outputs": [],
   "source": [
    "#pd.DataFrame(cib).to_csv(\"cost_data_random_seed0.csv\")"
   ]
  },
  {
   "cell_type": "code",
   "execution_count": 57,
   "metadata": {},
   "outputs": [
    {
     "name": "stdout",
     "output_type": "stream",
     "text": [
      "Block : 1 Surgeries [28, 29, 32, 34]\n",
      "Block : 2 Surgeries [0, 9, 10, 13]\n",
      "Block : 3 Surgeries [82, 92, 99]\n",
      "Block : 4 Surgeries [49, 57, 60, 62, 64]\n",
      "Block : 5 Surgeries [103, 108, 111, 114, 121]\n",
      "Block : 6 Surgeries [3, 12, 17]\n",
      "Block : 7 Surgeries [102, 110, 112, 115, 116]\n",
      "Block : 8 Surgeries [26, 32, 35, 37]\n",
      "Block : 9 Surgeries [86, 90, 93]\n",
      "Block : 10 Surgeries [85, 89, 96]\n",
      "Block : 11 Surgeries [50, 58, 59, 70]\n",
      "Block : 12 Surgeries [48, 51, 56, 67]\n",
      "Block : 13 Surgeries [104]\n",
      "Block : 14 Surgeries [18, 19, 23, 30, 34]\n",
      "Block : 15 Surgeries [20, 21, 25, 26, 28, 36, 38, 39]\n",
      "Block : 16 Surgeries [2, 8, 15, 16]\n",
      "Block : 17 Surgeries [75, 76, 77, 78, 79, 80]\n",
      "Block : 18 Surgeries [41, 54, 65, 66, 71]\n",
      "Block : 19 Surgeries [40, 46, 53, 63]\n",
      "Block : 20 Surgeries [117, 118, 120, 122, 123]\n",
      "Block : 21 Surgeries [83, 88, 97]\n",
      "Block : 22 Surgeries [19, 24, 35, 36]\n",
      "Block : 23 Surgeries [87, 94, 101]\n",
      "Block : 24 Surgeries [43, 44, 52, 73]\n",
      "Block : 25 Surgeries [42, 68, 69, 74]\n",
      "Block : 26 Surgeries [107, 119, 124]\n",
      "Block : 27 Surgeries [20, 22, 25, 37, 39]\n",
      "Block : 28 Surgeries [1, 6, 11]\n",
      "Block : 29 Surgeries [91, 95, 98]\n",
      "Block : 30 Surgeries [45, 47, 55, 61, 72]\n",
      "Block : 31 Surgeries [105, 106, 109, 113]\n",
      "Block : 32 Surgeries [4, 5, 7, 14]\n",
      "Block : 33 Surgeries []\n",
      "Block : 34 Surgeries [27, 29, 31, 33]\n",
      "Block : 35 Surgeries []\n",
      "Block : 36 Surgeries []\n",
      "Block : 37 Surgeries [81, 84, 100]\n",
      "Block : 38 Surgeries []\n"
     ]
    }
   ],
   "source": [
    "l = [[] for _ in range(n_blocks)]\n",
    "for b in range(n_blocks):\n",
    "    for i in range(n_surgeries):\n",
    "        if avg_model.y[i+1,b+1].value > 0.0:\n",
    "            l[b].append(i)\n",
    "\n",
    "for i in range(len(l)):\n",
    "    print(\"Block :\",i+1, 'Surgeries',l[i])"
   ]
  },
  {
   "cell_type": "code",
   "execution_count": 178,
   "metadata": {},
   "outputs": [
    {
     "data": {
      "text/plain": [
       "<Figure size 720x432 with 0 Axes>"
      ]
     },
     "metadata": {},
     "output_type": "display_data"
    },
    {
     "data": {
      "image/png": "[encoded data removed]",
      "text/plain": [
       "<Figure size 1080x864 with 1 Axes>"
      ]
     },
     "metadata": {
      "needs_background": "light"
     },
     "output_type": "display_data"
    }
   ],
   "source": [
    "colors = ['orange','pink','cyan','lightgreen','peachpuff','gold']\n",
    "plt.figure(figsize=(10,6))\n",
    "j = 0\n",
    "gastro_y = [1,1,1,2,2,2,2]\n",
    "gastro_x = [1,2,3,3,4,5,6]\n",
    "card_y = [3,9,3,3,9,1]\n",
    "card_x = [1,1,3,5,5,6]\n",
    "gyn_y = [6,6,7,6,7,6,7,7,3]\n",
    "gyn_x = [1,2,2,3,3,4,4,5,6]\n",
    "med_y = [5,4]\n",
    "med_x = [3,6]\n",
    "ortho_y = [4,4,5,10,4,4,5]\n",
    "ortho_x = [1,2,2,3,4,5,6]\n",
    "uro_y = [8,10,8,9,8,8,6]\n",
    "uro_x = [1,1,2,3,4,5,6]\n",
    "\n",
    "barh_blocks = {'GASTRO':[gastro_y,gastro_x],'CARD':[card_y,card_x],'GYN':[gyn_y,gyn_x],'MED':[med_y,med_x],'ORTHO':[ortho_y,ortho_x],'URO':[uro_y,uro_x]}\n",
    "barh_colors = {}\n",
    "for i in range(len(specs)):\n",
    "    barh_colors[specs[i]] = colors[i]\n",
    "\n",
    "fig,ax = plt.subplots(figsize=(15,12))\n",
    "j,k = 0,0\n",
    "for i in specs:\n",
    "    for m in range(len(blocks[i])):\n",
    "        text =int(np.round(sum(avg_model.y[idx+1,blocks[i][m]].value for idx in range(n_surgeries))))\n",
    "        ax.barh(y=11-barh_blocks[i][0][m],width=0.8,height=0.6,left=barh_blocks[i][1][m]-0.4,align='center',color=barh_colors[i],label=i)\n",
    "        ax.text(barh_blocks[i][1][m], 11-barh_blocks[i][0][m]-0.02, text, color = 'black', ha = 'left', va = 'center',size=16)\n",
    "    j += 1\n",
    "#ax.set_yticks([i for i in range(11)],[' ']+['OR '+str(10-i) for i in range(10)])\n",
    "ax.set_xticks([1,2,3,4,5,6]) # values\n",
    "ax.set_xticklabels(['Monday','Tuesday','Wednesday','Thursday','Friday','Dummy'],size=15)\n",
    "ax.set_yticks([i for i in range(1,11)])\n",
    "ax.set_yticklabels(['OR '+str(10-i) for i in range(10)],size=15)\n",
    "\n",
    "\n",
    "handles, labels = plt.gca().get_legend_handles_labels()\n",
    "by_label = dict(zip(labels, handles))\n",
    "plt.legend(by_label.values(), by_label.keys())\n",
    "plt.show()"
   ]
  },
  {
   "cell_type": "code",
   "execution_count": 58,
   "metadata": {},
   "outputs": [
    {
     "data": {
      "text/plain": [
       "{'CARD': [0, 17],\n",
       " 'GASTRO': [18, 39],\n",
       " 'GYN': [40, 74],\n",
       " 'MED': [75, 80],\n",
       " 'ORTHO': [81, 101],\n",
       " 'URO': [102, 124]}"
      ]
     },
     "execution_count": 58,
     "metadata": {},
     "output_type": "execute_result"
    }
   ],
   "source": [
    "surgery_nums"
   ]
  },
  {
   "cell_type": "code",
   "execution_count": 59,
   "metadata": {},
   "outputs": [
    {
     "name": "stdout",
     "output_type": "stream",
     "text": [
      "CARD [2, 6, 16, 28, 32, 33]\n",
      "GASTRO [1, 8, 14, 15, 22, 27, 34]\n",
      "GYN [4, 11, 12, 18, 19, 24, 25, 30, 35]\n",
      "MED [17, 36]\n",
      "ORTHO [3, 9, 10, 21, 23, 29, 37]\n",
      "URO [5, 7, 13, 20, 26, 31, 38]\n"
     ]
    }
   ],
   "source": [
    "for i in specs:\n",
    "    print(i, blocks[i])"
   ]
  },
  {
   "cell_type": "code",
   "execution_count": 60,
   "metadata": {},
   "outputs": [],
   "source": [
    "assignments = np.array([[0.0 for _ in range(n_blocks)] for _ in range(n_surgeries)])\n",
    "for i in range(n_surgeries):\n",
    "    for b in range(n_blocks):\n",
    "        assignments[i,b] = avg_model.y[i+1,b+1].value"
   ]
  },
  {
   "cell_type": "code",
   "execution_count": 61,
   "metadata": {},
   "outputs": [
    {
     "data": {
      "image/png": "[encoded data removed]",
      "text/plain": [
       "<Figure size 1440x1440 with 2 Axes>"
      ]
     },
     "metadata": {
      "needs_background": "light"
     },
     "output_type": "display_data"
    }
   ],
   "source": [
    "fig,(ax1,ax2) = plt.subplots(2,1,sharex=True,figsize=(20,20))\n",
    "ax1.imshow(cib[:,:32].T,interpolation='nearest')\n",
    "ax2.imshow(assignments[:,:32].T,interpolation='nearest')\n",
    "plt.savefig(\"Random block costs weekly schedule\",dpi=500)"
   ]
  },
  {
   "cell_type": "code",
   "execution_count": 62,
   "metadata": {},
   "outputs": [],
   "source": [
    "os = [[] for _ in range(n_blocks)]\n",
    "gs = [[] for _ in range(n_blocks)]\n",
    "\n",
    "for b in range(n_blocks):\n",
    "    for n in range(n_scenarios):\n",
    "        os[b].append(avg_model.o[b+1,n+1].value)\n",
    "        gs[b].append(avg_model.g[b+1,n+1].value)\n",
    "\n",
    "os = np.array(os)\n",
    "gs = np.array(gs)"
   ]
  },
  {
   "cell_type": "code",
   "execution_count": 63,
   "metadata": {},
   "outputs": [
    {
     "data": {
      "image/png": "[encoded data removed]",
      "text/plain": [
       "<Figure size 432x288 with 1 Axes>"
      ]
     },
     "metadata": {
      "needs_background": "light"
     },
     "output_type": "display_data"
    },
    {
     "data": {
      "image/png": "[encoded data removed]",
      "text/plain": [
       "<Figure size 432x288 with 1 Axes>"
      ]
     },
     "metadata": {
      "needs_background": "light"
     },
     "output_type": "display_data"
    },
    {
     "data": {
      "image/png": "[encoded data removed]",
      "text/plain": [
       "<Figure size 432x288 with 1 Axes>"
      ]
     },
     "metadata": {
      "needs_background": "light"
     },
     "output_type": "display_data"
    },
    {
     "data": {
      "image/png": "[encoded data removed]",
      "text/plain": [
       "<Figure size 432x288 with 1 Axes>"
      ]
     },
     "metadata": {
      "needs_background": "light"
     },
     "output_type": "display_data"
    },
    {
     "data": {
      "image/png": "[encoded data removed]",
      "text/plain": [
       "<Figure size 432x288 with 1 Axes>"
      ]
     },
     "metadata": {
      "needs_background": "light"
     },
     "output_type": "display_data"
    },
    {
     "data": {
      "image/png": "[encoded data removed]",
      "text/plain": [
       "<Figure size 432x288 with 1 Axes>"
      ]
     },
     "metadata": {
      "needs_background": "light"
     },
     "output_type": "display_data"
    },
    {
     "data": {
      "image/png": "[encoded data removed]",
      "text/plain": [
       "<Figure size 432x288 with 1 Axes>"
      ]
     },
     "metadata": {
      "needs_background": "light"
     },
     "output_type": "display_data"
    },
    {
     "data": {
      "image/png": "[encoded data removed]",
      "text/plain": [
       "<Figure size 432x288 with 1 Axes>"
      ]
     },
     "metadata": {
      "needs_background": "light"
     },
     "output_type": "display_data"
    },
    {
     "data": {
      "image/png": "[encoded data removed]",
      "text/plain": [
       "<Figure size 432x288 with 1 Axes>"
      ]
     },
     "metadata": {
      "needs_background": "light"
     },
     "output_type": "display_data"
    },
    {
     "data": {
      "image/png": "[encoded data removed]",
      "text/plain": [
       "<Figure size 432x288 with 1 Axes>"
      ]
     },
     "metadata": {
      "needs_background": "light"
     },
     "output_type": "display_data"
    },
    {
     "data": {
      "image/png": "[encoded data removed]",
      "text/plain": [
       "<Figure size 432x288 with 1 Axes>"
      ]
     },
     "metadata": {
      "needs_background": "light"
     },
     "output_type": "display_data"
    },
    {
     "data": {
      "image/png": "[encoded data removed]",
      "text/plain": [
       "<Figure size 432x288 with 1 Axes>"
      ]
     },
     "metadata": {
      "needs_background": "light"
     },
     "output_type": "display_data"
    },
    {
     "data": {
      "image/png": "[encoded data removed]",
      "text/plain": [
       "<Figure size 432x288 with 1 Axes>"
      ]
     },
     "metadata": {
      "needs_background": "light"
     },
     "output_type": "display_data"
    },
    {
     "data": {
      "image/png": "[encoded data removed]",
      "text/plain": [
       "<Figure size 432x288 with 1 Axes>"
      ]
     },
     "metadata": {
      "needs_background": "light"
     },
     "output_type": "display_data"
    },
    {
     "data": {
      "image/png": "[encoded data removed]",
      "text/plain": [
       "<Figure size 432x288 with 1 Axes>"
      ]
     },
     "metadata": {
      "needs_background": "light"
     },
     "output_type": "display_data"
    },
    {
     "data": {
      "image/png": "[encoded data removed]",
      "text/plain": [
       "<Figure size 432x288 with 1 Axes>"
      ]
     },
     "metadata": {
      "needs_background": "light"
     },
     "output_type": "display_data"
    },
    {
     "data": {
      "image/png": "[encoded data removed]",
      "text/plain": [
       "<Figure size 432x288 with 1 Axes>"
      ]
     },
     "metadata": {
      "needs_background": "light"
     },
     "output_type": "display_data"
    },
    {
     "data": {
      "image/png": "[encoded data removed]",
      "text/plain": [
       "<Figure size 432x288 with 1 Axes>"
      ]
     },
     "metadata": {
      "needs_background": "light"
     },
     "output_type": "display_data"
    },
    {
     "data": {
      "image/png": "[encoded data removed]",
      "text/plain": [
       "<Figure size 432x288 with 1 Axes>"
      ]
     },
     "metadata": {
      "needs_background": "light"
     },
     "output_type": "display_data"
    },
    {
     "data": {
      "image/png": "[encoded data removed]",
      "text/plain": [
       "<Figure size 432x288 with 1 Axes>"
      ]
     },
     "metadata": {
      "needs_background": "light"
     },
     "output_type": "display_data"
    },
    {
     "data": {
      "image/png": "[encoded data removed]",
      "text/plain": [
       "<Figure size 432x288 with 1 Axes>"
      ]
     },
     "metadata": {
      "needs_background": "light"
     },
     "output_type": "display_data"
    },
    {
     "data": {
      "image/png": "[encoded data removed]",
      "text/plain": [
       "<Figure size 432x288 with 1 Axes>"
      ]
     },
     "metadata": {
      "needs_background": "light"
     },
     "output_type": "display_data"
    },
    {
     "data": {
      "image/png": "[encoded data removed]",
      "text/plain": [
       "<Figure size 432x288 with 1 Axes>"
      ]
     },
     "metadata": {
      "needs_background": "light"
     },
     "output_type": "display_data"
    },
    {
     "data": {
      "image/png": "[encoded data removed]",
      "text/plain": [
       "<Figure size 432x288 with 1 Axes>"
      ]
     },
     "metadata": {
      "needs_background": "light"
     },
     "output_type": "display_data"
    },
    {
     "data": {
      "image/png": "[encoded data removed]",
      "text/plain": [
       "<Figure size 432x288 with 1 Axes>"
      ]
     },
     "metadata": {
      "needs_background": "light"
     },
     "output_type": "display_data"
    },
    {
     "data": {
      "image/png": "[encoded data removed]",
      "text/plain": [
       "<Figure size 432x288 with 1 Axes>"
      ]
     },
     "metadata": {
      "needs_background": "light"
     },
     "output_type": "display_data"
    },
    {
     "data": {
      "image/png": "[encoded data removed]",
      "text/plain": [
       "<Figure size 432x288 with 1 Axes>"
      ]
     },
     "metadata": {
      "needs_background": "light"
     },
     "output_type": "display_data"
    },
    {
     "data": {
      "image/png": "[encoded data removed]",
      "text/plain": [
       "<Figure size 432x288 with 1 Axes>"
      ]
     },
     "metadata": {
      "needs_background": "light"
     },
     "output_type": "display_data"
    },
    {
     "data": {
      "image/png": "[encoded data removed]",
      "text/plain": [
       "<Figure size 432x288 with 1 Axes>"
      ]
     },
     "metadata": {
      "needs_background": "light"
     },
     "output_type": "display_data"
    },
    {
     "data": {
      "image/png": "[encoded data removed]",
      "text/plain": [
       "<Figure size 432x288 with 1 Axes>"
      ]
     },
     "metadata": {
      "needs_background": "light"
     },
     "output_type": "display_data"
    },
    {
     "data": {
      "image/png": "[encoded data removed]",
      "text/plain": [
       "<Figure size 432x288 with 1 Axes>"
      ]
     },
     "metadata": {
      "needs_background": "light"
     },
     "output_type": "display_data"
    },
    {
     "data": {
      "image/png": "[encoded data removed]",
      "text/plain": [
       "<Figure size 432x288 with 1 Axes>"
      ]
     },
     "metadata": {
      "needs_background": "light"
     },
     "output_type": "display_data"
    },
    {
     "data": {
      "image/png": "[encoded data removed]",
      "text/plain": [
       "<Figure size 432x288 with 1 Axes>"
      ]
     },
     "metadata": {
      "needs_background": "light"
     },
     "output_type": "display_data"
    },
    {
     "data": {
      "image/png": "[encoded data removed]",
      "text/plain": [
       "<Figure size 432x288 with 1 Axes>"
      ]
     },
     "metadata": {
      "needs_background": "light"
     },
     "output_type": "display_data"
    },
    {
     "data": {
      "image/png": "[encoded data removed]",
      "text/plain": [
       "<Figure size 432x288 with 1 Axes>"
      ]
     },
     "metadata": {
      "needs_background": "light"
     },
     "output_type": "display_data"
    },
    {
     "data": {
      "image/png": "[encoded data removed]",
      "text/plain": [
       "<Figure size 432x288 with 1 Axes>"
      ]
     },
     "metadata": {
      "needs_background": "light"
     },
     "output_type": "display_data"
    },
    {
     "data": {
      "image/png": "[encoded data removed]",
      "text/plain": [
       "<Figure size 432x288 with 1 Axes>"
      ]
     },
     "metadata": {
      "needs_background": "light"
     },
     "output_type": "display_data"
    },
    {
     "data": {
      "image/png": "[encoded data removed]",
      "text/plain": [
       "<Figure size 432x288 with 1 Axes>"
      ]
     },
     "metadata": {
      "needs_background": "light"
     },
     "output_type": "display_data"
    }
   ],
   "source": [
    "overtime = os-gs\n",
    "\n",
    "for b in range(n_blocks):\n",
    "    plt.figure()\n",
    "    plt.title(\"Hist for block \"+str(b+1))\n",
    "    plt.hist(overtime[b],bins=20)\n",
    "    plt.xlim(-600,400)\n",
    "    plt.show()"
   ]
  },
  {
   "cell_type": "code",
   "execution_count": 64,
   "metadata": {},
   "outputs": [
    {
     "data": {
      "text/plain": [
       "array([[   0.,  100.,    0., ...,    0.,    0.,    0.],\n",
       "       [   0.,  400.,    0., ...,    0.,    0.,    0.],\n",
       "       [   0.,  200.,    0., ...,    0.,    0.,    0.],\n",
       "       ...,\n",
       "       [   0.,    0.,    0., ...,    0.,    0., 1000.],\n",
       "       [   0.,    0.,    0., ...,    0.,    0., 1000.],\n",
       "       [   0.,    0.,    0., ...,    0.,    0., 1000.]])"
      ]
     },
     "execution_count": 64,
     "metadata": {},
     "output_type": "execute_result"
    }
   ],
   "source": [
    "cib"
   ]
  },
  {
   "cell_type": "code",
   "execution_count": 65,
   "metadata": {},
   "outputs": [
    {
     "data": {
      "text/plain": [
       "array([   0.,    0.,    0.,    0.,    0.,    0.,    0.,    0.,    0.,\n",
       "          0.,    0.,    0.,    0.,    0.,    0.,    0.,    0.,    0.,\n",
       "       1000., 1000., 1000., 1000., 1000., 1000., 1000., 1000., 1000.,\n",
       "       1000., 1000., 1000., 1000., 1000., 1000., 1000., 1000., 1000.,\n",
       "       1000., 1000., 1000., 1000.,    0.,    0.,    0.,    0.,    0.,\n",
       "          0.,    0.,    0.,    0.,    0.,    0.,    0.,    0.,    0.,\n",
       "          0.,    0.,    0.,    0.,    0.,    0.,    0.,    0.,    0.,\n",
       "          0.,    0.,    0.,    0.,    0.,    0.,    0.,    0.,    0.,\n",
       "          0.,    0.,    0.,    0.,    0.,    0.,    0.,    0.,    0.,\n",
       "          0.,    0.,    0.,    0.,    0.,    0.,    0.,    0.,    0.,\n",
       "          0.,    0.,    0.,    0.,    0.,    0.,    0.,    0.,    0.,\n",
       "          0.,    0.,    0.,    0.,    0.,    0.,    0.,    0.,    0.,\n",
       "          0.,    0.,    0.,    0.,    0.,    0.,    0.,    0.,    0.,\n",
       "          0.,    0.,    0.,    0.,    0.,    0.,    0.,    0.])"
      ]
     },
     "execution_count": 65,
     "metadata": {},
     "output_type": "execute_result"
    }
   ],
   "source": [
    "cib[:,33]"
   ]
  },
  {
   "cell_type": "code",
   "execution_count": 66,
   "metadata": {},
   "outputs": [
    {
     "data": {
      "text/plain": [
       "array([   0.,  200.,    0.,    0.,    0.,  400.,    0.,    0.,    0.,\n",
       "          0.,    0.,    0.,    0.,    0.,    0.,  400.,    0.,    0.,\n",
       "          0.,    0.,    0.,    0.,    0.,    0.,    0.,    0.,    0.,\n",
       "        300.,    0.,    0.,    0.,  400., 1000.,    0.,    0.,    0.,\n",
       "          0.,    0.])"
      ]
     },
     "execution_count": 66,
     "metadata": {},
     "output_type": "execute_result"
    }
   ],
   "source": [
    "cib[9,:]"
   ]
  },
  {
   "cell_type": "code",
   "execution_count": 67,
   "metadata": {},
   "outputs": [
    {
     "data": {
      "text/plain": [
       "array([[  0., 100.,   0.,   0.,   0., 400.,   0.,   0.,   0.,   0.,   0.,\n",
       "          0.,   0.,   0.,   0., 200.,   0.,   0.,   0.,   0.,   0.,   0.,\n",
       "          0.,   0.,   0.,   0.,   0., 100.,   0.,   0.,   0., 400.],\n",
       "       [  0., 400.,   0.,   0.,   0., 400.,   0.,   0.,   0.,   0.,   0.,\n",
       "          0.,   0.,   0.,   0., 400.,   0.,   0.,   0.,   0.,   0.,   0.,\n",
       "          0.,   0.,   0.,   0.,   0., 200.,   0.,   0.,   0., 400.]])"
      ]
     },
     "execution_count": 67,
     "metadata": {},
     "output_type": "execute_result"
    }
   ],
   "source": [
    "cib[:2,:32]"
   ]
  },
  {
   "cell_type": "code",
   "execution_count": 68,
   "metadata": {},
   "outputs": [
    {
     "data": {
      "text/plain": [
       "(125, 38)"
      ]
     },
     "execution_count": 68,
     "metadata": {},
     "output_type": "execute_result"
    }
   ],
   "source": [
    "cib.shape"
   ]
  },
  {
   "cell_type": "code",
   "execution_count": 69,
   "metadata": {},
   "outputs": [
    {
     "data": {
      "text/plain": [
       "array([-5268.56562439, -5441.26430248, -5671.92853702, -5309.63632882,\n",
       "       -5489.8233069 , -5536.97959994, -5584.47485523, -5470.65582371,\n",
       "       -5380.96528163, -5510.22785138, -5493.46823686, -5422.33659093,\n",
       "       -5556.76314835, -5559.66963322, -5510.88925529, -5644.98134026,\n",
       "       -5392.75188686, -5450.16396147, -5545.62025273, -5481.51453345,\n",
       "       -5431.84711448, -5640.31336721, -5383.19244229, -5435.40356808,\n",
       "       -5414.55928866, -5482.55558248, -5555.63221821, -5467.63441451,\n",
       "       -5489.25259887, -5474.60634991, -5390.92334218, -5485.74296884,\n",
       "       -5453.45758364, -5533.56059495, -5419.67633872, -5607.27322689,\n",
       "       -5557.45388447, -5406.1683946 , -5406.92967409, -5536.34699018,\n",
       "       -5382.87184101, -5482.99012915, -5646.22270493, -5414.52056741,\n",
       "       -5519.67305321, -5583.17848756, -5546.93984012, -5379.80015627,\n",
       "       -5417.55343716, -5469.86778652, -5407.22975554, -5487.42075125,\n",
       "       -5629.94764834, -5607.1487467 , -5604.47080447, -5502.01774161,\n",
       "       -5572.77473279, -5460.70537578, -5476.48758297, -5547.59683264,\n",
       "       -5570.13314831, -5436.06155832, -5381.84153855, -5545.12366584,\n",
       "       -5459.6954708 , -5434.78395862, -5513.11003733, -5471.98080584,\n",
       "       -5524.78303692, -5327.97364983, -5409.37939654, -5381.7013981 ,\n",
       "       -5469.22483957, -5378.41212683, -5355.90204142, -5483.84132669,\n",
       "       -5575.73930855, -5371.48306642, -5494.53245959, -5636.05957091,\n",
       "       -5380.25083709, -5551.99072358, -5425.15256964, -5401.82316682,\n",
       "       -5461.57475698, -5599.88163232, -5372.76497586, -5355.07689985,\n",
       "       -5314.22955553, -5330.27827139, -5425.33642686, -5385.69980594,\n",
       "       -5567.53378405, -5388.11192778, -5405.35940393, -5500.23097003,\n",
       "       -5334.28935914, -5566.14628006, -5354.99420278, -5456.17979489,\n",
       "       -5509.9761272 , -5480.93473918, -5526.21957232, -5482.35676417,\n",
       "       -5492.50253929, -5462.32383034, -5531.00768355, -5436.62678963,\n",
       "       -5502.04798455, -5416.76051433, -5419.95780898, -5442.28061321,\n",
       "       -5500.41748646, -5500.12688446, -5375.3030944 , -5459.69801545,\n",
       "       -5495.75640521, -5499.06806135, -5417.00776695, -5561.32808879,\n",
       "       -5434.0806889 , -5442.53251097, -5524.32308301, -5567.5312842 ,\n",
       "       -5440.87745531, -5390.83246704, -5433.35149224, -5418.13593409,\n",
       "       -5386.02701776, -5563.85079934, -5499.96337411, -5427.12614673,\n",
       "       -5537.91368329, -5497.24283645, -5490.6090593 , -5454.98378189,\n",
       "       -5548.24742774, -5445.06049848, -5491.12224608, -5441.3682408 ,\n",
       "       -5593.69397149, -5394.92116043, -5443.05655698, -5441.29164487,\n",
       "       -5516.70218831, -5456.37457298, -5452.41202429, -5300.09249845,\n",
       "       -5604.80761017, -5554.83556808, -5347.57320333, -5533.95359083,\n",
       "       -5422.34297677, -5424.41043974, -5459.8113749 , -5347.71350205,\n",
       "       -5350.97046525, -5460.68232466, -5383.86942437, -5537.1529302 ,\n",
       "       -5364.34753423, -5473.32742332, -5529.36029712, -5569.36591   ,\n",
       "       -5465.74448324, -5268.37549292, -5598.08603416, -5414.24275635,\n",
       "       -5419.03918742, -5460.77510084, -5606.94586008, -5304.77874121,\n",
       "       -5534.8892539 , -5442.51173126, -5540.84322261, -5378.81395289,\n",
       "       -5424.33587971, -5478.89006021, -5512.71818567, -5471.1298585 ,\n",
       "       -5525.46519123, -5423.09005003, -5546.46925188, -5527.79123843,\n",
       "       -5425.63615255, -5525.17767647, -5326.13939854, -5448.55994247,\n",
       "       -5638.96846066, -5659.98956362, -5618.92152113, -5444.09157701,\n",
       "       -5522.71628682, -5497.0680753 , -5486.57818526, -5395.09748042,\n",
       "       -5504.68266516, -5512.79270885, -5594.24089041, -5455.53780245,\n",
       "       -5440.4394894 , -5580.64043349, -5473.79493946, -5416.35203837,\n",
       "       -5468.28026064, -5288.1022835 , -5427.11374631, -5505.25745251,\n",
       "       -5567.86094883, -5602.43441221, -5495.63902431, -5577.6702865 ,\n",
       "       -5478.12160712, -5607.57630122, -5497.41306324, -5486.28704371,\n",
       "       -5523.59096353, -5547.02932144, -5415.55814442, -5371.52127788,\n",
       "       -5418.80176331, -5576.16172857, -5443.53826603, -5536.37935656,\n",
       "       -5403.81896959, -5551.26282889, -5547.91633815, -5469.00286131,\n",
       "       -5424.77652771, -5466.14750739, -5459.39476026, -5417.93427278,\n",
       "       -5575.47331662, -5504.35116416, -5415.54456145, -5461.55797779,\n",
       "       -5447.82817439, -5358.04065686, -5484.63879732, -5451.92223534,\n",
       "       -5400.62677483, -5700.37445593, -5429.29896103, -5406.18481008,\n",
       "       -5364.4689188 , -5495.84333237, -5461.3644087 , -5390.86085971,\n",
       "       -5364.69014217, -5413.67550957, -5489.72024179, -5501.71066578,\n",
       "       -5414.11898273, -5460.55487592, -5428.61058269, -5661.52763947,\n",
       "       -5464.70935912, -5456.62193297, -5464.11664363, -5384.03778404,\n",
       "       -5455.16953603, -5503.28464848, -5456.5475957 , -5374.78422909,\n",
       "       -5455.14089977, -5446.82584393, -5507.42641565, -5347.74132684,\n",
       "       -5431.69301926, -5472.37941401, -5524.44423993, -5538.17135768,\n",
       "       -5438.68924743, -5475.95717554, -5292.96112515, -5527.15008335,\n",
       "       -5573.29590217, -5540.51660805, -5452.65462922, -5503.48523534,\n",
       "       -5369.915074  , -5366.71513047, -5550.09256496, -5518.00175198,\n",
       "       -5460.65353334, -5468.85356915, -5570.2349408 , -5509.62639598,\n",
       "       -5601.80702085, -5571.05907674, -5391.36026956, -5401.55484324,\n",
       "       -5367.26536984, -5416.31593832, -5588.0383129 , -5487.99948005,\n",
       "       -5404.65444253, -5378.33645373, -5335.80772648, -5564.42979538,\n",
       "       -5546.48418131, -5419.60907334, -5425.70636586, -5372.81828162,\n",
       "       -5520.22759212, -5355.88330469, -5527.32884146, -5544.63126131,\n",
       "       -5361.6859315 , -5449.86915227, -5579.20673101, -5307.62920927,\n",
       "       -5536.22242981, -5449.88433857, -5617.9394368 , -5329.21725968,\n",
       "       -5530.79882214, -5487.18400673, -5364.45986948, -5566.03877706,\n",
       "       -5373.22626798, -5467.79425453, -5567.99875027, -5532.34377619,\n",
       "       -5446.51230601, -5438.25084577, -5344.65892921, -5420.4214366 ,\n",
       "       -5391.20253549, -5449.99030063, -5463.43076209, -5440.13845458,\n",
       "       -5545.6797974 , -5559.96647713, -5446.85755189, -5461.27553267,\n",
       "       -5321.85452054, -5588.92470049, -5414.31214046, -5509.98779921,\n",
       "       -5682.98942974, -5483.92028397, -5523.03664279, -5526.51636539,\n",
       "       -5449.08954543, -5493.31587428, -5583.54045488, -5457.20751963,\n",
       "       -5544.29416594, -5467.8843449 , -5511.11986928, -5432.29072445,\n",
       "       -5435.76018844, -5563.76258475, -5359.24672076, -5413.43543159,\n",
       "       -5445.16871427, -5502.11062172, -5430.68618347, -5492.75144044,\n",
       "       -5492.07544778, -5403.66244028, -5412.22769379, -5511.86890633,\n",
       "       -5458.3158511 , -5522.33475545, -5560.0717544 , -5467.91033831,\n",
       "       -5397.8636241 , -5542.02489657, -5402.15584508, -5469.47142503,\n",
       "       -5469.18368579, -5400.58480559, -5486.38546522, -5455.637756  ,\n",
       "       -5483.92174287, -5514.78348353, -5461.54533847, -5459.00700327,\n",
       "       -5344.84250164, -5458.67915756, -5509.96153952, -5456.73122153,\n",
       "       -5500.51365948, -5370.05371049, -5447.97221981, -5504.27705876,\n",
       "       -5480.76998019, -5374.46737617, -5561.38081343, -5594.0748576 ,\n",
       "       -5533.37247812, -5537.15730081, -5473.86878239, -5417.12814441,\n",
       "       -5596.95249081, -5437.95776765, -5436.09118384, -5406.84216485,\n",
       "       -5304.99417771, -5422.74597467, -5427.23219767, -5598.48670357,\n",
       "       -5357.14565909, -5385.05380831, -5423.89510436, -5445.68694056,\n",
       "       -5502.95188024, -5439.17550174, -5427.98184416, -5605.10029157,\n",
       "       -5501.55305371, -5589.36093092, -5407.12574291, -5486.03044565,\n",
       "       -5505.65462392, -5451.64785131, -5604.63907611, -5504.95111725,\n",
       "       -5447.97843643, -5370.3887645 , -5402.21904083, -5501.95190565,\n",
       "       -5439.03213467, -5538.59572973, -5576.97419386, -5454.66908514,\n",
       "       -5621.86255982, -5420.78636532, -5477.09934203, -5475.90557723,\n",
       "       -5550.79873484, -5389.76989759, -5467.74759806, -5389.675803  ,\n",
       "       -5485.22711666, -5562.27100242, -5350.01836296, -5320.81250645,\n",
       "       -5436.15127825, -5509.06738674, -5479.43062759, -5376.85533952,\n",
       "       -5502.30706582, -5475.99759752, -5463.42942197, -5537.32729505,\n",
       "       -5504.44011844, -5447.91007973, -5422.63470051, -5484.1661479 ,\n",
       "       -5404.62267534, -5502.93253662, -5368.41751833, -5588.18209543,\n",
       "       -5457.40617398, -5274.66599356, -5528.14876536, -5436.10598134,\n",
       "       -5573.00820944, -5323.05028262, -5513.01978221, -5555.50472453,\n",
       "       -5515.25640675, -5415.45843815, -5580.70036919, -5451.60928205,\n",
       "       -5500.84912806, -5579.57752917, -5502.07187302, -5499.462526  ,\n",
       "       -5443.31013298, -5453.00386198, -5349.66416822, -5462.71610825,\n",
       "       -5482.98864342, -5366.66563378, -5614.40193645, -5556.64470576,\n",
       "       -5507.76993715, -5378.50711173, -5582.82294378, -5441.1246146 ,\n",
       "       -5542.63238558, -5557.3528924 , -5468.22185416, -5520.07265897,\n",
       "       -5595.07338012, -5489.40756468, -5465.90250025, -5543.48587318,\n",
       "       -5438.72676956, -5424.86584092, -5505.14043455, -5508.84937537,\n",
       "       -5379.73208481, -5261.59373439, -5463.24740731, -5475.01409999,\n",
       "       -5559.8727204 , -5625.32336558, -5459.01170432, -5489.73700602,\n",
       "       -5489.0041713 , -5546.68731929, -5626.7324275 , -5479.05599938,\n",
       "       -5639.83184217, -5431.48562344, -5651.21531298, -5396.68738154,\n",
       "       -5603.31560241, -5387.28217061, -5504.42605763, -5643.75047104,\n",
       "       -5544.81440892, -5422.35900207, -5442.12753352, -5527.42229862,\n",
       "       -5384.63637657, -5323.54269098, -5424.44089798, -5521.82975742,\n",
       "       -5379.53636832, -5522.00935224, -5454.2579713 , -5502.96571716,\n",
       "       -5624.04322228, -5433.4058427 , -5422.75436687, -5553.31470709,\n",
       "       -5484.86133969, -5361.5147038 , -5499.37458347, -5334.11988843,\n",
       "       -5412.88989277, -5654.27151228, -5547.18076757, -5463.90128043,\n",
       "       -5469.65357264, -5400.95403888, -5347.48614602, -5421.40863393,\n",
       "       -5289.94447218, -5569.04213384, -5380.64452426, -5347.46099437,\n",
       "       -5400.64017279, -5392.39402299, -5484.89465898, -5408.47475203,\n",
       "       -5495.0268293 , -5350.75625381, -5462.42621762, -5407.03279537,\n",
       "       -5361.30387462, -5463.26962748, -5348.30957357, -5508.06889313,\n",
       "       -5592.56504913, -5469.10594057, -5559.07102775, -5437.1541939 ,\n",
       "       -5517.60990636, -5565.11753037, -5606.47260803, -5509.94260481,\n",
       "       -5446.53416335, -5424.9929009 , -5566.82586604, -5597.11789805,\n",
       "       -5460.41418367, -5425.62484155, -5460.09292757, -5414.06162815,\n",
       "       -5614.68871153, -5390.20160167, -5414.97452795, -5452.8033386 ,\n",
       "       -5537.12273513, -5432.7876543 , -5515.57629565, -5542.60362503,\n",
       "       -5512.9458635 , -5487.14543948, -5485.36032855, -5425.19395051,\n",
       "       -5540.14252878, -5399.64576421, -5450.73575838, -5506.55317348,\n",
       "       -5379.52452402, -5400.33404113, -5388.842595  , -5404.41859352,\n",
       "       -5666.08885866, -5359.60461191, -5532.77225818, -5402.69052521,\n",
       "       -5522.34920441, -5511.4620554 , -5659.57431734, -5314.59345113,\n",
       "       -5427.79671886, -5474.05249441, -5427.52893548, -5457.36400606,\n",
       "       -5576.83822977, -5511.44739403, -5519.2743674 , -5455.91632431,\n",
       "       -5395.8440266 , -5355.16227204, -5429.80448608, -5298.80961259,\n",
       "       -5386.85292762, -5493.57191302, -5495.5275903 , -5418.76747701,\n",
       "       -5534.37420037, -5584.17407067, -5566.93621508, -5604.84951533,\n",
       "       -5546.64609302, -5454.69752943, -5615.58054624, -5475.44983063,\n",
       "       -5413.66620044, -5488.4553354 , -5336.78579473, -5549.30701641,\n",
       "       -5386.85857724, -5493.90334293, -5332.7245204 , -5620.13227618,\n",
       "       -5474.49624151, -5454.13525021, -5460.33874131, -5509.31129824,\n",
       "       -5432.36515015, -5406.0375642 , -5333.52915904, -5579.01396309,\n",
       "       -5416.86127571, -5587.63774509, -5480.85388555, -5513.13335784,\n",
       "       -5543.18057283, -5388.48044341, -5430.27792612, -5592.54008591,\n",
       "       -5506.99129559, -5379.83760433, -5457.77262131, -5384.2242513 ,\n",
       "       -5531.06788289, -5585.05191109, -5511.26994222, -5447.39616588,\n",
       "       -5535.49516889, -5497.48228152, -5513.08054389, -5528.72964857,\n",
       "       -5415.26297396, -5390.69340985, -5480.11662348, -5556.87704697,\n",
       "       -5607.5067974 , -5385.72764728, -5412.59524244, -5388.61572259,\n",
       "       -5617.6179857 , -5496.09381364, -5591.72134645, -5475.78243489,\n",
       "       -5531.36499151, -5601.01811161, -5487.77263123, -5435.4561109 ,\n",
       "       -5544.03264768, -5462.50392376, -5430.71424308, -5456.46596916,\n",
       "       -5533.60183338, -5509.18859654, -5514.63867368, -5484.66570828,\n",
       "       -5355.27455211, -5377.32320384, -5521.416678  , -5399.81956987,\n",
       "       -5430.54932261, -5470.07187983, -5314.03011691, -5538.89088053,\n",
       "       -5288.98817293, -5289.67769583, -5381.99552359, -5574.85656578,\n",
       "       -5426.53426609, -5459.31926425, -5558.79150139, -5576.09742313,\n",
       "       -5437.0522702 , -5568.62944585, -5403.91293206, -5679.77503178,\n",
       "       -5492.6267142 , -5415.06184748, -5210.62496114, -5578.33589599,\n",
       "       -5448.14777106, -5468.35064245, -5505.03392873, -5492.40107808,\n",
       "       -5342.80321917, -5460.45251135, -5514.17707536, -5309.42926268,\n",
       "       -5545.20184508, -5543.62194277, -5508.12370965, -5464.08477738,\n",
       "       -5418.51264553, -5436.75039468, -5419.24494774, -5593.17930023,\n",
       "       -5384.49864036, -5507.99389087, -5388.76948997, -5400.92500456,\n",
       "       -5530.61365326, -5464.96314661, -5381.89049294, -5456.65123754,\n",
       "       -5356.28358158, -5353.44446348, -5305.95064508, -5472.80866896,\n",
       "       -5425.6459121 , -5553.22516173, -5351.94222237, -5517.09428034,\n",
       "       -5547.00145153, -5396.43775791, -5550.20372439, -5431.60723429,\n",
       "       -5594.99637282, -5486.40752653, -5565.99893164, -5397.60072411,\n",
       "       -5590.53348339, -5528.17404626, -5519.80632668, -5646.31956033,\n",
       "       -5537.02805664, -5408.53988745, -5327.99502354, -5533.81514213,\n",
       "       -5307.96943098, -5409.02123902, -5458.46931449, -5546.07785422,\n",
       "       -5501.95395941, -5394.68145374, -5405.07883844, -5495.12024782,\n",
       "       -5385.40506467, -5534.66006118, -5389.59013696, -5411.63551633,\n",
       "       -5570.93518327, -5466.49328844, -5578.06516288, -5422.60134015,\n",
       "       -5417.39671613, -5554.22837117, -5473.47613672, -5682.81873173,\n",
       "       -5449.0290154 , -5554.23897638, -5419.50807957, -5538.15615873,\n",
       "       -5367.89251105, -5484.22988976, -5511.50689294, -5471.50508345,\n",
       "       -5452.68666456, -5432.37314421, -5465.41136887, -5483.37801945,\n",
       "       -5424.20076372, -5538.94226028, -5545.48234873, -5536.56639497,\n",
       "       -5484.66947798, -5431.87814527, -5523.89146824, -5537.29687973,\n",
       "       -5421.98622509, -5354.571076  , -5549.84385756, -5506.22385217,\n",
       "       -5470.5584528 , -5596.70000257, -5359.39746627, -5479.6890944 ,\n",
       "       -5550.03439698, -5531.99803698, -5546.11205073, -5553.81605479,\n",
       "       -5428.52269949, -5522.42875916, -5287.62865374, -5556.78859734,\n",
       "       -5462.62745   , -5539.13556845, -5393.42085862, -5553.69776019,\n",
       "       -5447.99225816, -5500.57783023, -5505.31323121, -5388.86962846,\n",
       "       -5488.62032792, -5544.66039514, -5488.0290638 , -5437.53553903,\n",
       "       -5420.19131187, -5457.19103456, -5602.29995254, -5583.10664118,\n",
       "       -5404.89291182, -5556.07196314, -5424.99243723, -5515.95369746,\n",
       "       -5602.45891112, -5593.41699031, -5355.3474243 , -5417.22646226,\n",
       "       -5431.49631671, -5500.97645234, -5429.56478852, -5556.75413031,\n",
       "       -5432.13058817, -5460.25375106, -5513.46890333, -5513.25249616,\n",
       "       -5515.92490018, -5513.55135504, -5488.4143182 , -5459.21307372,\n",
       "       -5454.84934714, -5427.31506121, -5406.01805917, -5377.15027459,\n",
       "       -5556.1394671 , -5418.87955397, -5355.73996228, -5515.74057534,\n",
       "       -5487.70403054, -5540.62171673, -5458.05754974, -5484.4798752 ,\n",
       "       -5443.73468761, -5321.66460948, -5473.34696733, -5492.97990984,\n",
       "       -5420.31533143, -5574.7202718 , -5471.65613203, -5494.80626577,\n",
       "       -5554.71871386, -5364.64716962, -5566.55060157, -5506.35596622,\n",
       "       -5489.67094032, -5480.61230466, -5479.59809273, -5454.43876384,\n",
       "       -5558.32115286, -5351.50747584, -5457.41686007, -5349.71208969,\n",
       "       -5472.6692002 , -5315.35729627, -5471.45931034, -5495.60151306,\n",
       "       -5495.08281189, -5508.82552203, -5492.8894138 , -5482.19781839,\n",
       "       -5577.22882715, -5557.72010423, -5412.60750086, -5441.10821161,\n",
       "       -5296.22858842, -5552.01907836, -5541.68763375, -5456.0786667 ,\n",
       "       -5480.62464369, -5548.62933863, -5520.03348483, -5334.3329204 ,\n",
       "       -5428.98933577, -5471.42849329, -5557.60280619, -5499.69130403,\n",
       "       -5405.47232004, -5407.95085664, -5524.97974525, -5376.69786902,\n",
       "       -5480.43065921, -5508.42665706, -5493.21451845, -5440.92163299,\n",
       "       -5382.59921442, -5363.90131061, -5407.4430235 , -5341.15202731,\n",
       "       -5614.30301041, -5566.99826276, -5505.05530608, -5526.72712356,\n",
       "       -5327.39183947, -5396.02649702, -5405.13674151, -5569.05428035,\n",
       "       -5328.60650534, -5387.19159602, -5566.9345372 , -5490.57200694,\n",
       "       -5523.09814088, -5347.07199674, -5483.68981725, -5484.20106353,\n",
       "       -5623.27863177, -5474.39860501, -5514.173029  , -5498.23712278,\n",
       "       -5451.48453202, -5482.30159368, -5422.74506001, -5403.40639955,\n",
       "       -5520.24777295, -5400.19981485, -5365.02810931, -5459.09048188,\n",
       "       -5466.45525549, -5584.69777322, -5455.10810093, -5593.36851507,\n",
       "       -5565.98707651, -5579.06186804, -5348.8831806 , -5539.31312682,\n",
       "       -5613.61138061, -5305.51528541, -5538.9356955 , -5431.30987278,\n",
       "       -5534.50299993, -5426.52029182, -5460.22032922, -5417.78891755,\n",
       "       -5522.3849771 , -5445.52563041, -5466.59940634, -5478.32471901,\n",
       "       -5431.42618327, -5537.38163964, -5557.02542468, -5566.70243288,\n",
       "       -5359.49571459, -5425.27418367, -5288.14867579, -5452.13300165,\n",
       "       -5620.81506156, -5392.21952431, -5472.98125376, -5374.43858212,\n",
       "       -5262.3564934 , -5527.14227176, -5407.99092574, -5616.40292295,\n",
       "       -5501.23789266, -5498.84956461, -5444.59511593, -5399.12619316,\n",
       "       -5318.62631552, -5410.93362695, -5527.57676244, -5386.12715087,\n",
       "       -5463.14866586, -5538.14914801, -5544.490598  , -5399.81416668,\n",
       "       -5286.36913711, -5549.02261433, -5423.6001152 , -5521.3435027 ])"
      ]
     },
     "execution_count": 69,
     "metadata": {},
     "output_type": "execute_result"
    }
   ],
   "source": [
    "overtime[33]"
   ]
  },
  {
   "cell_type": "code",
   "execution_count": 70,
   "metadata": {},
   "outputs": [
    {
     "data": {
      "text/plain": [
       "array([   0.,  200.,    0.,    0.,    0.,  200.,    0.,    0.,    0.,\n",
       "          0.,    0.,    0.,    0.,    0.,    0.,  300.,    0.,    0.,\n",
       "          0.,    0.,    0.,    0.,    0.,    0.,    0.,    0.,    0.,\n",
       "        100.,    0.,    0.,    0.,  100., 1000.,    0.,    0.,    0.,\n",
       "          0.,    0.])"
      ]
     },
     "execution_count": 70,
     "metadata": {},
     "output_type": "execute_result"
    }
   ],
   "source": [
    "cib[14,:]"
   ]
  },
  {
   "cell_type": "code",
   "execution_count": 71,
   "metadata": {},
   "outputs": [
    {
     "data": {
      "text/plain": [
       "array([-5268.56562439, -5441.26430248, -5671.92853702, -5309.63632882,\n",
       "       -5489.8233069 , -5536.97959994, -5584.47485523, -5470.65582371,\n",
       "       -5380.96528163, -5510.22785138, -5493.46823686, -5422.33659093,\n",
       "       -5556.76314835, -5559.66963322, -5510.88925529, -5644.98134026,\n",
       "       -5392.75188686, -5450.16396147, -5545.62025273, -5481.51453345,\n",
       "       -5431.84711448, -5640.31336721, -5383.19244229, -5435.40356808,\n",
       "       -5414.55928866, -5482.55558248, -5555.63221821, -5467.63441451,\n",
       "       -5489.25259887, -5474.60634991, -5390.92334218, -5485.74296884,\n",
       "       -5453.45758364, -5533.56059495, -5419.67633872, -5607.27322689,\n",
       "       -5557.45388447, -5406.1683946 , -5406.92967409, -5536.34699018,\n",
       "       -5382.87184101, -5482.99012915, -5646.22270493, -5414.52056741,\n",
       "       -5519.67305321, -5583.17848756, -5546.93984012, -5379.80015627,\n",
       "       -5417.55343716, -5469.86778652, -5407.22975554, -5487.42075125,\n",
       "       -5629.94764834, -5607.1487467 , -5604.47080447, -5502.01774161,\n",
       "       -5572.77473279, -5460.70537578, -5476.48758297, -5547.59683264,\n",
       "       -5570.13314831, -5436.06155832, -5381.84153855, -5545.12366584,\n",
       "       -5459.6954708 , -5434.78395862, -5513.11003733, -5471.98080584,\n",
       "       -5524.78303692, -5327.97364983, -5409.37939654, -5381.7013981 ,\n",
       "       -5469.22483957, -5378.41212683, -5355.90204142, -5483.84132669,\n",
       "       -5575.73930855, -5371.48306642, -5494.53245959, -5636.05957091,\n",
       "       -5380.25083709, -5551.99072358, -5425.15256964, -5401.82316682,\n",
       "       -5461.57475698, -5599.88163232, -5372.76497586, -5355.07689985,\n",
       "       -5314.22955553, -5330.27827139, -5425.33642686, -5385.69980594,\n",
       "       -5567.53378405, -5388.11192778, -5405.35940393, -5500.23097003,\n",
       "       -5334.28935914, -5566.14628006, -5354.99420278, -5456.17979489,\n",
       "       -5509.9761272 , -5480.93473918, -5526.21957232, -5482.35676417,\n",
       "       -5492.50253929, -5462.32383034, -5531.00768355, -5436.62678963,\n",
       "       -5502.04798455, -5416.76051433, -5419.95780898, -5442.28061321,\n",
       "       -5500.41748646, -5500.12688446, -5375.3030944 , -5459.69801545,\n",
       "       -5495.75640521, -5499.06806135, -5417.00776695, -5561.32808879,\n",
       "       -5434.0806889 , -5442.53251097, -5524.32308301, -5567.5312842 ,\n",
       "       -5440.87745531, -5390.83246704, -5433.35149224, -5418.13593409,\n",
       "       -5386.02701776, -5563.85079934, -5499.96337411, -5427.12614673,\n",
       "       -5537.91368329, -5497.24283645, -5490.6090593 , -5454.98378189,\n",
       "       -5548.24742774, -5445.06049848, -5491.12224608, -5441.3682408 ,\n",
       "       -5593.69397149, -5394.92116043, -5443.05655698, -5441.29164487,\n",
       "       -5516.70218831, -5456.37457298, -5452.41202429, -5300.09249845,\n",
       "       -5604.80761017, -5554.83556808, -5347.57320333, -5533.95359083,\n",
       "       -5422.34297677, -5424.41043974, -5459.8113749 , -5347.71350205,\n",
       "       -5350.97046525, -5460.68232466, -5383.86942437, -5537.1529302 ,\n",
       "       -5364.34753423, -5473.32742332, -5529.36029712, -5569.36591   ,\n",
       "       -5465.74448324, -5268.37549292, -5598.08603416, -5414.24275635,\n",
       "       -5419.03918742, -5460.77510084, -5606.94586008, -5304.77874121,\n",
       "       -5534.8892539 , -5442.51173126, -5540.84322261, -5378.81395289,\n",
       "       -5424.33587971, -5478.89006021, -5512.71818567, -5471.1298585 ,\n",
       "       -5525.46519123, -5423.09005003, -5546.46925188, -5527.79123843,\n",
       "       -5425.63615255, -5525.17767647, -5326.13939854, -5448.55994247,\n",
       "       -5638.96846066, -5659.98956362, -5618.92152113, -5444.09157701,\n",
       "       -5522.71628682, -5497.0680753 , -5486.57818526, -5395.09748042,\n",
       "       -5504.68266516, -5512.79270885, -5594.24089041, -5455.53780245,\n",
       "       -5440.4394894 , -5580.64043349, -5473.79493946, -5416.35203837,\n",
       "       -5468.28026064, -5288.1022835 , -5427.11374631, -5505.25745251,\n",
       "       -5567.86094883, -5602.43441221, -5495.63902431, -5577.6702865 ,\n",
       "       -5478.12160712, -5607.57630122, -5497.41306324, -5486.28704371,\n",
       "       -5523.59096353, -5547.02932144, -5415.55814442, -5371.52127788,\n",
       "       -5418.80176331, -5576.16172857, -5443.53826603, -5536.37935656,\n",
       "       -5403.81896959, -5551.26282889, -5547.91633815, -5469.00286131,\n",
       "       -5424.77652771, -5466.14750739, -5459.39476026, -5417.93427278,\n",
       "       -5575.47331662, -5504.35116416, -5415.54456145, -5461.55797779,\n",
       "       -5447.82817439, -5358.04065686, -5484.63879732, -5451.92223534,\n",
       "       -5400.62677483, -5700.37445593, -5429.29896103, -5406.18481008,\n",
       "       -5364.4689188 , -5495.84333237, -5461.3644087 , -5390.86085971,\n",
       "       -5364.69014217, -5413.67550957, -5489.72024179, -5501.71066578,\n",
       "       -5414.11898273, -5460.55487592, -5428.61058269, -5661.52763947,\n",
       "       -5464.70935912, -5456.62193297, -5464.11664363, -5384.03778404,\n",
       "       -5455.16953603, -5503.28464848, -5456.5475957 , -5374.78422909,\n",
       "       -5455.14089977, -5446.82584393, -5507.42641565, -5347.74132684,\n",
       "       -5431.69301926, -5472.37941401, -5524.44423993, -5538.17135768,\n",
       "       -5438.68924743, -5475.95717554, -5292.96112515, -5527.15008335,\n",
       "       -5573.29590217, -5540.51660805, -5452.65462922, -5503.48523534,\n",
       "       -5369.915074  , -5366.71513047, -5550.09256496, -5518.00175198,\n",
       "       -5460.65353334, -5468.85356915, -5570.2349408 , -5509.62639598,\n",
       "       -5601.80702085, -5571.05907674, -5391.36026956, -5401.55484324,\n",
       "       -5367.26536984, -5416.31593832, -5588.0383129 , -5487.99948005,\n",
       "       -5404.65444253, -5378.33645373, -5335.80772648, -5564.42979538,\n",
       "       -5546.48418131, -5419.60907334, -5425.70636586, -5372.81828162,\n",
       "       -5520.22759212, -5355.88330469, -5527.32884146, -5544.63126131,\n",
       "       -5361.6859315 , -5449.86915227, -5579.20673101, -5307.62920927,\n",
       "       -5536.22242981, -5449.88433857, -5617.9394368 , -5329.21725968,\n",
       "       -5530.79882214, -5487.18400673, -5364.45986948, -5566.03877706,\n",
       "       -5373.22626798, -5467.79425453, -5567.99875027, -5532.34377619,\n",
       "       -5446.51230601, -5438.25084577, -5344.65892921, -5420.4214366 ,\n",
       "       -5391.20253549, -5449.99030063, -5463.43076209, -5440.13845458,\n",
       "       -5545.6797974 , -5559.96647713, -5446.85755189, -5461.27553267,\n",
       "       -5321.85452054, -5588.92470049, -5414.31214046, -5509.98779921,\n",
       "       -5682.98942974, -5483.92028397, -5523.03664279, -5526.51636539,\n",
       "       -5449.08954543, -5493.31587428, -5583.54045488, -5457.20751963,\n",
       "       -5544.29416594, -5467.8843449 , -5511.11986928, -5432.29072445,\n",
       "       -5435.76018844, -5563.76258475, -5359.24672076, -5413.43543159,\n",
       "       -5445.16871427, -5502.11062172, -5430.68618347, -5492.75144044,\n",
       "       -5492.07544778, -5403.66244028, -5412.22769379, -5511.86890633,\n",
       "       -5458.3158511 , -5522.33475545, -5560.0717544 , -5467.91033831,\n",
       "       -5397.8636241 , -5542.02489657, -5402.15584508, -5469.47142503,\n",
       "       -5469.18368579, -5400.58480559, -5486.38546522, -5455.637756  ,\n",
       "       -5483.92174287, -5514.78348353, -5461.54533847, -5459.00700327,\n",
       "       -5344.84250164, -5458.67915756, -5509.96153952, -5456.73122153,\n",
       "       -5500.51365948, -5370.05371049, -5447.97221981, -5504.27705876,\n",
       "       -5480.76998019, -5374.46737617, -5561.38081343, -5594.0748576 ,\n",
       "       -5533.37247812, -5537.15730081, -5473.86878239, -5417.12814441,\n",
       "       -5596.95249081, -5437.95776765, -5436.09118384, -5406.84216485,\n",
       "       -5304.99417771, -5422.74597467, -5427.23219767, -5598.48670357,\n",
       "       -5357.14565909, -5385.05380831, -5423.89510436, -5445.68694056,\n",
       "       -5502.95188024, -5439.17550174, -5427.98184416, -5605.10029157,\n",
       "       -5501.55305371, -5589.36093092, -5407.12574291, -5486.03044565,\n",
       "       -5505.65462392, -5451.64785131, -5604.63907611, -5504.95111725,\n",
       "       -5447.97843643, -5370.3887645 , -5402.21904083, -5501.95190565,\n",
       "       -5439.03213467, -5538.59572973, -5576.97419386, -5454.66908514,\n",
       "       -5621.86255982, -5420.78636532, -5477.09934203, -5475.90557723,\n",
       "       -5550.79873484, -5389.76989759, -5467.74759806, -5389.675803  ,\n",
       "       -5485.22711666, -5562.27100242, -5350.01836296, -5320.81250645,\n",
       "       -5436.15127825, -5509.06738674, -5479.43062759, -5376.85533952,\n",
       "       -5502.30706582, -5475.99759752, -5463.42942197, -5537.32729505,\n",
       "       -5504.44011844, -5447.91007973, -5422.63470051, -5484.1661479 ,\n",
       "       -5404.62267534, -5502.93253662, -5368.41751833, -5588.18209543,\n",
       "       -5457.40617398, -5274.66599356, -5528.14876536, -5436.10598134,\n",
       "       -5573.00820944, -5323.05028262, -5513.01978221, -5555.50472453,\n",
       "       -5515.25640675, -5415.45843815, -5580.70036919, -5451.60928205,\n",
       "       -5500.84912806, -5579.57752917, -5502.07187302, -5499.462526  ,\n",
       "       -5443.31013298, -5453.00386198, -5349.66416822, -5462.71610825,\n",
       "       -5482.98864342, -5366.66563378, -5614.40193645, -5556.64470576,\n",
       "       -5507.76993715, -5378.50711173, -5582.82294378, -5441.1246146 ,\n",
       "       -5542.63238558, -5557.3528924 , -5468.22185416, -5520.07265897,\n",
       "       -5595.07338012, -5489.40756468, -5465.90250025, -5543.48587318,\n",
       "       -5438.72676956, -5424.86584092, -5505.14043455, -5508.84937537,\n",
       "       -5379.73208481, -5261.59373439, -5463.24740731, -5475.01409999,\n",
       "       -5559.8727204 , -5625.32336558, -5459.01170432, -5489.73700602,\n",
       "       -5489.0041713 , -5546.68731929, -5626.7324275 , -5479.05599938,\n",
       "       -5639.83184217, -5431.48562344, -5651.21531298, -5396.68738154,\n",
       "       -5603.31560241, -5387.28217061, -5504.42605763, -5643.75047104,\n",
       "       -5544.81440892, -5422.35900207, -5442.12753352, -5527.42229862,\n",
       "       -5384.63637657, -5323.54269098, -5424.44089798, -5521.82975742,\n",
       "       -5379.53636832, -5522.00935224, -5454.2579713 , -5502.96571716,\n",
       "       -5624.04322228, -5433.4058427 , -5422.75436687, -5553.31470709,\n",
       "       -5484.86133969, -5361.5147038 , -5499.37458347, -5334.11988843,\n",
       "       -5412.88989277, -5654.27151228, -5547.18076757, -5463.90128043,\n",
       "       -5469.65357264, -5400.95403888, -5347.48614602, -5421.40863393,\n",
       "       -5289.94447218, -5569.04213384, -5380.64452426, -5347.46099437,\n",
       "       -5400.64017279, -5392.39402299, -5484.89465898, -5408.47475203,\n",
       "       -5495.0268293 , -5350.75625381, -5462.42621762, -5407.03279537,\n",
       "       -5361.30387462, -5463.26962748, -5348.30957357, -5508.06889313,\n",
       "       -5592.56504913, -5469.10594057, -5559.07102775, -5437.1541939 ,\n",
       "       -5517.60990636, -5565.11753037, -5606.47260803, -5509.94260481,\n",
       "       -5446.53416335, -5424.9929009 , -5566.82586604, -5597.11789805,\n",
       "       -5460.41418367, -5425.62484155, -5460.09292757, -5414.06162815,\n",
       "       -5614.68871153, -5390.20160167, -5414.97452795, -5452.8033386 ,\n",
       "       -5537.12273513, -5432.7876543 , -5515.57629565, -5542.60362503,\n",
       "       -5512.9458635 , -5487.14543948, -5485.36032855, -5425.19395051,\n",
       "       -5540.14252878, -5399.64576421, -5450.73575838, -5506.55317348,\n",
       "       -5379.52452402, -5400.33404113, -5388.842595  , -5404.41859352,\n",
       "       -5666.08885866, -5359.60461191, -5532.77225818, -5402.69052521,\n",
       "       -5522.34920441, -5511.4620554 , -5659.57431734, -5314.59345113,\n",
       "       -5427.79671886, -5474.05249441, -5427.52893548, -5457.36400606,\n",
       "       -5576.83822977, -5511.44739403, -5519.2743674 , -5455.91632431,\n",
       "       -5395.8440266 , -5355.16227204, -5429.80448608, -5298.80961259,\n",
       "       -5386.85292762, -5493.57191302, -5495.5275903 , -5418.76747701,\n",
       "       -5534.37420037, -5584.17407067, -5566.93621508, -5604.84951533,\n",
       "       -5546.64609302, -5454.69752943, -5615.58054624, -5475.44983063,\n",
       "       -5413.66620044, -5488.4553354 , -5336.78579473, -5549.30701641,\n",
       "       -5386.85857724, -5493.90334293, -5332.7245204 , -5620.13227618,\n",
       "       -5474.49624151, -5454.13525021, -5460.33874131, -5509.31129824,\n",
       "       -5432.36515015, -5406.0375642 , -5333.52915904, -5579.01396309,\n",
       "       -5416.86127571, -5587.63774509, -5480.85388555, -5513.13335784,\n",
       "       -5543.18057283, -5388.48044341, -5430.27792612, -5592.54008591,\n",
       "       -5506.99129559, -5379.83760433, -5457.77262131, -5384.2242513 ,\n",
       "       -5531.06788289, -5585.05191109, -5511.26994222, -5447.39616588,\n",
       "       -5535.49516889, -5497.48228152, -5513.08054389, -5528.72964857,\n",
       "       -5415.26297396, -5390.69340985, -5480.11662348, -5556.87704697,\n",
       "       -5607.5067974 , -5385.72764728, -5412.59524244, -5388.61572259,\n",
       "       -5617.6179857 , -5496.09381364, -5591.72134645, -5475.78243489,\n",
       "       -5531.36499151, -5601.01811161, -5487.77263123, -5435.4561109 ,\n",
       "       -5544.03264768, -5462.50392376, -5430.71424308, -5456.46596916,\n",
       "       -5533.60183338, -5509.18859654, -5514.63867368, -5484.66570828,\n",
       "       -5355.27455211, -5377.32320384, -5521.416678  , -5399.81956987,\n",
       "       -5430.54932261, -5470.07187983, -5314.03011691, -5538.89088053,\n",
       "       -5288.98817293, -5289.67769583, -5381.99552359, -5574.85656578,\n",
       "       -5426.53426609, -5459.31926425, -5558.79150139, -5576.09742313,\n",
       "       -5437.0522702 , -5568.62944585, -5403.91293206, -5679.77503178,\n",
       "       -5492.6267142 , -5415.06184748, -5210.62496114, -5578.33589599,\n",
       "       -5448.14777106, -5468.35064245, -5505.03392873, -5492.40107808,\n",
       "       -5342.80321917, -5460.45251135, -5514.17707536, -5309.42926268,\n",
       "       -5545.20184508, -5543.62194277, -5508.12370965, -5464.08477738,\n",
       "       -5418.51264553, -5436.75039468, -5419.24494774, -5593.17930023,\n",
       "       -5384.49864036, -5507.99389087, -5388.76948997, -5400.92500456,\n",
       "       -5530.61365326, -5464.96314661, -5381.89049294, -5456.65123754,\n",
       "       -5356.28358158, -5353.44446348, -5305.95064508, -5472.80866896,\n",
       "       -5425.6459121 , -5553.22516173, -5351.94222237, -5517.09428034,\n",
       "       -5547.00145153, -5396.43775791, -5550.20372439, -5431.60723429,\n",
       "       -5594.99637282, -5486.40752653, -5565.99893164, -5397.60072411,\n",
       "       -5590.53348339, -5528.17404626, -5519.80632668, -5646.31956033,\n",
       "       -5537.02805664, -5408.53988745, -5327.99502354, -5533.81514213,\n",
       "       -5307.96943098, -5409.02123902, -5458.46931449, -5546.07785422,\n",
       "       -5501.95395941, -5394.68145374, -5405.07883844, -5495.12024782,\n",
       "       -5385.40506467, -5534.66006118, -5389.59013696, -5411.63551633,\n",
       "       -5570.93518327, -5466.49328844, -5578.06516288, -5422.60134015,\n",
       "       -5417.39671613, -5554.22837117, -5473.47613672, -5682.81873173,\n",
       "       -5449.0290154 , -5554.23897638, -5419.50807957, -5538.15615873,\n",
       "       -5367.89251105, -5484.22988976, -5511.50689294, -5471.50508345,\n",
       "       -5452.68666456, -5432.37314421, -5465.41136887, -5483.37801945,\n",
       "       -5424.20076372, -5538.94226028, -5545.48234873, -5536.56639497,\n",
       "       -5484.66947798, -5431.87814527, -5523.89146824, -5537.29687973,\n",
       "       -5421.98622509, -5354.571076  , -5549.84385756, -5506.22385217,\n",
       "       -5470.5584528 , -5596.70000257, -5359.39746627, -5479.6890944 ,\n",
       "       -5550.03439698, -5531.99803698, -5546.11205073, -5553.81605479,\n",
       "       -5428.52269949, -5522.42875916, -5287.62865374, -5556.78859734,\n",
       "       -5462.62745   , -5539.13556845, -5393.42085862, -5553.69776019,\n",
       "       -5447.99225816, -5500.57783023, -5505.31323121, -5388.86962846,\n",
       "       -5488.62032792, -5544.66039514, -5488.0290638 , -5437.53553903,\n",
       "       -5420.19131187, -5457.19103456, -5602.29995254, -5583.10664118,\n",
       "       -5404.89291182, -5556.07196314, -5424.99243723, -5515.95369746,\n",
       "       -5602.45891112, -5593.41699031, -5355.3474243 , -5417.22646226,\n",
       "       -5431.49631671, -5500.97645234, -5429.56478852, -5556.75413031,\n",
       "       -5432.13058817, -5460.25375106, -5513.46890333, -5513.25249616,\n",
       "       -5515.92490018, -5513.55135504, -5488.4143182 , -5459.21307372,\n",
       "       -5454.84934714, -5427.31506121, -5406.01805917, -5377.15027459,\n",
       "       -5556.1394671 , -5418.87955397, -5355.73996228, -5515.74057534,\n",
       "       -5487.70403054, -5540.62171673, -5458.05754974, -5484.4798752 ,\n",
       "       -5443.73468761, -5321.66460948, -5473.34696733, -5492.97990984,\n",
       "       -5420.31533143, -5574.7202718 , -5471.65613203, -5494.80626577,\n",
       "       -5554.71871386, -5364.64716962, -5566.55060157, -5506.35596622,\n",
       "       -5489.67094032, -5480.61230466, -5479.59809273, -5454.43876384,\n",
       "       -5558.32115286, -5351.50747584, -5457.41686007, -5349.71208969,\n",
       "       -5472.6692002 , -5315.35729627, -5471.45931034, -5495.60151306,\n",
       "       -5495.08281189, -5508.82552203, -5492.8894138 , -5482.19781839,\n",
       "       -5577.22882715, -5557.72010423, -5412.60750086, -5441.10821161,\n",
       "       -5296.22858842, -5552.01907836, -5541.68763375, -5456.0786667 ,\n",
       "       -5480.62464369, -5548.62933863, -5520.03348483, -5334.3329204 ,\n",
       "       -5428.98933577, -5471.42849329, -5557.60280619, -5499.69130403,\n",
       "       -5405.47232004, -5407.95085664, -5524.97974525, -5376.69786902,\n",
       "       -5480.43065921, -5508.42665706, -5493.21451845, -5440.92163299,\n",
       "       -5382.59921442, -5363.90131061, -5407.4430235 , -5341.15202731,\n",
       "       -5614.30301041, -5566.99826276, -5505.05530608, -5526.72712356,\n",
       "       -5327.39183947, -5396.02649702, -5405.13674151, -5569.05428035,\n",
       "       -5328.60650534, -5387.19159602, -5566.9345372 , -5490.57200694,\n",
       "       -5523.09814088, -5347.07199674, -5483.68981725, -5484.20106353,\n",
       "       -5623.27863177, -5474.39860501, -5514.173029  , -5498.23712278,\n",
       "       -5451.48453202, -5482.30159368, -5422.74506001, -5403.40639955,\n",
       "       -5520.24777295, -5400.19981485, -5365.02810931, -5459.09048188,\n",
       "       -5466.45525549, -5584.69777322, -5455.10810093, -5593.36851507,\n",
       "       -5565.98707651, -5579.06186804, -5348.8831806 , -5539.31312682,\n",
       "       -5613.61138061, -5305.51528541, -5538.9356955 , -5431.30987278,\n",
       "       -5534.50299993, -5426.52029182, -5460.22032922, -5417.78891755,\n",
       "       -5522.3849771 , -5445.52563041, -5466.59940634, -5478.32471901,\n",
       "       -5431.42618327, -5537.38163964, -5557.02542468, -5566.70243288,\n",
       "       -5359.49571459, -5425.27418367, -5288.14867579, -5452.13300165,\n",
       "       -5620.81506156, -5392.21952431, -5472.98125376, -5374.43858212,\n",
       "       -5262.3564934 , -5527.14227176, -5407.99092574, -5616.40292295,\n",
       "       -5501.23789266, -5498.84956461, -5444.59511593, -5399.12619316,\n",
       "       -5318.62631552, -5410.93362695, -5527.57676244, -5386.12715087,\n",
       "       -5463.14866586, -5538.14914801, -5544.490598  , -5399.81416668,\n",
       "       -5286.36913711, -5549.02261433, -5423.6001152 , -5521.3435027 ])"
      ]
     },
     "execution_count": 71,
     "metadata": {},
     "output_type": "execute_result"
    }
   ],
   "source": [
    "overtime[33]"
   ]
  },
  {
   "cell_type": "code",
   "execution_count": 179,
   "metadata": {},
   "outputs": [
    {
     "data": {
      "text/plain": [
       "array([[ 4.85331894e+01, -2.57285705e-09, -2.56053179e-09, ...,\n",
       "        -2.14632517e-09, -2.58574732e-09, -2.36503446e-09],\n",
       "       [ 0.00000000e+00,  0.00000000e+00,  0.00000000e+00, ...,\n",
       "         2.85011312e+01,  0.00000000e+00,  0.00000000e+00],\n",
       "       [ 0.00000000e+00, -9.99971661e-10,  0.00000000e+00, ...,\n",
       "         0.00000000e+00,  0.00000000e+00,  3.59611103e+01],\n",
       "       ...,\n",
       "       [ 0.00000000e+00,  0.00000000e+00,  0.00000000e+00, ...,\n",
       "         0.00000000e+00,  0.00000000e+00,  0.00000000e+00],\n",
       "       [ 0.00000000e+00,  0.00000000e+00,  0.00000000e+00, ...,\n",
       "         0.00000000e+00,  0.00000000e+00,  0.00000000e+00],\n",
       "       [ 0.00000000e+00,  0.00000000e+00,  0.00000000e+00, ...,\n",
       "         0.00000000e+00,  0.00000000e+00,  0.00000000e+00]])"
      ]
     },
     "execution_count": 179,
     "metadata": {},
     "output_type": "execute_result"
    }
   ],
   "source": [
    "os"
   ]
  },
  {
   "cell_type": "code",
   "execution_count": 180,
   "metadata": {},
   "outputs": [
    {
     "data": {
      "text/plain": [
       "array([[   0.        ,   95.49023033,   97.31083119, ...,  201.87273381,\n",
       "         164.98745318,   55.25413845],\n",
       "       [  15.56384699,   89.91516068,   71.6762512 , ...,    0.        ,\n",
       "          28.36910685,   79.0012068 ],\n",
       "       [  80.25300382,   12.10692809,   33.09588077, ...,   73.51353361,\n",
       "          13.02403523,    0.        ],\n",
       "       ...,\n",
       "       [6000.        , 6000.        , 6000.        , ..., 6000.        ,\n",
       "        6000.        , 6000.        ],\n",
       "       [5461.42136097, 5612.69808294, 5491.25156941, ..., 5589.05833784,\n",
       "        5518.01481653, 5520.87248275],\n",
       "       [6000.        , 6000.        , 6000.        , ..., 6000.        ,\n",
       "        6000.        , 6000.        ]])"
      ]
     },
     "execution_count": 180,
     "metadata": {},
     "output_type": "execute_result"
    }
   ],
   "source": [
    "gs"
   ]
  },
  {
   "cell_type": "code",
   "execution_count": 183,
   "metadata": {},
   "outputs": [
    {
     "data": {
      "text/plain": [
       "array([   0.,    0.,    0.,    0.,  100.,    0.,  300.,    0.,    0.,\n",
       "          0.,    0.,    0.,  200.,    0.,    0.,    0.,    0.,    0.,\n",
       "          0.,  300.,    0.,    0.,    0.,    0.,    0.,  300.,    0.,\n",
       "          0.,    0.,    0.,  200.,    0.,    0.,    0.,    0.,    0.,\n",
       "          0., 1000.])"
      ]
     },
     "execution_count": 183,
     "metadata": {},
     "output_type": "execute_result"
    }
   ],
   "source": [
    "cib[103,:]"
   ]
  },
  {
   "cell_type": "code",
   "execution_count": 182,
   "metadata": {},
   "outputs": [
    {
     "data": {
      "text/plain": [
       "(125, 38)"
      ]
     },
     "execution_count": 182,
     "metadata": {},
     "output_type": "execute_result"
    }
   ],
   "source": [
    "cib.shape"
   ]
  },
  {
   "cell_type": "code",
   "execution_count": null,
   "metadata": {},
   "outputs": [],
   "source": []
  }
 ],
 "metadata": {
  "kernelspec": {
   "display_name": "Python 3",
   "language": "python",
   "name": "python3"
  },
  "language_info": {
   "codemirror_mode": {
    "name": "ipython",
    "version": 3
   },
   "file_extension": ".py",
   "mimetype": "text/x-python",
   "name": "python",
   "nbconvert_exporter": "python",
   "pygments_lexer": "ipython3",
   "version": "3.8.5"
  }
 },
 "nbformat": 4,
 "nbformat_minor": 4
}
