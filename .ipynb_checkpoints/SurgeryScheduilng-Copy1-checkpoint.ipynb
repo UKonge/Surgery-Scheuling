{
 "cells": [
  {
   "cell_type": "code",
   "execution_count": 58,
   "metadata": {},
   "outputs": [],
   "source": [
    "import numpy as np\n",
    "import matplotlib.pyplot as plt\n",
    "from pyomo.environ import *\n",
    "import pandas as pd"
   ]
  },
  {
   "cell_type": "code",
   "execution_count": 59,
   "metadata": {},
   "outputs": [],
   "source": [
    "np.random.seed(0)\n",
    "def get_surgery_time(mean,std):\n",
    "    sh,sc = (mean/std)**2,std**2/mean\n",
    "    return np.random.gamma(shape=sh,scale=sc)"
   ]
  },
  {
   "cell_type": "code",
   "execution_count": 60,
   "metadata": {},
   "outputs": [
    {
     "name": "stdout",
     "output_type": "stream",
     "text": [
      "{'CARD': 21, 'GASTRO': 27, 'GYN': 42, 'MED': 8, 'ORTHO': 26, 'URO': 26}\n",
      "{'CARD': [0, 20], 'GASTRO': [21, 47], 'GYN': [48, 89], 'MED': [90, 97], 'ORTHO': [98, 123], 'URO': [124, 149]}\n"
     ]
    }
   ],
   "source": [
    "#problem parameters\n",
    "specs = ['CARD','GASTRO','GYN','MED','ORTHO','URO']\n",
    "\n",
    "surgery_data = {'CARD':[99.0,53.0],'GASTRO':[132.0,76.0],'GYN':[78.0,52.0],'MED':[75.0,32.0],'ORTHO':[142.0,58.0],'URO':[72.0,38.0]}\n",
    "\n",
    "blocks = {'CARD':[2,6,16,28,32,33],'GASTRO':[1,8,14,15,22,27,34],'GYN':[4,11,12,18,19,24,25,30,35],'MED':[17,36],'ORTHO':[3,9,10,21,23,29,37],'URO':[5,7,13,20,26,31,38]}\n",
    "block_len = [8*60 for i in range(32)]+[60*60 for i in range(len(specs))]\n",
    "n_blocks = len(block_len)\n",
    "\n",
    "n_surgeries = 150\n",
    "percent_surg = {'CARD':14,'GASTRO':18,'GYN':28,'MED':5,'ORTHO':17,'URO':18}\n",
    "surgeries = {}\n",
    "tot = 0\n",
    "for i in specs[:len(specs)-1]:\n",
    "    surgeries[i] = round(n_surgeries*percent_surg[i]/100.0)\n",
    "    tot += surgeries[i]\n",
    "surgeries[specs[-1]] = n_surgeries-tot\n",
    "\n",
    "surgery_nums = {}\n",
    "t = 0\n",
    "for s in specs:\n",
    "    surgery_nums[s] = [t,t+surgeries[s]-1]\n",
    "    t = t+surgeries[s]\n",
    "    \n",
    "print(surgeries)\n",
    "print(surgery_nums)"
   ]
  },
  {
   "cell_type": "code",
   "execution_count": 61,
   "metadata": {},
   "outputs": [],
   "source": [
    "np.random.seed(0)\n",
    "cib = np.array([[0.0 for _ in range(n_blocks)] for _ in range(n_surgeries)]) # block costs\n",
    "for s in specs:\n",
    "    for i in range(surgery_nums[s][0],surgery_nums[s][1]):\n",
    "        #costs = sorted([np.random.randint(low=1,high=5)*100 for _ in range(len(blocks[s])-1)])\n",
    "        costs = [np.random.randint(low=1,high=5)*110 for _ in range(len(blocks[s])-1)]\n",
    "        f = 0\n",
    "        for b in blocks[s][:len(blocks[s])-1]:\n",
    "            cib[i,b-1] = costs[f]\n",
    "            f += 1\n",
    "            \n",
    "        \n",
    "dummy_cost = 800\n",
    "for s in specs:\n",
    "    for i in range(surgery_nums[s][0],surgery_nums[s][1]):\n",
    "        b = blocks[s][-1]\n",
    "        cib[i,b-1] = dummy_cost\n",
    "\n",
    "cob = np.array([5.0 for _ in range(n_blocks)])\n",
    "cgb = np.array([5.0/1.5 for _ in range(n_blocks-len(specs))]+[0.0 for _ in range(len(specs))])"
   ]
  },
  {
   "cell_type": "code",
   "execution_count": 62,
   "metadata": {},
   "outputs": [],
   "source": [
    "#block and surgery of a speciality fesibility\n",
    "p = [[0 for _ in range(n_blocks)] for _ in range(n_surgeries)]\n",
    "p = np.array(p)\n",
    "t = 0\n",
    "for s in specs:\n",
    "    for i in range(surgeries[s]):\n",
    "        for b in blocks[s]:\n",
    "            p[t,b-1] = 1\n",
    "        t += 1"
   ]
  },
  {
   "cell_type": "code",
   "execution_count": 63,
   "metadata": {},
   "outputs": [],
   "source": [
    "n_scenarios = 10**3\n",
    "avg_model = ConcreteModel()\n",
    "avg_model.y = Var(RangeSet(n_surgeries),RangeSet(n_blocks),domain=Binary)\n",
    "avg_model.o = Var(RangeSet(n_blocks),RangeSet(n_scenarios),domain=NonNegativeReals)\n",
    "avg_model.g = Var(RangeSet(n_blocks),RangeSet(n_scenarios),domain=NonNegativeReals)\n",
    "\n",
    "avg_model.atmost1 = ConstraintList()\n",
    "for i in range(n_surgeries):\n",
    "    avg_model.atmost1.add(expr=sum(avg_model.y[i+1,b] for b in range(1,n_blocks+1))==1)\n",
    "\n",
    "avg_model.specfeas = ConstraintList()\n",
    "for i in range(n_surgeries):\n",
    "    for b in range(n_blocks):\n",
    "        avg_model.specfeas.add(expr=avg_model.y[i+1,b+1] <= p[i,b])\n",
    "\n",
    "avg_model.ogcons = ConstraintList()\n",
    "for n in range(n_scenarios):\n",
    "    t = 0\n",
    "    for s in specs:\n",
    "        for b in blocks[s]:\n",
    "            avg_model.ogcons.add(expr=avg_model.o[b,n+1]-avg_model.g[b,n+1] == sum(get_surgery_time(surgery_data[s][0],surgery_data[s][1])*avg_model.y[i+1,b] for i in range(surgery_nums[s][0],surgery_nums[s][1]+1))-block_len[b-1])\n",
    "\n",
    "avg_model.cost = Objective(expr=sum(sum(avg_model.y[i+1,b+1]*cib[i,b] for i in range(n_surgeries)) for b in range(n_blocks))+(sum(cob[b]*avg_model.o[b+1,n+1]+cgb[b]*avg_model.g[b+1,n+1] for b in range(n_blocks) for n in range(n_scenarios)))/n_scenarios,sense=minimize)"
   ]
  },
  {
   "cell_type": "code",
   "execution_count": null,
   "metadata": {},
   "outputs": [
    {
     "name": "stdout",
     "output_type": "stream",
     "text": [
      "\n",
      "Welcome to IBM(R) ILOG(R) CPLEX(R) Interactive Optimizer 20.1.0.0\n",
      "  with Simplex, Mixed Integer & Barrier Optimizers\n",
      "5725-A06 5725-A29 5724-Y48 5724-Y49 5724-Y54 5724-Y55 5655-Y21\n",
      "Copyright IBM Corp. 1988, 2020.  All Rights Reserved.\n",
      "\n",
      "Type 'help' for a list of available commands.\n",
      "Type 'help' followed by a command name for more\n",
      "information on commands.\n",
      "\n",
      "CPLEX> Logfile 'cplex.log' closed.\n",
      "Logfile 'C:\\Users\\91824\\AppData\\Local\\Temp\\tmpm2qo4_mk.cplex.log' open.\n",
      "CPLEX> New value for time limit in seconds: 3600\n",
      "CPLEX> Problem 'C:\\Users\\91824\\AppData\\Local\\Temp\\tmp8th5reso.pyomo.lp' read.\n",
      "Read time = 0.48 sec. (19.74 ticks)\n",
      "CPLEX> Problem name         : C:\\Users\\91824\\AppData\\Local\\Temp\\tmp8th5reso.pyomo.lp\n",
      "Objective sense      : Minimize\n",
      "Variables            :   81701  [Nneg: 76001,  Binary: 5700]\n",
      "Objective nonzeros   :   71035\n",
      "Linear constraints   :   43851  [Less: 5700,  Equal: 38151]\n",
      "  Nonzeros           : 1160401\n",
      "  RHS nonzeros       :   39224\n",
      "\n",
      "Variables            : Min LB: 0.000000         Max UB: 1.000000       \n",
      "Objective nonzeros   : Min   : 0.003333333      Max   : 800.0000       \n",
      "Linear constraints   :\n",
      "  Nonzeros           : Min   : 0.1733807        Max   : 803.0449       \n",
      "  RHS nonzeros       : Min   : 1.000000         Max   : 3600.000       \n",
      "CPLEX> Version identifier: 20.1.0.0 | 2020-11-10 | 9bedb6d68\n",
      "CPXPARAM_TimeLimit                               3600\n",
      "Found incumbent of value 132216.390091 after 0.02 sec. (13.37 ticks)\n",
      "Tried aggregator 2 times.\n",
      "MIP Presolve eliminated 11477 rows and 17412 columns.\n",
      "MIP Presolve modified 20032 coefficients.\n",
      "Aggregator did 8 substitutions.\n",
      "Reduced MIP has 32366 rows, 64281 columns, and 1014331 nonzeros.\n",
      "Reduced MIP has 1057 binaries, 0 generals, 0 SOSs, and 0 indicators.\n",
      "Presolve time = 0.67 sec. (317.48 ticks)\n",
      "Probing time = 0.09 sec. (28.67 ticks)\n",
      "Tried aggregator 1 time.\n",
      "Detecting symmetries...\n",
      "Reduced MIP has 32366 rows, 64281 columns, and 1014331 nonzeros.\n",
      "Reduced MIP has 1057 binaries, 0 generals, 0 SOSs, and 0 indicators.\n",
      "Presolve time = 1.31 sec. (389.96 ticks)\n",
      "Probing time = 0.06 sec. (32.77 ticks)\n",
      "Clique table members: 142.\n",
      "MIP emphasis: balance optimality and feasibility.\n",
      "MIP search method: dynamic search.\n",
      "Parallel mode: deterministic, using up to 8 threads.\n",
      "Root relaxation solution time = 63.50 sec. (17645.50 ticks)\n",
      "\n",
      "        Nodes                                         Cuts/\n",
      "   Node  Left     Objective  IInf  Best Integer    Best Bound    ItCnt     Gap\n",
      "\n",
      "*     0+    0                       132216.3901     2114.4678            98.40%\n",
      "*     0+    0                       123762.5573     2114.4678            98.29%\n",
      "      0     0    35377.3292   256   123762.5573    35377.3292    40276   71.42%\n",
      "*     0+    0                        40458.9428    35377.3292            12.56%\n",
      "*     0+    0                        39821.3603    35377.3292            11.16%\n",
      "      0     0    35434.0785   269    39821.3603    Cuts: 1910    42742   11.02%\n",
      "      0     0    35451.4860   276    39821.3603     Cuts: 630    44074   10.97%\n",
      "      0     0    35458.6956   274    39821.3603     Cuts: 377    45384   10.96%\n",
      "*     0+    0                        37358.1547    35458.6956             5.08%\n",
      "      0     0    35461.7990   276    37358.1547     Cuts: 205    46028    5.08%\n",
      "      0     0    35464.1676   273    37358.1547     Cuts: 157    46722    5.07%\n",
      "Detecting symmetries...\n",
      "      0     0    35465.7391   276    37358.1547     Cuts: 132    47121    5.07%\n",
      "      0     0    35467.1937   275    37358.1547     Cuts: 125    47459    5.06%\n",
      "Heuristic still looking.\n",
      "Detecting symmetries...\n",
      "      0     2    35467.1937   275    37358.1547    35467.1937    47459    5.06%\n",
      "Elapsed time = 132.77 sec. (53245.99 ticks, tree = 0.02 MB, solutions = 5)\n",
      "      1     3    35499.3469   269    37358.1547    35467.2013    48310    5.06%\n",
      "      2     4    35517.2719   266    37358.1547    35467.2013    48944    5.06%\n",
      "      3     3    35481.2092   274    37358.1547    35467.2013    48161    5.06%\n",
      "      6     5    35528.2151   260    37358.1547    35467.2013    49361    5.06%\n",
      "      9     6    35513.4110   276    37358.1547    35481.2787    51702    5.02%\n",
      "     11    10    35571.2437   269    37358.1547    35481.2787    53536    5.02%\n",
      "     13     9    35549.2207   265    37358.1547    35481.2787    52925    5.02%\n",
      "     18     8    35546.0721   265    37358.1547    35481.2787    51741    5.02%\n",
      "     23    16    35602.8154   261    37358.1547    35481.2787    58891    5.02%\n",
      "     32    19    35585.9423   263    37358.1547    35481.2787    64337    5.02%\n",
      "Elapsed time = 155.14 sec. (57146.33 ticks, tree = 0.62 MB, solutions = 5)\n",
      "     45    41    35646.7100   257    37358.1547    35505.1177    87094    4.96%\n",
      "     65    56    35614.0257   250    37358.1547    35505.1177   101236    4.96%\n",
      "    100    64    35666.1590   250    37358.1547    35505.1177   109251    4.96%\n",
      "    136    55    35664.4365   256    37358.1547    35505.1177    99603    4.96%\n",
      "    167   139    35953.6999   237    37358.1547    35505.1177   136172    4.96%\n",
      "    196   170    35711.5908   255    37358.1547    35505.1177   148464    4.96%\n",
      "    238   209    35815.2871   240    37358.1547    35505.1177   164375    4.96%\n",
      "    283   259    35955.1077   228    37358.1547    35505.1177   182730    4.96%\n",
      "    328   294    36368.0882   206    37358.1547    35505.1177   194609    4.96%\n",
      "    372   331    36219.2046   213    37358.1547    35505.1177   206643    4.96%\n",
      "Elapsed time = 220.91 sec. (66816.89 ticks, tree = 41.81 MB, solutions = 5)\n",
      "    419   370    36240.3539   208    37358.1547    35505.1177   224150    4.96%\n",
      "    471   430    36544.9469   181    37358.1547    35505.1177   244154    4.96%\n",
      "    512   452    36537.0178   198    37358.1547    35505.1177   250404    4.96%\n",
      "    533   494    36589.4408   171    37358.1547    35505.1177   262615    4.96%\n",
      "    555   503    36738.2565   154    37358.1547    35505.1177   264816    4.96%\n",
      "    580   446    36567.8451   194    37358.1547    35505.1177   247940    4.96%\n",
      "*   598+  457                        37354.7434    35505.1177             4.95%\n",
      "    602   561    36717.1075   153    37354.7434    35505.1177   280491    4.95%\n",
      "    624   517    36493.2856   206    37354.7434    35505.1177   269657    4.95%\n",
      "    650   582    36584.3873   160    37354.7434    35505.1177   285078    4.95%\n",
      "    668   623    36721.1581   152    37354.7434    35505.1177   295905    4.95%\n",
      "Elapsed time = 295.22 sec. (76746.11 ticks, tree = 107.28 MB, solutions = 6)\n",
      "    688   628    36783.4055   142    37354.7434    35505.1177   297748    4.95%\n",
      "    701   628    36590.0871   157    37354.7434    35505.1177   297795    4.95%\n",
      "    718   636    36680.9631   148    37354.7434    35505.1177   300144    4.95%\n",
      "    753   644    36738.2154   132    37354.7434    35505.1177   301922    4.95%\n",
      "    779   713    36656.0172   173    37354.7434    35505.1177   318005    4.95%\n",
      "    795   730    37036.7097   109    37354.7434    35505.1177   322730    4.95%\n",
      "    810   739    36882.4567   133    37354.7434    35505.1177   327391    4.95%\n",
      "    828   752    36880.7670    97    37354.7434    35505.1177   330506    4.95%\n",
      "    850   768    36745.2228   157    37354.7434    35505.1177   333850    4.95%\n",
      "    888   808    37017.3601   105    37354.7434    35505.1177   344758    4.95%\n",
      "Elapsed time = 367.05 sec. (86677.16 ticks, tree = 155.37 MB, solutions = 6)\n",
      "    927   816    37096.4862    93    37354.7434    35505.1177   346707    4.95%\n",
      "    980   825    37172.7258    81    37354.7434    35505.1177   348742    4.95%\n",
      "   1016   860        cutoff          37354.7434    35505.1177   356549    4.95%\n",
      "   1063   939    37306.9084    64    37354.7434    35505.1177   376793    4.95%\n",
      "   1107  1002    37173.9938    88    37354.7434    35505.1177   394124    4.95%\n",
      "   1150  1020    37174.1266    73    37354.7434    35505.1177   399222    4.95%\n",
      "   1182  1049    35619.4554   257    37354.7434    35505.1177   405660    4.95%\n",
      "   1207  1075    35695.9595   248    37354.7434    35505.1177   413425    4.95%\n",
      "   1224  1080    36986.5459   131    37354.7434    35505.1177   415668    4.95%\n",
      "   1241  1144    37036.6367   123    37354.7434    35505.1177   433883    4.95%\n",
      "Elapsed time = 452.06 sec. (96525.97 ticks, tree = 252.25 MB, solutions = 6)\n",
      "   1259  1126    35721.5861   244    37354.7434    35505.1177   427180    4.95%\n"
     ]
    },
    {
     "name": "stdout",
     "output_type": "stream",
     "text": [
      "   1269  1156    37162.3081   106    37354.7434    35505.1177   437790    4.95%\n",
      "   1277  1189    37215.5618    88    37354.7434    35505.1177   449106    4.95%\n",
      "   1284  1195    37279.7364    80    37354.7434    35505.1177   451560    4.95%\n",
      "   1291  1202    37342.4751    72    37354.7434    35505.1177   453316    4.95%\n",
      "   1297  1204    35532.6442   272    37354.7434    35513.4226   454966    4.93%\n",
      "   1301  1208    35583.8731   259    37354.7434    35513.4226   456957    4.93%\n",
      "   1306  1213    35638.8968   254    37354.7434    35513.4226   458855    4.93%\n",
      "   1308  1215    35671.7007   248    37354.7434    35513.4226   460043    4.93%\n",
      "*  1309+  843                        37202.6694    35513.4226             4.54%\n",
      "*  1309+ 1148                        37202.6694    35513.4226             4.54%\n",
      "*  1309+  836                        37154.5126    35513.4226             4.42%\n",
      "*  1309+ 1053                        37146.4275    35513.4226             4.40%\n",
      "*  1309+ 1053                        37134.6060    35513.4226             4.37%\n",
      "   1309   838    35571.8875   275    37134.6060    35513.4226   357046    4.37%\n",
      "Elapsed time = 810.97 sec. (168493.66 ticks, tree = 164.77 MB, solutions = 8)\n"
     ]
    }
   ],
   "source": [
    "opt = SolverFactory('cplex')\n",
    "opt.options['timelimit'] = 3600\n",
    "result = opt.solve(avg_model,tee=True)\n",
    "print(\"Solver status :\",result.solver.status)\n",
    "print(\"Solver Termination condition :\", result.solver.termination_condition)"
   ]
  },
  {
   "cell_type": "code",
   "execution_count": null,
   "metadata": {},
   "outputs": [],
   "source": [
    "pd.DataFrame(cib).to_csv(\"cost_data_random_seed0.csv\")"
   ]
  },
  {
   "cell_type": "code",
   "execution_count": null,
   "metadata": {},
   "outputs": [],
   "source": [
    "l = [[] for _ in range(n_blocks)]\n",
    "for b in range(n_blocks):\n",
    "    for i in range(n_surgeries):\n",
    "        if avg_model.y[i+1,b+1].value > 0.0:\n",
    "            l[b].append(i)\n",
    "\n",
    "for i in range(len(l)):\n",
    "    print(\"Block :\",i+1, 'Surgeries',l[i])\n",
    "    "
   ]
  },
  {
   "cell_type": "code",
   "execution_count": null,
   "metadata": {},
   "outputs": [],
   "source": [
    "surgery_nums"
   ]
  },
  {
   "cell_type": "code",
   "execution_count": null,
   "metadata": {},
   "outputs": [],
   "source": [
    "for i in specs:\n",
    "    print(i, blocks[i])"
   ]
  },
  {
   "cell_type": "code",
   "execution_count": null,
   "metadata": {},
   "outputs": [],
   "source": [
    "assignments = np.array([[0.0 for _ in range(n_blocks)] for _ in range(n_surgeries)])\n",
    "for i in range(n_surgeries):\n",
    "    for b in range(n_blocks):\n",
    "        assignments[i,b] = avg_model.y[i+1,b+1].value"
   ]
  },
  {
   "cell_type": "code",
   "execution_count": null,
   "metadata": {},
   "outputs": [],
   "source": [
    "fig,(ax1,ax2) = plt.subplots(2,1,sharex=True,figsize=(20,20))\n",
    "ax1.imshow(cib[:,:32].T,interpolation='nearest')\n",
    "ax2.imshow(assignments[:,:32].T,interpolation='nearest')\n",
    "plt.savefig(\"Random block costs weekly schedule\",dpi=500)"
   ]
  },
  {
   "cell_type": "code",
   "execution_count": null,
   "metadata": {},
   "outputs": [],
   "source": [
    "os = [[] for _ in range(n_blocks)]\n",
    "gs = [[] for _ in range(n_blocks)]\n",
    "\n",
    "for b in range(n_blocks):\n",
    "    for n in range(n_scenarios):\n",
    "        os[b].append(avg_model.o[b+1,n+1].value)\n",
    "        gs[b].append(avg_model.g[b+1,n+1].value)\n",
    "\n",
    "os = np.array(os)\n",
    "gs = np.array(gs)"
   ]
  },
  {
   "cell_type": "code",
   "execution_count": null,
   "metadata": {},
   "outputs": [],
   "source": [
    "overtime = os-gs\n",
    "\n",
    "for b in range(n_blocks-len(specs)):\n",
    "    plt.figure()\n",
    "    plt.title(\"Hist for block \"+str(b+1))\n",
    "    plt.hist(overtime[b],bins=20)\n",
    "    plt.xlim(-600,400)\n",
    "    plt.show()"
   ]
  },
  {
   "cell_type": "code",
   "execution_count": null,
   "metadata": {},
   "outputs": [],
   "source": [
    "cib"
   ]
  },
  {
   "cell_type": "code",
   "execution_count": null,
   "metadata": {},
   "outputs": [],
   "source": [
    "cib.shape"
   ]
  },
  {
   "cell_type": "code",
   "execution_count": null,
   "metadata": {},
   "outputs": [],
   "source": [
    "cib[:2,:32]"
   ]
  },
  {
   "cell_type": "code",
   "execution_count": null,
   "metadata": {},
   "outputs": [],
   "source": []
  }
 ],
 "metadata": {
  "kernelspec": {
   "display_name": "Python 3",
   "language": "python",
   "name": "python3"
  },
  "language_info": {
   "codemirror_mode": {
    "name": "ipython",
    "version": 3
   },
   "file_extension": ".py",
   "mimetype": "text/x-python",
   "name": "python",
   "nbconvert_exporter": "python",
   "pygments_lexer": "ipython3",
   "version": "3.8.5"
  }
 },
 "nbformat": 4,
 "nbformat_minor": 4
}
