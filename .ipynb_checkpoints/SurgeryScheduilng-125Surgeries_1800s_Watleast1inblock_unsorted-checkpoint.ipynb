{
 "cells": [
  {
   "cell_type": "code",
   "execution_count": 193,
   "metadata": {},
   "outputs": [],
   "source": [
    "import numpy as np\n",
    "import matplotlib.pyplot as plt\n",
    "from pyomo.environ import *\n",
    "import pandas as pd\n",
    "from scipy.stats import truncnorm"
   ]
  },
  {
   "cell_type": "code",
   "execution_count": 194,
   "metadata": {},
   "outputs": [],
   "source": [
    "np.random.seed(0)\n",
    "def get_surgery_time(mean,std):\n",
    "    #sh,sc = (mean/std)**2,std**2/mean\n",
    "    #return np.random.gamma(shape=sh,scale=sc)\n",
    "    return truncnorm.rvs(-0.5*std,0.5*std,loc=mean,scale=std)"
   ]
  },
  {
   "cell_type": "code",
   "execution_count": 195,
   "metadata": {},
   "outputs": [
    {
     "name": "stdout",
     "output_type": "stream",
     "text": [
      "{'CARD': 10, 'GASTRO': 13, 'GYN': 20, 'MED': 4, 'ORTHO': 12, 'URO': 11}\n",
      "{'CARD': [0, 9], 'GASTRO': [10, 22], 'GYN': [23, 42], 'MED': [43, 46], 'ORTHO': [47, 58], 'URO': [59, 69]}\n"
     ]
    }
   ],
   "source": [
    "#problem parameters\n",
    "specs = ['CARD','GASTRO','GYN','MED','ORTHO','URO']\n",
    "\n",
    "surgery_data = {'CARD':[99.0,53.0],'GASTRO':[132.0,76.0],'GYN':[78.0,52.0],'MED':[75.0,32.0],'ORTHO':[142.0,58.0],'URO':[72.0,38.0]}\n",
    "\n",
    "blocks = {'CARD':[2,6,16,28,32,33],'GASTRO':[1,8,14,15,22,27,34],'GYN':[4,11,12,18,19,24,25,30,35],'MED':[17,36],'ORTHO':[3,9,10,21,23,29,37],'URO':[5,7,13,20,26,31,38]}\n",
    "block_len = [8*60.0 for i in range(32)]+[100*60.0 for i in range(len(specs))]\n",
    "n_blocks = len(block_len)\n",
    "\n",
    "n_surgeries = 70\n",
    "percent_surg = {'CARD':14,'GASTRO':18,'GYN':28,'MED':5,'ORTHO':17,'URO':18}\n",
    "surgeries = {}\n",
    "tot = 0\n",
    "for i in specs[:len(specs)-1]:\n",
    "    surgeries[i] = round(n_surgeries*percent_surg[i]/100.0)\n",
    "    tot += surgeries[i]\n",
    "surgeries[specs[-1]] = n_surgeries-tot\n",
    "\n",
    "surgery_nums = {}\n",
    "t = 0\n",
    "for s in specs:\n",
    "    surgery_nums[s] = [t,t+surgeries[s]-1]\n",
    "    t = t+surgeries[s]\n",
    "    \n",
    "print(surgeries)\n",
    "print(surgery_nums)"
   ]
  },
  {
   "cell_type": "code",
   "execution_count": 196,
   "metadata": {},
   "outputs": [],
   "source": [
    "np.random.seed(0)\n",
    "cib = np.array([[0.0 for _ in range(n_blocks)] for _ in range(n_surgeries)]) # block costs\n",
    "for s in specs:\n",
    "    for i in range(surgery_nums[s][0],surgery_nums[s][1]):\n",
    "        #costs = sorted([np.random.randint(low=1,high=5)*100 for _ in range(len(blocks[s])-1)])\n",
    "        costs = [np.random.randint(low=1,high=5)*100 for _ in range(len(blocks[s])-1)]\n",
    "        f = 0\n",
    "        for b in blocks[s][:len(blocks[s])-1]:\n",
    "            cib[i,b-1] = costs[f]\n",
    "            f += 1\n",
    "            \n",
    "        \n",
    "dummy_cost = 1000\n",
    "for s in specs:\n",
    "    for i in range(surgery_nums[s][0],surgery_nums[s][1]+1):\n",
    "        b = blocks[s][-1]\n",
    "        cib[i,b-1] = dummy_cost\n",
    "\n",
    "cob = np.array([5.0 for _ in range(n_blocks)])\n",
    "cgb = np.array([5.0/1.1 for _ in range(n_blocks-len(specs))]+[0.0 for _ in range(len(specs))])"
   ]
  },
  {
   "cell_type": "code",
   "execution_count": 197,
   "metadata": {},
   "outputs": [],
   "source": [
    "#block and surgery of a speciality fesibility\n",
    "p = [[0.0 for _ in range(n_blocks)] for _ in range(n_surgeries)]\n",
    "p = np.array(p)\n",
    "t = 0\n",
    "for s in specs:\n",
    "    for i in range(surgeries[s]):\n",
    "        for b in blocks[s]:\n",
    "            p[t,b-1] = 1.0\n",
    "        t += 1"
   ]
  },
  {
   "cell_type": "code",
   "execution_count": 198,
   "metadata": {},
   "outputs": [
    {
     "name": "stdout",
     "output_type": "stream",
     "text": [
      "[0. 1. 0. 0. 0. 1. 0. 0. 0. 0. 0. 0. 0. 0. 0. 1. 0. 0. 0. 0. 0. 0. 0. 0.\n",
      " 0. 0. 0. 1. 0. 0. 0. 1. 1. 0. 0. 0. 0. 0.]\n"
     ]
    }
   ],
   "source": [
    "print(p[9,:])"
   ]
  },
  {
   "cell_type": "code",
   "execution_count": 199,
   "metadata": {},
   "outputs": [
    {
     "ename": "NameError",
     "evalue": "name 'avg_mode' is not defined",
     "output_type": "error",
     "traceback": [
      "\u001b[1;31m---------------------------------------------------------------------------\u001b[0m",
      "\u001b[1;31mNameError\u001b[0m                                 Traceback (most recent call last)",
      "\u001b[1;32m<ipython-input-199-39ff1bfe8ebc>\u001b[0m in \u001b[0;36m<module>\u001b[1;34m\u001b[0m\n\u001b[0;32m     21\u001b[0m             \u001b[0mavg_model\u001b[0m\u001b[1;33m.\u001b[0m\u001b[0mogcons\u001b[0m\u001b[1;33m.\u001b[0m\u001b[0madd\u001b[0m\u001b[1;33m(\u001b[0m\u001b[0mexpr\u001b[0m\u001b[1;33m=\u001b[0m\u001b[0mavg_model\u001b[0m\u001b[1;33m.\u001b[0m\u001b[0mo\u001b[0m\u001b[1;33m[\u001b[0m\u001b[0mb\u001b[0m\u001b[1;33m,\u001b[0m\u001b[0mn\u001b[0m\u001b[1;33m+\u001b[0m\u001b[1;36m1\u001b[0m\u001b[1;33m]\u001b[0m\u001b[1;33m-\u001b[0m\u001b[0mavg_model\u001b[0m\u001b[1;33m.\u001b[0m\u001b[0mg\u001b[0m\u001b[1;33m[\u001b[0m\u001b[0mb\u001b[0m\u001b[1;33m,\u001b[0m\u001b[0mn\u001b[0m\u001b[1;33m+\u001b[0m\u001b[1;36m1\u001b[0m\u001b[1;33m]\u001b[0m \u001b[1;33m==\u001b[0m \u001b[0msum\u001b[0m\u001b[1;33m(\u001b[0m\u001b[0mget_surgery_time\u001b[0m\u001b[1;33m(\u001b[0m\u001b[0msurgery_data\u001b[0m\u001b[1;33m[\u001b[0m\u001b[0ms\u001b[0m\u001b[1;33m]\u001b[0m\u001b[1;33m[\u001b[0m\u001b[1;36m0\u001b[0m\u001b[1;33m]\u001b[0m\u001b[1;33m,\u001b[0m\u001b[0msurgery_data\u001b[0m\u001b[1;33m[\u001b[0m\u001b[0ms\u001b[0m\u001b[1;33m]\u001b[0m\u001b[1;33m[\u001b[0m\u001b[1;36m1\u001b[0m\u001b[1;33m]\u001b[0m\u001b[1;33m)\u001b[0m\u001b[1;33m*\u001b[0m\u001b[0mavg_model\u001b[0m\u001b[1;33m.\u001b[0m\u001b[0my\u001b[0m\u001b[1;33m[\u001b[0m\u001b[0mi\u001b[0m\u001b[1;33m+\u001b[0m\u001b[1;36m1\u001b[0m\u001b[1;33m,\u001b[0m\u001b[0mb\u001b[0m\u001b[1;33m]\u001b[0m \u001b[1;32mfor\u001b[0m \u001b[0mi\u001b[0m \u001b[1;32min\u001b[0m \u001b[0mrange\u001b[0m\u001b[1;33m(\u001b[0m\u001b[0msurgery_nums\u001b[0m\u001b[1;33m[\u001b[0m\u001b[0ms\u001b[0m\u001b[1;33m]\u001b[0m\u001b[1;33m[\u001b[0m\u001b[1;36m0\u001b[0m\u001b[1;33m]\u001b[0m\u001b[1;33m,\u001b[0m\u001b[0msurgery_nums\u001b[0m\u001b[1;33m[\u001b[0m\u001b[0ms\u001b[0m\u001b[1;33m]\u001b[0m\u001b[1;33m[\u001b[0m\u001b[1;36m1\u001b[0m\u001b[1;33m]\u001b[0m\u001b[1;33m+\u001b[0m\u001b[1;36m1\u001b[0m\u001b[1;33m)\u001b[0m\u001b[1;33m)\u001b[0m\u001b[1;33m-\u001b[0m\u001b[0mblock_len\u001b[0m\u001b[1;33m[\u001b[0m\u001b[0mb\u001b[0m\u001b[1;33m-\u001b[0m\u001b[1;36m1\u001b[0m\u001b[1;33m]\u001b[0m\u001b[1;33m)\u001b[0m\u001b[1;33m\u001b[0m\u001b[1;33m\u001b[0m\u001b[0m\n\u001b[0;32m     22\u001b[0m \u001b[1;33m\u001b[0m\u001b[0m\n\u001b[1;32m---> 23\u001b[1;33m \u001b[0mavg_mode\u001b[0m\u001b[1;33m.\u001b[0m\u001b[0matleast1inblock\u001b[0m \u001b[1;33m=\u001b[0m \u001b[0mConstraintList\u001b[0m\u001b[1;33m(\u001b[0m\u001b[1;33m)\u001b[0m\u001b[1;33m\u001b[0m\u001b[1;33m\u001b[0m\u001b[0m\n\u001b[0m\u001b[0;32m     24\u001b[0m \u001b[1;32mfor\u001b[0m \u001b[0mb\u001b[0m \u001b[1;32min\u001b[0m \u001b[0mrange\u001b[0m\u001b[1;33m(\u001b[0m\u001b[0mn_blocks\u001b[0m\u001b[1;33m-\u001b[0m\u001b[0mlen\u001b[0m\u001b[1;33m(\u001b[0m\u001b[0mspecs\u001b[0m\u001b[1;33m)\u001b[0m\u001b[1;33m)\u001b[0m\u001b[1;33m:\u001b[0m\u001b[1;33m\u001b[0m\u001b[1;33m\u001b[0m\u001b[0m\n\u001b[0;32m     25\u001b[0m     \u001b[0mavg_model\u001b[0m\u001b[1;33m.\u001b[0m\u001b[0matleast1inblock\u001b[0m\u001b[1;33m.\u001b[0m\u001b[0madd\u001b[0m\u001b[1;33m(\u001b[0m\u001b[0mexpr\u001b[0m\u001b[1;33m=\u001b[0m\u001b[0msum\u001b[0m\u001b[1;33m(\u001b[0m\u001b[0mavg_model\u001b[0m\u001b[1;33m.\u001b[0m\u001b[0my\u001b[0m\u001b[1;33m[\u001b[0m\u001b[0mi\u001b[0m\u001b[1;33m+\u001b[0m\u001b[1;36m1\u001b[0m\u001b[1;33m,\u001b[0m\u001b[0mb\u001b[0m\u001b[1;33m+\u001b[0m\u001b[1;36m1\u001b[0m\u001b[1;33m]\u001b[0m \u001b[1;32mfor\u001b[0m \u001b[0mi\u001b[0m \u001b[1;32min\u001b[0m \u001b[0mrange\u001b[0m\u001b[1;33m(\u001b[0m\u001b[0mn_surgeries\u001b[0m\u001b[1;33m)\u001b[0m\u001b[1;33m)\u001b[0m\u001b[1;33m>=\u001b[0m\u001b[1;36m1.0\u001b[0m\u001b[1;33m)\u001b[0m\u001b[1;33m\u001b[0m\u001b[1;33m\u001b[0m\u001b[0m\n",
      "\u001b[1;31mNameError\u001b[0m: name 'avg_mode' is not defined"
     ]
    }
   ],
   "source": [
    "n_scenarios = 500\n",
    "avg_model = ConcreteModel()\n",
    "avg_model.y = Var(RangeSet(n_surgeries),RangeSet(n_blocks),domain=Binary)\n",
    "avg_model.o = Var(RangeSet(n_blocks),RangeSet(n_scenarios),domain=NonNegativeReals,bounds=(0,120))\n",
    "avg_model.g = Var(RangeSet(n_blocks),RangeSet(n_scenarios),domain=NonNegativeReals)\n",
    "\n",
    "avg_model.atmost1 = ConstraintList()\n",
    "for i in range(n_surgeries):\n",
    "    avg_model.atmost1.add(expr=sum(avg_model.y[i+1,b] for b in range(1,n_blocks+1))==1)\n",
    "\n",
    "avg_model.specfeas = ConstraintList()\n",
    "for i in range(n_surgeries):\n",
    "    for b in range(n_blocks):\n",
    "        avg_model.specfeas.add(expr=avg_model.y[i+1,b+1] <= p[i,b])\n",
    "\n",
    "avg_model.ogcons = ConstraintList()\n",
    "for n in range(n_scenarios):\n",
    "    t = 0\n",
    "    for s in specs:\n",
    "        for b in blocks[s]:\n",
    "            avg_model.ogcons.add(expr=avg_model.o[b,n+1]-avg_model.g[b,n+1] == sum(get_surgery_time(surgery_data[s][0],surgery_data[s][1])*avg_model.y[i+1,b] for i in range(surgery_nums[s][0],surgery_nums[s][1]+1))-block_len[b-1])\n",
    "\n",
    "avg_model.atleast1inblock = ConstraintList()\n",
    "for b in range(n_blocks-len(specs)):\n",
    "    avg_model.atleast1inblock.add(expr=sum(avg_model.y[i+1,b+1] for i in range(n_surgeries))>=1.0)\n",
    "\n",
    "avg_model.cost = Objective(expr=sum(sum(avg_model.y[i+1,b+1]*cib[i,b] for i in range(n_surgeries)) for b in range(n_blocks))+(sum(cob[b]*avg_model.o[b+1,n+1]+cgb[b]*avg_model.g[b+1,n+1] for b in range(n_blocks) for n in range(n_scenarios)))/n_scenarios,sense=minimize)"
   ]
  },
  {
   "cell_type": "code",
   "execution_count": null,
   "metadata": {},
   "outputs": [],
   "source": [
    "opt = SolverFactory('cplex')\n",
    "opt.options['timelimit'] = 500\n",
    "result = opt.solve(avg_model,tee=True)\n",
    "print(\"Solver status :\",result.solver.status)\n",
    "print(\"Solver Termination condition :\", result.solver.termination_condition)"
   ]
  },
  {
   "cell_type": "code",
   "execution_count": null,
   "metadata": {},
   "outputs": [],
   "source": [
    "pd.DataFrame(cib).to_csv(\"cost_data_random_seed0.csv\")"
   ]
  },
  {
   "cell_type": "code",
   "execution_count": null,
   "metadata": {},
   "outputs": [],
   "source": [
    "l = [[] for _ in range(n_blocks)]\n",
    "for b in range(n_blocks):\n",
    "    for i in range(n_surgeries):\n",
    "        if avg_model.y[i+1,b+1].value > 0.0:\n",
    "            l[b].append(i)\n",
    "\n",
    "for i in range(len(l)):\n",
    "    print(\"Block :\",i+1, 'Surgeries',l[i])\n",
    "    "
   ]
  },
  {
   "cell_type": "code",
   "execution_count": null,
   "metadata": {},
   "outputs": [],
   "source": [
    "surgery_nums"
   ]
  },
  {
   "cell_type": "code",
   "execution_count": null,
   "metadata": {},
   "outputs": [],
   "source": [
    "for i in specs:\n",
    "    print(i, blocks[i])"
   ]
  },
  {
   "cell_type": "code",
   "execution_count": null,
   "metadata": {},
   "outputs": [],
   "source": [
    "assignments = np.array([[0.0 for _ in range(n_blocks)] for _ in range(n_surgeries)])\n",
    "for i in range(n_surgeries):\n",
    "    for b in range(n_blocks):\n",
    "        assignments[i,b] = avg_model.y[i+1,b+1].value"
   ]
  },
  {
   "cell_type": "code",
   "execution_count": null,
   "metadata": {},
   "outputs": [],
   "source": [
    "fig,(ax1,ax2) = plt.subplots(2,1,sharex=True,figsize=(20,20))\n",
    "ax1.imshow(cib[:,:32].T,interpolation='nearest')\n",
    "ax2.imshow(assignments[:,:32].T,interpolation='nearest')\n",
    "plt.savefig(\"Random block costs weekly schedule\",dpi=500)"
   ]
  },
  {
   "cell_type": "code",
   "execution_count": null,
   "metadata": {},
   "outputs": [],
   "source": [
    "os = [[] for _ in range(n_blocks)]\n",
    "gs = [[] for _ in range(n_blocks)]\n",
    "\n",
    "for b in range(n_blocks):\n",
    "    for n in range(n_scenarios):\n",
    "        os[b].append(avg_model.o[b+1,n+1].value)\n",
    "        gs[b].append(avg_model.g[b+1,n+1].value)\n",
    "\n",
    "os = np.array(os)\n",
    "gs = np.array(gs)"
   ]
  },
  {
   "cell_type": "code",
   "execution_count": null,
   "metadata": {},
   "outputs": [],
   "source": [
    "overtime = os-gs\n",
    "\n",
    "for b in range(n_blocks):\n",
    "    plt.figure()\n",
    "    plt.title(\"Hist for block \"+str(b+1))\n",
    "    plt.hist(overtime[b],bins=20)\n",
    "    plt.xlim(-600,400)\n",
    "    plt.show()"
   ]
  },
  {
   "cell_type": "code",
   "execution_count": null,
   "metadata": {},
   "outputs": [],
   "source": [
    "cib"
   ]
  },
  {
   "cell_type": "code",
   "execution_count": null,
   "metadata": {},
   "outputs": [],
   "source": [
    "cib[:,33]"
   ]
  },
  {
   "cell_type": "code",
   "execution_count": null,
   "metadata": {},
   "outputs": [],
   "source": [
    "cib[9,:]"
   ]
  },
  {
   "cell_type": "code",
   "execution_count": null,
   "metadata": {},
   "outputs": [],
   "source": [
    "cib[:2,:32]"
   ]
  },
  {
   "cell_type": "code",
   "execution_count": null,
   "metadata": {},
   "outputs": [],
   "source": [
    "cib.shape"
   ]
  },
  {
   "cell_type": "code",
   "execution_count": null,
   "metadata": {},
   "outputs": [],
   "source": [
    "overtime[33]"
   ]
  },
  {
   "cell_type": "code",
   "execution_count": null,
   "metadata": {},
   "outputs": [],
   "source": [
    "overtime[4]"
   ]
  },
  {
   "cell_type": "code",
   "execution_count": null,
   "metadata": {},
   "outputs": [],
   "source": []
  }
 ],
 "metadata": {
  "kernelspec": {
   "display_name": "Python 3",
   "language": "python",
   "name": "python3"
  },
  "language_info": {
   "codemirror_mode": {
    "name": "ipython",
    "version": 3
   },
   "file_extension": ".py",
   "mimetype": "text/x-python",
   "name": "python",
   "nbconvert_exporter": "python",
   "pygments_lexer": "ipython3",
   "version": "3.8.5"
  }
 },
 "nbformat": 4,
 "nbformat_minor": 4
}
