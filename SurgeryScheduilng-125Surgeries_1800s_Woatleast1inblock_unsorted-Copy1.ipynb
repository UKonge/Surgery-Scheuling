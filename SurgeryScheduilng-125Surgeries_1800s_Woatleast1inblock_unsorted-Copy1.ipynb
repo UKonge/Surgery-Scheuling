{
 "cells": [
  {
   "cell_type": "code",
   "execution_count": 1,
   "metadata": {},
   "outputs": [],
   "source": [
    "import numpy as np\n",
    "import matplotlib.pyplot as plt\n",
    "from pyomo.environ import *\n",
    "import pandas as pd\n",
    "from scipy.stats import truncnorm"
   ]
  },
  {
   "cell_type": "code",
   "execution_count": 2,
   "metadata": {},
   "outputs": [],
   "source": [
    "np.random.seed(0)\n",
    "def get_surgery_time(mean,std):\n",
    "    #sh,sc = (mean/std)**2,std**2/mean\n",
    "    #return np.random.gamma(shape=sh,scale=sc)\n",
    "    return truncnorm.rvs(-1,1,loc=mean,scale=std)"
   ]
  },
  {
   "cell_type": "code",
   "execution_count": 3,
   "metadata": {},
   "outputs": [
    {
     "name": "stdout",
     "output_type": "stream",
     "text": [
      "{'CARD': 18, 'GASTRO': 22, 'GYN': 35, 'MED': 6, 'ORTHO': 21, 'URO': 23}\n",
      "{'CARD': [0, 17], 'GASTRO': [18, 39], 'GYN': [40, 74], 'MED': [75, 80], 'ORTHO': [81, 101], 'URO': [102, 124]}\n"
     ]
    }
   ],
   "source": [
    "#problem parameters\n",
    "specs = ['CARD','GASTRO','GYN','MED','ORTHO','URO']\n",
    "\n",
    "surgery_data = {'CARD':[99.0,53.0],'GASTRO':[132.0,76.0],'GYN':[78.0,52.0],'MED':[75.0,32.0],'ORTHO':[142.0,58.0],'URO':[72.0,38.0]}\n",
    "\n",
    "blocks = {'CARD':[2,6,16,28,32,33],'GASTRO':[1,8,14,15,22,27,34],'GYN':[4,11,12,18,19,24,25,30,35],'MED':[17,36],'ORTHO':[3,9,10,21,23,29,37],'URO':[5,7,13,20,26,31,38]}\n",
    "block_len = [8*60.0 for i in range(32)]+[100*60.0 for i in range(len(specs))]\n",
    "n_blocks = len(block_len)\n",
    "\n",
    "n_surgeries = 125\n",
    "percent_surg = {'CARD':14,'GASTRO':18,'GYN':28,'MED':5,'ORTHO':17,'URO':18}\n",
    "surgeries = {}\n",
    "tot = 0\n",
    "for i in specs[:len(specs)-1]:\n",
    "    surgeries[i] = round(n_surgeries*percent_surg[i]/100.0)\n",
    "    tot += surgeries[i]\n",
    "surgeries[specs[-1]] = n_surgeries-tot\n",
    "\n",
    "surgery_nums = {}\n",
    "t = 0\n",
    "for s in specs:\n",
    "    surgery_nums[s] = [t,t+surgeries[s]-1]\n",
    "    t = t+surgeries[s]\n",
    "    \n",
    "print(surgeries)\n",
    "print(surgery_nums)"
   ]
  },
  {
   "cell_type": "code",
   "execution_count": 4,
   "metadata": {},
   "outputs": [],
   "source": [
    "np.random.seed(0)\n",
    "cib = np.array([[0.0 for _ in range(n_blocks)] for _ in range(n_surgeries)]) # block costs\n",
    "for s in specs:\n",
    "    for i in range(surgery_nums[s][0],surgery_nums[s][1]+1):\n",
    "        #costs = sorted([np.random.randint(low=1,high=5)*100 for _ in range(len(blocks[s])-1)])\n",
    "        costs = [np.random.randint(low=1,high=5)*100 for _ in range(len(blocks[s])-1)]\n",
    "        f = 0\n",
    "        for b in blocks[s][:len(blocks[s])-1]:\n",
    "            cib[i,b-1] = costs[f]\n",
    "            f += 1\n",
    "            \n",
    "        \n",
    "dummy_cost = 1000\n",
    "for s in specs:\n",
    "    for i in range(surgery_nums[s][0],surgery_nums[s][1]+1):\n",
    "        b = blocks[s][-1]\n",
    "        cib[i,b-1] = dummy_cost\n",
    "\n",
    "cob = np.array([5.0 for _ in range(n_blocks)])\n",
    "cgb = np.array([5.0/1.5 for _ in range(n_blocks-len(specs))]+[0.0 for _ in range(len(specs))])"
   ]
  },
  {
   "cell_type": "code",
   "execution_count": 5,
   "metadata": {},
   "outputs": [
    {
     "data": {
      "text/plain": [
       "array([[ 300.,  400.,  300.,  200.,  100.,  100., 1000.],\n",
       "       [ 200.,  100.,  100.,  300.,  100.,  100., 1000.],\n",
       "       [ 200.,  400.,  200.,  200.,  200.,  200., 1000.],\n",
       "       [ 400.,  200.,  300.,  100.,  300.,  100., 1000.],\n",
       "       [ 400.,  400.,  200.,  400.,  100.,  400., 1000.],\n",
       "       [ 300.,  100.,  400.,  400.,  400.,  100., 1000.],\n",
       "       [ 200.,  400.,  400.,  300.,  200.,  400., 1000.],\n",
       "       [ 400.,  200.,  200.,  100.,  100.,  400., 1000.],\n",
       "       [ 300.,  100.,  100.,  400.,  300.,  200., 1000.],\n",
       "       [ 300.,  400.,  300.,  400.,  400.,  100., 1000.],\n",
       "       [ 400.,  300.,  300.,  100.,  400.,  300., 1000.],\n",
       "       [ 200.,  100.,  400.,  200.,  300.,  200., 1000.],\n",
       "       [ 200.,  100.,  200.,  200.,  400.,  200., 1000.],\n",
       "       [ 400.,  300.,  100.,  200.,  200.,  400., 1000.],\n",
       "       [ 400.,  100.,  200.,  300.,  100.,  200., 1000.],\n",
       "       [ 300.,  200.,  300.,  200.,  400.,  300., 1000.],\n",
       "       [ 400.,  200.,  300.,  400.,  300.,  300., 1000.],\n",
       "       [ 300.,  100.,  400.,  300.,  300.,  400., 1000.],\n",
       "       [ 300.,  300.,  100.,  200.,  100.,  400., 1000.],\n",
       "       [ 300.,  100.,  100.,  300.,  400.,  200., 1000.],\n",
       "       [ 400.,  300.,  300.,  200.,  200.,  300., 1000.],\n",
       "       [ 400.,  200.,  300.,  200.,  400.,  300., 1000.],\n",
       "       [ 400.,  100.,  200.,  200.,  300.,  300., 1000.]])"
      ]
     },
     "execution_count": 5,
     "metadata": {},
     "output_type": "execute_result"
    }
   ],
   "source": [
    "cib[surgery_nums['URO'][0]:surgery_nums['URO'][1]+1,[i-1 for i in blocks['URO']]]"
   ]
  },
  {
   "cell_type": "code",
   "execution_count": 39,
   "metadata": {},
   "outputs": [
    {
     "data": {
      "text/plain": [
       "array([ 200.,  400.,  400.,  300.,  200.,  400., 1000.])"
      ]
     },
     "execution_count": 39,
     "metadata": {},
     "output_type": "execute_result"
    }
   ],
   "source": [
    "cib[108,[i-1 for i in blocks['URO']]]"
   ]
  },
  {
   "cell_type": "code",
   "execution_count": 7,
   "metadata": {},
   "outputs": [],
   "source": [
    "#block and surgery of a speciality fesibility\n",
    "p = [[0.0 for _ in range(n_blocks)] for _ in range(n_surgeries)]\n",
    "p = np.array(p)\n",
    "t = 0\n",
    "for s in specs:\n",
    "    for i in range(surgeries[s]):\n",
    "        for b in blocks[s]:\n",
    "            p[t,b-1] = 1.0\n",
    "        t += 1"
   ]
  },
  {
   "cell_type": "code",
   "execution_count": 8,
   "metadata": {},
   "outputs": [
    {
     "name": "stdout",
     "output_type": "stream",
     "text": [
      "[0. 1. 0. 0. 0. 1. 0. 0. 0. 0. 0. 0. 0. 0. 0. 1. 0. 0. 0. 0. 0. 0. 0. 0.\n",
      " 0. 0. 0. 1. 0. 0. 0. 1. 1. 0. 0. 0. 0. 0.]\n"
     ]
    }
   ],
   "source": [
    "print(p[9,:])"
   ]
  },
  {
   "cell_type": "code",
   "execution_count": 9,
   "metadata": {},
   "outputs": [],
   "source": [
    "n_scenarios = 1000\n",
    "avg_model = ConcreteModel()\n",
    "avg_model.y = Var(RangeSet(n_surgeries),RangeSet(n_blocks),domain=Binary)\n",
    "avg_model.o = Var(RangeSet(n_blocks),RangeSet(n_scenarios),domain=NonNegativeReals,bounds=(0,120))\n",
    "avg_model.g = Var(RangeSet(n_blocks),RangeSet(n_scenarios),domain=NonNegativeReals)\n",
    "\n",
    "avg_model.atmost1 = ConstraintList()\n",
    "for i in range(n_surgeries):\n",
    "    avg_model.atmost1.add(expr=sum(avg_model.y[i+1,b] for b in range(1,n_blocks+1))==1)\n",
    "\n",
    "avg_model.specfeas = ConstraintList()\n",
    "for i in range(n_surgeries):\n",
    "    for b in range(n_blocks):\n",
    "        avg_model.specfeas.add(expr=avg_model.y[i+1,b+1] <= p[i,b])\n",
    "\n",
    "avg_model.ogcons = ConstraintList()\n",
    "for n in range(n_scenarios):\n",
    "    t = 0\n",
    "    for s in specs:\n",
    "        for b in blocks[s]:\n",
    "            avg_model.ogcons.add(expr=avg_model.o[b,n+1]-avg_model.g[b,n+1] == sum(get_surgery_time(surgery_data[s][0],surgery_data[s][1])*avg_model.y[i+1,b] for i in range(surgery_nums[s][0],surgery_nums[s][1]+1))-block_len[b-1])\n",
    "''''\n",
    "avg_model.atleast1inblock = ConstraintList()\n",
    "for b in range(n_blocks-len(specs)):\n",
    "    avg_model.atleast1inblock.add(expr=sum(avg_model.y[i+1,b+1] for i in range(n_surgeries))>=1.0)\n",
    "'''\n",
    "avg_model.cost = Objective(expr=sum(sum(avg_model.y[i+1,b+1]*cib[i,b] for i in range(n_surgeries)) for b in range(n_blocks))+(sum(cob[b]*avg_model.o[b+1,n+1]+cgb[b]*avg_model.g[b+1,n+1] for b in range(n_blocks) for n in range(n_scenarios)))/n_scenarios,sense=minimize)"
   ]
  },
  {
   "cell_type": "code",
   "execution_count": 10,
   "metadata": {},
   "outputs": [
    {
     "name": "stdout",
     "output_type": "stream",
     "text": [
      "\n",
      "Welcome to IBM(R) ILOG(R) CPLEX(R) Interactive Optimizer 20.1.0.0\n",
      "  with Simplex, Mixed Integer & Barrier Optimizers\n",
      "5725-A06 5725-A29 5724-Y48 5724-Y49 5724-Y54 5724-Y55 5655-Y21\n",
      "Copyright IBM Corp. 1988, 2020.  All Rights Reserved.\n",
      "\n",
      "Type 'help' for a list of available commands.\n",
      "Type 'help' followed by a command name for more\n",
      "information on commands.\n",
      "\n",
      "CPLEX> Logfile 'cplex.log' closed.\n",
      "Logfile 'C:\\Users\\91824\\AppData\\Local\\Temp\\tmp3ofhspew.cplex.log' open.\n",
      "CPLEX> New value for time limit in seconds: 1800\n",
      "CPLEX> Problem 'C:\\Users\\91824\\AppData\\Local\\Temp\\tmpex1i0zcy.pyomo.lp' read.\n",
      "Read time = 0.38 sec. (17.30 ticks)\n",
      "CPLEX> Problem name         : C:\\Users\\91824\\AppData\\Local\\Temp\\tmpex1i0zcy.pyomo.lp\n",
      "Objective sense      : Minimize\n",
      "Variables            :   80751  [Nneg: 38001,  Box: 38000,  Binary: 4750]\n",
      "Objective nonzeros   :   70897\n",
      "Linear constraints   :   42876  [Less: 4750,  Equal: 38126]\n",
      "  Nonzeros           :  982501\n",
      "  RHS nonzeros       :   39023\n",
      "\n",
      "Variables            : Min LB: 0.000000         Max UB: 120.0000       \n",
      "Objective nonzeros   : Min   : 0.003333333      Max   : 1000.000       \n",
      "Linear constraints   :\n",
      "  Nonzeros           : Min   : 1.000000         Max   : 207.9988       \n",
      "  RHS nonzeros       : Min   : 1.000000         Max   : 6000.000       \n",
      "CPLEX> Version identifier: 20.1.0.0 | 2020-11-10 | 9bedb6d68\n",
      "CPXPARAM_TimeLimit                               1800\n",
      "Tried aggregator 2 times.\n",
      "MIP Presolve eliminated 11511 rows and 17374 columns.\n",
      "Aggregator did 6 substitutions.\n",
      "Reduced MIP has 31359 rows, 63371 columns, and 830805 nonzeros.\n",
      "Reduced MIP has 891 binaries, 0 generals, 0 SOSs, and 0 indicators.\n",
      "Presolve time = 0.50 sec. (381.70 ticks)\n",
      "Found incumbent of value 176200.000000 after 0.83 sec. (546.49 ticks)\n",
      "Probing time = 0.17 sec. (32.35 ticks)\n",
      "Tried aggregator 1 time.\n",
      "Detecting symmetries...\n",
      "MIP Presolve eliminated 240 rows and 486 columns.\n",
      "Reduced MIP has 31119 rows, 62885 columns, and 828885 nonzeros.\n",
      "Reduced MIP has 885 binaries, 0 generals, 0 SOSs, and 0 indicators.\n",
      "Presolve time = 0.86 sec. (434.87 ticks)\n",
      "Probing time = 0.14 sec. (31.17 ticks)\n",
      "Clique table members: 119.\n",
      "MIP emphasis: balance optimality and feasibility.\n",
      "MIP search method: dynamic search.\n",
      "Parallel mode: deterministic, using up to 8 threads.\n",
      "Root relaxation solution time = 34.00 sec. (15361.99 ticks)\n",
      "\n",
      "        Nodes                                         Cuts/\n",
      "   Node  Left     Objective  IInf  Best Integer    Best Bound    ItCnt     Gap\n",
      "\n",
      "*     0+    0                        69690.4301     1447.0764            97.92%\n",
      "      0     0    28395.7291   195    69690.4301    28395.7291    46776   59.25%\n",
      "*     0+    0                        48123.0839    28395.7291            40.99%\n",
      "*     0+    0                        35611.5463    28395.7291            20.26%\n",
      "      0     0    28955.6539   229    35611.5463    Cuts: 1806    51929   18.69%\n",
      "      0     0    29046.7464   249    35611.5463     Cuts: 463    54821   18.43%\n",
      "*     0+    0                        35599.0379    29046.7464            18.41%\n",
      "*     0+    0                        35191.9660    29046.7464            17.46%\n",
      "      0     0    29082.9006   256    35191.9660     Cuts: 382    57410   17.36%\n",
      "      0     0    29118.5602   248    35191.9660     Cuts: 293    60046   17.26%\n",
      "      0     0    29127.5225   255    35191.9660     Cuts: 183    61353   17.23%\n",
      "Detecting symmetries...\n",
      "      0     0    29131.4947   259    35191.9660     Cuts: 154    62019   17.22%\n",
      "      0     0    29139.3857   257    35191.9660   MIRcuts: 73    62637   17.20%\n",
      "      0     0    29147.2335   254    35191.9660     Cuts: 105    63764   17.18%\n",
      "      0     0    29151.3924   259    35191.9660      Cuts: 73    64370   17.16%\n",
      "      0     0    29155.5175   255    35191.9660   MIRcuts: 53    65063   17.15%\n",
      "      0     0    29159.5354   260    35191.9660      Cuts: 63    65652   17.14%\n",
      "*     0+    0                        35105.6336    29159.5354            16.94%\n",
      "      0     0    29161.5888   260    35105.6336      Cuts: 47    66229   16.93%\n",
      "      0     0    29163.8332   259    35105.6336     Cuts: 117    66735   16.93%\n",
      "Heuristic still looking.\n",
      "Detecting symmetries...\n",
      "      0     2    29163.8332   259    35105.6336    29163.8332    66735   16.93%\n",
      "Elapsed time = 95.33 sec. (65435.77 ticks, tree = 0.02 MB, solutions = 8)\n",
      "      1     3    29189.5495   252    35105.6336    29163.8364    68059   16.93%\n",
      "      2     3    29187.9619   255    35105.6336    29163.8364    68207   16.93%\n",
      "      4     5    29222.6211   251    35105.6336    29187.9896    70443   16.86%\n",
      "      5     4    29257.6373   251    35105.6336    29187.9896    69198   16.86%\n",
      "      8     7    29265.7648   248    35105.6336    29187.9896    73797   16.86%\n",
      "      9     9    29240.7930   251    35105.6336    29206.9336    76349   16.80%\n",
      "     11     8    29329.6490   252    35105.6336    29206.9336    76484   16.80%\n",
      "     13    13    29311.3500   248    35105.6336    29206.9336    82380   16.80%\n",
      "     15    14    29364.9003   250    35105.6336    29206.9336    86091   16.80%\n",
      "     20     8    29362.9619   245    35105.6336    29206.9336    76590   16.80%\n",
      "Elapsed time = 118.34 sec. (70537.30 ticks, tree = 0.02 MB, solutions = 8)\n",
      "     25    17    29662.4512   237    35105.6336    29240.8017    95556   16.71%\n",
      "     39    31    29550.8944   243    35105.6336    29240.8224   126164   16.71%\n",
      "     54    39    29607.6690   235    35105.6336    29240.8224   142922   16.71%\n",
      "     75    64    29677.8842   230    35105.6336    29240.8224   169420   16.71%\n",
      "     92    76    29736.2178   236    35105.6336    29240.8224   182200   16.71%\n",
      "    120   103    29883.8851   220    35105.6336    29240.8224   202675   16.71%\n",
      "    145    96    29982.6194   224    35105.6336    29240.8224   197588   16.71%\n",
      "    176   157    30414.6757   202    35105.6336    29240.8224   238497   16.71%\n",
      "    213   168    30528.2541   195    35105.6336    29240.8224   245373   16.71%\n",
      "    240   186    30565.2133   205    35105.6336    29240.8224   255638   16.71%\n",
      "Elapsed time = 169.83 sec. (80328.22 ticks, tree = 21.02 MB, solutions = 8)\n",
      "    261   206    32033.8950   158    35105.6336    29240.8224   266591   16.71%\n",
      "    284   252    30381.0621   209    35105.6336    29240.8224   297055   16.71%\n",
      "    296   263    30120.6191   221    35105.6336    29240.8224   306940   16.71%\n",
      "    315   300    31182.5092   178    35105.6336    29240.8224   329546   16.71%\n",
      "    344   311    30285.5490   219    35105.6336    29240.8224   340519   16.71%\n",
      "    367   345    31939.7923   178    35105.6336    29240.8224   360209   16.71%\n",
      "    388   331    32373.3560   151    35105.6336    29240.8224   354771   16.71%\n",
      "    404   353    30967.1723   196    35105.6336    29240.8224   367090   16.71%\n",
      "    415   389    32514.6570   150    35105.6336    29240.8224   395820   16.71%\n",
      "    431   392    32725.8315   142    35105.6336    29240.8224   397983   16.71%\n",
      "Elapsed time = 224.81 sec. (90240.67 ticks, tree = 64.68 MB, solutions = 8)\n",
      "    449   401    32225.1847   146    35105.6336    29240.8224   404477   16.71%\n",
      "    465   436    31052.5354   194    35105.6336    29240.8224   432539   16.71%\n",
      "    482   423    32572.7951   130    35105.6336    29240.8224   421417   16.71%\n",
      "    502   474    33051.2717   133    35105.6336    29240.8224   460956   16.71%\n",
      "    525   477    33191.2816   122    35105.6336    29240.8224   463137   16.71%\n",
      "    553   494    32853.0391   128    35105.6336    29240.8224   476575   16.71%\n",
      "    580   535    33743.3326   107    35105.6336    29240.8224   507849   16.71%\n",
      "    622   583    33826.8102    99    35105.6336    29240.8224   533176   16.71%\n",
      "    663   549        cutoff          35105.6336    29240.8224   514863   16.71%\n",
      "    679   574    34200.2703   124    35105.6336    29240.8224   524060   16.71%\n",
      "Elapsed time = 279.50 sec. (100190.91 ticks, tree = 109.11 MB, solutions = 8)\n",
      "    702   597    34621.6312    87    35105.6336    29240.8224   539148   16.71%\n",
      "    723   680    34777.6090    84    35105.6336    29240.8224   589121   16.71%\n",
      "    746   699    34436.7933   102    35105.6336    29240.8224   601322   16.71%\n",
      "    769   639    32180.4451   162    35105.6336    29240.8224   568950   16.71%\n",
      "    800   718    34506.7540    99    35105.6336    29240.8224   615971   16.71%\n"
     ]
    },
    {
     "name": "stdout",
     "output_type": "stream",
     "text": [
      "    818   736    34777.6714   107    35105.6336    29240.8224   626481   16.71%\n",
      "    830   739    34983.5636   109    35105.6336    29240.8224   629386   16.71%\n",
      "    846   763    33433.9928   138    35105.6336    29240.8224   641823   16.71%\n",
      "    858   771    33793.8485   115    35105.6336    29240.8224   644761   16.71%\n",
      "    868   782    34587.2408    93    35105.6336    29240.8224   652653   16.71%\n",
      "Elapsed time = 333.75 sec. (110271.10 ticks, tree = 161.04 MB, solutions = 8)\n",
      "*   877+  682                        34990.7639    29240.8224            16.43%\n",
      "    879   786        cutoff          34990.7639    29240.8224   655621   16.43%\n",
      "*   880+  664                        34815.7111    29240.8224            16.01%\n",
      "    880   778    34011.0441   111    34815.7111    29240.8224   649183   16.01%\n",
      "    884   801    34243.4282    97    34815.7111    29240.8224   662797   16.01%\n",
      "    890   807    34452.9029    90    34815.7111    29240.8224   665900   16.01%\n",
      "    900   817    35058.9099    75    34815.7111    29240.8224   669517   16.01%\n",
      "*   905+  678                        34707.1115    29240.8224            15.75%\n",
      "*   905+  664                        34697.7547    29240.8224            15.73%\n",
      "*   905+  678                        34693.2472    29240.8224            15.72%\n",
      "*   905+  678                        34692.8897    29240.8224            15.72%\n",
      "*   905+  678                        34692.8088    29240.8224            15.72%\n",
      "    905   680    29390.3858   255    34692.8088    29240.8224   594418   15.72%\n",
      "    908   789    29519.4313   248    34692.8088    29240.8224   667825   15.72%\n",
      "    910   791    29602.5513   243    34692.8088    29240.8224   670485   15.72%\n",
      "    915   793    29880.9920   234    34692.8088    29261.6297   672771   15.66%\n",
      "    921   796    29852.4767   233    34692.8088    29261.6297   674893   15.66%\n",
      "Elapsed time = 400.30 sec. (126154.28 ticks, tree = 162.97 MB, solutions = 14)\n",
      "    926   810    30066.5074   225    34692.8088    29261.6297   695717   15.66%\n",
      "    934   795    29643.5329   245    34692.8088    29261.6297   683358   15.66%\n",
      "    941   814    30209.9673   217    34692.8088    29261.6297   700191   15.66%\n",
      "    951   818    30440.3630   221    34692.8088    29261.6297   705277   15.66%\n",
      "    959   814    29967.2054   220    34692.8088    29261.6297   717013   15.66%\n",
      "    970   824    30791.1208   209    34692.8088    29261.6297   710600   15.66%\n",
      "    980   817    30121.8891   219    34692.8088    29261.6297   721596   15.66%\n",
      "    991   831    30237.1744   220    34692.8088    29261.6297   733659   15.66%\n",
      "    998   826    29932.1247   240    34692.8088    29297.6131   731455   15.55%\n",
      "   1022   863    30781.0131   201    34692.8088    29297.6131   766508   15.55%\n",
      "Elapsed time = 449.75 sec. (136404.61 ticks, tree = 173.07 MB, solutions = 16)\n",
      "   1045   884    30744.1863   206    34692.8088    29297.6131   782209   15.55%\n",
      "   1070   894    31001.6879   196    34692.8088    29297.6131   791330   15.55%\n",
      "   1097   901    31162.8203   190    34692.8088    29297.6131   794251   15.55%\n",
      "   1116   880    31795.0740   178    34692.8088    29297.6131   776786   15.55%\n",
      "   1130   935    32418.9432   146    34692.8088    29297.6131   828167   15.55%\n",
      "   1152   971    33027.2185   151    34692.8088    29297.6131   844085   15.55%\n",
      "   1175   940    32660.7846   149    34692.8088    29297.6131   832749   15.55%\n",
      "   1185  1014    31776.4839   182    34692.8088    29312.9702   882545   15.51%\n",
      "   1206   999    32387.3813   148    34692.8088    29312.9702   871390   15.51%\n",
      "   1231  1025    32360.4485   153    34692.8088    29312.9702   888073   15.51%\n",
      "Elapsed time = 502.25 sec. (146406.17 ticks, tree = 211.96 MB, solutions = 18)\n",
      "   1244  1046    30705.0127   210    34692.8088    29312.9702   909566   15.51%\n",
      "   1264  1090    33657.2429   123    34692.8088    29312.9702   936970   15.51%\n",
      "   1280  1094    33791.0708   111    34692.8088    29312.9702   939299   15.51%\n",
      "   1302  1152    32002.4892   170    34692.8088    29312.9702   980540   15.51%\n",
      "   1325  1157    32258.3631   158    34692.8088    29312.9702   983102   15.51%\n",
      "   1358  1080    32331.3181   151    34692.8088    29312.9702   931563   15.51%\n",
      "   1378  1192        cutoff          34692.8088    29312.9702  1011388   15.51%\n",
      "   1404  1128    33921.4866   112    34692.8088    29325.4784   968566   15.47%\n",
      "   1429  1134    34226.4310   108    34692.8088    29325.4784   971758   15.47%\n",
      "   1449  1219    32679.9348   148    34692.8088    29325.4784  1026969   15.47%\n",
      "Elapsed time = 560.88 sec. (156320.51 ticks, tree = 260.87 MB, solutions = 18)\n",
      "   1462  1221    32812.9321   141    34692.8088    29325.4784  1028968   15.47%\n",
      "   1470  1231    31719.8909   182    34692.8088    29325.4784  1033100   15.47%\n",
      "   1499  1324    31034.1641   201    34692.8088    29325.4784  1097110   15.47%\n",
      "   1524  1333    31921.8992   164    34692.8088    29325.4784  1100599   15.47%\n",
      "   1546  1273    33990.3969   108    34692.8088    29325.4784  1063108   15.47%\n",
      "   1571  1318    34593.5435    97    34692.8088    29325.4784  1092949   15.47%\n",
      "   1596  1350    34039.5680   113    34692.8088    29325.4784  1119130   15.47%\n",
      "   1611  1408    30972.6345   204    34692.8088    29325.4784  1158698   15.47%\n",
      "   1625  1422    29996.5762   237    34692.8088    29329.6754  1171956   15.46%\n",
      "   1698  1433    30428.0421   224    34692.8088    29362.9896  1179880   15.36%\n",
      "Elapsed time = 628.27 sec. (168942.37 ticks, tree = 318.27 MB, solutions = 18)\n",
      "   1709  1466    29728.4179   249    34692.8088    29362.9896  1205819   15.36%\n",
      "\n",
      "Performing restart 1\n",
      "\n",
      "Repeating presolve.\n",
      "Tried aggregator 1 time.\n",
      "Reduced MIP has 31119 rows, 62885 columns, and 828885 nonzeros.\n",
      "Reduced MIP has 885 binaries, 0 generals, 0 SOSs, and 0 indicators.\n",
      "Presolve time = 10.36 sec. (3292.23 ticks)\n",
      "Tried aggregator 1 time.\n",
      "Reduced MIP has 31119 rows, 62885 columns, and 828885 nonzeros.\n",
      "Reduced MIP has 885 binaries, 0 generals, 0 SOSs, and 0 indicators.\n",
      "Presolve time = 10.66 sec. (3426.42 ticks)\n",
      "Represolve time = 22.42 sec. (7034.87 ticks)\n",
      "   1713     0    29186.1611   244    34692.8088     Cuts: 106  1328628   15.36%\n",
      "   1713     0    29200.5635   241    34692.8088     Cuts: 105  1329672   15.36%\n",
      "   1713     0    29205.0814   239    34692.8088     Cuts: 133  1330751   15.36%\n",
      "   1713     0    29210.0317   241    34692.8088     Cuts: 109  1331749   15.36%\n",
      "   1713     0    29213.4363   242    34692.8088     Cuts: 131  1332725   15.36%\n",
      "   1713     0    29216.5409   243    34692.8088     Cuts: 119  1333705   15.36%\n",
      "   1713     2    29216.5409   243    34692.8088    29364.9268  1333705   15.36%\n",
      "   1717     6    29247.3967   241    34692.8088    29364.9268  1336341   15.36%\n",
      "   1724    10    29280.0689   239    34692.8088    29364.9268  1344664   15.36%\n",
      "   1742     8    29429.4787   228    34692.8088    29364.9268  1341845   15.36%\n",
      "   1769    52    29770.6383   235    34692.8088    29364.9268  1406170   15.36%\n",
      "   1797    75    29798.0043   237    34692.8088    29364.9268  1447665   15.36%\n",
      "   1820    98    30244.0034   217    34692.8088    29364.9268  1470463   15.36%\n",
      "   1840   112    30004.4198   229    34692.8088    29364.9268  1495704   15.36%\n",
      "   1870   139    29478.0338   232    34692.8088    29364.9268  1539468   15.36%\n",
      "Elapsed time = 995.59 sec. (324833.02 ticks, tree = 8.60 MB, solutions = 18)\n",
      "   1920   185    30075.7366   215    34692.8088    29364.9268  1585627   15.36%\n",
      "   1981   211    30659.3438   210    34692.8088    29364.9268  1609351   15.36%\n",
      "   2023   290    30239.3636   206    34692.8088    29364.9268  1685295   15.36%\n",
      "   2065   282    31643.2577   186    34692.8088    29364.9268  1676137   15.36%\n",
      "   2106   357    31046.4884   200    34692.8088    29364.9268  1733512   15.36%\n",
      "   2172   372    31540.7602   199    34692.8088    29364.9268  1747653   15.36%\n",
      "   2250   411    33614.3229   147    34692.8088    29364.9268  1769635   15.36%\n",
      "   2335   538    31731.9789   177    34692.8088    29364.9268  1858644   15.36%\n",
      "   2416   589    31694.9391   183    34692.8088    29364.9268  1893880   15.36%\n",
      "   2480   699    30936.0950   189    34692.8088    29364.9268  1966197   15.36%\n",
      "Elapsed time = 1212.20 sec. (363633.95 ticks, tree = 135.04 MB, solutions = 18)\n",
      "   2550   723    30531.3018   225    34692.8088    29364.9268  1988334   15.36%\n"
     ]
    },
    {
     "name": "stdout",
     "output_type": "stream",
     "text": [
      "   2609   796    29520.2309   242    34692.8088    29364.9268  2027820   15.36%\n",
      "   2642   767    32598.9974   165    34692.8088    29364.9268  2012311   15.36%\n",
      "   2721   824    31441.7089   197    34692.8088    29364.9268  2049448   15.36%\n",
      "   2814   942    33886.9380   134    34692.8088    29364.9268  2133422   15.36%\n",
      "   2920  1060    32281.8740   160    34692.8088    29364.9268  2203109   15.36%\n",
      "   2965  1071    32536.2601   149    34692.8088    29364.9268  2211484   15.36%\n",
      "   3009  1096    32366.6962   179    34692.8088    29364.9268  2231281   15.36%\n",
      "   3066  1223    32583.4246   169    34692.8088    29364.9268  2319920   15.36%\n",
      "   3137  1297    34430.7221   116    34692.8088    29364.9268  2378062   15.36%\n",
      "Elapsed time = 1425.64 sec. (402073.41 ticks, tree = 270.41 MB, solutions = 18)\n",
      "   3211  1319    30509.8157   224    34692.8088    29364.9268  2402693   15.36%\n",
      "   3285  1391    34592.5258   129    34692.8088    29364.9268  2460018   15.36%\n",
      "   3333  1430    33059.3399   175    34692.8088    29364.9268  2484099   15.36%\n",
      "   3376  1503    30824.7474   204    34692.8088    29381.3239  2530791   15.31%\n",
      "   3422  1555    34080.2479   150    34692.8088    29381.3239  2570237   15.31%\n",
      "   3498  1616    32879.5957   146    34692.8088    29381.3239  2614377   15.31%\n",
      "   3580  1629    32872.4938   134    34692.8088    29381.3239  2622706   15.31%\n",
      "   3684  1681    31346.4476   181    34692.8088    29381.3239  2658695   15.31%\n",
      "   3795  1807    32711.0841   154    34692.8088    29381.3239  2733153   15.31%\n",
      "Starting limited solution polishing.\n",
      "*  3872+ 1894                        34691.0419    29451.6595            15.10%\n",
      "   3893  1961    30904.4883   209    34691.0419    29451.6595  2825218   15.10%\n",
      "Elapsed time = 1638.73 sec. (440863.98 ticks, tree = 436.89 MB, solutions = 19)\n",
      "   3998  1973    31458.7870   201    34691.0419    29451.6595  2831816   15.10%\n",
      "   4090  2051    33414.1740   136    34691.0419    29451.6595  2868847   15.10%\n",
      "*  4100+ 2128                        34686.6871    29451.6595            15.09%\n",
      "   4175  2206    31835.7033   188    34686.6871    29451.6595  2961859   15.09%\n",
      "   4291  2182    30748.6080   213    34686.6871    29489.8785  2953663   14.98%\n",
      "   4389  2411    32961.6203   164    34686.6871    29507.6870  3067939   14.93%\n",
      "   4500  2395    31323.7234   205    34686.6871    29520.3529  3063233   14.89%\n",
      "   4634  2651    32116.8966   176    34686.6871    29520.3529  3180917   14.89%\n",
      "*  4709+ 2537                        34684.9098    29520.4455            14.89%\n",
      "*  4710+ 2537                        34684.7154    29520.4455            14.89%\n",
      "   4710  2539    34362.8761    98    34684.7154    29520.4455  3129445   14.89%\n",
      "\n",
      "Cover cuts applied:  229\n",
      "Flow cuts applied:  209\n",
      "Mixed integer rounding cuts applied:  947\n",
      "Lift and project cuts applied:  129\n",
      "Gomory fractional cuts applied:  4\n",
      "\n",
      "Root node processing (before b&c):\n",
      "  Real time             =   93.19 sec. (65183.70 ticks)\n",
      "Parallel b&c, 8 threads:\n",
      "  Real time             = 1707.22 sec. (407374.24 ticks)\n",
      "  Sync time (average)   =  178.56 sec.\n",
      "  Wait time (average)   =    0.06 sec.\n",
      "                          ------------\n",
      "Total (root+branch&cut) = 1800.41 sec. (472557.94 ticks)\n",
      "\n",
      "Solution pool: 22 solutions saved.\n",
      "\n",
      "MIP - Time limit exceeded, integer feasible:  Objective =  3.4684715384e+04\n",
      "Current MIP best bound =  2.9534510938e+04 (gap = 5150.2, 14.85%)\n",
      "Solution time = 1800.42 sec.  Iterations = 3278014  Nodes = 4711 (2844)\n",
      "Deterministic time = 472558.17 ticks  (262.47 ticks/sec)\n",
      "\n",
      "CPLEX> Incumbent solution written to file 'C:\\Users\\91824\\AppData\\Local\\Temp\\tmpm0e9mag2.cplex.sol'.\n",
      "CPLEX> Solver status : ok\n",
      "Solver Termination condition : maxTimeLimit\n"
     ]
    }
   ],
   "source": [
    "opt = SolverFactory('cplex')\n",
    "opt.options['timelimit'] = 1800\n",
    "result = opt.solve(avg_model,tee=True)\n",
    "print(\"Solver status :\",result.solver.status)\n",
    "print(\"Solver Termination condition :\", result.solver.termination_condition)"
   ]
  },
  {
   "cell_type": "code",
   "execution_count": 11,
   "metadata": {},
   "outputs": [],
   "source": [
    "#pd.DataFrame(cib).to_csv(\"cost_data_random_seed0.csv\")"
   ]
  },
  {
   "cell_type": "code",
   "execution_count": 12,
   "metadata": {},
   "outputs": [
    {
     "name": "stdout",
     "output_type": "stream",
     "text": [
      "Block : 1 Surgeries [20, 22, 28]\n",
      "Block : 2 Surgeries [0, 9, 10, 13]\n",
      "Block : 3 Surgeries [82, 90, 95]\n",
      "Block : 4 Surgeries [49, 53, 71, 73]\n",
      "Block : 5 Surgeries [108]\n",
      "Block : 6 Surgeries [3, 6, 12, 17]\n",
      "Block : 7 Surgeries [113, 114, 118, 119, 124]\n",
      "Block : 8 Surgeries [26, 27, 31]\n",
      "Block : 9 Surgeries [85, 94, 100]\n",
      "Block : 10 Surgeries [83, 91, 96]\n",
      "Block : 11 Surgeries [42, 43, 45, 50]\n",
      "Block : 12 Surgeries [51, 52, 55, 70, 72]\n",
      "Block : 13 Surgeries [103, 110, 115, 121]\n",
      "Block : 14 Surgeries [25, 34, 36]\n",
      "Block : 15 Surgeries [29, 32, 35]\n",
      "Block : 16 Surgeries [2, 8, 15, 16]\n",
      "Block : 17 Surgeries [75, 76, 77, 78, 79, 80]\n",
      "Block : 18 Surgeries [41, 61, 64, 67]\n",
      "Block : 19 Surgeries [40, 44, 57, 60, 74]\n",
      "Block : 20 Surgeries [104, 109, 112, 117, 123]\n",
      "Block : 21 Surgeries [81, 88, 93]\n",
      "Block : 22 Surgeries [21, 24, 37]\n",
      "Block : 23 Surgeries [84, 87, 92]\n",
      "Block : 24 Surgeries [47, 58, 62, 65, 66]\n",
      "Block : 25 Surgeries [48, 56, 63, 68]\n",
      "Block : 26 Surgeries [106, 116, 120, 122]\n",
      "Block : 27 Surgeries [18, 33, 39]\n",
      "Block : 28 Surgeries [1, 11, 14]\n",
      "Block : 29 Surgeries [86, 89, 97]\n",
      "Block : 30 Surgeries [46, 54, 59, 69]\n",
      "Block : 31 Surgeries [102, 105, 107, 111]\n",
      "Block : 32 Surgeries [4, 5, 7]\n",
      "Block : 33 Surgeries []\n",
      "Block : 34 Surgeries [19, 23, 30, 38]\n",
      "Block : 35 Surgeries []\n",
      "Block : 36 Surgeries []\n",
      "Block : 37 Surgeries [98, 99, 101]\n",
      "Block : 38 Surgeries []\n"
     ]
    }
   ],
   "source": [
    "l = [[] for _ in range(n_blocks)]\n",
    "for b in range(n_blocks):\n",
    "    for i in range(n_surgeries):\n",
    "        if avg_model.y[i+1,b+1].value > 0.0:\n",
    "            l[b].append(i)\n",
    "\n",
    "for i in range(len(l)):\n",
    "    print(\"Block :\",i+1, 'Surgeries',l[i])"
   ]
  },
  {
   "cell_type": "code",
   "execution_count": 13,
   "metadata": {},
   "outputs": [
    {
     "data": {
      "text/plain": [
       "<Figure size 720x432 with 0 Axes>"
      ]
     },
     "metadata": {},
     "output_type": "display_data"
    },
    {
     "data": {
      "image/png": "[encoded data removed]",
      "text/plain": [
       "<Figure size 1080x864 with 1 Axes>"
      ]
     },
     "metadata": {
      "needs_background": "light"
     },
     "output_type": "display_data"
    }
   ],
   "source": [
    "colors = ['orange','pink','cyan','lightgreen','peachpuff','gold']\n",
    "plt.figure(figsize=(10,6))\n",
    "j = 0\n",
    "gastro_y = [1,1,1,2,2,2,2]\n",
    "gastro_x = [1,2,3,3,4,5,6]\n",
    "card_y = [3,9,3,3,9,1]\n",
    "card_x = [1,1,3,5,5,6]\n",
    "gyn_y = [6,6,7,6,7,6,7,7,3]\n",
    "gyn_x = [1,2,2,3,3,4,4,5,6]\n",
    "med_y = [5,4]\n",
    "med_x = [3,6]\n",
    "ortho_y = [4,4,5,10,4,4,5]\n",
    "ortho_x = [1,2,2,3,4,5,6]\n",
    "uro_y = [8,10,8,9,8,8,6]\n",
    "uro_x = [1,1,2,3,4,5,6]\n",
    "\n",
    "barh_blocks = {'GASTRO':[gastro_y,gastro_x],'CARD':[card_y,card_x],'GYN':[gyn_y,gyn_x],'MED':[med_y,med_x],'ORTHO':[ortho_y,ortho_x],'URO':[uro_y,uro_x]}\n",
    "barh_colors = {}\n",
    "for i in range(len(specs)):\n",
    "    barh_colors[specs[i]] = colors[i]\n",
    "\n",
    "fig,ax = plt.subplots(figsize=(15,12))\n",
    "j,k = 0,0\n",
    "for i in specs:\n",
    "    for m in range(len(blocks[i])):\n",
    "        text =int(np.round(sum(avg_model.y[idx+1,blocks[i][m]].value for idx in range(n_surgeries))))\n",
    "        ax.barh(y=11-barh_blocks[i][0][m],width=0.8,height=0.6,left=barh_blocks[i][1][m]-0.4,align='center',color=barh_colors[i],label=i)\n",
    "        ax.text(barh_blocks[i][1][m], 11-barh_blocks[i][0][m]-0.02, text, color = 'black', ha = 'left', va = 'center',size=16)\n",
    "    j += 1\n",
    "#ax.set_yticks([i for i in range(11)],[' ']+['OR '+str(10-i) for i in range(10)])\n",
    "ax.set_xticks([1,2,3,4,5,6]) # values\n",
    "ax.set_xticklabels(['Monday','Tuesday','Wednesday','Thursday','Friday','Dummy'],size=15)\n",
    "ax.set_yticks([i for i in range(1,11)])\n",
    "ax.set_yticklabels(['OR '+str(10-i) for i in range(10)],size=15)\n",
    "\n",
    "\n",
    "handles, labels = plt.gca().get_legend_handles_labels()\n",
    "by_label = dict(zip(labels, handles))\n",
    "plt.legend(by_label.values(), by_label.keys())\n",
    "plt.show()"
   ]
  },
  {
   "cell_type": "code",
   "execution_count": 14,
   "metadata": {},
   "outputs": [
    {
     "data": {
      "text/plain": [
       "{'CARD': [0, 17],\n",
       " 'GASTRO': [18, 39],\n",
       " 'GYN': [40, 74],\n",
       " 'MED': [75, 80],\n",
       " 'ORTHO': [81, 101],\n",
       " 'URO': [102, 124]}"
      ]
     },
     "execution_count": 14,
     "metadata": {},
     "output_type": "execute_result"
    }
   ],
   "source": [
    "surgery_nums"
   ]
  },
  {
   "cell_type": "code",
   "execution_count": 15,
   "metadata": {},
   "outputs": [
    {
     "name": "stdout",
     "output_type": "stream",
     "text": [
      "CARD [2, 6, 16, 28, 32, 33]\n",
      "GASTRO [1, 8, 14, 15, 22, 27, 34]\n",
      "GYN [4, 11, 12, 18, 19, 24, 25, 30, 35]\n",
      "MED [17, 36]\n",
      "ORTHO [3, 9, 10, 21, 23, 29, 37]\n",
      "URO [5, 7, 13, 20, 26, 31, 38]\n"
     ]
    }
   ],
   "source": [
    "for i in specs:\n",
    "    print(i, blocks[i])"
   ]
  },
  {
   "cell_type": "code",
   "execution_count": 16,
   "metadata": {},
   "outputs": [],
   "source": [
    "assignments = np.array([[0.0 for _ in range(n_blocks)] for _ in range(n_surgeries)])\n",
    "for i in range(n_surgeries):\n",
    "    for b in range(n_blocks):\n",
    "        assignments[i,b] = avg_model.y[i+1,b+1].value"
   ]
  },
  {
   "cell_type": "code",
   "execution_count": 17,
   "metadata": {},
   "outputs": [
    {
     "data": {
      "image/png": "[encoded data removed]",
      "text/plain": [
       "<Figure size 1440x1440 with 2 Axes>"
      ]
     },
     "metadata": {
      "needs_background": "light"
     },
     "output_type": "display_data"
    }
   ],
   "source": [
    "fig,(ax1,ax2) = plt.subplots(2,1,sharex=True,figsize=(20,20))\n",
    "ax1.imshow(cib[:,:32].T,interpolation='nearest')\n",
    "ax2.imshow(assignments[:,:32].T,interpolation='nearest')\n",
    "plt.savefig(\"Random block costs weekly schedule\",dpi=500)"
   ]
  },
  {
   "cell_type": "code",
   "execution_count": 18,
   "metadata": {},
   "outputs": [],
   "source": [
    "os = [[] for _ in range(n_blocks)]\n",
    "gs = [[] for _ in range(n_blocks)]\n",
    "\n",
    "for b in range(n_blocks):\n",
    "    for n in range(n_scenarios):\n",
    "        os[b].append(avg_model.o[b+1,n+1].value)\n",
    "        gs[b].append(avg_model.g[b+1,n+1].value)\n",
    "\n",
    "os = np.array(os)\n",
    "gs = np.array(gs)"
   ]
  },
  {
   "cell_type": "code",
   "execution_count": 19,
   "metadata": {},
   "outputs": [
    {
     "data": {
      "image/png": "[encoded data removed]",
      "text/plain": [
       "<Figure size 432x288 with 1 Axes>"
      ]
     },
     "metadata": {
      "needs_background": "light"
     },
     "output_type": "display_data"
    },
    {
     "data": {
      "image/png": "[encoded data removed]",
      "text/plain": [
       "<Figure size 432x288 with 1 Axes>"
      ]
     },
     "metadata": {
      "needs_background": "light"
     },
     "output_type": "display_data"
    },
    {
     "data": {
      "image/png": "[encoded data removed]",
      "text/plain": [
       "<Figure size 432x288 with 1 Axes>"
      ]
     },
     "metadata": {
      "needs_background": "light"
     },
     "output_type": "display_data"
    },
    {
     "data": {
      "image/png": "[encoded data removed]",
      "text/plain": [
       "<Figure size 432x288 with 1 Axes>"
      ]
     },
     "metadata": {
      "needs_background": "light"
     },
     "output_type": "display_data"
    },
    {
     "data": {
      "image/png": "[encoded data removed]",
      "text/plain": [
       "<Figure size 432x288 with 1 Axes>"
      ]
     },
     "metadata": {
      "needs_background": "light"
     },
     "output_type": "display_data"
    },
    {
     "data": {
      "image/png": "[encoded data removed]",
      "text/plain": [
       "<Figure size 432x288 with 1 Axes>"
      ]
     },
     "metadata": {
      "needs_background": "light"
     },
     "output_type": "display_data"
    },
    {
     "data": {
      "image/png": "[encoded data removed]",
      "text/plain": [
       "<Figure size 432x288 with 1 Axes>"
      ]
     },
     "metadata": {
      "needs_background": "light"
     },
     "output_type": "display_data"
    },
    {
     "data": {
      "image/png": "[encoded data removed]",
      "text/plain": [
       "<Figure size 432x288 with 1 Axes>"
      ]
     },
     "metadata": {
      "needs_background": "light"
     },
     "output_type": "display_data"
    },
    {
     "data": {
      "image/png": "[encoded data removed]",
      "text/plain": [
       "<Figure size 432x288 with 1 Axes>"
      ]
     },
     "metadata": {
      "needs_background": "light"
     },
     "output_type": "display_data"
    },
    {
     "data": {
      "image/png": "[encoded data removed]",
      "text/plain": [
       "<Figure size 432x288 with 1 Axes>"
      ]
     },
     "metadata": {
      "needs_background": "light"
     },
     "output_type": "display_data"
    },
    {
     "data": {
      "image/png": "[encoded data removed]",
      "text/plain": [
       "<Figure size 432x288 with 1 Axes>"
      ]
     },
     "metadata": {
      "needs_background": "light"
     },
     "output_type": "display_data"
    },
    {
     "data": {
      "image/png": "[encoded data removed]",
      "text/plain": [
       "<Figure size 432x288 with 1 Axes>"
      ]
     },
     "metadata": {
      "needs_background": "light"
     },
     "output_type": "display_data"
    },
    {
     "data": {
      "image/png": "[encoded data removed]",
      "text/plain": [
       "<Figure size 432x288 with 1 Axes>"
      ]
     },
     "metadata": {
      "needs_background": "light"
     },
     "output_type": "display_data"
    },
    {
     "data": {
      "image/png": "[encoded data removed]",
      "text/plain": [
       "<Figure size 432x288 with 1 Axes>"
      ]
     },
     "metadata": {
      "needs_background": "light"
     },
     "output_type": "display_data"
    },
    {
     "data": {
      "image/png": "[encoded data removed]",
      "text/plain": [
       "<Figure size 432x288 with 1 Axes>"
      ]
     },
     "metadata": {
      "needs_background": "light"
     },
     "output_type": "display_data"
    },
    {
     "data": {
      "image/png": "[encoded data removed]",
      "text/plain": [
       "<Figure size 432x288 with 1 Axes>"
      ]
     },
     "metadata": {
      "needs_background": "light"
     },
     "output_type": "display_data"
    },
    {
     "data": {
      "image/png": "[encoded data removed]",
      "text/plain": [
       "<Figure size 432x288 with 1 Axes>"
      ]
     },
     "metadata": {
      "needs_background": "light"
     },
     "output_type": "display_data"
    },
    {
     "data": {
      "image/png": "[encoded data removed]",
      "text/plain": [
       "<Figure size 432x288 with 1 Axes>"
      ]
     },
     "metadata": {
      "needs_background": "light"
     },
     "output_type": "display_data"
    },
    {
     "data": {
      "image/png": "[encoded data removed]",
      "text/plain": [
       "<Figure size 432x288 with 1 Axes>"
      ]
     },
     "metadata": {
      "needs_background": "light"
     },
     "output_type": "display_data"
    },
    {
     "data": {
      "image/png": "[encoded data removed]",
      "text/plain": [
       "<Figure size 432x288 with 1 Axes>"
      ]
     },
     "metadata": {
      "needs_background": "light"
     },
     "output_type": "display_data"
    },
    {
     "data": {
      "image/png": "[encoded data removed]",
      "text/plain": [
       "<Figure size 432x288 with 1 Axes>"
      ]
     },
     "metadata": {
      "needs_background": "light"
     },
     "output_type": "display_data"
    },
    {
     "data": {
      "image/png": "[encoded data removed]",
      "text/plain": [
       "<Figure size 432x288 with 1 Axes>"
      ]
     },
     "metadata": {
      "needs_background": "light"
     },
     "output_type": "display_data"
    },
    {
     "data": {
      "image/png": "[encoded data removed]",
      "text/plain": [
       "<Figure size 432x288 with 1 Axes>"
      ]
     },
     "metadata": {
      "needs_background": "light"
     },
     "output_type": "display_data"
    },
    {
     "data": {
      "image/png": "[encoded data removed]",
      "text/plain": [
       "<Figure size 432x288 with 1 Axes>"
      ]
     },
     "metadata": {
      "needs_background": "light"
     },
     "output_type": "display_data"
    },
    {
     "data": {
      "image/png": "[encoded data removed]",
      "text/plain": [
       "<Figure size 432x288 with 1 Axes>"
      ]
     },
     "metadata": {
      "needs_background": "light"
     },
     "output_type": "display_data"
    },
    {
     "data": {
      "image/png": "[encoded data removed]",
      "text/plain": [
       "<Figure size 432x288 with 1 Axes>"
      ]
     },
     "metadata": {
      "needs_background": "light"
     },
     "output_type": "display_data"
    },
    {
     "data": {
      "image/png": "[encoded data removed]",
      "text/plain": [
       "<Figure size 432x288 with 1 Axes>"
      ]
     },
     "metadata": {
      "needs_background": "light"
     },
     "output_type": "display_data"
    },
    {
     "data": {
      "image/png": "[encoded data removed]",
      "text/plain": [
       "<Figure size 432x288 with 1 Axes>"
      ]
     },
     "metadata": {
      "needs_background": "light"
     },
     "output_type": "display_data"
    },
    {
     "data": {
      "image/png": "[encoded data removed]",
      "text/plain": [
       "<Figure size 432x288 with 1 Axes>"
      ]
     },
     "metadata": {
      "needs_background": "light"
     },
     "output_type": "display_data"
    },
    {
     "data": {
      "image/png": "[encoded data removed]",
      "text/plain": [
       "<Figure size 432x288 with 1 Axes>"
      ]
     },
     "metadata": {
      "needs_background": "light"
     },
     "output_type": "display_data"
    },
    {
     "data": {
      "image/png": "[encoded data removed]",
      "text/plain": [
       "<Figure size 432x288 with 1 Axes>"
      ]
     },
     "metadata": {
      "needs_background": "light"
     },
     "output_type": "display_data"
    },
    {
     "data": {
      "image/png": "[encoded data removed]",
      "text/plain": [
       "<Figure size 432x288 with 1 Axes>"
      ]
     },
     "metadata": {
      "needs_background": "light"
     },
     "output_type": "display_data"
    },
    {
     "data": {
      "image/png": "[encoded data removed]",
      "text/plain": [
       "<Figure size 432x288 with 1 Axes>"
      ]
     },
     "metadata": {
      "needs_background": "light"
     },
     "output_type": "display_data"
    },
    {
     "data": {
      "image/png": "[encoded data removed]",
      "text/plain": [
       "<Figure size 432x288 with 1 Axes>"
      ]
     },
     "metadata": {
      "needs_background": "light"
     },
     "output_type": "display_data"
    },
    {
     "data": {
      "image/png": "[encoded data removed]",
      "text/plain": [
       "<Figure size 432x288 with 1 Axes>"
      ]
     },
     "metadata": {
      "needs_background": "light"
     },
     "output_type": "display_data"
    },
    {
     "data": {
      "image/png": "[encoded data removed]",
      "text/plain": [
       "<Figure size 432x288 with 1 Axes>"
      ]
     },
     "metadata": {
      "needs_background": "light"
     },
     "output_type": "display_data"
    },
    {
     "data": {
      "image/png": "[encoded data removed]",
      "text/plain": [
       "<Figure size 432x288 with 1 Axes>"
      ]
     },
     "metadata": {
      "needs_background": "light"
     },
     "output_type": "display_data"
    },
    {
     "data": {
      "image/png": "[encoded data removed]",
      "text/plain": [
       "<Figure size 432x288 with 1 Axes>"
      ]
     },
     "metadata": {
      "needs_background": "light"
     },
     "output_type": "display_data"
    }
   ],
   "source": [
    "overtime = os-gs\n",
    "\n",
    "for b in range(n_blocks):\n",
    "    plt.figure()\n",
    "    plt.title(\"Hist for block \"+str(b+1))\n",
    "    plt.hist(overtime[b],bins=20)\n",
    "    plt.xlim(-600,400)\n",
    "    plt.show()"
   ]
  },
  {
   "cell_type": "code",
   "execution_count": 20,
   "metadata": {},
   "outputs": [
    {
     "data": {
      "text/plain": [
       "array([[   0.,  100.,    0., ...,    0.,    0.,    0.],\n",
       "       [   0.,  400.,    0., ...,    0.,    0.,    0.],\n",
       "       [   0.,  200.,    0., ...,    0.,    0.,    0.],\n",
       "       ...,\n",
       "       [   0.,    0.,    0., ...,    0.,    0., 1000.],\n",
       "       [   0.,    0.,    0., ...,    0.,    0., 1000.],\n",
       "       [   0.,    0.,    0., ...,    0.,    0., 1000.]])"
      ]
     },
     "execution_count": 20,
     "metadata": {},
     "output_type": "execute_result"
    }
   ],
   "source": [
    "cib"
   ]
  },
  {
   "cell_type": "code",
   "execution_count": 21,
   "metadata": {},
   "outputs": [
    {
     "data": {
      "text/plain": [
       "array([   0.,    0.,    0.,    0.,    0.,    0.,    0.,    0.,    0.,\n",
       "          0.,    0.,    0.,    0.,    0.,    0.,    0.,    0.,    0.,\n",
       "       1000., 1000., 1000., 1000., 1000., 1000., 1000., 1000., 1000.,\n",
       "       1000., 1000., 1000., 1000., 1000., 1000., 1000., 1000., 1000.,\n",
       "       1000., 1000., 1000., 1000.,    0.,    0.,    0.,    0.,    0.,\n",
       "          0.,    0.,    0.,    0.,    0.,    0.,    0.,    0.,    0.,\n",
       "          0.,    0.,    0.,    0.,    0.,    0.,    0.,    0.,    0.,\n",
       "          0.,    0.,    0.,    0.,    0.,    0.,    0.,    0.,    0.,\n",
       "          0.,    0.,    0.,    0.,    0.,    0.,    0.,    0.,    0.,\n",
       "          0.,    0.,    0.,    0.,    0.,    0.,    0.,    0.,    0.,\n",
       "          0.,    0.,    0.,    0.,    0.,    0.,    0.,    0.,    0.,\n",
       "          0.,    0.,    0.,    0.,    0.,    0.,    0.,    0.,    0.,\n",
       "          0.,    0.,    0.,    0.,    0.,    0.,    0.,    0.,    0.,\n",
       "          0.,    0.,    0.,    0.,    0.,    0.,    0.,    0.])"
      ]
     },
     "execution_count": 21,
     "metadata": {},
     "output_type": "execute_result"
    }
   ],
   "source": [
    "cib[:,33]"
   ]
  },
  {
   "cell_type": "code",
   "execution_count": 22,
   "metadata": {},
   "outputs": [
    {
     "data": {
      "text/plain": [
       "array([   0.,  200.,    0.,    0.,    0.,  400.,    0.,    0.,    0.,\n",
       "          0.,    0.,    0.,    0.,    0.,    0.,  400.,    0.,    0.,\n",
       "          0.,    0.,    0.,    0.,    0.,    0.,    0.,    0.,    0.,\n",
       "        300.,    0.,    0.,    0.,  400., 1000.,    0.,    0.,    0.,\n",
       "          0.,    0.])"
      ]
     },
     "execution_count": 22,
     "metadata": {},
     "output_type": "execute_result"
    }
   ],
   "source": [
    "cib[9,:]"
   ]
  },
  {
   "cell_type": "code",
   "execution_count": 23,
   "metadata": {},
   "outputs": [
    {
     "data": {
      "text/plain": [
       "array([[  0., 100.,   0.,   0.,   0., 400.,   0.,   0.,   0.,   0.,   0.,\n",
       "          0.,   0.,   0.,   0., 200.,   0.,   0.,   0.,   0.,   0.,   0.,\n",
       "          0.,   0.,   0.,   0.,   0., 100.,   0.,   0.,   0., 400.],\n",
       "       [  0., 400.,   0.,   0.,   0., 400.,   0.,   0.,   0.,   0.,   0.,\n",
       "          0.,   0.,   0.,   0., 400.,   0.,   0.,   0.,   0.,   0.,   0.,\n",
       "          0.,   0.,   0.,   0.,   0., 200.,   0.,   0.,   0., 400.]])"
      ]
     },
     "execution_count": 23,
     "metadata": {},
     "output_type": "execute_result"
    }
   ],
   "source": [
    "cib[:2,:32]"
   ]
  },
  {
   "cell_type": "code",
   "execution_count": 24,
   "metadata": {},
   "outputs": [
    {
     "data": {
      "text/plain": [
       "(125, 38)"
      ]
     },
     "execution_count": 24,
     "metadata": {},
     "output_type": "execute_result"
    }
   ],
   "source": [
    "cib.shape"
   ]
  },
  {
   "cell_type": "code",
   "execution_count": 25,
   "metadata": {},
   "outputs": [
    {
     "data": {
      "text/plain": [
       "array([-5444.26174997, -5457.624836  , -5375.10643412, -5445.88049718,\n",
       "       -5384.05238215, -5407.56931809, -5351.14826091, -5395.06312681,\n",
       "       -5440.56919059, -5352.79635395, -5584.27639325, -5273.2489354 ,\n",
       "       -5434.44065962, -5508.45366405, -5484.4637106 , -5390.04338591,\n",
       "       -5548.45986774, -5567.14116453, -5493.03313662, -5512.58804301,\n",
       "       -5362.11767178, -5390.92958756, -5390.09434342, -5492.29600701,\n",
       "       -5486.03794465, -5533.76123667, -5527.70839478, -5472.9782446 ,\n",
       "       -5558.04998776, -5421.75141222, -5601.36357913, -5356.39495578,\n",
       "       -5483.60751117, -5548.73335863, -5465.98507687, -5493.87718411,\n",
       "       -5587.10654975, -5405.81930618, -5482.83125467, -5459.34717067,\n",
       "       -5558.11193158, -5453.81254086, -5417.54655365, -5543.70095232,\n",
       "       -5493.44575856, -5317.14309056, -5429.84405267, -5546.31989482,\n",
       "       -5389.55816988, -5532.84795045, -5499.27972517, -5522.17072144,\n",
       "       -5375.0146681 , -5492.66786474, -5431.34232236, -5561.19699461,\n",
       "       -5420.58775707, -5419.98519022, -5456.57996341, -5394.68326589,\n",
       "       -5337.77081466, -5417.79116133, -5474.72946286, -5545.4064785 ,\n",
       "       -5523.04153415, -5410.8033534 , -5337.08849316, -5441.3874127 ,\n",
       "       -5567.51468008, -5469.59367592, -5458.45027387, -5573.60817927,\n",
       "       -5440.71440935, -5432.09453645, -5549.77310914, -5450.82353927,\n",
       "       -5502.60025811, -5499.63036779, -5503.16800667, -5546.66156535,\n",
       "       -5361.92840499, -5472.14844117, -5422.65943765, -5364.69576972,\n",
       "       -5558.13901945, -5442.0092139 , -5583.50081453, -5523.88235035,\n",
       "       -5423.82411666, -5421.7569264 , -5351.92898498, -5443.49251662,\n",
       "       -5562.52405591, -5566.05674052, -5463.84580775, -5450.02820951,\n",
       "       -5447.88181797, -5538.37303644, -5469.58114787, -5397.37915745,\n",
       "       -5408.30882915, -5630.20149352, -5434.39472069, -5368.03268209,\n",
       "       -5392.53439989, -5689.38759857, -5424.89410949, -5524.55174465,\n",
       "       -5623.16118474, -5410.96929901, -5453.12590486, -5424.82012716,\n",
       "       -5400.70907748, -5468.50526275, -5424.51747585, -5484.38083315,\n",
       "       -5499.27072621, -5519.88099143, -5437.45283045, -5464.34501723,\n",
       "       -5489.78639578, -5443.29818644, -5541.31219509, -5585.18458859,\n",
       "       -5446.17275469, -5543.01805576, -5447.78887036, -5495.29464998,\n",
       "       -5506.37942739, -5564.8051    , -5374.99608428, -5490.31611427,\n",
       "       -5498.58980249, -5575.89380601, -5419.505048  , -5508.36713951,\n",
       "       -5310.02708903, -5642.26036563, -5475.09093762, -5544.1103031 ,\n",
       "       -5435.10616724, -5507.76752724, -5427.12659658, -5367.89466953,\n",
       "       -5435.91825354, -5399.20307227, -5453.90130233, -5414.05635022,\n",
       "       -5503.2819094 , -5393.4479362 , -5325.81752055, -5524.86360218,\n",
       "       -5370.60619792, -5524.3155841 , -5564.27514055, -5485.88300522,\n",
       "       -5324.64066282, -5567.27117001, -5477.67739676, -5399.71000273,\n",
       "       -5483.8952393 , -5540.47422986, -5411.828383  , -5565.71904886,\n",
       "       -5469.6617918 , -5468.68589784, -5606.15112026, -5437.69833191,\n",
       "       -5421.10507339, -5416.80477743, -5441.96054898, -5511.73020035,\n",
       "       -5450.62569413, -5416.68292762, -5442.7713517 , -5478.39064308,\n",
       "       -5480.54752787, -5569.37110773, -5328.23388397, -5364.34843815,\n",
       "       -5436.67844177, -5564.85985544, -5457.26636687, -5417.92923259,\n",
       "       -5582.16676795, -5596.69547812, -5513.50265572, -5373.10033583,\n",
       "       -5502.00874445, -5394.97461277, -5396.91087561, -5464.76340112,\n",
       "       -5437.81538328, -5600.59755039, -5433.32813082, -5414.37105897,\n",
       "       -5443.9838914 , -5537.94035997, -5426.40541856, -5508.62487222,\n",
       "       -5600.85659461, -5433.68630247, -5476.40011363, -5429.27869407,\n",
       "       -5519.77612594, -5497.56402055, -5514.3911336 , -5492.74994406,\n",
       "       -5639.53092873, -5413.10059113, -5616.29554082, -5466.15896023,\n",
       "       -5526.51522562, -5482.34460665, -5512.65575686, -5589.41072749,\n",
       "       -5452.54515247, -5579.85980423, -5509.3813392 , -5395.18202348,\n",
       "       -5605.61013214, -5207.15325269, -5344.70682133, -5529.69907309,\n",
       "       -5452.43265796, -5499.56151862, -5534.17665661, -5617.74700312,\n",
       "       -5457.56148035, -5370.83704116, -5552.40935461, -5428.74169588,\n",
       "       -5526.70450574, -5467.68357197, -5397.84361916, -5487.00116194,\n",
       "       -5475.78875076, -5558.20944542, -5413.05211556, -5475.10071139,\n",
       "       -5427.95045194, -5515.06321379, -5590.85480163, -5539.96680718,\n",
       "       -5491.91252711, -5585.25018632, -5439.93841743, -5467.44603489,\n",
       "       -5466.66455108, -5345.56231501, -5468.57155587, -5493.2394871 ,\n",
       "       -5427.5515316 , -5601.19524081, -5523.01380412, -5480.52090982,\n",
       "       -5399.7264576 , -5494.99315601, -5513.90497573, -5394.70441998,\n",
       "       -5417.49029055, -5336.79433641, -5447.77394726, -5455.37348157,\n",
       "       -5515.99696667, -5480.52879726, -5346.97691566, -5478.45538067,\n",
       "       -5447.64995786, -5404.37872426, -5597.58394794, -5407.17313703,\n",
       "       -5399.87441833, -5422.14634083, -5497.70767151, -5608.88737558,\n",
       "       -5413.45764976, -5589.90383988, -5373.64028036, -5429.03388628,\n",
       "       -5384.86585736, -5503.16164081, -5490.14262446, -5568.41011913,\n",
       "       -5574.76534712, -5567.34357434, -5409.99806933, -5345.57086071,\n",
       "       -5612.78115314, -5592.86728697, -5576.04645155, -5368.63798987,\n",
       "       -5617.7923331 , -5391.36388026, -5555.17690558, -5546.26947678,\n",
       "       -5528.07894711, -5522.86913292, -5527.96196102, -5321.65133767,\n",
       "       -5608.12023292, -5579.89316345, -5285.74367032, -5401.89836547,\n",
       "       -5495.57832811, -5349.78705653, -5393.88257667, -5488.33682878,\n",
       "       -5380.82373365, -5559.15379152, -5497.74967273, -5399.48964447,\n",
       "       -5440.00146588, -5573.92524804, -5369.96051568, -5486.66323725,\n",
       "       -5506.44644686, -5553.90985669, -5539.51967399, -5337.96901158,\n",
       "       -5496.75955949, -5510.56108424, -5450.26915679, -5452.61075086,\n",
       "       -5514.5714126 , -5611.89050455, -5454.55030686, -5612.42862496,\n",
       "       -5451.50271639, -5486.83680149, -5408.27749567, -5514.41412665,\n",
       "       -5409.61727066, -5450.19473383, -5330.25011679, -5438.04523836,\n",
       "       -5473.9332968 , -5496.5883675 , -5608.15776667, -5461.61505194,\n",
       "       -5518.26771861, -5497.00555048, -5484.73465532, -5479.9531179 ,\n",
       "       -5531.37600415, -5440.29389598, -5414.07808078, -5512.16862363,\n",
       "       -5404.77215742, -5539.07267594, -5580.3263798 , -5433.7654409 ,\n",
       "       -5443.97626881, -5543.34148833, -5254.39677855, -5512.19398468,\n",
       "       -5405.72515699, -5391.34001863, -5371.94273728, -5504.00185282,\n",
       "       -5421.25971929, -5326.35987577, -5486.50991166, -5558.88629477,\n",
       "       -5373.69169685, -5493.4427803 , -5511.08789284, -5402.13113792,\n",
       "       -5548.66349861, -5646.23513621, -5679.98477439, -5383.73520582,\n",
       "       -5571.07796845, -5364.65576766, -5560.07654687, -5600.75482751,\n",
       "       -5403.17486955, -5486.61215244, -5587.79006514, -5466.08750103,\n",
       "       -5583.45791004, -5451.26189411, -5478.31386531, -5569.68560941,\n",
       "       -5547.21553169, -5505.66049028, -5546.60672065, -5414.20461274,\n",
       "       -5462.88272093, -5611.10341344, -5377.17672292, -5480.75826673,\n",
       "       -5326.9642399 , -5562.51676445, -5375.96246823, -5275.05868845,\n",
       "       -5443.37320103, -5573.99701621, -5414.19072556, -5478.75287954,\n",
       "       -5484.67149068, -5428.24887718, -5438.44054102, -5400.07781008,\n",
       "       -5424.54240812, -5454.00503225, -5441.06525214, -5581.46107736,\n",
       "       -5560.53148905, -5601.24568989, -5389.6034571 , -5534.95375144,\n",
       "       -5442.31822862, -5417.67094567, -5477.06955114, -5545.50667238,\n",
       "       -5418.05592757, -5458.86910996, -5382.26825257, -5458.19070957,\n",
       "       -5391.56427915, -5528.49634685, -5582.06546581, -5394.21506359,\n",
       "       -5357.86654938, -5432.51303376, -5465.17553404, -5311.95452896,\n",
       "       -5396.4695858 , -5601.31288483, -5412.88634763, -5362.69465582,\n",
       "       -5619.93125568, -5438.29772332, -5529.48000002, -5506.97592912,\n",
       "       -5372.34021779, -5532.35847719, -5323.96772232, -5433.20697346,\n",
       "       -5527.28855313, -5464.7625825 , -5472.64996699, -5388.88222156,\n",
       "       -5402.21841117, -5554.2868743 , -5479.85127255, -5335.93222949,\n",
       "       -5578.90083732, -5589.62134723, -5439.12919849, -5572.87618042,\n",
       "       -5513.56841106, -5439.13553173, -5395.61453578, -5445.41149282,\n",
       "       -5377.64973117, -5503.28266072, -5484.9692737 , -5361.89142682,\n",
       "       -5531.64574736, -5497.81146321, -5435.4732327 , -5387.73546543,\n",
       "       -5415.55822492, -5515.50802268, -5436.56941477, -5549.5182161 ,\n",
       "       -5360.227592  , -5463.56968487, -5580.84385861, -5630.60876415,\n",
       "       -5454.76074398, -5375.55785937, -5361.4439563 , -5444.31024321,\n",
       "       -5570.88800439, -5521.95921604, -5615.91741341, -5525.65219911,\n",
       "       -5515.72663658, -5480.61630987, -5525.42061992, -5383.07065157,\n",
       "       -5379.23775988, -5626.64754202, -5548.48564332, -5446.35865327,\n",
       "       -5554.00772299, -5530.50634486, -5567.68951737, -5580.65735593,\n",
       "       -5495.11766283, -5403.38286693, -5540.30793   , -5349.64708224,\n",
       "       -5541.15093587, -5400.73986224, -5402.53170141, -5365.4109845 ,\n",
       "       -5445.09513526, -5502.69901252, -5462.79146755, -5462.02947366,\n",
       "       -5537.21212119, -5633.43007174, -5459.63368206, -5376.41061207,\n",
       "       -5495.3727996 , -5422.58324349, -5642.9923726 , -5392.71660167,\n",
       "       -5391.10745263, -5454.75045772, -5441.43277216, -5517.82526618,\n",
       "       -5394.03544437, -5351.58917721, -5542.43306304, -5564.88372028,\n",
       "       -5494.60265446, -5503.26041457, -5520.62927078, -5312.5423469 ,\n",
       "       -5597.31574915, -5461.41507632, -5580.57513941, -5590.07061095,\n",
       "       -5477.55062863, -5425.26745036, -5483.36365693, -5414.0473492 ,\n",
       "       -5405.41050073, -5570.82435928, -5417.72717057, -5435.75504542,\n",
       "       -5504.10868331, -5505.76679559, -5472.09597795, -5286.42167518,\n",
       "       -5519.01709532, -5338.46623915, -5344.67676721, -5460.1837509 ,\n",
       "       -5335.51338974, -5435.42340543, -5499.24254933, -5523.61664304,\n",
       "       -5329.17568372, -5379.88602833, -5476.2046407 , -5449.8372435 ,\n",
       "       -5652.28854183, -5461.52456282, -5405.3278788 , -5479.95792652,\n",
       "       -5343.21980606, -5408.03198421, -5521.72445153, -5450.81095482,\n",
       "       -5459.99410745, -5510.30785461, -5360.84578945, -5427.01867962,\n",
       "       -5438.56280273, -5497.59616728, -5467.32237947, -5423.97417757,\n",
       "       -5492.14532037, -5435.26904845, -5500.97641163, -5530.05772066,\n",
       "       -5458.70730696, -5536.77783308, -5401.0400155 , -5664.61555876,\n",
       "       -5510.53261077, -5551.25357967, -5551.52589154, -5514.5943811 ,\n",
       "       -5499.5511693 , -5455.09553578, -5501.45590043, -5476.85365281,\n",
       "       -5390.19614279, -5508.43413718, -5545.84198882, -5618.10252882,\n",
       "       -5389.81577448, -5427.77193252, -5480.98468704, -5338.5506868 ,\n",
       "       -5364.12509405, -5611.58972469, -5541.92416497, -5452.09826944,\n",
       "       -5444.1720195 , -5402.88918743, -5652.43079006, -5601.69355064,\n",
       "       -5520.65011798, -5476.13636886, -5340.81162881, -5363.20660358,\n",
       "       -5341.25287983, -5559.45636959, -5296.71711697, -5349.24193224,\n",
       "       -5455.56623647, -5501.5394262 , -5353.79585262, -5475.0878422 ,\n",
       "       -5579.07269173, -5622.62640226, -5522.58557306, -5450.71896243,\n",
       "       -5328.36548166, -5429.88969505, -5389.0607113 , -5621.74897127,\n",
       "       -5402.15032995, -5452.16241305, -5569.54645189, -5395.76729527,\n",
       "       -5475.85598511, -5489.526544  , -5412.00310665, -5435.002096  ,\n",
       "       -5491.02642431, -5524.14753416, -5604.67097984, -5526.19917479,\n",
       "       -5500.41527093, -5496.25906106, -5608.13001612, -5324.47807939,\n",
       "       -5632.96277138, -5509.00403957, -5435.57213247, -5330.53709465,\n",
       "       -5535.61666092, -5590.4950088 , -5587.4317032 , -5558.67572963,\n",
       "       -5425.46084581, -5514.43745075, -5542.89576435, -5501.33564206,\n",
       "       -5517.27864766, -5539.0520636 , -5531.78991338, -5416.85429142,\n",
       "       -5544.15763956, -5608.62131165, -5462.75592979, -5463.09788859,\n",
       "       -5459.39032622, -5437.77737176, -5457.42530936, -5488.1285307 ,\n",
       "       -5530.96318661, -5630.30939375, -5546.47768353, -5435.83563284,\n",
       "       -5446.6813552 , -5420.3161851 , -5435.30954313, -5401.72208844,\n",
       "       -5580.47150181, -5306.1075054 , -5291.57604486, -5518.22756024,\n",
       "       -5492.16158042, -5564.1978083 , -5376.46101067, -5304.0658525 ,\n",
       "       -5441.65527757, -5479.16106387, -5556.29318043, -5490.19578683,\n",
       "       -5437.41787046, -5406.45470883, -5469.76597306, -5485.33224543,\n",
       "       -5528.39704283, -5464.31491748, -5451.801645  , -5539.44859114,\n",
       "       -5524.60425263, -5301.65105642, -5546.81342518, -5260.07710199,\n",
       "       -5407.92914634, -5392.15060234, -5445.70997813, -5396.88147078,\n",
       "       -5475.51246447, -5382.87361291, -5339.55737067, -5374.93932394,\n",
       "       -5442.38250802, -5569.49683725, -5589.39536842, -5672.63502798,\n",
       "       -5364.99129479, -5426.6604473 , -5477.67178034, -5357.0881383 ,\n",
       "       -5534.84500925, -5443.8259492 , -5366.56834479, -5273.58363012,\n",
       "       -5493.40951978, -5594.79240759, -5494.55431321, -5340.7421813 ,\n",
       "       -5426.25941114, -5579.2295758 , -5450.63430901, -5464.92489731,\n",
       "       -5543.48701105, -5475.58792095, -5399.58317876, -5472.47738779,\n",
       "       -5618.75381921, -5388.5410584 , -5510.38536329, -5378.00182588,\n",
       "       -5313.63546982, -5369.17325144, -5470.84031967, -5453.40274895,\n",
       "       -5499.49119116, -5460.24068664, -5330.30565061, -5545.14169612,\n",
       "       -5492.80631449, -5563.50888119, -5503.76176588, -5429.5392618 ,\n",
       "       -5330.51595818, -5448.31684339, -5376.14382206, -5468.12920878,\n",
       "       -5465.77333283, -5304.62651493, -5479.10657242, -5437.88051452,\n",
       "       -5573.36731265, -5593.90999043, -5349.90105457, -5544.56293976,\n",
       "       -5389.76662977, -5598.4775614 , -5330.63629308, -5451.86996853,\n",
       "       -5566.85787144, -5462.62022407, -5493.87089614, -5366.50438115,\n",
       "       -5532.96887706, -5314.81887305, -5401.82166878, -5407.00323804,\n",
       "       -5567.67278691, -5419.48555207, -5614.80515371, -5464.14503182,\n",
       "       -5315.6587593 , -5357.09613738, -5385.2815363 , -5538.80094165,\n",
       "       -5625.45174716, -5288.81436725, -5506.96441256, -5517.06231062,\n",
       "       -5592.87721938, -5494.31717098, -5401.74636929, -5502.47578193,\n",
       "       -5596.91418604, -5473.47490074, -5464.95195864, -5502.69868731,\n",
       "       -5619.07675014, -5386.24305423, -5556.64359998, -5530.2764077 ,\n",
       "       -5472.30488065, -5388.21228821, -5494.57626824, -5514.46812108,\n",
       "       -5587.32022878, -5477.2995296 , -5456.58717451, -5476.33007742,\n",
       "       -5347.95410199, -5666.67531826, -5496.08382378, -5396.6411783 ,\n",
       "       -5420.2635822 , -5479.31275151, -5460.24016755, -5401.14410836,\n",
       "       -5442.39245754, -5499.02267534, -5375.83438125, -5476.09806279,\n",
       "       -5439.64099594, -5430.43375391, -5306.62245496, -5376.17368988,\n",
       "       -5616.00383754, -5599.91233685, -5559.76240889, -5524.93809653,\n",
       "       -5403.0708248 , -5446.91974557, -5496.7618803 , -5436.25390361,\n",
       "       -5538.59703943, -5426.8765198 , -5487.67812964, -5407.27709466,\n",
       "       -5426.67388922, -5571.50575872, -5440.2328435 , -5484.1059782 ,\n",
       "       -5540.33341343, -5454.42819063, -5365.82067734, -5405.38494021,\n",
       "       -5424.03666704, -5328.92125406, -5364.74880323, -5506.48627949,\n",
       "       -5456.28032943, -5303.52851331, -5335.14888257, -5536.6340732 ,\n",
       "       -5468.42587105, -5344.95404115, -5587.29921772, -5615.84485943,\n",
       "       -5498.36722739, -5470.47174134, -5484.55965336, -5448.74474091,\n",
       "       -5533.49206903, -5524.3887066 , -5572.95772031, -5520.41742065,\n",
       "       -5472.67277867, -5630.90834848, -5553.68371246, -5592.78168198,\n",
       "       -5496.80236364, -5415.04420394, -5454.42654061, -5444.906503  ,\n",
       "       -5582.10132464, -5329.78204988, -5399.14236676, -5475.67166594,\n",
       "       -5502.47077347, -5570.34255838, -5376.57858409, -5543.84716438,\n",
       "       -5361.77803751, -5468.10456094, -5377.86137243, -5463.97584935,\n",
       "       -5597.06869263, -5424.8296386 , -5393.46077389, -5434.23275532,\n",
       "       -5321.11257744, -5332.63170218, -5549.98371633, -5589.04583559,\n",
       "       -5506.26795873, -5498.79473619, -5449.87916255, -5440.10202205,\n",
       "       -5520.99946529, -5514.33726866, -5550.88273829, -5400.68803126,\n",
       "       -5536.43943684, -5485.56813987, -5599.5569113 , -5457.38751632,\n",
       "       -5414.18039738, -5424.36298838, -5410.10427727, -5532.11792825,\n",
       "       -5592.10676065, -5362.49452458, -5337.44614221, -5572.09999374,\n",
       "       -5517.50705686, -5454.20691928, -5690.43050129, -5348.026991  ,\n",
       "       -5460.61832163, -5437.8564516 , -5537.74818167, -5512.98493813,\n",
       "       -5540.30400948, -5454.38576076, -5506.32820248, -5525.23934416,\n",
       "       -5401.00318604, -5553.46353737, -5449.93227707, -5488.83596926,\n",
       "       -5358.80863087, -5567.39610107, -5601.13326463, -5450.50758576,\n",
       "       -5467.28493065, -5441.32018582, -5432.52843943, -5452.0175668 ,\n",
       "       -5450.17033031, -5498.26148847, -5410.79538692, -5443.07716201,\n",
       "       -5459.03437177, -5586.64597897, -5579.1180817 , -5403.39525149,\n",
       "       -5457.85928778, -5511.17992366, -5592.79169529, -5316.36638977,\n",
       "       -5592.98367884, -5557.23990304, -5448.69268873, -5503.17156033,\n",
       "       -5495.96763993, -5461.22894659, -5559.56969879, -5368.33800892,\n",
       "       -5405.62308456, -5620.79276981, -5531.00369124, -5454.74680184,\n",
       "       -5534.41039851, -5641.72224232, -5397.73173028, -5426.7020957 ,\n",
       "       -5455.68571139, -5433.62895297, -5512.91501444, -5416.14271042,\n",
       "       -5667.80414539, -5421.82498975, -5514.8362309 , -5431.80273337,\n",
       "       -5536.65590639, -5441.37038024, -5572.41305874, -5360.27920377,\n",
       "       -5545.36166865, -5550.70849384, -5414.52201115, -5553.14804197,\n",
       "       -5531.75560339, -5584.18989272, -5494.08137053, -5436.05743705,\n",
       "       -5536.80769576, -5469.33065326, -5404.34154288, -5392.22736247,\n",
       "       -5454.13553493, -5467.22732107, -5332.386241  , -5637.59189132,\n",
       "       -5441.34925521, -5420.21859632, -5466.27464937, -5616.38844697,\n",
       "       -5457.68255275, -5445.03719201, -5371.01770869, -5630.95963812,\n",
       "       -5388.94825708, -5586.39239996, -5486.15209447, -5515.53007921,\n",
       "       -5542.96143816, -5475.46639126, -5528.2106931 , -5507.56244345,\n",
       "       -5578.09385982, -5397.52720365, -5401.72415021, -5533.68955164])"
      ]
     },
     "execution_count": 25,
     "metadata": {},
     "output_type": "execute_result"
    }
   ],
   "source": [
    "overtime[33]"
   ]
  },
  {
   "cell_type": "code",
   "execution_count": 26,
   "metadata": {},
   "outputs": [
    {
     "data": {
      "text/plain": [
       "array([   0.,  200.,    0.,    0.,    0.,  200.,    0.,    0.,    0.,\n",
       "          0.,    0.,    0.,    0.,    0.,    0.,  300.,    0.,    0.,\n",
       "          0.,    0.,    0.,    0.,    0.,    0.,    0.,    0.,    0.,\n",
       "        100.,    0.,    0.,    0.,  100., 1000.,    0.,    0.,    0.,\n",
       "          0.,    0.])"
      ]
     },
     "execution_count": 26,
     "metadata": {},
     "output_type": "execute_result"
    }
   ],
   "source": [
    "cib[14,:]"
   ]
  },
  {
   "cell_type": "code",
   "execution_count": 27,
   "metadata": {},
   "outputs": [
    {
     "data": {
      "text/plain": [
       "array([-5444.26174997, -5457.624836  , -5375.10643412, -5445.88049718,\n",
       "       -5384.05238215, -5407.56931809, -5351.14826091, -5395.06312681,\n",
       "       -5440.56919059, -5352.79635395, -5584.27639325, -5273.2489354 ,\n",
       "       -5434.44065962, -5508.45366405, -5484.4637106 , -5390.04338591,\n",
       "       -5548.45986774, -5567.14116453, -5493.03313662, -5512.58804301,\n",
       "       -5362.11767178, -5390.92958756, -5390.09434342, -5492.29600701,\n",
       "       -5486.03794465, -5533.76123667, -5527.70839478, -5472.9782446 ,\n",
       "       -5558.04998776, -5421.75141222, -5601.36357913, -5356.39495578,\n",
       "       -5483.60751117, -5548.73335863, -5465.98507687, -5493.87718411,\n",
       "       -5587.10654975, -5405.81930618, -5482.83125467, -5459.34717067,\n",
       "       -5558.11193158, -5453.81254086, -5417.54655365, -5543.70095232,\n",
       "       -5493.44575856, -5317.14309056, -5429.84405267, -5546.31989482,\n",
       "       -5389.55816988, -5532.84795045, -5499.27972517, -5522.17072144,\n",
       "       -5375.0146681 , -5492.66786474, -5431.34232236, -5561.19699461,\n",
       "       -5420.58775707, -5419.98519022, -5456.57996341, -5394.68326589,\n",
       "       -5337.77081466, -5417.79116133, -5474.72946286, -5545.4064785 ,\n",
       "       -5523.04153415, -5410.8033534 , -5337.08849316, -5441.3874127 ,\n",
       "       -5567.51468008, -5469.59367592, -5458.45027387, -5573.60817927,\n",
       "       -5440.71440935, -5432.09453645, -5549.77310914, -5450.82353927,\n",
       "       -5502.60025811, -5499.63036779, -5503.16800667, -5546.66156535,\n",
       "       -5361.92840499, -5472.14844117, -5422.65943765, -5364.69576972,\n",
       "       -5558.13901945, -5442.0092139 , -5583.50081453, -5523.88235035,\n",
       "       -5423.82411666, -5421.7569264 , -5351.92898498, -5443.49251662,\n",
       "       -5562.52405591, -5566.05674052, -5463.84580775, -5450.02820951,\n",
       "       -5447.88181797, -5538.37303644, -5469.58114787, -5397.37915745,\n",
       "       -5408.30882915, -5630.20149352, -5434.39472069, -5368.03268209,\n",
       "       -5392.53439989, -5689.38759857, -5424.89410949, -5524.55174465,\n",
       "       -5623.16118474, -5410.96929901, -5453.12590486, -5424.82012716,\n",
       "       -5400.70907748, -5468.50526275, -5424.51747585, -5484.38083315,\n",
       "       -5499.27072621, -5519.88099143, -5437.45283045, -5464.34501723,\n",
       "       -5489.78639578, -5443.29818644, -5541.31219509, -5585.18458859,\n",
       "       -5446.17275469, -5543.01805576, -5447.78887036, -5495.29464998,\n",
       "       -5506.37942739, -5564.8051    , -5374.99608428, -5490.31611427,\n",
       "       -5498.58980249, -5575.89380601, -5419.505048  , -5508.36713951,\n",
       "       -5310.02708903, -5642.26036563, -5475.09093762, -5544.1103031 ,\n",
       "       -5435.10616724, -5507.76752724, -5427.12659658, -5367.89466953,\n",
       "       -5435.91825354, -5399.20307227, -5453.90130233, -5414.05635022,\n",
       "       -5503.2819094 , -5393.4479362 , -5325.81752055, -5524.86360218,\n",
       "       -5370.60619792, -5524.3155841 , -5564.27514055, -5485.88300522,\n",
       "       -5324.64066282, -5567.27117001, -5477.67739676, -5399.71000273,\n",
       "       -5483.8952393 , -5540.47422986, -5411.828383  , -5565.71904886,\n",
       "       -5469.6617918 , -5468.68589784, -5606.15112026, -5437.69833191,\n",
       "       -5421.10507339, -5416.80477743, -5441.96054898, -5511.73020035,\n",
       "       -5450.62569413, -5416.68292762, -5442.7713517 , -5478.39064308,\n",
       "       -5480.54752787, -5569.37110773, -5328.23388397, -5364.34843815,\n",
       "       -5436.67844177, -5564.85985544, -5457.26636687, -5417.92923259,\n",
       "       -5582.16676795, -5596.69547812, -5513.50265572, -5373.10033583,\n",
       "       -5502.00874445, -5394.97461277, -5396.91087561, -5464.76340112,\n",
       "       -5437.81538328, -5600.59755039, -5433.32813082, -5414.37105897,\n",
       "       -5443.9838914 , -5537.94035997, -5426.40541856, -5508.62487222,\n",
       "       -5600.85659461, -5433.68630247, -5476.40011363, -5429.27869407,\n",
       "       -5519.77612594, -5497.56402055, -5514.3911336 , -5492.74994406,\n",
       "       -5639.53092873, -5413.10059113, -5616.29554082, -5466.15896023,\n",
       "       -5526.51522562, -5482.34460665, -5512.65575686, -5589.41072749,\n",
       "       -5452.54515247, -5579.85980423, -5509.3813392 , -5395.18202348,\n",
       "       -5605.61013214, -5207.15325269, -5344.70682133, -5529.69907309,\n",
       "       -5452.43265796, -5499.56151862, -5534.17665661, -5617.74700312,\n",
       "       -5457.56148035, -5370.83704116, -5552.40935461, -5428.74169588,\n",
       "       -5526.70450574, -5467.68357197, -5397.84361916, -5487.00116194,\n",
       "       -5475.78875076, -5558.20944542, -5413.05211556, -5475.10071139,\n",
       "       -5427.95045194, -5515.06321379, -5590.85480163, -5539.96680718,\n",
       "       -5491.91252711, -5585.25018632, -5439.93841743, -5467.44603489,\n",
       "       -5466.66455108, -5345.56231501, -5468.57155587, -5493.2394871 ,\n",
       "       -5427.5515316 , -5601.19524081, -5523.01380412, -5480.52090982,\n",
       "       -5399.7264576 , -5494.99315601, -5513.90497573, -5394.70441998,\n",
       "       -5417.49029055, -5336.79433641, -5447.77394726, -5455.37348157,\n",
       "       -5515.99696667, -5480.52879726, -5346.97691566, -5478.45538067,\n",
       "       -5447.64995786, -5404.37872426, -5597.58394794, -5407.17313703,\n",
       "       -5399.87441833, -5422.14634083, -5497.70767151, -5608.88737558,\n",
       "       -5413.45764976, -5589.90383988, -5373.64028036, -5429.03388628,\n",
       "       -5384.86585736, -5503.16164081, -5490.14262446, -5568.41011913,\n",
       "       -5574.76534712, -5567.34357434, -5409.99806933, -5345.57086071,\n",
       "       -5612.78115314, -5592.86728697, -5576.04645155, -5368.63798987,\n",
       "       -5617.7923331 , -5391.36388026, -5555.17690558, -5546.26947678,\n",
       "       -5528.07894711, -5522.86913292, -5527.96196102, -5321.65133767,\n",
       "       -5608.12023292, -5579.89316345, -5285.74367032, -5401.89836547,\n",
       "       -5495.57832811, -5349.78705653, -5393.88257667, -5488.33682878,\n",
       "       -5380.82373365, -5559.15379152, -5497.74967273, -5399.48964447,\n",
       "       -5440.00146588, -5573.92524804, -5369.96051568, -5486.66323725,\n",
       "       -5506.44644686, -5553.90985669, -5539.51967399, -5337.96901158,\n",
       "       -5496.75955949, -5510.56108424, -5450.26915679, -5452.61075086,\n",
       "       -5514.5714126 , -5611.89050455, -5454.55030686, -5612.42862496,\n",
       "       -5451.50271639, -5486.83680149, -5408.27749567, -5514.41412665,\n",
       "       -5409.61727066, -5450.19473383, -5330.25011679, -5438.04523836,\n",
       "       -5473.9332968 , -5496.5883675 , -5608.15776667, -5461.61505194,\n",
       "       -5518.26771861, -5497.00555048, -5484.73465532, -5479.9531179 ,\n",
       "       -5531.37600415, -5440.29389598, -5414.07808078, -5512.16862363,\n",
       "       -5404.77215742, -5539.07267594, -5580.3263798 , -5433.7654409 ,\n",
       "       -5443.97626881, -5543.34148833, -5254.39677855, -5512.19398468,\n",
       "       -5405.72515699, -5391.34001863, -5371.94273728, -5504.00185282,\n",
       "       -5421.25971929, -5326.35987577, -5486.50991166, -5558.88629477,\n",
       "       -5373.69169685, -5493.4427803 , -5511.08789284, -5402.13113792,\n",
       "       -5548.66349861, -5646.23513621, -5679.98477439, -5383.73520582,\n",
       "       -5571.07796845, -5364.65576766, -5560.07654687, -5600.75482751,\n",
       "       -5403.17486955, -5486.61215244, -5587.79006514, -5466.08750103,\n",
       "       -5583.45791004, -5451.26189411, -5478.31386531, -5569.68560941,\n",
       "       -5547.21553169, -5505.66049028, -5546.60672065, -5414.20461274,\n",
       "       -5462.88272093, -5611.10341344, -5377.17672292, -5480.75826673,\n",
       "       -5326.9642399 , -5562.51676445, -5375.96246823, -5275.05868845,\n",
       "       -5443.37320103, -5573.99701621, -5414.19072556, -5478.75287954,\n",
       "       -5484.67149068, -5428.24887718, -5438.44054102, -5400.07781008,\n",
       "       -5424.54240812, -5454.00503225, -5441.06525214, -5581.46107736,\n",
       "       -5560.53148905, -5601.24568989, -5389.6034571 , -5534.95375144,\n",
       "       -5442.31822862, -5417.67094567, -5477.06955114, -5545.50667238,\n",
       "       -5418.05592757, -5458.86910996, -5382.26825257, -5458.19070957,\n",
       "       -5391.56427915, -5528.49634685, -5582.06546581, -5394.21506359,\n",
       "       -5357.86654938, -5432.51303376, -5465.17553404, -5311.95452896,\n",
       "       -5396.4695858 , -5601.31288483, -5412.88634763, -5362.69465582,\n",
       "       -5619.93125568, -5438.29772332, -5529.48000002, -5506.97592912,\n",
       "       -5372.34021779, -5532.35847719, -5323.96772232, -5433.20697346,\n",
       "       -5527.28855313, -5464.7625825 , -5472.64996699, -5388.88222156,\n",
       "       -5402.21841117, -5554.2868743 , -5479.85127255, -5335.93222949,\n",
       "       -5578.90083732, -5589.62134723, -5439.12919849, -5572.87618042,\n",
       "       -5513.56841106, -5439.13553173, -5395.61453578, -5445.41149282,\n",
       "       -5377.64973117, -5503.28266072, -5484.9692737 , -5361.89142682,\n",
       "       -5531.64574736, -5497.81146321, -5435.4732327 , -5387.73546543,\n",
       "       -5415.55822492, -5515.50802268, -5436.56941477, -5549.5182161 ,\n",
       "       -5360.227592  , -5463.56968487, -5580.84385861, -5630.60876415,\n",
       "       -5454.76074398, -5375.55785937, -5361.4439563 , -5444.31024321,\n",
       "       -5570.88800439, -5521.95921604, -5615.91741341, -5525.65219911,\n",
       "       -5515.72663658, -5480.61630987, -5525.42061992, -5383.07065157,\n",
       "       -5379.23775988, -5626.64754202, -5548.48564332, -5446.35865327,\n",
       "       -5554.00772299, -5530.50634486, -5567.68951737, -5580.65735593,\n",
       "       -5495.11766283, -5403.38286693, -5540.30793   , -5349.64708224,\n",
       "       -5541.15093587, -5400.73986224, -5402.53170141, -5365.4109845 ,\n",
       "       -5445.09513526, -5502.69901252, -5462.79146755, -5462.02947366,\n",
       "       -5537.21212119, -5633.43007174, -5459.63368206, -5376.41061207,\n",
       "       -5495.3727996 , -5422.58324349, -5642.9923726 , -5392.71660167,\n",
       "       -5391.10745263, -5454.75045772, -5441.43277216, -5517.82526618,\n",
       "       -5394.03544437, -5351.58917721, -5542.43306304, -5564.88372028,\n",
       "       -5494.60265446, -5503.26041457, -5520.62927078, -5312.5423469 ,\n",
       "       -5597.31574915, -5461.41507632, -5580.57513941, -5590.07061095,\n",
       "       -5477.55062863, -5425.26745036, -5483.36365693, -5414.0473492 ,\n",
       "       -5405.41050073, -5570.82435928, -5417.72717057, -5435.75504542,\n",
       "       -5504.10868331, -5505.76679559, -5472.09597795, -5286.42167518,\n",
       "       -5519.01709532, -5338.46623915, -5344.67676721, -5460.1837509 ,\n",
       "       -5335.51338974, -5435.42340543, -5499.24254933, -5523.61664304,\n",
       "       -5329.17568372, -5379.88602833, -5476.2046407 , -5449.8372435 ,\n",
       "       -5652.28854183, -5461.52456282, -5405.3278788 , -5479.95792652,\n",
       "       -5343.21980606, -5408.03198421, -5521.72445153, -5450.81095482,\n",
       "       -5459.99410745, -5510.30785461, -5360.84578945, -5427.01867962,\n",
       "       -5438.56280273, -5497.59616728, -5467.32237947, -5423.97417757,\n",
       "       -5492.14532037, -5435.26904845, -5500.97641163, -5530.05772066,\n",
       "       -5458.70730696, -5536.77783308, -5401.0400155 , -5664.61555876,\n",
       "       -5510.53261077, -5551.25357967, -5551.52589154, -5514.5943811 ,\n",
       "       -5499.5511693 , -5455.09553578, -5501.45590043, -5476.85365281,\n",
       "       -5390.19614279, -5508.43413718, -5545.84198882, -5618.10252882,\n",
       "       -5389.81577448, -5427.77193252, -5480.98468704, -5338.5506868 ,\n",
       "       -5364.12509405, -5611.58972469, -5541.92416497, -5452.09826944,\n",
       "       -5444.1720195 , -5402.88918743, -5652.43079006, -5601.69355064,\n",
       "       -5520.65011798, -5476.13636886, -5340.81162881, -5363.20660358,\n",
       "       -5341.25287983, -5559.45636959, -5296.71711697, -5349.24193224,\n",
       "       -5455.56623647, -5501.5394262 , -5353.79585262, -5475.0878422 ,\n",
       "       -5579.07269173, -5622.62640226, -5522.58557306, -5450.71896243,\n",
       "       -5328.36548166, -5429.88969505, -5389.0607113 , -5621.74897127,\n",
       "       -5402.15032995, -5452.16241305, -5569.54645189, -5395.76729527,\n",
       "       -5475.85598511, -5489.526544  , -5412.00310665, -5435.002096  ,\n",
       "       -5491.02642431, -5524.14753416, -5604.67097984, -5526.19917479,\n",
       "       -5500.41527093, -5496.25906106, -5608.13001612, -5324.47807939,\n",
       "       -5632.96277138, -5509.00403957, -5435.57213247, -5330.53709465,\n",
       "       -5535.61666092, -5590.4950088 , -5587.4317032 , -5558.67572963,\n",
       "       -5425.46084581, -5514.43745075, -5542.89576435, -5501.33564206,\n",
       "       -5517.27864766, -5539.0520636 , -5531.78991338, -5416.85429142,\n",
       "       -5544.15763956, -5608.62131165, -5462.75592979, -5463.09788859,\n",
       "       -5459.39032622, -5437.77737176, -5457.42530936, -5488.1285307 ,\n",
       "       -5530.96318661, -5630.30939375, -5546.47768353, -5435.83563284,\n",
       "       -5446.6813552 , -5420.3161851 , -5435.30954313, -5401.72208844,\n",
       "       -5580.47150181, -5306.1075054 , -5291.57604486, -5518.22756024,\n",
       "       -5492.16158042, -5564.1978083 , -5376.46101067, -5304.0658525 ,\n",
       "       -5441.65527757, -5479.16106387, -5556.29318043, -5490.19578683,\n",
       "       -5437.41787046, -5406.45470883, -5469.76597306, -5485.33224543,\n",
       "       -5528.39704283, -5464.31491748, -5451.801645  , -5539.44859114,\n",
       "       -5524.60425263, -5301.65105642, -5546.81342518, -5260.07710199,\n",
       "       -5407.92914634, -5392.15060234, -5445.70997813, -5396.88147078,\n",
       "       -5475.51246447, -5382.87361291, -5339.55737067, -5374.93932394,\n",
       "       -5442.38250802, -5569.49683725, -5589.39536842, -5672.63502798,\n",
       "       -5364.99129479, -5426.6604473 , -5477.67178034, -5357.0881383 ,\n",
       "       -5534.84500925, -5443.8259492 , -5366.56834479, -5273.58363012,\n",
       "       -5493.40951978, -5594.79240759, -5494.55431321, -5340.7421813 ,\n",
       "       -5426.25941114, -5579.2295758 , -5450.63430901, -5464.92489731,\n",
       "       -5543.48701105, -5475.58792095, -5399.58317876, -5472.47738779,\n",
       "       -5618.75381921, -5388.5410584 , -5510.38536329, -5378.00182588,\n",
       "       -5313.63546982, -5369.17325144, -5470.84031967, -5453.40274895,\n",
       "       -5499.49119116, -5460.24068664, -5330.30565061, -5545.14169612,\n",
       "       -5492.80631449, -5563.50888119, -5503.76176588, -5429.5392618 ,\n",
       "       -5330.51595818, -5448.31684339, -5376.14382206, -5468.12920878,\n",
       "       -5465.77333283, -5304.62651493, -5479.10657242, -5437.88051452,\n",
       "       -5573.36731265, -5593.90999043, -5349.90105457, -5544.56293976,\n",
       "       -5389.76662977, -5598.4775614 , -5330.63629308, -5451.86996853,\n",
       "       -5566.85787144, -5462.62022407, -5493.87089614, -5366.50438115,\n",
       "       -5532.96887706, -5314.81887305, -5401.82166878, -5407.00323804,\n",
       "       -5567.67278691, -5419.48555207, -5614.80515371, -5464.14503182,\n",
       "       -5315.6587593 , -5357.09613738, -5385.2815363 , -5538.80094165,\n",
       "       -5625.45174716, -5288.81436725, -5506.96441256, -5517.06231062,\n",
       "       -5592.87721938, -5494.31717098, -5401.74636929, -5502.47578193,\n",
       "       -5596.91418604, -5473.47490074, -5464.95195864, -5502.69868731,\n",
       "       -5619.07675014, -5386.24305423, -5556.64359998, -5530.2764077 ,\n",
       "       -5472.30488065, -5388.21228821, -5494.57626824, -5514.46812108,\n",
       "       -5587.32022878, -5477.2995296 , -5456.58717451, -5476.33007742,\n",
       "       -5347.95410199, -5666.67531826, -5496.08382378, -5396.6411783 ,\n",
       "       -5420.2635822 , -5479.31275151, -5460.24016755, -5401.14410836,\n",
       "       -5442.39245754, -5499.02267534, -5375.83438125, -5476.09806279,\n",
       "       -5439.64099594, -5430.43375391, -5306.62245496, -5376.17368988,\n",
       "       -5616.00383754, -5599.91233685, -5559.76240889, -5524.93809653,\n",
       "       -5403.0708248 , -5446.91974557, -5496.7618803 , -5436.25390361,\n",
       "       -5538.59703943, -5426.8765198 , -5487.67812964, -5407.27709466,\n",
       "       -5426.67388922, -5571.50575872, -5440.2328435 , -5484.1059782 ,\n",
       "       -5540.33341343, -5454.42819063, -5365.82067734, -5405.38494021,\n",
       "       -5424.03666704, -5328.92125406, -5364.74880323, -5506.48627949,\n",
       "       -5456.28032943, -5303.52851331, -5335.14888257, -5536.6340732 ,\n",
       "       -5468.42587105, -5344.95404115, -5587.29921772, -5615.84485943,\n",
       "       -5498.36722739, -5470.47174134, -5484.55965336, -5448.74474091,\n",
       "       -5533.49206903, -5524.3887066 , -5572.95772031, -5520.41742065,\n",
       "       -5472.67277867, -5630.90834848, -5553.68371246, -5592.78168198,\n",
       "       -5496.80236364, -5415.04420394, -5454.42654061, -5444.906503  ,\n",
       "       -5582.10132464, -5329.78204988, -5399.14236676, -5475.67166594,\n",
       "       -5502.47077347, -5570.34255838, -5376.57858409, -5543.84716438,\n",
       "       -5361.77803751, -5468.10456094, -5377.86137243, -5463.97584935,\n",
       "       -5597.06869263, -5424.8296386 , -5393.46077389, -5434.23275532,\n",
       "       -5321.11257744, -5332.63170218, -5549.98371633, -5589.04583559,\n",
       "       -5506.26795873, -5498.79473619, -5449.87916255, -5440.10202205,\n",
       "       -5520.99946529, -5514.33726866, -5550.88273829, -5400.68803126,\n",
       "       -5536.43943684, -5485.56813987, -5599.5569113 , -5457.38751632,\n",
       "       -5414.18039738, -5424.36298838, -5410.10427727, -5532.11792825,\n",
       "       -5592.10676065, -5362.49452458, -5337.44614221, -5572.09999374,\n",
       "       -5517.50705686, -5454.20691928, -5690.43050129, -5348.026991  ,\n",
       "       -5460.61832163, -5437.8564516 , -5537.74818167, -5512.98493813,\n",
       "       -5540.30400948, -5454.38576076, -5506.32820248, -5525.23934416,\n",
       "       -5401.00318604, -5553.46353737, -5449.93227707, -5488.83596926,\n",
       "       -5358.80863087, -5567.39610107, -5601.13326463, -5450.50758576,\n",
       "       -5467.28493065, -5441.32018582, -5432.52843943, -5452.0175668 ,\n",
       "       -5450.17033031, -5498.26148847, -5410.79538692, -5443.07716201,\n",
       "       -5459.03437177, -5586.64597897, -5579.1180817 , -5403.39525149,\n",
       "       -5457.85928778, -5511.17992366, -5592.79169529, -5316.36638977,\n",
       "       -5592.98367884, -5557.23990304, -5448.69268873, -5503.17156033,\n",
       "       -5495.96763993, -5461.22894659, -5559.56969879, -5368.33800892,\n",
       "       -5405.62308456, -5620.79276981, -5531.00369124, -5454.74680184,\n",
       "       -5534.41039851, -5641.72224232, -5397.73173028, -5426.7020957 ,\n",
       "       -5455.68571139, -5433.62895297, -5512.91501444, -5416.14271042,\n",
       "       -5667.80414539, -5421.82498975, -5514.8362309 , -5431.80273337,\n",
       "       -5536.65590639, -5441.37038024, -5572.41305874, -5360.27920377,\n",
       "       -5545.36166865, -5550.70849384, -5414.52201115, -5553.14804197,\n",
       "       -5531.75560339, -5584.18989272, -5494.08137053, -5436.05743705,\n",
       "       -5536.80769576, -5469.33065326, -5404.34154288, -5392.22736247,\n",
       "       -5454.13553493, -5467.22732107, -5332.386241  , -5637.59189132,\n",
       "       -5441.34925521, -5420.21859632, -5466.27464937, -5616.38844697,\n",
       "       -5457.68255275, -5445.03719201, -5371.01770869, -5630.95963812,\n",
       "       -5388.94825708, -5586.39239996, -5486.15209447, -5515.53007921,\n",
       "       -5542.96143816, -5475.46639126, -5528.2106931 , -5507.56244345,\n",
       "       -5578.09385982, -5397.52720365, -5401.72415021, -5533.68955164])"
      ]
     },
     "execution_count": 27,
     "metadata": {},
     "output_type": "execute_result"
    }
   ],
   "source": [
    "overtime[33]"
   ]
  },
  {
   "cell_type": "code",
   "execution_count": 28,
   "metadata": {},
   "outputs": [
    {
     "data": {
      "text/plain": [
       "array([[ 0.00000000e+00,  0.00000000e+00,  0.00000000e+00, ...,\n",
       "         0.00000000e+00,  0.00000000e+00, -1.00001429e-09],\n",
       "       [ 0.00000000e+00,  0.00000000e+00,  6.39816711e+01, ...,\n",
       "         0.00000000e+00,  0.00000000e+00,  0.00000000e+00],\n",
       "       [ 2.38643924e+01,  0.00000000e+00,  0.00000000e+00, ...,\n",
       "         0.00000000e+00,  0.00000000e+00,  0.00000000e+00],\n",
       "       ...,\n",
       "       [ 0.00000000e+00,  0.00000000e+00,  0.00000000e+00, ...,\n",
       "         0.00000000e+00,  0.00000000e+00,  0.00000000e+00],\n",
       "       [ 0.00000000e+00,  0.00000000e+00,  0.00000000e+00, ...,\n",
       "         0.00000000e+00,  0.00000000e+00,  0.00000000e+00],\n",
       "       [ 0.00000000e+00,  0.00000000e+00,  0.00000000e+00, ...,\n",
       "         0.00000000e+00,  0.00000000e+00,  0.00000000e+00]])"
      ]
     },
     "execution_count": 28,
     "metadata": {},
     "output_type": "execute_result"
    }
   ],
   "source": [
    "os"
   ]
  },
  {
   "cell_type": "code",
   "execution_count": 29,
   "metadata": {},
   "outputs": [
    {
     "data": {
      "text/plain": [
       "array([[1.45557274e+02, 1.84252803e+01, 5.57542554e+01, ...,\n",
       "        9.89281156e+01, 1.02669643e+02, 6.97151917e+00],\n",
       "       [4.99888272e+01, 8.59903592e+01, 0.00000000e+00, ...,\n",
       "        1.50017269e+01, 6.85442119e+01, 3.45930165e+01],\n",
       "       [0.00000000e+00, 1.41562823e+02, 6.80897892e+01, ...,\n",
       "        3.61472711e+00, 5.09979043e+01, 9.49276178e+01],\n",
       "       ...,\n",
       "       [6.00000000e+03, 6.00000000e+03, 6.00000000e+03, ...,\n",
       "        6.00000000e+03, 6.00000000e+03, 6.00000000e+03],\n",
       "       [5.45927419e+03, 5.60356848e+03, 5.65758179e+03, ...,\n",
       "        5.60230507e+03, 5.55006061e+03, 5.62209362e+03],\n",
       "       [6.00000000e+03, 6.00000000e+03, 6.00000000e+03, ...,\n",
       "        6.00000000e+03, 6.00000000e+03, 6.00000000e+03]])"
      ]
     },
     "execution_count": 29,
     "metadata": {},
     "output_type": "execute_result"
    }
   ],
   "source": [
    "gs"
   ]
  },
  {
   "cell_type": "code",
   "execution_count": 30,
   "metadata": {},
   "outputs": [
    {
     "data": {
      "text/plain": [
       "array([   0.,    0.,    0.,    0.,  200.,    0.,  100.,    0.,    0.,\n",
       "          0.,    0.,    0.,  100.,    0.,    0.,    0.,    0.,    0.,\n",
       "          0.,  300.,    0.,    0.,    0.,    0.,    0.,  100.,    0.,\n",
       "          0.,    0.,    0.,  100.,    0.,    0.,    0.,    0.,    0.,\n",
       "          0., 1000.])"
      ]
     },
     "execution_count": 30,
     "metadata": {},
     "output_type": "execute_result"
    }
   ],
   "source": [
    "cib[103,:]"
   ]
  },
  {
   "cell_type": "code",
   "execution_count": 31,
   "metadata": {},
   "outputs": [
    {
     "data": {
      "text/plain": [
       "(125, 38)"
      ]
     },
     "execution_count": 31,
     "metadata": {},
     "output_type": "execute_result"
    }
   ],
   "source": [
    "cib.shape"
   ]
  },
  {
   "cell_type": "code",
   "execution_count": 32,
   "metadata": {},
   "outputs": [],
   "source": [
    "pd.DataFrame(os).to_csv(\"osdata_125Surgeries_nobounds_corrected.csv\")\n",
    "pd.DataFrame(gs).to_csv(\"gsdata_125Surgeries_nobounds_corrected.csv\")"
   ]
  },
  {
   "cell_type": "code",
   "execution_count": null,
   "metadata": {},
   "outputs": [],
   "source": []
  },
  {
   "cell_type": "code",
   "execution_count": null,
   "metadata": {},
   "outputs": [],
   "source": []
  },
  {
   "cell_type": "code",
   "execution_count": null,
   "metadata": {},
   "outputs": [],
   "source": []
  },
  {
   "cell_type": "code",
   "execution_count": null,
   "metadata": {},
   "outputs": [],
   "source": []
  },
  {
   "cell_type": "code",
   "execution_count": 33,
   "metadata": {},
   "outputs": [
    {
     "name": "stdout",
     "output_type": "stream",
     "text": [
      "(32, 1000) (32, 1000)\n",
      "(32, 1000) (32, 1000)\n"
     ]
    }
   ],
   "source": [
    "os_bnd_125 = np.array(pd.read_csv(\"osdata_125Surgeries.csv\"))[:32,1:]\n",
    "gs_bnd_125 = np.array(pd.read_csv(\"gsdata_125Surgeries.csv\"))[:32,1:]\n",
    "\n",
    "os_bnd_100 = np.array(pd.read_csv(\"osdata_100Surgeries.csv\"))[:32,1:]\n",
    "gs_bnd_100 = np.array(pd.read_csv(\"gsdata_100Surgeries.csv\"))[:32,1:]\n",
    "\n",
    "print(os_bnd_125.shape,os_bnd_100.shape)\n",
    "print(gs_bnd_125.shape,gs_bnd_100.shape)\n",
    "\n"
   ]
  },
  {
   "cell_type": "code",
   "execution_count": 34,
   "metadata": {},
   "outputs": [
    {
     "name": "stdout",
     "output_type": "stream",
     "text": [
      "CARD\n",
      "  Block: 2   Overtime: 0.0 1.3973610246238741\n",
      "  Block: 2   Idletime: 183.41698076977787 84.07182500222488\n",
      "  Block: 6   Overtime: 0.0 0.0\n",
      "  Block: 6   Idletime: 280.8605081177769 182.85948668657662\n",
      "  Block: 16   Overtime: 0.0 1.5581043343689434\n",
      "  Block: 16   Idletime: 181.99497885904722 86.9522907749641\n",
      "  Block: 28   Overtime: 0.0 0.0\n",
      "  Block: 28   Idletime: 181.3761570200252 181.48672044415056\n",
      "  Block: 32   Overtime: 0.0 1.5114926569574259\n",
      "  Block: 32   Idletime: 182.3406451487189 84.68561686884408\n",
      "\n",
      "GASTRO\n",
      "  Block: 1   Overtime: 4.886650404880752 4.156330375408991\n",
      "  Block: 1   Idletime: 80.92671722255372 88.41258085504984\n",
      "  Block: 8   Overtime: 3.815281665175108 3.4311541179361202\n",
      "  Block: 8   Idletime: 86.05587810758391 90.70449501987372\n",
      "  Block: 14   Overtime: 3.2485617894521672 4.235284715869302\n",
      "  Block: 14   Idletime: 87.79554161370129 90.03256552601766\n",
      "  Block: 15   Overtime: 3.969927582698121 4.754174478915259\n",
      "  Block: 15   Idletime: 87.00460741259317 85.31873212636717\n",
      "  Block: 22   Overtime: 4.549259847423197 5.130114427785428\n",
      "  Block: 22   Idletime: 86.01442094910584 87.99642064637813\n",
      "  Block: 27   Overtime: 4.172401471710631 4.052754711057236\n",
      "  Block: 27   Idletime: 88.97447403633696 88.97883491659195\n",
      "\n",
      "GYN\n",
      "  Block: 4   Overtime: 0.0 2.0501998465764126\n",
      "  Block: 4   Idletime: 167.19546227842105 92.34356473626829\n",
      "  Block: 11   Overtime: 0.0 0.0\n",
      "  Block: 11   Idletime: 165.9500637075217 168.0742902720355\n",
      "  Block: 12   Overtime: 0.0 0.0\n",
      "  Block: 12   Idletime: 244.77202587339218 163.61746292705334\n",
      "  Block: 18   Overtime: 0.0 1.9280231670000185\n",
      "  Block: 18   Idletime: 164.47116572414225 92.72162565369167\n",
      "  Block: 19   Overtime: 0.0 0.0\n",
      "  Block: 19   Idletime: 243.36159890939356 166.77396553820682\n",
      "  Block: 24   Overtime: 0.0 0.0\n",
      "  Block: 24   Idletime: 243.39581041057122 167.09129316927866\n",
      "  Block: 25   Overtime: 0.0 0.0\n",
      "  Block: 25   Idletime: 167.96487061039096 167.9117734584399\n",
      "  Block: 30   Overtime: 0.0 1.8591014522583855\n",
      "  Block: 30   Idletime: 243.84388432886422 87.96065697056189\n",
      "\n",
      "MED\n",
      "  Block: 17   Overtime: 0.005149162973176743 4.834821219138528\n",
      "  Block: 17   Idletime: 104.84180785883065 37.60869065586496\n",
      "\n",
      "ORTHO\n",
      "  Block: 3   Overtime: 4.712011506113378 4.2990976823952405\n",
      "  Block: 3   Idletime: 55.290512665696674 57.99857572099546\n",
      "  Block: 9   Overtime: 3.3107928211502706 4.800845545297004\n",
      "  Block: 9   Idletime: 60.993719558240045 56.73222423751304\n",
      "  Block: 10   Overtime: 4.482809878065712 5.483842860941215\n",
      "  Block: 10   Idletime: 55.514855364100676 56.18594251345508\n",
      "  Block: 21   Overtime: 0.0 4.116297338509459\n",
      "  Block: 21   Idletime: 191.23131778450775 57.58396070807632\n",
      "  Block: 23   Overtime: 4.847495301769171 4.827197241739625\n",
      "  Block: 23   Idletime: 58.57863254521482 58.59616153118387\n",
      "  Block: 29   Overtime: 4.577427354843335 4.287582475747067\n",
      "  Block: 29   Idletime: 59.28080693387895 57.23871333234228\n",
      "\n",
      "URO\n",
      "  Block: 5   Overtime: 0.0 0.0\n",
      "  Block: 5   Idletime: 264.04627876111385 121.56917068084405\n",
      "  Block: 7   Overtime: 0.0 0.02501216329860867\n",
      "  Block: 7   Idletime: 190.75053426968418 117.43063762188868\n",
      "  Block: 13   Overtime: 0.0 0.0\n",
      "  Block: 13   Idletime: 407.0595933181286 409.07461309476673\n",
      "  Block: 20   Overtime: 0.03878107433567416 0.04308264682479391\n",
      "  Block: 20   Idletime: 119.58762199556679 117.49507121223007\n",
      "  Block: 26   Overtime: 0.0 0.0\n",
      "  Block: 26   Idletime: 190.61999173120793 263.04162853910475\n",
      "  Block: 31   Overtime: 0.0 0.0\n",
      "  Block: 31   Idletime: 409.09111476117636 194.1844334345336\n",
      "\n"
     ]
    }
   ],
   "source": [
    "for s in specs:\n",
    "    print(s)\n",
    "    for b in blocks[s]:\n",
    "        if b <= 32:\n",
    "            print(\"  Block:\",b,\"  Overtime:\",np.mean(os_bnd_100[b-1,:]),np.mean(os_bnd_125[b-1,:]))\n",
    "            print(\"  Block:\",b,\"  Idletime:\",np.mean(gs_bnd_100[b-1,:]),np.mean(gs_bnd_125[b-1,:]))\n",
    "    print(\"\")"
   ]
  },
  {
   "cell_type": "code",
   "execution_count": 35,
   "metadata": {},
   "outputs": [
    {
     "name": "stdout",
     "output_type": "stream",
     "text": [
      "  Overtime: 1.4567671831434592 2.1494335775827795\n",
      "  Idletime: 166.70633058272705 120.71043827735544\n"
     ]
    }
   ],
   "source": [
    "print(\"  Overtime:\",np.mean(os_bnd_100[:,:]),np.mean(os_bnd_125[:,:]))\n",
    "print(\"  Idletime:\",np.mean(gs_bnd_100[:,:]),np.mean(gs_bnd_125[:,:]))"
   ]
  },
  {
   "cell_type": "code",
   "execution_count": 37,
   "metadata": {},
   "outputs": [
    {
     "name": "stdout",
     "output_type": "stream",
     "text": [
      "109\n"
     ]
    }
   ],
   "source": [
    "for i in range(n_surgeries):\n",
    "    val = avg_model.y[i+1,5].value\n",
    "    if val > 0:\n",
    "        print(i+1)"
   ]
  },
  {
   "cell_type": "code",
   "execution_count": null,
   "metadata": {},
   "outputs": [],
   "source": []
  }
 ],
 "metadata": {
  "kernelspec": {
   "display_name": "Python 3",
   "language": "python",
   "name": "python3"
  },
  "language_info": {
   "codemirror_mode": {
    "name": "ipython",
    "version": 3
   },
   "file_extension": ".py",
   "mimetype": "text/x-python",
   "name": "python",
   "nbconvert_exporter": "python",
   "pygments_lexer": "ipython3",
   "version": "3.8.5"
  }
 },
 "nbformat": 4,
 "nbformat_minor": 4
}
